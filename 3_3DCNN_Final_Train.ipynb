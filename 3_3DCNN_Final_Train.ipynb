{
 "cells": [
  {
   "cell_type": "markdown",
   "id": "91fe115c",
   "metadata": {},
   "source": [
    "# Final training notebook with optimized hyperparameters"
   ]
  },
  {
   "cell_type": "code",
   "execution_count": 1,
   "id": "9d40998d",
   "metadata": {},
   "outputs": [],
   "source": [
    "%matplotlib inline\n",
    "import matplotlib.pyplot as plt\n",
    "import pandas as pd\n",
    "import numpy as np\n",
    "import cv2\n",
    "import torch\n",
    "import torch.nn as nn\n",
    "import torch.nn.functional as F\n",
    "import pytorch_lightning as pl\n",
    "import os\n",
    "from glob import glob\n",
    "import pickle\n",
    "from torch.utils.data import Dataset, DataLoader\n",
    "from torchinfo import summary\n",
    "import torchmetrics\n",
    "from pytorch_lightning.loggers import TensorBoardLogger\n",
    "from monai import losses\n",
    "import albumentations as A\n",
    "from copy import deepcopy\n",
    "from pytorch_lightning.callbacks import Callback\n",
    "from torch.optim.lr_scheduler import OneCycleLR\n",
    "from torch.utils.data import WeightedRandomSampler\n",
    "import random\n",
    "from resnet import *"
   ]
  },
  {
   "cell_type": "code",
   "execution_count": 2,
   "id": "3e610907",
   "metadata": {},
   "outputs": [],
   "source": [
    "torch.set_float32_matmul_precision('medium')"
   ]
  },
  {
   "cell_type": "code",
   "execution_count": 3,
   "id": "a7c197f4",
   "metadata": {},
   "outputs": [],
   "source": [
    "# paths and hyperparameters\n",
    "name = '3DCNN_ResNet_3_Final_1024_Opt_HP'\n",
    "folder = '/home/olli/Projects/Kaggle/Vesuvius'\n",
    "folder_data = os.path.join(folder, 'Data_New', 'Preprocessed_1024_16_Masked')\n",
    "folder_logs = os.path.join(folder, f'Logs_3D')\n",
    "depth = 16\n",
    "size = 1024\n",
    "batch_size = 2  # just fits in vram\n",
    "num_workers = 16\n",
    "epochs = 20\n",
    "learning_rate = 2e-3  # max lr to reach\n",
    "pct_increase = 0.25  # percentage of epochs to increase the lr before decreasing\n",
    "bce_loss_weight = 0.5  # how much to weight dice vs bce (0.5-0.5; 0.7-0.3; ...)\n",
    "ink_loss_weight = 2\n",
    "model_depth = 34"
   ]
  },
  {
   "cell_type": "markdown",
   "id": "9f1c448e",
   "metadata": {},
   "source": [
    "# Set up the cross-validation"
   ]
  },
  {
   "cell_type": "code",
   "execution_count": 4,
   "id": "4ebeaf70",
   "metadata": {},
   "outputs": [],
   "source": [
    "fold_1_path = os.path.join(folder_data, '1', f'{size}')\n",
    "fold_2_path = os.path.join(folder_data, '2', f'{size}')\n",
    "fold_3_path = os.path.join(folder_data, '3', f'{size}')"
   ]
  },
  {
   "cell_type": "code",
   "execution_count": 5,
   "id": "261cff52",
   "metadata": {},
   "outputs": [],
   "source": [
    "scans_1 = glob(fold_1_path + '/*.pickle')\n",
    "scans_2 = glob(fold_2_path + '/*.pickle')\n",
    "scans_3 = glob(fold_3_path + '/*.pickle')"
   ]
  },
  {
   "cell_type": "code",
   "execution_count": 6,
   "id": "acfc88ae",
   "metadata": {},
   "outputs": [
    {
     "data": {
      "text/plain": [
       "'/home/olli/Projects/Kaggle/Vesuvius/Data_New/Preprocessed_1024_16_Masked/1/1024/35.pickle'"
      ]
     },
     "execution_count": 6,
     "metadata": {},
     "output_type": "execute_result"
    }
   ],
   "source": [
    "scans_1[0]"
   ]
  },
  {
   "cell_type": "code",
   "execution_count": 7,
   "id": "6e43d0e4",
   "metadata": {},
   "outputs": [],
   "source": [
    "folds = [scans_1, scans_2, scans_3]"
   ]
  },
  {
   "cell_type": "code",
   "execution_count": 8,
   "id": "953901db",
   "metadata": {},
   "outputs": [
    {
     "data": {
      "text/plain": [
       "[107, 360, 84]"
      ]
     },
     "execution_count": 8,
     "metadata": {},
     "output_type": "execute_result"
    }
   ],
   "source": [
    "# check number of scans\n",
    "[len(i) for i in folds]"
   ]
  },
  {
   "cell_type": "markdown",
   "id": "34226e6c",
   "metadata": {},
   "source": [
    "# Create 3 Train-/Valid-Datasets from the folds"
   ]
  },
  {
   "cell_type": "code",
   "execution_count": 9,
   "id": "33fc18fe",
   "metadata": {},
   "outputs": [],
   "source": [
    "'''Write a function that returns the different train/valid-datasets and -paths.\n",
    "   Each fold once is the validation data, the rest is for training.'''\n",
    "\n",
    "\n",
    "def create_train_valid():\n",
    "\n",
    "    train_folds = ['tr_1', 'tr_2', 'tr_3']\n",
    "    valid_folds = ['val_1', 'val_2', 'val_3']\n",
    "\n",
    "    # assign each train/valid dataset the correct folds with i\n",
    "    for i, train, valid in zip(range(3), train_folds, valid_folds):\n",
    "\n",
    "        # copy the folds\n",
    "        flds = deepcopy(folds)\n",
    "\n",
    "        globals()[valid_folds[i]] = flds.pop(i)  # i'ths index is valid rest is for train\n",
    "        globals()[train_folds[i]] = flds[0] + flds[1]  # only 0 and 1 left\n",
    "        \n",
    "    train_folds = [tr_1, tr_2, tr_3]\n",
    "    valid_folds = [val_1, val_2, val_3]\n",
    "    \n",
    "    return train_folds, valid_folds"
   ]
  },
  {
   "cell_type": "code",
   "execution_count": 10,
   "id": "e7ab43cd",
   "metadata": {},
   "outputs": [],
   "source": [
    "train_data, valid_data = create_train_valid()"
   ]
  },
  {
   "cell_type": "code",
   "execution_count": 11,
   "id": "ec9671a7",
   "metadata": {},
   "outputs": [
    {
     "data": {
      "text/plain": [
       "[444, 191, 467]"
      ]
     },
     "execution_count": 11,
     "metadata": {},
     "output_type": "execute_result"
    }
   ],
   "source": [
    "# check the number of cropped scans in each dataset\n",
    "[len(i) for i in train_data]"
   ]
  },
  {
   "cell_type": "code",
   "execution_count": 12,
   "id": "0291074f",
   "metadata": {},
   "outputs": [
    {
     "data": {
      "text/plain": [
       "[107, 360, 84]"
      ]
     },
     "execution_count": 12,
     "metadata": {},
     "output_type": "execute_result"
    }
   ],
   "source": [
    "[len(i) for i in valid_data]"
   ]
  },
  {
   "cell_type": "code",
   "execution_count": 13,
   "id": "14fcae31",
   "metadata": {},
   "outputs": [],
   "source": [
    "# make sure there is no valid file in the corresponding train dataset\n",
    "for i in range(3):\n",
    "    for v in valid_data[i]:\n",
    "        for t in train_data[i]:\n",
    "            if v == t:\n",
    "                print('LEAK')"
   ]
  },
  {
   "cell_type": "markdown",
   "id": "c87cd239",
   "metadata": {},
   "source": [
    "# Define Augmentations"
   ]
  },
  {
   "cell_type": "code",
   "execution_count": 14,
   "id": "fbe1c151",
   "metadata": {},
   "outputs": [],
   "source": [
    "# start with only a basic augmentation thats safe to use\n",
    "train_aug = A.Compose([\n",
    "    A.HorizontalFlip(p=0.5),\n",
    "    A.VerticalFlip(p=0.5),\n",
    "    A.RandomBrightnessContrast(p=0.3),\n",
    "    A.ShiftScaleRotate(p=0.3),\n",
    "    A.OneOf([\n",
    "            A.GaussNoise(var_limit=[10, 50]),\n",
    "            A.GaussianBlur(),\n",
    "            A.MotionBlur(),\n",
    "            ], p=0.3),\n",
    "    A.GridDistortion(num_steps=5, distort_limit=0.02, p=0.5),\n",
    "    A.CoarseDropout(max_holes=5, max_width=int(size * 0.1), max_height=int(size * 0.1), \n",
    "                        mask_fill_value=0, p=0.2),\n",
    "    A.Normalize(mean=[0] * depth, std=[1] * depth)\n",
    "])"
   ]
  },
  {
   "cell_type": "code",
   "execution_count": 15,
   "id": "11a2eeee",
   "metadata": {},
   "outputs": [],
   "source": [
    "# use valid aug to normalize the scan\n",
    "valid_aug = A.Compose([\n",
    "    A.Normalize(mean=[0] * depth, std=[1] * depth)\n",
    "])"
   ]
  },
  {
   "cell_type": "markdown",
   "id": "d8e99c2a",
   "metadata": {},
   "source": [
    "# Define the PyTorch Dataset"
   ]
  },
  {
   "cell_type": "code",
   "execution_count": 16,
   "id": "1a8af64c",
   "metadata": {},
   "outputs": [],
   "source": [
    "class Data(Dataset):\n",
    "    def __init__(self, paths, transform=False):#, df=df):\n",
    "        self.paths = paths\n",
    "        self.transform = transform\n",
    "        #self.df = df\n",
    "        \n",
    "        random.Random(42).shuffle(self.paths)\n",
    "        \n",
    "    def __len__(self):\n",
    "        return len(self.paths)\n",
    "    \n",
    "    def __getitem__(self, index):\n",
    "        path = self.paths[index]\n",
    "        \n",
    "        with open(path, 'rb') as f:\n",
    "            data = pickle.load(f)\n",
    "            \n",
    "        X, mask, y = data\n",
    "        \n",
    "        if self.transform:\n",
    "            augmented_data = self.transform(image=X, masks=[mask, y])\n",
    "            \n",
    "            X = augmented_data['image']\n",
    "            mask = augmented_data['masks'][0]\n",
    "            y = augmented_data['masks'][1]\n",
    "        \n",
    "        mask = torch.tensor(mask / 255.).type(torch.float32)\n",
    "        y = torch.tensor(y / 255.).type(torch.float32)\n",
    "        \n",
    "        X = torch.tensor(X).permute(2, 0, 1).type(torch.float32)\n",
    "        \n",
    "        X = X.unsqueeze(0)\n",
    "\n",
    "        return X, mask, y"
   ]
  },
  {
   "cell_type": "markdown",
   "id": "8ccc47d1",
   "metadata": {},
   "source": [
    "# Create a Lightning Data Module from that"
   ]
  },
  {
   "cell_type": "code",
   "execution_count": 17,
   "id": "4ac0af45",
   "metadata": {},
   "outputs": [],
   "source": [
    "# create a lightning datamodule class\n",
    "\n",
    "class DataModule(pl.LightningDataModule):\n",
    "    \n",
    "    def __init__(self, train_ds, valid_ds, batch_size=batch_size, num_workers=num_workers):\n",
    "        \n",
    "        super().__init__()\n",
    "\n",
    "        self.batch_size=batch_size\n",
    "        self.num_workers=num_workers\n",
    "        \n",
    "        self.train_ds = train_ds\n",
    "        self.valid_ds = valid_ds\n",
    "        \n",
    "    def setup(self, stage):\n",
    "        \n",
    "        self.train_ds = self.train_ds\n",
    "        self.valid_ds = self.valid_ds\n",
    "        \n",
    "        # set up the sampler with the shuffled training paths\n",
    "        #files = [path.split('.')[-2].split('/')[-1] for path in self.train_ds.paths]\n",
    "        #scans = [path.split('.')[-2].split('/')[-3] for path in self.train_ds.paths]\n",
    "        #filenames = [scan + '_' + file for scan, file in zip(scans, files)]\n",
    "        \n",
    "        # sort the df to only have these with filenames in Index col\n",
    "        #df_filtered = self.train_ds.df[self.train_ds.df['Index'].isin(filenames)]\n",
    "        \n",
    "        # now sort the df_filtered exactly how the filesnames are sorted\n",
    "        #df_sorted = df_filtered.iloc[np.argsort([filenames.index(i) for i in df_filtered['Index']])]\n",
    "        \n",
    "        # now get the weights that are ordered correctly\n",
    "        #self.weights = df_sorted['Weight'].values\n",
    "        \n",
    "    def train_dataloader(self):\n",
    "        \n",
    "        train_dl = DataLoader(self.train_ds,\n",
    "                              batch_size=self.batch_size,\n",
    "                              num_workers=self.num_workers,\n",
    "                              shuffle=True)\n",
    "                              #pin_memory=True)\n",
    "        \n",
    "        return train_dl\n",
    "        \n",
    "    def val_dataloader(self):\n",
    "        \n",
    "        valid_dl = DataLoader(self.valid_ds,\n",
    "                              batch_size=self.batch_size,\n",
    "                              num_workers=self.num_workers,)\n",
    "                              #pin_memory=True)\n",
    "        \n",
    "        return valid_dl"
   ]
  },
  {
   "cell_type": "markdown",
   "id": "f3bf43eb",
   "metadata": {},
   "source": [
    "# Define the model"
   ]
  },
  {
   "cell_type": "code",
   "execution_count": 18,
   "id": "95249b67",
   "metadata": {},
   "outputs": [],
   "source": [
    "model = ResNet_3D_to_2D()"
   ]
  },
  {
   "cell_type": "code",
   "execution_count": 19,
   "id": "c8af495a",
   "metadata": {},
   "outputs": [
    {
     "data": {
      "text/plain": [
       "===============================================================================================\n",
       "Layer (type:depth-idx)                        Output Shape              Param #\n",
       "===============================================================================================\n",
       "ResNet_3D_to_2D                               [2, 1, 1024, 1024]        --\n",
       "├─ResNet: 1-1                                 [2, 64, 16, 256, 256]     --\n",
       "│    └─Conv3d: 2-1                            [2, 64, 16, 512, 512]     21,952\n",
       "│    └─BatchNorm3d: 2-2                       [2, 64, 16, 512, 512]     128\n",
       "│    └─ReLU: 2-3                              [2, 64, 16, 512, 512]     --\n",
       "│    └─MaxPool3d: 2-4                         [2, 64, 16, 256, 256]     --\n",
       "│    └─Sequential: 2-5                        [2, 64, 16, 256, 256]     --\n",
       "│    │    └─BasicBlock: 3-1                   [2, 64, 16, 256, 256]     221,440\n",
       "│    │    └─BasicBlock: 3-2                   [2, 64, 16, 256, 256]     221,440\n",
       "│    │    └─BasicBlock: 3-3                   [2, 64, 16, 256, 256]     221,440\n",
       "│    └─Sequential: 2-6                        [2, 128, 16, 128, 128]    --\n",
       "│    │    └─BasicBlock: 3-4                   [2, 128, 16, 128, 128]    672,512\n",
       "│    │    └─BasicBlock: 3-5                   [2, 128, 16, 128, 128]    885,248\n",
       "│    │    └─BasicBlock: 3-6                   [2, 128, 16, 128, 128]    885,248\n",
       "│    │    └─BasicBlock: 3-7                   [2, 128, 16, 128, 128]    885,248\n",
       "│    └─Sequential: 2-7                        [2, 256, 16, 64, 64]      --\n",
       "│    │    └─BasicBlock: 3-8                   [2, 256, 16, 64, 64]      2,688,512\n",
       "│    │    └─BasicBlock: 3-9                   [2, 256, 16, 64, 64]      3,539,968\n",
       "│    │    └─BasicBlock: 3-10                  [2, 256, 16, 64, 64]      3,539,968\n",
       "│    │    └─BasicBlock: 3-11                  [2, 256, 16, 64, 64]      3,539,968\n",
       "│    │    └─BasicBlock: 3-12                  [2, 256, 16, 64, 64]      3,539,968\n",
       "│    │    └─BasicBlock: 3-13                  [2, 256, 16, 64, 64]      3,539,968\n",
       "│    └─Sequential: 2-8                        [2, 512, 16, 32, 32]      --\n",
       "│    │    └─BasicBlock: 3-14                  [2, 512, 16, 32, 32]      10,750,976\n",
       "│    │    └─BasicBlock: 3-15                  [2, 512, 16, 32, 32]      14,157,824\n",
       "│    │    └─BasicBlock: 3-16                  [2, 512, 16, 32, 32]      14,157,824\n",
       "├─Decoder: 1-2                                [2, 1, 1024, 1024]        --\n",
       "│    └─ModuleList: 2-9                        --                        --\n",
       "│    │    └─Sequential: 3-17                  [2, 256, 64, 64]          1,769,984\n",
       "│    │    └─Sequential: 3-18                  [2, 128, 128, 128]        442,624\n",
       "│    │    └─Sequential: 3-19                  [2, 64, 256, 256]         110,720\n",
       "│    └─Conv2d: 2-10                           [2, 1, 256, 256]          65\n",
       "│    └─Upsample: 2-11                         [2, 1, 1024, 1024]        --\n",
       "===============================================================================================\n",
       "Total params: 65,793,025\n",
       "Trainable params: 65,793,025\n",
       "Non-trainable params: 0\n",
       "Total mult-adds (Units.TERABYTES): 7.31\n",
       "===============================================================================================\n",
       "Input size (MB): 134.22\n",
       "Forward/backward pass size (MB): 40232.81\n",
       "Params size (MB): 263.17\n",
       "Estimated Total Size (MB): 40630.20\n",
       "==============================================================================================="
      ]
     },
     "execution_count": 19,
     "metadata": {},
     "output_type": "execute_result"
    }
   ],
   "source": [
    "summary(model, input_data=torch.randn(2, 1, depth, size, size))"
   ]
  },
  {
   "cell_type": "code",
   "execution_count": 20,
   "id": "3ddba4fe",
   "metadata": {},
   "outputs": [
    {
     "name": "stdout",
     "output_type": "stream",
     "text": [
      "tensor(-1.7695) tensor(2.4163)\n",
      "torch.Size([1, 1, 1024, 1024])\n"
     ]
    }
   ],
   "source": [
    "# check output shape and make sure that no sigmoid activation is at the last layer\n",
    "with torch.no_grad():\n",
    "    out = model(torch.randn(1, 1, depth, size, size))\n",
    "    print(out.min(), out.max())\n",
    "    print(out.size())"
   ]
  },
  {
   "cell_type": "code",
   "execution_count": 21,
   "id": "381fb27e",
   "metadata": {},
   "outputs": [],
   "source": [
    "# save the initial model weights to use them for each fold\n",
    "random_weights_path = f'{folder}/Weights/{name}_random.pth'\n",
    "if not os.path.exists(random_weights_path):\n",
    "    torch.save(model.state_dict(), random_weights_path)"
   ]
  },
  {
   "cell_type": "markdown",
   "id": "49cf1ad7",
   "metadata": {},
   "source": [
    "# Create a custom metric for the dice F 0.5 score"
   ]
  },
  {
   "cell_type": "code",
   "execution_count": 23,
   "id": "e0480e36",
   "metadata": {},
   "outputs": [],
   "source": [
    "class CustomDice(torchmetrics.Metric):\n",
    "    def __init__(self, beta=0.5, smooth=1e-5):\n",
    "        super().__init__()\n",
    "        \n",
    "        self.beta = beta\n",
    "        self.smooth = smooth\n",
    "        self.add_state(\"ctp\", default=torch.tensor(0, dtype=torch.float32), dist_reduce_fx=\"sum\")\n",
    "        self.add_state(\"cfp\", default=torch.tensor(0, dtype=torch.float32), dist_reduce_fx=\"sum\")\n",
    "        self.add_state(\"y_true_count\", default=torch.tensor(0, dtype=torch.float32), dist_reduce_fx=\"sum\")\n",
    "\n",
    "    def update(self, preds: torch.Tensor, target: torch.Tensor, apply_sigmoid=True):\n",
    "        \n",
    "        if apply_sigmoid:\n",
    "            preds = torch.sigmoid(preds)\n",
    "        preds = preds.view(-1)#.float()\n",
    "        target = target.view(-1)#.float()\n",
    "\n",
    "        self.y_true_count += target.sum()\n",
    "        self.ctp += preds[target == 1].sum()\n",
    "        self.cfp += preds[target == 0].sum()\n",
    "\n",
    "    def compute(self):\n",
    "        c_precision = self.ctp / (self.ctp + self.cfp + self.smooth)\n",
    "        c_recall = self.ctp / (self.y_true_count + self.smooth)\n",
    "        beta_squared = self.beta * self.beta\n",
    "        dice_score = (1 + beta_squared) * (c_precision * c_recall) / (beta_squared * c_precision + c_recall + self.smooth)\n",
    "\n",
    "        return dice_score"
   ]
  },
  {
   "cell_type": "markdown",
   "id": "35ea8b95",
   "metadata": {},
   "source": [
    "# Create the Lightning Module"
   ]
  },
  {
   "cell_type": "code",
   "execution_count": 26,
   "id": "ad8d4538",
   "metadata": {},
   "outputs": [],
   "source": [
    "class NN(pl.LightningModule):\n",
    "    def __init__(self, \n",
    "                 model, \n",
    "                 learning_rate,\n",
    "                 overweight_ink=ink_loss_weight,\n",
    "                 bce_loss_weight=bce_loss_weight,\n",
    "                 calculate_threshold=False):\n",
    "        super().__init__()\n",
    "        self.model = model\n",
    "        self.learning_rate = learning_rate\n",
    "        self.dice = CustomDice()\n",
    "        self.calc_th = calculate_threshold\n",
    "        self.overweight_ink = ink_loss_weight\n",
    "        self.bce_loss_weight = bce_loss_weight\n",
    "        self.epochs = epochs\n",
    "        self.pct_increase = pct_increase\n",
    "        self.BCE = nn.BCEWithLogitsLoss(pos_weight=torch.tensor(self.overweight_ink))\n",
    "        \n",
    "        self.dice_loss = losses.DiceLoss(sigmoid=True)\n",
    "        #self.masked_dice = losses.MaskedDiceLoss(sigmoid=True)\n",
    "        self.bce = nn.functional.binary_cross_entropy_with_logits\n",
    "        \n",
    "        self.predictions = []  # for holding both to calculate the optimal thresholds\n",
    "        self.targets = []\n",
    "        \n",
    "    def forward(self, x):\n",
    "        x = self.model(x)\n",
    "        \n",
    "        return x\n",
    "    \n",
    "    def training_step(self, batch, batch_idx):\n",
    "        X, mask, y = batch\n",
    "        \n",
    "        pred = self.model(X)\n",
    "        \n",
    "        # add class dim\n",
    "        mask = mask.unsqueeze(1)\n",
    "        y = y.unsqueeze(1)\n",
    "        \n",
    "        dice_loss = self.dice_loss(pred, y)\n",
    "        \n",
    "        bce_loss = self.BCE(pred, y)\n",
    "        \n",
    "        #dice_loss = self.masked_dice(pred, target=y, mask=mask)\n",
    "                \n",
    "        #bce_loss = self.bce(pred, y, weight=mask)\n",
    "        \n",
    "        # now calculate the final loss on the defined ration (diceloss vs bceloss)\n",
    "        loss = self.bce_loss_weight * bce_loss + (1 - self.bce_loss_weight) * dice_loss\n",
    "        \n",
    "        #loss = self.BCE(pred, y)\n",
    "        \n",
    "        with torch.no_grad():\n",
    "            dice_score = self.dice(pred, y)\n",
    "            \n",
    "        self.log_dict({'train_loss': loss,\n",
    "                       'train_dice': dice_score},\n",
    "                       on_step=False,\n",
    "                       on_epoch=True,\n",
    "                       prog_bar=True,\n",
    "                       logger=True)\n",
    "        \n",
    "        return {'loss': loss, 'train_dice': dice_score}\n",
    "        \n",
    "    def validation_step(self, batch, batch_idx):\n",
    "        X, mask, y = batch\n",
    "        \n",
    "        with torch.no_grad():\n",
    "            pred = self.model(X)\n",
    "        \n",
    "        # append the pred and y for thresholding\n",
    "        self.predictions.append(pred.flatten()) # flatten them for calculation\n",
    "        self.targets.append(y.flatten())\n",
    "        \n",
    "        # add class dim\n",
    "        mask = mask.unsqueeze(1)\n",
    "        y = y.unsqueeze(1)\n",
    "        \n",
    "        dice_loss = self.dice_loss(pred, y)\n",
    "        \n",
    "        bce_loss = self.BCE(pred, y)\n",
    "        \n",
    "        #dice_loss = self.masked_dice(pred, target=y, mask=mask)\n",
    "                \n",
    "        #bce_loss = self.bce(pred, y, weight=mask)\n",
    "        \n",
    "        # now calculate the final loss on the defined ration (diceloss vs bceloss)\n",
    "        loss = self.bce_loss_weight * bce_loss + (1 - self.bce_loss_weight) * dice_loss\n",
    "        \n",
    "        #loss = self.BCE(pred, y)\n",
    "        \n",
    "        dice_score = self.dice(pred, y)\n",
    "        \n",
    "        self.log_dict({'valid_loss': loss,\n",
    "                       'valid_dice': dice_score},\n",
    "                        on_step=False,\n",
    "                        on_epoch=True,\n",
    "                        prog_bar=True,\n",
    "                        logger=True)\n",
    "        \n",
    "        return {'valid_loss': loss, 'valid_dice': dice_score}\n",
    "    \n",
    "    def on_validation_epoch_end(self):\n",
    "        #if self.calc_th:  # dont calculate the optimal threshold when tuning hp\n",
    "            thresholds = np.arange(start=0.2, stop=0.8, step=0.05)  # thresholds to try\n",
    "            scores = []  # append the scores here to log them after all done\n",
    "            # use the attributes to calculate the dice score for each threshold\n",
    "            predictions = torch.cat(self.predictions, dim=0)\n",
    "            targets = torch.cat(self.targets, dim=0)\n",
    "\n",
    "            # first apply sigmoid to apply correct threshold\n",
    "            predictions = torch.sigmoid(predictions)\n",
    "\n",
    "            # try all thresholds\n",
    "            for threshold in thresholds:\n",
    "                threshold = torch.tensor(threshold)\n",
    "\n",
    "                # make predictions binary based on threshold            \n",
    "                pred_th = torch.where(predictions > threshold, 1, 0)\n",
    "\n",
    "                dice_score = self.dice(pred_th, targets, apply_sigmoid=False).cpu()\n",
    "                print('TH: ', threshold, ' - Dice: ', dice_score)\n",
    "                scores.append(dice_score)\n",
    "\n",
    "            # get the index of the best dice score\n",
    "            index_best = torch.argmax(torch.tensor(scores))\n",
    "\n",
    "            best_dice = torch.round(scores[index_best].clone(), decimals=3)\n",
    "            best_threshold = thresholds[index_best]\n",
    "\n",
    "            print(f'Best Threshold: {best_threshold} - Best Dice Score: {best_dice}')\n",
    "\n",
    "            # Log the best dice valid        \n",
    "            self.log_dict({'Best_Threshold': torch.tensor(best_threshold), 'Best_Dice': best_dice},\n",
    "                           on_step=False, on_epoch=True, prog_bar=True, logger=True)\n",
    "\n",
    "            # reset after each epoch\n",
    "            self.predictions = []\n",
    "            self.targets = []\n",
    "        \n",
    "    def configure_optimizers(self):\n",
    "        optim = torch.optim.Adam(self.model.parameters(), lr=self.learning_rate)\n",
    "        # needs params: total steps or steps per epoch and epochs\n",
    "        total_steps = len(self.trainer.datamodule.train_dataloader()) * self.epochs\n",
    "        scheduler = OneCycleLR(optimizer=optim,\n",
    "                               max_lr=self.learning_rate,\n",
    "                               epochs=self.epochs,\n",
    "                               #steps_per_epoch=10,\n",
    "                               total_steps = total_steps, #epochs*10,\n",
    "                               pct_start=self.pct_increase,)\n",
    "                               #verbose=True)\n",
    "        return [optim], [{\"scheduler\": scheduler, \"interval\": \"step\"}]"
   ]
  },
  {
   "cell_type": "markdown",
   "id": "4b3aaa7a",
   "metadata": {},
   "source": [
    "# Train / validate 3 models with the random weights"
   ]
  },
  {
   "cell_type": "code",
   "execution_count": 27,
   "id": "74bf1454",
   "metadata": {
    "scrolled": false
   },
   "outputs": [
    {
     "name": "stderr",
     "output_type": "stream",
     "text": [
      "Using 16bit Automatic Mixed Precision (AMP)\n",
      "GPU available: True (cuda), used: True\n",
      "TPU available: False, using: 0 TPU cores\n",
      "IPU available: False, using: 0 IPUs\n",
      "HPU available: False, using: 0 HPUs\n",
      "LOCAL_RANK: 0 - CUDA_VISIBLE_DEVICES: [0]\n",
      "\n",
      "  | Name      | Type              | Params\n",
      "------------------------------------------------\n",
      "0 | model     | SegModel          | 65.8 M\n",
      "1 | dice      | CustomDice        | 0     \n",
      "2 | BCE       | BCEWithLogitsLoss | 0     \n",
      "3 | dice_loss | DiceLoss          | 0     \n",
      "------------------------------------------------\n",
      "65.8 M    Trainable params\n",
      "0         Non-trainable params\n",
      "65.8 M    Total params\n",
      "263.172   Total estimated model params size (MB)\n"
     ]
    },
    {
     "data": {
      "application/vnd.jupyter.widget-view+json": {
       "model_id": "",
       "version_major": 2,
       "version_minor": 0
      },
      "text/plain": [
       "Sanity Checking: 0it [00:00, ?it/s]"
      ]
     },
     "metadata": {},
     "output_type": "display_data"
    },
    {
     "name": "stdout",
     "output_type": "stream",
     "text": [
      "TH:  tensor(0.2000, dtype=torch.float64)  - Dice:  tensor(0.2056)\n",
      "TH:  tensor(0.2500, dtype=torch.float64)  - Dice:  tensor(0.2056)\n",
      "TH:  tensor(0.3000, dtype=torch.float64)  - Dice:  tensor(0.2056)\n",
      "TH:  tensor(0.3500, dtype=torch.float64)  - Dice:  tensor(0.2056)\n",
      "TH:  tensor(0.4000, dtype=torch.float64)  - Dice:  tensor(0.2056)\n",
      "TH:  tensor(0.4500, dtype=torch.float64)  - Dice:  tensor(0.2056)\n",
      "TH:  tensor(0.5000, dtype=torch.float64)  - Dice:  tensor(0.0027)\n",
      "TH:  tensor(0.5500, dtype=torch.float64)  - Dice:  tensor(0.)\n",
      "TH:  tensor(0.6000, dtype=torch.float64)  - Dice:  tensor(0.)\n",
      "TH:  tensor(0.6500, dtype=torch.float64)  - Dice:  tensor(0.)\n",
      "TH:  tensor(0.7000, dtype=torch.float64)  - Dice:  tensor(0.)\n",
      "TH:  tensor(0.7500, dtype=torch.float64)  - Dice:  tensor(0.)\n",
      "TH:  tensor(0.8000, dtype=torch.float64)  - Dice:  tensor(0.)\n",
      "Best Threshold: 0.2 - Best Dice Score: 0.20600000023841858\n"
     ]
    },
    {
     "data": {
      "application/vnd.jupyter.widget-view+json": {
       "model_id": "9ecd8f56a84f4d48a1f2c9818c90016f",
       "version_major": 2,
       "version_minor": 0
      },
      "text/plain": [
       "Training: 0it [00:00, ?it/s]"
      ]
     },
     "metadata": {},
     "output_type": "display_data"
    },
    {
     "data": {
      "application/vnd.jupyter.widget-view+json": {
       "model_id": "",
       "version_major": 2,
       "version_minor": 0
      },
      "text/plain": [
       "Validation: 0it [00:00, ?it/s]"
      ]
     },
     "metadata": {},
     "output_type": "display_data"
    },
    {
     "name": "stdout",
     "output_type": "stream",
     "text": [
      "TH:  tensor(0.2000, dtype=torch.float64)  - Dice:  tensor(0.2566)\n",
      "TH:  tensor(0.2500, dtype=torch.float64)  - Dice:  tensor(0.2592)\n",
      "TH:  tensor(0.3000, dtype=torch.float64)  - Dice:  tensor(0.2621)\n",
      "TH:  tensor(0.3500, dtype=torch.float64)  - Dice:  tensor(0.2664)\n",
      "TH:  tensor(0.4000, dtype=torch.float64)  - Dice:  tensor(0.2781)\n",
      "TH:  tensor(0.4500, dtype=torch.float64)  - Dice:  tensor(0.2863)\n",
      "TH:  tensor(0.5000, dtype=torch.float64)  - Dice:  tensor(0.2926)\n",
      "TH:  tensor(0.5500, dtype=torch.float64)  - Dice:  tensor(0.2992)\n",
      "TH:  tensor(0.6000, dtype=torch.float64)  - Dice:  tensor(0.3058)\n",
      "TH:  tensor(0.6500, dtype=torch.float64)  - Dice:  tensor(0.3122)\n",
      "TH:  tensor(0.7000, dtype=torch.float64)  - Dice:  tensor(0.3180)\n",
      "TH:  tensor(0.7500, dtype=torch.float64)  - Dice:  tensor(0.3230)\n",
      "TH:  tensor(0.8000, dtype=torch.float64)  - Dice:  tensor(0.3279)\n",
      "Best Threshold: 0.7999999999999998 - Best Dice Score: 0.328000009059906\n"
     ]
    },
    {
     "data": {
      "application/vnd.jupyter.widget-view+json": {
       "model_id": "",
       "version_major": 2,
       "version_minor": 0
      },
      "text/plain": [
       "Validation: 0it [00:00, ?it/s]"
      ]
     },
     "metadata": {},
     "output_type": "display_data"
    },
    {
     "name": "stdout",
     "output_type": "stream",
     "text": [
      "TH:  tensor(0.2000, dtype=torch.float64)  - Dice:  tensor(0.3013)\n",
      "TH:  tensor(0.2500, dtype=torch.float64)  - Dice:  tensor(0.3343)\n",
      "TH:  tensor(0.3000, dtype=torch.float64)  - Dice:  tensor(0.3570)\n",
      "TH:  tensor(0.3500, dtype=torch.float64)  - Dice:  tensor(0.3690)\n",
      "TH:  tensor(0.4000, dtype=torch.float64)  - Dice:  tensor(0.3723)\n",
      "TH:  tensor(0.4500, dtype=torch.float64)  - Dice:  tensor(0.3681)\n",
      "TH:  tensor(0.5000, dtype=torch.float64)  - Dice:  tensor(0.3554)\n",
      "TH:  tensor(0.5500, dtype=torch.float64)  - Dice:  tensor(0.3264)\n",
      "TH:  tensor(0.6000, dtype=torch.float64)  - Dice:  tensor(0.2966)\n",
      "TH:  tensor(0.6500, dtype=torch.float64)  - Dice:  tensor(0.2639)\n",
      "TH:  tensor(0.7000, dtype=torch.float64)  - Dice:  tensor(0.2255)\n",
      "TH:  tensor(0.7500, dtype=torch.float64)  - Dice:  tensor(0.1872)\n",
      "TH:  tensor(0.8000, dtype=torch.float64)  - Dice:  tensor(0.1480)\n",
      "Best Threshold: 0.39999999999999997 - Best Dice Score: 0.3720000088214874\n"
     ]
    },
    {
     "data": {
      "application/vnd.jupyter.widget-view+json": {
       "model_id": "",
       "version_major": 2,
       "version_minor": 0
      },
      "text/plain": [
       "Validation: 0it [00:00, ?it/s]"
      ]
     },
     "metadata": {},
     "output_type": "display_data"
    },
    {
     "name": "stdout",
     "output_type": "stream",
     "text": [
      "TH:  tensor(0.2000, dtype=torch.float64)  - Dice:  tensor(0.0598)\n",
      "TH:  tensor(0.2500, dtype=torch.float64)  - Dice:  tensor(0.0086)\n",
      "TH:  tensor(0.3000, dtype=torch.float64)  - Dice:  tensor(0.0040)\n",
      "TH:  tensor(0.3500, dtype=torch.float64)  - Dice:  tensor(0.0013)\n",
      "TH:  tensor(0.4000, dtype=torch.float64)  - Dice:  tensor(0.0001)\n",
      "TH:  tensor(0.4500, dtype=torch.float64)  - Dice:  tensor(0.)\n",
      "TH:  tensor(0.5000, dtype=torch.float64)  - Dice:  tensor(0.)\n",
      "TH:  tensor(0.5500, dtype=torch.float64)  - Dice:  tensor(0.)\n",
      "TH:  tensor(0.6000, dtype=torch.float64)  - Dice:  tensor(0.)\n",
      "TH:  tensor(0.6500, dtype=torch.float64)  - Dice:  tensor(0.)\n",
      "TH:  tensor(0.7000, dtype=torch.float64)  - Dice:  tensor(0.)\n",
      "TH:  tensor(0.7500, dtype=torch.float64)  - Dice:  tensor(0.)\n",
      "TH:  tensor(0.8000, dtype=torch.float64)  - Dice:  tensor(0.)\n",
      "Best Threshold: 0.2 - Best Dice Score: 0.05999999865889549\n"
     ]
    },
    {
     "data": {
      "application/vnd.jupyter.widget-view+json": {
       "model_id": "",
       "version_major": 2,
       "version_minor": 0
      },
      "text/plain": [
       "Validation: 0it [00:00, ?it/s]"
      ]
     },
     "metadata": {},
     "output_type": "display_data"
    },
    {
     "name": "stdout",
     "output_type": "stream",
     "text": [
      "TH:  tensor(0.2000, dtype=torch.float64)  - Dice:  tensor(0.3087)\n",
      "TH:  tensor(0.2500, dtype=torch.float64)  - Dice:  tensor(0.3316)\n",
      "TH:  tensor(0.3000, dtype=torch.float64)  - Dice:  tensor(0.3612)\n",
      "TH:  tensor(0.3500, dtype=torch.float64)  - Dice:  tensor(0.3954)\n",
      "TH:  tensor(0.4000, dtype=torch.float64)  - Dice:  tensor(0.4157)\n",
      "TH:  tensor(0.4500, dtype=torch.float64)  - Dice:  tensor(0.4199)\n",
      "TH:  tensor(0.5000, dtype=torch.float64)  - Dice:  tensor(0.4050)\n",
      "TH:  tensor(0.5500, dtype=torch.float64)  - Dice:  tensor(0.3812)\n",
      "TH:  tensor(0.6000, dtype=torch.float64)  - Dice:  tensor(0.3547)\n",
      "TH:  tensor(0.6500, dtype=torch.float64)  - Dice:  tensor(0.3273)\n",
      "TH:  tensor(0.7000, dtype=torch.float64)  - Dice:  tensor(0.2861)\n",
      "TH:  tensor(0.7500, dtype=torch.float64)  - Dice:  tensor(0.2323)\n",
      "TH:  tensor(0.8000, dtype=torch.float64)  - Dice:  tensor(0.1736)\n",
      "Best Threshold: 0.44999999999999996 - Best Dice Score: 0.41999998688697815\n"
     ]
    },
    {
     "data": {
      "application/vnd.jupyter.widget-view+json": {
       "model_id": "",
       "version_major": 2,
       "version_minor": 0
      },
      "text/plain": [
       "Validation: 0it [00:00, ?it/s]"
      ]
     },
     "metadata": {},
     "output_type": "display_data"
    },
    {
     "name": "stdout",
     "output_type": "stream",
     "text": [
      "TH:  tensor(0.2000, dtype=torch.float64)  - Dice:  tensor(0.3239)\n",
      "TH:  tensor(0.2500, dtype=torch.float64)  - Dice:  tensor(0.3652)\n",
      "TH:  tensor(0.3000, dtype=torch.float64)  - Dice:  tensor(0.3875)\n",
      "TH:  tensor(0.3500, dtype=torch.float64)  - Dice:  tensor(0.3905)\n",
      "TH:  tensor(0.4000, dtype=torch.float64)  - Dice:  tensor(0.3878)\n",
      "TH:  tensor(0.4500, dtype=torch.float64)  - Dice:  tensor(0.3852)\n",
      "TH:  tensor(0.5000, dtype=torch.float64)  - Dice:  tensor(0.3791)\n",
      "TH:  tensor(0.5500, dtype=torch.float64)  - Dice:  tensor(0.3694)\n",
      "TH:  tensor(0.6000, dtype=torch.float64)  - Dice:  tensor(0.3554)\n",
      "TH:  tensor(0.6500, dtype=torch.float64)  - Dice:  tensor(0.3354)\n",
      "TH:  tensor(0.7000, dtype=torch.float64)  - Dice:  tensor(0.3109)\n",
      "TH:  tensor(0.7500, dtype=torch.float64)  - Dice:  tensor(0.2847)\n",
      "TH:  tensor(0.8000, dtype=torch.float64)  - Dice:  tensor(0.2608)\n",
      "Best Threshold: 0.35 - Best Dice Score: 0.38999998569488525\n"
     ]
    },
    {
     "data": {
      "application/vnd.jupyter.widget-view+json": {
       "model_id": "",
       "version_major": 2,
       "version_minor": 0
      },
      "text/plain": [
       "Validation: 0it [00:00, ?it/s]"
      ]
     },
     "metadata": {},
     "output_type": "display_data"
    },
    {
     "name": "stdout",
     "output_type": "stream",
     "text": [
      "TH:  tensor(0.2000, dtype=torch.float64)  - Dice:  tensor(0.3866)\n",
      "TH:  tensor(0.2500, dtype=torch.float64)  - Dice:  tensor(0.3923)\n",
      "TH:  tensor(0.3000, dtype=torch.float64)  - Dice:  tensor(0.3980)\n",
      "TH:  tensor(0.3500, dtype=torch.float64)  - Dice:  tensor(0.3983)\n",
      "TH:  tensor(0.4000, dtype=torch.float64)  - Dice:  tensor(0.3971)\n",
      "TH:  tensor(0.4500, dtype=torch.float64)  - Dice:  tensor(0.3945)\n",
      "TH:  tensor(0.5000, dtype=torch.float64)  - Dice:  tensor(0.3905)\n",
      "TH:  tensor(0.5500, dtype=torch.float64)  - Dice:  tensor(0.3808)\n",
      "TH:  tensor(0.6000, dtype=torch.float64)  - Dice:  tensor(0.3639)\n",
      "TH:  tensor(0.6500, dtype=torch.float64)  - Dice:  tensor(0.3373)\n",
      "TH:  tensor(0.7000, dtype=torch.float64)  - Dice:  tensor(0.3077)\n",
      "TH:  tensor(0.7500, dtype=torch.float64)  - Dice:  tensor(0.2754)\n",
      "TH:  tensor(0.8000, dtype=torch.float64)  - Dice:  tensor(0.2390)\n",
      "Best Threshold: 0.35 - Best Dice Score: 0.39800000190734863\n"
     ]
    },
    {
     "data": {
      "application/vnd.jupyter.widget-view+json": {
       "model_id": "",
       "version_major": 2,
       "version_minor": 0
      },
      "text/plain": [
       "Validation: 0it [00:00, ?it/s]"
      ]
     },
     "metadata": {},
     "output_type": "display_data"
    },
    {
     "name": "stdout",
     "output_type": "stream",
     "text": [
      "TH:  tensor(0.2000, dtype=torch.float64)  - Dice:  tensor(0.4037)\n",
      "TH:  tensor(0.2500, dtype=torch.float64)  - Dice:  tensor(0.3698)\n",
      "TH:  tensor(0.3000, dtype=torch.float64)  - Dice:  tensor(0.3344)\n",
      "TH:  tensor(0.3500, dtype=torch.float64)  - Dice:  tensor(0.3001)\n",
      "TH:  tensor(0.4000, dtype=torch.float64)  - Dice:  tensor(0.2725)\n",
      "TH:  tensor(0.4500, dtype=torch.float64)  - Dice:  tensor(0.2500)\n",
      "TH:  tensor(0.5000, dtype=torch.float64)  - Dice:  tensor(0.2306)\n",
      "TH:  tensor(0.5500, dtype=torch.float64)  - Dice:  tensor(0.2130)\n",
      "TH:  tensor(0.6000, dtype=torch.float64)  - Dice:  tensor(0.1936)\n",
      "TH:  tensor(0.6500, dtype=torch.float64)  - Dice:  tensor(0.1717)\n",
      "TH:  tensor(0.7000, dtype=torch.float64)  - Dice:  tensor(0.1467)\n",
      "TH:  tensor(0.7500, dtype=torch.float64)  - Dice:  tensor(0.1216)\n",
      "TH:  tensor(0.8000, dtype=torch.float64)  - Dice:  tensor(0.0967)\n",
      "Best Threshold: 0.2 - Best Dice Score: 0.40400001406669617\n"
     ]
    },
    {
     "data": {
      "application/vnd.jupyter.widget-view+json": {
       "model_id": "",
       "version_major": 2,
       "version_minor": 0
      },
      "text/plain": [
       "Validation: 0it [00:00, ?it/s]"
      ]
     },
     "metadata": {},
     "output_type": "display_data"
    },
    {
     "name": "stdout",
     "output_type": "stream",
     "text": [
      "TH:  tensor(0.2000, dtype=torch.float64)  - Dice:  tensor(0.3015)\n",
      "TH:  tensor(0.2500, dtype=torch.float64)  - Dice:  tensor(0.3174)\n",
      "TH:  tensor(0.3000, dtype=torch.float64)  - Dice:  tensor(0.3328)\n",
      "TH:  tensor(0.3500, dtype=torch.float64)  - Dice:  tensor(0.3470)\n",
      "TH:  tensor(0.4000, dtype=torch.float64)  - Dice:  tensor(0.3597)\n",
      "TH:  tensor(0.4500, dtype=torch.float64)  - Dice:  tensor(0.3703)\n",
      "TH:  tensor(0.5000, dtype=torch.float64)  - Dice:  tensor(0.3786)\n",
      "TH:  tensor(0.5500, dtype=torch.float64)  - Dice:  tensor(0.3863)\n",
      "TH:  tensor(0.6000, dtype=torch.float64)  - Dice:  tensor(0.3944)\n",
      "TH:  tensor(0.6500, dtype=torch.float64)  - Dice:  tensor(0.4035)\n",
      "TH:  tensor(0.7000, dtype=torch.float64)  - Dice:  tensor(0.4125)\n",
      "TH:  tensor(0.7500, dtype=torch.float64)  - Dice:  tensor(0.4262)\n",
      "TH:  tensor(0.8000, dtype=torch.float64)  - Dice:  tensor(0.4385)\n",
      "Best Threshold: 0.7999999999999998 - Best Dice Score: 0.4390000104904175\n"
     ]
    },
    {
     "data": {
      "application/vnd.jupyter.widget-view+json": {
       "model_id": "",
       "version_major": 2,
       "version_minor": 0
      },
      "text/plain": [
       "Validation: 0it [00:00, ?it/s]"
      ]
     },
     "metadata": {},
     "output_type": "display_data"
    },
    {
     "name": "stdout",
     "output_type": "stream",
     "text": [
      "TH:  tensor(0.2000, dtype=torch.float64)  - Dice:  tensor(0.2660)\n",
      "TH:  tensor(0.2500, dtype=torch.float64)  - Dice:  tensor(0.2699)\n",
      "TH:  tensor(0.3000, dtype=torch.float64)  - Dice:  tensor(0.2757)\n",
      "TH:  tensor(0.3500, dtype=torch.float64)  - Dice:  tensor(0.2830)\n",
      "TH:  tensor(0.4000, dtype=torch.float64)  - Dice:  tensor(0.2913)\n",
      "TH:  tensor(0.4500, dtype=torch.float64)  - Dice:  tensor(0.2997)\n",
      "TH:  tensor(0.5000, dtype=torch.float64)  - Dice:  tensor(0.3086)\n",
      "TH:  tensor(0.5500, dtype=torch.float64)  - Dice:  tensor(0.3186)\n",
      "TH:  tensor(0.6000, dtype=torch.float64)  - Dice:  tensor(0.3299)\n",
      "TH:  tensor(0.6500, dtype=torch.float64)  - Dice:  tensor(0.3452)\n",
      "TH:  tensor(0.7000, dtype=torch.float64)  - Dice:  tensor(0.3654)\n",
      "TH:  tensor(0.7500, dtype=torch.float64)  - Dice:  tensor(0.3925)\n",
      "TH:  tensor(0.8000, dtype=torch.float64)  - Dice:  tensor(0.4302)\n",
      "Best Threshold: 0.7999999999999998 - Best Dice Score: 0.4300000071525574\n"
     ]
    },
    {
     "data": {
      "application/vnd.jupyter.widget-view+json": {
       "model_id": "",
       "version_major": 2,
       "version_minor": 0
      },
      "text/plain": [
       "Validation: 0it [00:00, ?it/s]"
      ]
     },
     "metadata": {},
     "output_type": "display_data"
    },
    {
     "name": "stdout",
     "output_type": "stream",
     "text": [
      "TH:  tensor(0.2000, dtype=torch.float64)  - Dice:  tensor(0.2631)\n",
      "TH:  tensor(0.2500, dtype=torch.float64)  - Dice:  tensor(0.2661)\n",
      "TH:  tensor(0.3000, dtype=torch.float64)  - Dice:  tensor(0.2687)\n",
      "TH:  tensor(0.3500, dtype=torch.float64)  - Dice:  tensor(0.2710)\n",
      "TH:  tensor(0.4000, dtype=torch.float64)  - Dice:  tensor(0.2735)\n",
      "TH:  tensor(0.4500, dtype=torch.float64)  - Dice:  tensor(0.2759)\n",
      "TH:  tensor(0.5000, dtype=torch.float64)  - Dice:  tensor(0.2783)\n",
      "TH:  tensor(0.5500, dtype=torch.float64)  - Dice:  tensor(0.2813)\n",
      "TH:  tensor(0.6000, dtype=torch.float64)  - Dice:  tensor(0.2858)\n",
      "TH:  tensor(0.6500, dtype=torch.float64)  - Dice:  tensor(0.2920)\n",
      "TH:  tensor(0.7000, dtype=torch.float64)  - Dice:  tensor(0.3009)\n",
      "TH:  tensor(0.7500, dtype=torch.float64)  - Dice:  tensor(0.3128)\n",
      "TH:  tensor(0.8000, dtype=torch.float64)  - Dice:  tensor(0.3294)\n",
      "Best Threshold: 0.7999999999999998 - Best Dice Score: 0.32899999618530273\n"
     ]
    },
    {
     "data": {
      "application/vnd.jupyter.widget-view+json": {
       "model_id": "",
       "version_major": 2,
       "version_minor": 0
      },
      "text/plain": [
       "Validation: 0it [00:00, ?it/s]"
      ]
     },
     "metadata": {},
     "output_type": "display_data"
    },
    {
     "name": "stdout",
     "output_type": "stream",
     "text": [
      "TH:  tensor(0.2000, dtype=torch.float64)  - Dice:  tensor(0.2713)\n",
      "TH:  tensor(0.2500, dtype=torch.float64)  - Dice:  tensor(0.2768)\n",
      "TH:  tensor(0.3000, dtype=torch.float64)  - Dice:  tensor(0.2815)\n",
      "TH:  tensor(0.3500, dtype=torch.float64)  - Dice:  tensor(0.2861)\n",
      "TH:  tensor(0.4000, dtype=torch.float64)  - Dice:  tensor(0.2908)\n",
      "TH:  tensor(0.4500, dtype=torch.float64)  - Dice:  tensor(0.2956)\n",
      "TH:  tensor(0.5000, dtype=torch.float64)  - Dice:  tensor(0.3003)\n",
      "TH:  tensor(0.5500, dtype=torch.float64)  - Dice:  tensor(0.3054)\n",
      "TH:  tensor(0.6000, dtype=torch.float64)  - Dice:  tensor(0.3114)\n",
      "TH:  tensor(0.6500, dtype=torch.float64)  - Dice:  tensor(0.3183)\n",
      "TH:  tensor(0.7000, dtype=torch.float64)  - Dice:  tensor(0.3265)\n",
      "TH:  tensor(0.7500, dtype=torch.float64)  - Dice:  tensor(0.3378)\n",
      "TH:  tensor(0.8000, dtype=torch.float64)  - Dice:  tensor(0.3526)\n",
      "Best Threshold: 0.7999999999999998 - Best Dice Score: 0.3529999852180481\n"
     ]
    },
    {
     "data": {
      "application/vnd.jupyter.widget-view+json": {
       "model_id": "",
       "version_major": 2,
       "version_minor": 0
      },
      "text/plain": [
       "Validation: 0it [00:00, ?it/s]"
      ]
     },
     "metadata": {},
     "output_type": "display_data"
    },
    {
     "name": "stdout",
     "output_type": "stream",
     "text": [
      "TH:  tensor(0.2000, dtype=torch.float64)  - Dice:  tensor(0.3328)\n",
      "TH:  tensor(0.2500, dtype=torch.float64)  - Dice:  tensor(0.3565)\n",
      "TH:  tensor(0.3000, dtype=torch.float64)  - Dice:  tensor(0.3789)\n",
      "TH:  tensor(0.3500, dtype=torch.float64)  - Dice:  tensor(0.4010)\n",
      "TH:  tensor(0.4000, dtype=torch.float64)  - Dice:  tensor(0.4208)\n",
      "TH:  tensor(0.4500, dtype=torch.float64)  - Dice:  tensor(0.4360)\n",
      "TH:  tensor(0.5000, dtype=torch.float64)  - Dice:  tensor(0.4488)\n",
      "TH:  tensor(0.5500, dtype=torch.float64)  - Dice:  tensor(0.4600)\n",
      "TH:  tensor(0.6000, dtype=torch.float64)  - Dice:  tensor(0.4713)\n",
      "TH:  tensor(0.6500, dtype=torch.float64)  - Dice:  tensor(0.4817)\n",
      "TH:  tensor(0.7000, dtype=torch.float64)  - Dice:  tensor(0.4870)\n",
      "TH:  tensor(0.7500, dtype=torch.float64)  - Dice:  tensor(0.4813)\n",
      "TH:  tensor(0.8000, dtype=torch.float64)  - Dice:  tensor(0.4670)\n",
      "Best Threshold: 0.7 - Best Dice Score: 0.4869999885559082\n"
     ]
    },
    {
     "data": {
      "application/vnd.jupyter.widget-view+json": {
       "model_id": "",
       "version_major": 2,
       "version_minor": 0
      },
      "text/plain": [
       "Validation: 0it [00:00, ?it/s]"
      ]
     },
     "metadata": {},
     "output_type": "display_data"
    },
    {
     "name": "stdout",
     "output_type": "stream",
     "text": [
      "TH:  tensor(0.2000, dtype=torch.float64)  - Dice:  tensor(0.4236)\n",
      "TH:  tensor(0.2500, dtype=torch.float64)  - Dice:  tensor(0.4450)\n",
      "TH:  tensor(0.3000, dtype=torch.float64)  - Dice:  tensor(0.4614)\n",
      "TH:  tensor(0.3500, dtype=torch.float64)  - Dice:  tensor(0.4753)\n",
      "TH:  tensor(0.4000, dtype=torch.float64)  - Dice:  tensor(0.4868)\n",
      "TH:  tensor(0.4500, dtype=torch.float64)  - Dice:  tensor(0.4950)\n",
      "TH:  tensor(0.5000, dtype=torch.float64)  - Dice:  tensor(0.5022)\n",
      "TH:  tensor(0.5500, dtype=torch.float64)  - Dice:  tensor(0.5085)\n",
      "TH:  tensor(0.6000, dtype=torch.float64)  - Dice:  tensor(0.5149)\n",
      "TH:  tensor(0.6500, dtype=torch.float64)  - Dice:  tensor(0.5175)\n",
      "TH:  tensor(0.7000, dtype=torch.float64)  - Dice:  tensor(0.5139)\n",
      "TH:  tensor(0.7500, dtype=torch.float64)  - Dice:  tensor(0.5014)\n",
      "TH:  tensor(0.8000, dtype=torch.float64)  - Dice:  tensor(0.4709)\n",
      "Best Threshold: 0.6499999999999999 - Best Dice Score: 0.5170000195503235\n"
     ]
    },
    {
     "data": {
      "application/vnd.jupyter.widget-view+json": {
       "model_id": "",
       "version_major": 2,
       "version_minor": 0
      },
      "text/plain": [
       "Validation: 0it [00:00, ?it/s]"
      ]
     },
     "metadata": {},
     "output_type": "display_data"
    },
    {
     "name": "stdout",
     "output_type": "stream",
     "text": [
      "TH:  tensor(0.2000, dtype=torch.float64)  - Dice:  tensor(0.3267)\n",
      "TH:  tensor(0.2500, dtype=torch.float64)  - Dice:  tensor(0.3488)\n",
      "TH:  tensor(0.3000, dtype=torch.float64)  - Dice:  tensor(0.3685)\n",
      "TH:  tensor(0.3500, dtype=torch.float64)  - Dice:  tensor(0.3857)\n",
      "TH:  tensor(0.4000, dtype=torch.float64)  - Dice:  tensor(0.3996)\n",
      "TH:  tensor(0.4500, dtype=torch.float64)  - Dice:  tensor(0.4114)\n",
      "TH:  tensor(0.5000, dtype=torch.float64)  - Dice:  tensor(0.4214)\n",
      "TH:  tensor(0.5500, dtype=torch.float64)  - Dice:  tensor(0.4306)\n",
      "TH:  tensor(0.6000, dtype=torch.float64)  - Dice:  tensor(0.4398)\n",
      "TH:  tensor(0.6500, dtype=torch.float64)  - Dice:  tensor(0.4482)\n",
      "TH:  tensor(0.7000, dtype=torch.float64)  - Dice:  tensor(0.4571)\n",
      "TH:  tensor(0.7500, dtype=torch.float64)  - Dice:  tensor(0.4665)\n",
      "TH:  tensor(0.8000, dtype=torch.float64)  - Dice:  tensor(0.4735)\n",
      "Best Threshold: 0.7999999999999998 - Best Dice Score: 0.4740000069141388\n"
     ]
    },
    {
     "data": {
      "application/vnd.jupyter.widget-view+json": {
       "model_id": "",
       "version_major": 2,
       "version_minor": 0
      },
      "text/plain": [
       "Validation: 0it [00:00, ?it/s]"
      ]
     },
     "metadata": {},
     "output_type": "display_data"
    },
    {
     "name": "stdout",
     "output_type": "stream",
     "text": [
      "TH:  tensor(0.2000, dtype=torch.float64)  - Dice:  tensor(0.3906)\n",
      "TH:  tensor(0.2500, dtype=torch.float64)  - Dice:  tensor(0.4072)\n",
      "TH:  tensor(0.3000, dtype=torch.float64)  - Dice:  tensor(0.4195)\n",
      "TH:  tensor(0.3500, dtype=torch.float64)  - Dice:  tensor(0.4291)\n",
      "TH:  tensor(0.4000, dtype=torch.float64)  - Dice:  tensor(0.4366)\n",
      "TH:  tensor(0.4500, dtype=torch.float64)  - Dice:  tensor(0.4424)\n",
      "TH:  tensor(0.5000, dtype=torch.float64)  - Dice:  tensor(0.4482)\n",
      "TH:  tensor(0.5500, dtype=torch.float64)  - Dice:  tensor(0.4548)\n",
      "TH:  tensor(0.6000, dtype=torch.float64)  - Dice:  tensor(0.4632)\n",
      "TH:  tensor(0.6500, dtype=torch.float64)  - Dice:  tensor(0.4733)\n",
      "TH:  tensor(0.7000, dtype=torch.float64)  - Dice:  tensor(0.4827)\n",
      "TH:  tensor(0.7500, dtype=torch.float64)  - Dice:  tensor(0.4913)\n",
      "TH:  tensor(0.8000, dtype=torch.float64)  - Dice:  tensor(0.4960)\n",
      "Best Threshold: 0.7999999999999998 - Best Dice Score: 0.4959999918937683\n"
     ]
    },
    {
     "data": {
      "application/vnd.jupyter.widget-view+json": {
       "model_id": "",
       "version_major": 2,
       "version_minor": 0
      },
      "text/plain": [
       "Validation: 0it [00:00, ?it/s]"
      ]
     },
     "metadata": {},
     "output_type": "display_data"
    },
    {
     "name": "stdout",
     "output_type": "stream",
     "text": [
      "TH:  tensor(0.2000, dtype=torch.float64)  - Dice:  tensor(0.4062)\n",
      "TH:  tensor(0.2500, dtype=torch.float64)  - Dice:  tensor(0.4238)\n",
      "TH:  tensor(0.3000, dtype=torch.float64)  - Dice:  tensor(0.4375)\n",
      "TH:  tensor(0.3500, dtype=torch.float64)  - Dice:  tensor(0.4496)\n",
      "TH:  tensor(0.4000, dtype=torch.float64)  - Dice:  tensor(0.4595)\n",
      "TH:  tensor(0.4500, dtype=torch.float64)  - Dice:  tensor(0.4671)\n",
      "TH:  tensor(0.5000, dtype=torch.float64)  - Dice:  tensor(0.4734)\n",
      "TH:  tensor(0.5500, dtype=torch.float64)  - Dice:  tensor(0.4797)\n",
      "TH:  tensor(0.6000, dtype=torch.float64)  - Dice:  tensor(0.4860)\n",
      "TH:  tensor(0.6500, dtype=torch.float64)  - Dice:  tensor(0.4911)\n",
      "TH:  tensor(0.7000, dtype=torch.float64)  - Dice:  tensor(0.4922)\n",
      "TH:  tensor(0.7500, dtype=torch.float64)  - Dice:  tensor(0.4880)\n",
      "TH:  tensor(0.8000, dtype=torch.float64)  - Dice:  tensor(0.4847)\n",
      "Best Threshold: 0.7 - Best Dice Score: 0.492000013589859\n"
     ]
    },
    {
     "data": {
      "application/vnd.jupyter.widget-view+json": {
       "model_id": "",
       "version_major": 2,
       "version_minor": 0
      },
      "text/plain": [
       "Validation: 0it [00:00, ?it/s]"
      ]
     },
     "metadata": {},
     "output_type": "display_data"
    },
    {
     "name": "stdout",
     "output_type": "stream",
     "text": [
      "TH:  tensor(0.2000, dtype=torch.float64)  - Dice:  tensor(0.3449)\n",
      "TH:  tensor(0.2500, dtype=torch.float64)  - Dice:  tensor(0.3610)\n",
      "TH:  tensor(0.3000, dtype=torch.float64)  - Dice:  tensor(0.3748)\n",
      "TH:  tensor(0.3500, dtype=torch.float64)  - Dice:  tensor(0.3872)\n",
      "TH:  tensor(0.4000, dtype=torch.float64)  - Dice:  tensor(0.3978)\n",
      "TH:  tensor(0.4500, dtype=torch.float64)  - Dice:  tensor(0.4072)\n",
      "TH:  tensor(0.5000, dtype=torch.float64)  - Dice:  tensor(0.4168)\n",
      "TH:  tensor(0.5500, dtype=torch.float64)  - Dice:  tensor(0.4272)\n",
      "TH:  tensor(0.6000, dtype=torch.float64)  - Dice:  tensor(0.4379)\n",
      "TH:  tensor(0.6500, dtype=torch.float64)  - Dice:  tensor(0.4489)\n",
      "TH:  tensor(0.7000, dtype=torch.float64)  - Dice:  tensor(0.4621)\n",
      "TH:  tensor(0.7500, dtype=torch.float64)  - Dice:  tensor(0.4789)\n",
      "TH:  tensor(0.8000, dtype=torch.float64)  - Dice:  tensor(0.4976)\n",
      "Best Threshold: 0.7999999999999998 - Best Dice Score: 0.49799999594688416\n"
     ]
    },
    {
     "data": {
      "application/vnd.jupyter.widget-view+json": {
       "model_id": "",
       "version_major": 2,
       "version_minor": 0
      },
      "text/plain": [
       "Validation: 0it [00:00, ?it/s]"
      ]
     },
     "metadata": {},
     "output_type": "display_data"
    },
    {
     "name": "stdout",
     "output_type": "stream",
     "text": [
      "TH:  tensor(0.2000, dtype=torch.float64)  - Dice:  tensor(0.3457)\n",
      "TH:  tensor(0.2500, dtype=torch.float64)  - Dice:  tensor(0.3622)\n",
      "TH:  tensor(0.3000, dtype=torch.float64)  - Dice:  tensor(0.3751)\n",
      "TH:  tensor(0.3500, dtype=torch.float64)  - Dice:  tensor(0.3867)\n",
      "TH:  tensor(0.4000, dtype=torch.float64)  - Dice:  tensor(0.3969)\n",
      "TH:  tensor(0.4500, dtype=torch.float64)  - Dice:  tensor(0.4065)\n",
      "TH:  tensor(0.5000, dtype=torch.float64)  - Dice:  tensor(0.4158)\n",
      "TH:  tensor(0.5500, dtype=torch.float64)  - Dice:  tensor(0.4250)\n",
      "TH:  tensor(0.6000, dtype=torch.float64)  - Dice:  tensor(0.4345)\n",
      "TH:  tensor(0.6500, dtype=torch.float64)  - Dice:  tensor(0.4452)\n",
      "TH:  tensor(0.7000, dtype=torch.float64)  - Dice:  tensor(0.4583)\n",
      "TH:  tensor(0.7500, dtype=torch.float64)  - Dice:  tensor(0.4748)\n",
      "TH:  tensor(0.8000, dtype=torch.float64)  - Dice:  tensor(0.4938)\n",
      "Best Threshold: 0.7999999999999998 - Best Dice Score: 0.49399998784065247\n"
     ]
    },
    {
     "data": {
      "application/vnd.jupyter.widget-view+json": {
       "model_id": "",
       "version_major": 2,
       "version_minor": 0
      },
      "text/plain": [
       "Validation: 0it [00:00, ?it/s]"
      ]
     },
     "metadata": {},
     "output_type": "display_data"
    },
    {
     "name": "stdout",
     "output_type": "stream",
     "text": [
      "TH:  tensor(0.2000, dtype=torch.float64)  - Dice:  tensor(0.4302)\n",
      "TH:  tensor(0.2500, dtype=torch.float64)  - Dice:  tensor(0.4458)\n",
      "TH:  tensor(0.3000, dtype=torch.float64)  - Dice:  tensor(0.4569)\n",
      "TH:  tensor(0.3500, dtype=torch.float64)  - Dice:  tensor(0.4658)\n",
      "TH:  tensor(0.4000, dtype=torch.float64)  - Dice:  tensor(0.4723)\n",
      "TH:  tensor(0.4500, dtype=torch.float64)  - Dice:  tensor(0.4776)\n",
      "TH:  tensor(0.5000, dtype=torch.float64)  - Dice:  tensor(0.4825)\n",
      "TH:  tensor(0.5500, dtype=torch.float64)  - Dice:  tensor(0.4871)\n",
      "TH:  tensor(0.6000, dtype=torch.float64)  - Dice:  tensor(0.4918)\n",
      "TH:  tensor(0.6500, dtype=torch.float64)  - Dice:  tensor(0.4951)\n",
      "TH:  tensor(0.7000, dtype=torch.float64)  - Dice:  tensor(0.4960)\n",
      "TH:  tensor(0.7500, dtype=torch.float64)  - Dice:  tensor(0.4936)\n",
      "TH:  tensor(0.8000, dtype=torch.float64)  - Dice:  tensor(0.4872)\n",
      "Best Threshold: 0.7 - Best Dice Score: 0.4959999918937683\n"
     ]
    },
    {
     "data": {
      "application/vnd.jupyter.widget-view+json": {
       "model_id": "",
       "version_major": 2,
       "version_minor": 0
      },
      "text/plain": [
       "Validation: 0it [00:00, ?it/s]"
      ]
     },
     "metadata": {},
     "output_type": "display_data"
    },
    {
     "name": "stdout",
     "output_type": "stream",
     "text": [
      "TH:  tensor(0.2000, dtype=torch.float64)  - Dice:  tensor(0.4087)\n",
      "TH:  tensor(0.2500, dtype=torch.float64)  - Dice:  tensor(0.4257)\n",
      "TH:  tensor(0.3000, dtype=torch.float64)  - Dice:  tensor(0.4391)\n",
      "TH:  tensor(0.3500, dtype=torch.float64)  - Dice:  tensor(0.4497)\n",
      "TH:  tensor(0.4000, dtype=torch.float64)  - Dice:  tensor(0.4584)\n",
      "TH:  tensor(0.4500, dtype=torch.float64)  - Dice:  tensor(0.4652)\n",
      "TH:  tensor(0.5000, dtype=torch.float64)  - Dice:  tensor(0.4711)\n",
      "TH:  tensor(0.5500, dtype=torch.float64)  - Dice:  tensor(0.4770)\n",
      "TH:  tensor(0.6000, dtype=torch.float64)  - Dice:  tensor(0.4825)\n",
      "TH:  tensor(0.6500, dtype=torch.float64)  - Dice:  tensor(0.4889)\n",
      "TH:  tensor(0.7000, dtype=torch.float64)  - Dice:  tensor(0.4953)\n",
      "TH:  tensor(0.7500, dtype=torch.float64)  - Dice:  tensor(0.4990)\n",
      "TH:  tensor(0.8000, dtype=torch.float64)  - Dice:  tensor(0.4965)\n",
      "Best Threshold: 0.7499999999999998 - Best Dice Score: 0.49900001287460327\n"
     ]
    },
    {
     "name": "stderr",
     "output_type": "stream",
     "text": [
      "`Trainer.fit` stopped: `max_epochs=20` reached.\n",
      "Using 16bit Automatic Mixed Precision (AMP)\n",
      "GPU available: True (cuda), used: True\n",
      "TPU available: False, using: 0 TPU cores\n",
      "IPU available: False, using: 0 IPUs\n",
      "HPU available: False, using: 0 HPUs\n",
      "LOCAL_RANK: 0 - CUDA_VISIBLE_DEVICES: [0]\n",
      "\n",
      "  | Name      | Type              | Params\n",
      "------------------------------------------------\n",
      "0 | model     | SegModel          | 65.8 M\n",
      "1 | dice      | CustomDice        | 0     \n",
      "2 | BCE       | BCEWithLogitsLoss | 0     \n",
      "3 | dice_loss | DiceLoss          | 0     \n",
      "------------------------------------------------\n",
      "65.8 M    Trainable params\n",
      "0         Non-trainable params\n",
      "65.8 M    Total params\n",
      "263.172   Total estimated model params size (MB)\n"
     ]
    },
    {
     "data": {
      "application/vnd.jupyter.widget-view+json": {
       "model_id": "",
       "version_major": 2,
       "version_minor": 0
      },
      "text/plain": [
       "Sanity Checking: 0it [00:00, ?it/s]"
      ]
     },
     "metadata": {},
     "output_type": "display_data"
    },
    {
     "name": "stdout",
     "output_type": "stream",
     "text": [
      "TH:  tensor(0.2000, dtype=torch.float64)  - Dice:  tensor(0.1620)\n",
      "TH:  tensor(0.2500, dtype=torch.float64)  - Dice:  tensor(0.1620)\n",
      "TH:  tensor(0.3000, dtype=torch.float64)  - Dice:  tensor(0.1620)\n",
      "TH:  tensor(0.3500, dtype=torch.float64)  - Dice:  tensor(0.1620)\n",
      "TH:  tensor(0.4000, dtype=torch.float64)  - Dice:  tensor(0.1620)\n",
      "TH:  tensor(0.4500, dtype=torch.float64)  - Dice:  tensor(0.1620)\n",
      "TH:  tensor(0.5000, dtype=torch.float64)  - Dice:  tensor(0.0206)\n",
      "TH:  tensor(0.5500, dtype=torch.float64)  - Dice:  tensor(0.)\n",
      "TH:  tensor(0.6000, dtype=torch.float64)  - Dice:  tensor(0.)\n",
      "TH:  tensor(0.6500, dtype=torch.float64)  - Dice:  tensor(0.)\n",
      "TH:  tensor(0.7000, dtype=torch.float64)  - Dice:  tensor(0.)\n",
      "TH:  tensor(0.7500, dtype=torch.float64)  - Dice:  tensor(0.)\n",
      "TH:  tensor(0.8000, dtype=torch.float64)  - Dice:  tensor(0.)\n",
      "Best Threshold: 0.2 - Best Dice Score: 0.16200000047683716\n"
     ]
    },
    {
     "data": {
      "application/vnd.jupyter.widget-view+json": {
       "model_id": "19ee48541dbb4623a4b31f36d0fba373",
       "version_major": 2,
       "version_minor": 0
      },
      "text/plain": [
       "Training: 0it [00:00, ?it/s]"
      ]
     },
     "metadata": {},
     "output_type": "display_data"
    },
    {
     "data": {
      "application/vnd.jupyter.widget-view+json": {
       "model_id": "",
       "version_major": 2,
       "version_minor": 0
      },
      "text/plain": [
       "Validation: 0it [00:00, ?it/s]"
      ]
     },
     "metadata": {},
     "output_type": "display_data"
    },
    {
     "name": "stdout",
     "output_type": "stream",
     "text": [
      "TH:  tensor(0.2000, dtype=torch.float64)  - Dice:  tensor(0.2316)\n",
      "TH:  tensor(0.2500, dtype=torch.float64)  - Dice:  tensor(0.2329)\n",
      "TH:  tensor(0.3000, dtype=torch.float64)  - Dice:  tensor(0.2341)\n",
      "TH:  tensor(0.3500, dtype=torch.float64)  - Dice:  tensor(0.2352)\n",
      "TH:  tensor(0.4000, dtype=torch.float64)  - Dice:  tensor(0.2363)\n",
      "TH:  tensor(0.4500, dtype=torch.float64)  - Dice:  tensor(0.2375)\n",
      "TH:  tensor(0.5000, dtype=torch.float64)  - Dice:  tensor(0.2387)\n",
      "TH:  tensor(0.5500, dtype=torch.float64)  - Dice:  tensor(0.2402)\n",
      "TH:  tensor(0.6000, dtype=torch.float64)  - Dice:  tensor(0.2428)\n",
      "TH:  tensor(0.6500, dtype=torch.float64)  - Dice:  tensor(0.2486)\n",
      "TH:  tensor(0.7000, dtype=torch.float64)  - Dice:  tensor(0.2526)\n",
      "TH:  tensor(0.7500, dtype=torch.float64)  - Dice:  tensor(0.2345)\n",
      "TH:  tensor(0.8000, dtype=torch.float64)  - Dice:  tensor(0.1771)\n",
      "Best Threshold: 0.7 - Best Dice Score: 0.2529999911785126\n"
     ]
    },
    {
     "data": {
      "application/vnd.jupyter.widget-view+json": {
       "model_id": "",
       "version_major": 2,
       "version_minor": 0
      },
      "text/plain": [
       "Validation: 0it [00:00, ?it/s]"
      ]
     },
     "metadata": {},
     "output_type": "display_data"
    },
    {
     "name": "stdout",
     "output_type": "stream",
     "text": [
      "TH:  tensor(0.2000, dtype=torch.float64)  - Dice:  tensor(0.0052)\n",
      "TH:  tensor(0.2500, dtype=torch.float64)  - Dice:  tensor(0.0006)\n",
      "TH:  tensor(0.3000, dtype=torch.float64)  - Dice:  tensor(9.7900e-06)\n",
      "TH:  tensor(0.3500, dtype=torch.float64)  - Dice:  tensor(0.)\n",
      "TH:  tensor(0.4000, dtype=torch.float64)  - Dice:  tensor(0.)\n",
      "TH:  tensor(0.4500, dtype=torch.float64)  - Dice:  tensor(0.)\n",
      "TH:  tensor(0.5000, dtype=torch.float64)  - Dice:  tensor(0.)\n",
      "TH:  tensor(0.5500, dtype=torch.float64)  - Dice:  tensor(0.)\n",
      "TH:  tensor(0.6000, dtype=torch.float64)  - Dice:  tensor(0.)\n",
      "TH:  tensor(0.6500, dtype=torch.float64)  - Dice:  tensor(0.)\n",
      "TH:  tensor(0.7000, dtype=torch.float64)  - Dice:  tensor(0.)\n",
      "TH:  tensor(0.7500, dtype=torch.float64)  - Dice:  tensor(0.)\n",
      "TH:  tensor(0.8000, dtype=torch.float64)  - Dice:  tensor(0.)\n",
      "Best Threshold: 0.2 - Best Dice Score: 0.004999999888241291\n"
     ]
    },
    {
     "data": {
      "application/vnd.jupyter.widget-view+json": {
       "model_id": "",
       "version_major": 2,
       "version_minor": 0
      },
      "text/plain": [
       "Validation: 0it [00:00, ?it/s]"
      ]
     },
     "metadata": {},
     "output_type": "display_data"
    },
    {
     "name": "stdout",
     "output_type": "stream",
     "text": [
      "TH:  tensor(0.2000, dtype=torch.float64)  - Dice:  tensor(0.0852)\n",
      "TH:  tensor(0.2500, dtype=torch.float64)  - Dice:  tensor(0.0376)\n",
      "TH:  tensor(0.3000, dtype=torch.float64)  - Dice:  tensor(0.0134)\n",
      "TH:  tensor(0.3500, dtype=torch.float64)  - Dice:  tensor(0.0044)\n",
      "TH:  tensor(0.4000, dtype=torch.float64)  - Dice:  tensor(0.0012)\n",
      "TH:  tensor(0.4500, dtype=torch.float64)  - Dice:  tensor(0.0003)\n",
      "TH:  tensor(0.5000, dtype=torch.float64)  - Dice:  tensor(2.2313e-05)\n",
      "TH:  tensor(0.5500, dtype=torch.float64)  - Dice:  tensor(0.)\n",
      "TH:  tensor(0.6000, dtype=torch.float64)  - Dice:  tensor(0.)\n",
      "TH:  tensor(0.6500, dtype=torch.float64)  - Dice:  tensor(0.)\n",
      "TH:  tensor(0.7000, dtype=torch.float64)  - Dice:  tensor(0.)\n",
      "TH:  tensor(0.7500, dtype=torch.float64)  - Dice:  tensor(0.)\n",
      "TH:  tensor(0.8000, dtype=torch.float64)  - Dice:  tensor(0.)\n",
      "Best Threshold: 0.2 - Best Dice Score: 0.08500000089406967\n"
     ]
    },
    {
     "data": {
      "application/vnd.jupyter.widget-view+json": {
       "model_id": "",
       "version_major": 2,
       "version_minor": 0
      },
      "text/plain": [
       "Validation: 0it [00:00, ?it/s]"
      ]
     },
     "metadata": {},
     "output_type": "display_data"
    },
    {
     "name": "stdout",
     "output_type": "stream",
     "text": [
      "TH:  tensor(0.2000, dtype=torch.float64)  - Dice:  tensor(0.0155)\n",
      "TH:  tensor(0.2500, dtype=torch.float64)  - Dice:  tensor(0.0039)\n",
      "TH:  tensor(0.3000, dtype=torch.float64)  - Dice:  tensor(0.0011)\n",
      "TH:  tensor(0.3500, dtype=torch.float64)  - Dice:  tensor(0.0003)\n",
      "TH:  tensor(0.4000, dtype=torch.float64)  - Dice:  tensor(7.5008e-07)\n",
      "TH:  tensor(0.4500, dtype=torch.float64)  - Dice:  tensor(0.)\n",
      "TH:  tensor(0.5000, dtype=torch.float64)  - Dice:  tensor(0.)\n",
      "TH:  tensor(0.5500, dtype=torch.float64)  - Dice:  tensor(0.)\n",
      "TH:  tensor(0.6000, dtype=torch.float64)  - Dice:  tensor(0.)\n",
      "TH:  tensor(0.6500, dtype=torch.float64)  - Dice:  tensor(0.)\n",
      "TH:  tensor(0.7000, dtype=torch.float64)  - Dice:  tensor(0.)\n",
      "TH:  tensor(0.7500, dtype=torch.float64)  - Dice:  tensor(0.)\n",
      "TH:  tensor(0.8000, dtype=torch.float64)  - Dice:  tensor(0.)\n",
      "Best Threshold: 0.2 - Best Dice Score: 0.014999999664723873\n"
     ]
    },
    {
     "data": {
      "application/vnd.jupyter.widget-view+json": {
       "model_id": "",
       "version_major": 2,
       "version_minor": 0
      },
      "text/plain": [
       "Validation: 0it [00:00, ?it/s]"
      ]
     },
     "metadata": {},
     "output_type": "display_data"
    },
    {
     "name": "stdout",
     "output_type": "stream",
     "text": [
      "TH:  tensor(0.2000, dtype=torch.float64)  - Dice:  tensor(0.0041)\n",
      "TH:  tensor(0.2500, dtype=torch.float64)  - Dice:  tensor(0.0004)\n",
      "TH:  tensor(0.3000, dtype=torch.float64)  - Dice:  tensor(1.1685e-05)\n",
      "TH:  tensor(0.3500, dtype=torch.float64)  - Dice:  tensor(0.)\n",
      "TH:  tensor(0.4000, dtype=torch.float64)  - Dice:  tensor(0.)\n",
      "TH:  tensor(0.4500, dtype=torch.float64)  - Dice:  tensor(0.)\n",
      "TH:  tensor(0.5000, dtype=torch.float64)  - Dice:  tensor(0.)\n",
      "TH:  tensor(0.5500, dtype=torch.float64)  - Dice:  tensor(0.)\n",
      "TH:  tensor(0.6000, dtype=torch.float64)  - Dice:  tensor(0.)\n",
      "TH:  tensor(0.6500, dtype=torch.float64)  - Dice:  tensor(0.)\n",
      "TH:  tensor(0.7000, dtype=torch.float64)  - Dice:  tensor(0.)\n",
      "TH:  tensor(0.7500, dtype=torch.float64)  - Dice:  tensor(0.)\n",
      "TH:  tensor(0.8000, dtype=torch.float64)  - Dice:  tensor(0.)\n",
      "Best Threshold: 0.2 - Best Dice Score: 0.004000000189989805\n"
     ]
    },
    {
     "data": {
      "application/vnd.jupyter.widget-view+json": {
       "model_id": "",
       "version_major": 2,
       "version_minor": 0
      },
      "text/plain": [
       "Validation: 0it [00:00, ?it/s]"
      ]
     },
     "metadata": {},
     "output_type": "display_data"
    },
    {
     "name": "stdout",
     "output_type": "stream",
     "text": [
      "TH:  tensor(0.2000, dtype=torch.float64)  - Dice:  tensor(0.2494)\n",
      "TH:  tensor(0.2500, dtype=torch.float64)  - Dice:  tensor(0.2576)\n",
      "TH:  tensor(0.3000, dtype=torch.float64)  - Dice:  tensor(0.2632)\n",
      "TH:  tensor(0.3500, dtype=torch.float64)  - Dice:  tensor(0.2344)\n",
      "TH:  tensor(0.4000, dtype=torch.float64)  - Dice:  tensor(0.1319)\n",
      "TH:  tensor(0.4500, dtype=torch.float64)  - Dice:  tensor(0.0729)\n",
      "TH:  tensor(0.5000, dtype=torch.float64)  - Dice:  tensor(0.0427)\n",
      "TH:  tensor(0.5500, dtype=torch.float64)  - Dice:  tensor(0.0236)\n",
      "TH:  tensor(0.6000, dtype=torch.float64)  - Dice:  tensor(0.0127)\n",
      "TH:  tensor(0.6500, dtype=torch.float64)  - Dice:  tensor(0.0069)\n",
      "TH:  tensor(0.7000, dtype=torch.float64)  - Dice:  tensor(0.0038)\n",
      "TH:  tensor(0.7500, dtype=torch.float64)  - Dice:  tensor(0.0017)\n",
      "TH:  tensor(0.8000, dtype=torch.float64)  - Dice:  tensor(0.0005)\n",
      "Best Threshold: 0.3 - Best Dice Score: 0.2630000114440918\n"
     ]
    },
    {
     "data": {
      "application/vnd.jupyter.widget-view+json": {
       "model_id": "",
       "version_major": 2,
       "version_minor": 0
      },
      "text/plain": [
       "Validation: 0it [00:00, ?it/s]"
      ]
     },
     "metadata": {},
     "output_type": "display_data"
    },
    {
     "name": "stdout",
     "output_type": "stream",
     "text": [
      "TH:  tensor(0.2000, dtype=torch.float64)  - Dice:  tensor(0.2312)\n",
      "TH:  tensor(0.2500, dtype=torch.float64)  - Dice:  tensor(0.2333)\n",
      "TH:  tensor(0.3000, dtype=torch.float64)  - Dice:  tensor(0.2372)\n",
      "TH:  tensor(0.3500, dtype=torch.float64)  - Dice:  tensor(0.1993)\n",
      "TH:  tensor(0.4000, dtype=torch.float64)  - Dice:  tensor(0.0851)\n",
      "TH:  tensor(0.4500, dtype=torch.float64)  - Dice:  tensor(0.0217)\n",
      "TH:  tensor(0.5000, dtype=torch.float64)  - Dice:  tensor(0.0084)\n",
      "TH:  tensor(0.5500, dtype=torch.float64)  - Dice:  tensor(0.0052)\n",
      "TH:  tensor(0.6000, dtype=torch.float64)  - Dice:  tensor(0.0039)\n",
      "TH:  tensor(0.6500, dtype=torch.float64)  - Dice:  tensor(0.0033)\n",
      "TH:  tensor(0.7000, dtype=torch.float64)  - Dice:  tensor(0.0027)\n",
      "TH:  tensor(0.7500, dtype=torch.float64)  - Dice:  tensor(0.0021)\n",
      "TH:  tensor(0.8000, dtype=torch.float64)  - Dice:  tensor(0.0014)\n",
      "Best Threshold: 0.3 - Best Dice Score: 0.2370000034570694\n"
     ]
    },
    {
     "data": {
      "application/vnd.jupyter.widget-view+json": {
       "model_id": "",
       "version_major": 2,
       "version_minor": 0
      },
      "text/plain": [
       "Validation: 0it [00:00, ?it/s]"
      ]
     },
     "metadata": {},
     "output_type": "display_data"
    },
    {
     "name": "stdout",
     "output_type": "stream",
     "text": [
      "TH:  tensor(0.2000, dtype=torch.float64)  - Dice:  tensor(0.2374)\n",
      "TH:  tensor(0.2500, dtype=torch.float64)  - Dice:  tensor(0.2411)\n",
      "TH:  tensor(0.3000, dtype=torch.float64)  - Dice:  tensor(0.2450)\n",
      "TH:  tensor(0.3500, dtype=torch.float64)  - Dice:  tensor(0.2471)\n",
      "TH:  tensor(0.4000, dtype=torch.float64)  - Dice:  tensor(0.2486)\n",
      "TH:  tensor(0.4500, dtype=torch.float64)  - Dice:  tensor(0.2500)\n",
      "TH:  tensor(0.5000, dtype=torch.float64)  - Dice:  tensor(0.2515)\n",
      "TH:  tensor(0.5500, dtype=torch.float64)  - Dice:  tensor(0.2533)\n",
      "TH:  tensor(0.6000, dtype=torch.float64)  - Dice:  tensor(0.2557)\n",
      "TH:  tensor(0.6500, dtype=torch.float64)  - Dice:  tensor(0.2587)\n",
      "TH:  tensor(0.7000, dtype=torch.float64)  - Dice:  tensor(0.2627)\n",
      "TH:  tensor(0.7500, dtype=torch.float64)  - Dice:  tensor(0.2673)\n",
      "TH:  tensor(0.8000, dtype=torch.float64)  - Dice:  tensor(0.2726)\n",
      "Best Threshold: 0.7999999999999998 - Best Dice Score: 0.27300000190734863\n"
     ]
    },
    {
     "data": {
      "application/vnd.jupyter.widget-view+json": {
       "model_id": "",
       "version_major": 2,
       "version_minor": 0
      },
      "text/plain": [
       "Validation: 0it [00:00, ?it/s]"
      ]
     },
     "metadata": {},
     "output_type": "display_data"
    },
    {
     "name": "stdout",
     "output_type": "stream",
     "text": [
      "TH:  tensor(0.2000, dtype=torch.float64)  - Dice:  tensor(0.0082)\n",
      "TH:  tensor(0.2500, dtype=torch.float64)  - Dice:  tensor(0.0010)\n",
      "TH:  tensor(0.3000, dtype=torch.float64)  - Dice:  tensor(7.7697e-05)\n",
      "TH:  tensor(0.3500, dtype=torch.float64)  - Dice:  tensor(2.2457e-07)\n",
      "TH:  tensor(0.4000, dtype=torch.float64)  - Dice:  tensor(0.)\n",
      "TH:  tensor(0.4500, dtype=torch.float64)  - Dice:  tensor(0.)\n",
      "TH:  tensor(0.5000, dtype=torch.float64)  - Dice:  tensor(0.)\n",
      "TH:  tensor(0.5500, dtype=torch.float64)  - Dice:  tensor(0.)\n",
      "TH:  tensor(0.6000, dtype=torch.float64)  - Dice:  tensor(0.)\n",
      "TH:  tensor(0.6500, dtype=torch.float64)  - Dice:  tensor(0.)\n",
      "TH:  tensor(0.7000, dtype=torch.float64)  - Dice:  tensor(0.)\n",
      "TH:  tensor(0.7500, dtype=torch.float64)  - Dice:  tensor(0.)\n",
      "TH:  tensor(0.8000, dtype=torch.float64)  - Dice:  tensor(0.)\n",
      "Best Threshold: 0.2 - Best Dice Score: 0.00800000037997961\n"
     ]
    },
    {
     "data": {
      "application/vnd.jupyter.widget-view+json": {
       "model_id": "",
       "version_major": 2,
       "version_minor": 0
      },
      "text/plain": [
       "Validation: 0it [00:00, ?it/s]"
      ]
     },
     "metadata": {},
     "output_type": "display_data"
    },
    {
     "name": "stdout",
     "output_type": "stream",
     "text": [
      "TH:  tensor(0.2000, dtype=torch.float64)  - Dice:  tensor(0.2830)\n",
      "TH:  tensor(0.2500, dtype=torch.float64)  - Dice:  tensor(0.2921)\n",
      "TH:  tensor(0.3000, dtype=torch.float64)  - Dice:  tensor(0.2949)\n",
      "TH:  tensor(0.3500, dtype=torch.float64)  - Dice:  tensor(0.2949)\n",
      "TH:  tensor(0.4000, dtype=torch.float64)  - Dice:  tensor(0.2932)\n",
      "TH:  tensor(0.4500, dtype=torch.float64)  - Dice:  tensor(0.2902)\n",
      "TH:  tensor(0.5000, dtype=torch.float64)  - Dice:  tensor(0.2857)\n",
      "TH:  tensor(0.5500, dtype=torch.float64)  - Dice:  tensor(0.2805)\n",
      "TH:  tensor(0.6000, dtype=torch.float64)  - Dice:  tensor(0.2738)\n",
      "TH:  tensor(0.6500, dtype=torch.float64)  - Dice:  tensor(0.2653)\n",
      "TH:  tensor(0.7000, dtype=torch.float64)  - Dice:  tensor(0.2535)\n",
      "TH:  tensor(0.7500, dtype=torch.float64)  - Dice:  tensor(0.2360)\n",
      "TH:  tensor(0.8000, dtype=torch.float64)  - Dice:  tensor(0.2071)\n",
      "Best Threshold: 0.3 - Best Dice Score: 0.29499998688697815\n"
     ]
    },
    {
     "data": {
      "application/vnd.jupyter.widget-view+json": {
       "model_id": "",
       "version_major": 2,
       "version_minor": 0
      },
      "text/plain": [
       "Validation: 0it [00:00, ?it/s]"
      ]
     },
     "metadata": {},
     "output_type": "display_data"
    },
    {
     "name": "stdout",
     "output_type": "stream",
     "text": [
      "TH:  tensor(0.2000, dtype=torch.float64)  - Dice:  tensor(0.1303)\n",
      "TH:  tensor(0.2500, dtype=torch.float64)  - Dice:  tensor(0.0745)\n",
      "TH:  tensor(0.3000, dtype=torch.float64)  - Dice:  tensor(0.0522)\n",
      "TH:  tensor(0.3500, dtype=torch.float64)  - Dice:  tensor(0.0398)\n",
      "TH:  tensor(0.4000, dtype=torch.float64)  - Dice:  tensor(0.0300)\n",
      "TH:  tensor(0.4500, dtype=torch.float64)  - Dice:  tensor(0.0230)\n",
      "TH:  tensor(0.5000, dtype=torch.float64)  - Dice:  tensor(0.0178)\n",
      "TH:  tensor(0.5500, dtype=torch.float64)  - Dice:  tensor(0.0134)\n",
      "TH:  tensor(0.6000, dtype=torch.float64)  - Dice:  tensor(0.0094)\n",
      "TH:  tensor(0.6500, dtype=torch.float64)  - Dice:  tensor(0.0061)\n",
      "TH:  tensor(0.7000, dtype=torch.float64)  - Dice:  tensor(0.0035)\n",
      "TH:  tensor(0.7500, dtype=torch.float64)  - Dice:  tensor(0.0016)\n",
      "TH:  tensor(0.8000, dtype=torch.float64)  - Dice:  tensor(0.0006)\n",
      "Best Threshold: 0.2 - Best Dice Score: 0.12999999523162842\n"
     ]
    },
    {
     "data": {
      "application/vnd.jupyter.widget-view+json": {
       "model_id": "",
       "version_major": 2,
       "version_minor": 0
      },
      "text/plain": [
       "Validation: 0it [00:00, ?it/s]"
      ]
     },
     "metadata": {},
     "output_type": "display_data"
    },
    {
     "name": "stdout",
     "output_type": "stream",
     "text": [
      "TH:  tensor(0.2000, dtype=torch.float64)  - Dice:  tensor(0.2586)\n",
      "TH:  tensor(0.2500, dtype=torch.float64)  - Dice:  tensor(0.2704)\n",
      "TH:  tensor(0.3000, dtype=torch.float64)  - Dice:  tensor(0.2823)\n",
      "TH:  tensor(0.3500, dtype=torch.float64)  - Dice:  tensor(0.2926)\n",
      "TH:  tensor(0.4000, dtype=torch.float64)  - Dice:  tensor(0.3013)\n",
      "TH:  tensor(0.4500, dtype=torch.float64)  - Dice:  tensor(0.3066)\n",
      "TH:  tensor(0.5000, dtype=torch.float64)  - Dice:  tensor(0.3094)\n",
      "TH:  tensor(0.5500, dtype=torch.float64)  - Dice:  tensor(0.3097)\n",
      "TH:  tensor(0.6000, dtype=torch.float64)  - Dice:  tensor(0.3064)\n",
      "TH:  tensor(0.6500, dtype=torch.float64)  - Dice:  tensor(0.2983)\n",
      "TH:  tensor(0.7000, dtype=torch.float64)  - Dice:  tensor(0.2840)\n",
      "TH:  tensor(0.7500, dtype=torch.float64)  - Dice:  tensor(0.2582)\n",
      "TH:  tensor(0.8000, dtype=torch.float64)  - Dice:  tensor(0.2181)\n",
      "Best Threshold: 0.5499999999999999 - Best Dice Score: 0.3100000023841858\n"
     ]
    },
    {
     "data": {
      "application/vnd.jupyter.widget-view+json": {
       "model_id": "",
       "version_major": 2,
       "version_minor": 0
      },
      "text/plain": [
       "Validation: 0it [00:00, ?it/s]"
      ]
     },
     "metadata": {},
     "output_type": "display_data"
    },
    {
     "name": "stdout",
     "output_type": "stream",
     "text": [
      "TH:  tensor(0.2000, dtype=torch.float64)  - Dice:  tensor(0.2334)\n",
      "TH:  tensor(0.2500, dtype=torch.float64)  - Dice:  tensor(0.2352)\n",
      "TH:  tensor(0.3000, dtype=torch.float64)  - Dice:  tensor(0.2368)\n",
      "TH:  tensor(0.3500, dtype=torch.float64)  - Dice:  tensor(0.2381)\n",
      "TH:  tensor(0.4000, dtype=torch.float64)  - Dice:  tensor(0.2392)\n",
      "TH:  tensor(0.4500, dtype=torch.float64)  - Dice:  tensor(0.2401)\n",
      "TH:  tensor(0.5000, dtype=torch.float64)  - Dice:  tensor(0.2411)\n",
      "TH:  tensor(0.5500, dtype=torch.float64)  - Dice:  tensor(0.2422)\n",
      "TH:  tensor(0.6000, dtype=torch.float64)  - Dice:  tensor(0.2435)\n",
      "TH:  tensor(0.6500, dtype=torch.float64)  - Dice:  tensor(0.2454)\n",
      "TH:  tensor(0.7000, dtype=torch.float64)  - Dice:  tensor(0.2477)\n",
      "TH:  tensor(0.7500, dtype=torch.float64)  - Dice:  tensor(0.2508)\n",
      "TH:  tensor(0.8000, dtype=torch.float64)  - Dice:  tensor(0.2548)\n",
      "Best Threshold: 0.7999999999999998 - Best Dice Score: 0.2549999952316284\n"
     ]
    },
    {
     "data": {
      "application/vnd.jupyter.widget-view+json": {
       "model_id": "",
       "version_major": 2,
       "version_minor": 0
      },
      "text/plain": [
       "Validation: 0it [00:00, ?it/s]"
      ]
     },
     "metadata": {},
     "output_type": "display_data"
    },
    {
     "name": "stdout",
     "output_type": "stream",
     "text": [
      "TH:  tensor(0.2000, dtype=torch.float64)  - Dice:  tensor(0.1399)\n",
      "TH:  tensor(0.2500, dtype=torch.float64)  - Dice:  tensor(0.0922)\n",
      "TH:  tensor(0.3000, dtype=torch.float64)  - Dice:  tensor(0.0623)\n",
      "TH:  tensor(0.3500, dtype=torch.float64)  - Dice:  tensor(0.0429)\n",
      "TH:  tensor(0.4000, dtype=torch.float64)  - Dice:  tensor(0.0308)\n",
      "TH:  tensor(0.4500, dtype=torch.float64)  - Dice:  tensor(0.0229)\n",
      "TH:  tensor(0.5000, dtype=torch.float64)  - Dice:  tensor(0.0173)\n",
      "TH:  tensor(0.5500, dtype=torch.float64)  - Dice:  tensor(0.0127)\n",
      "TH:  tensor(0.6000, dtype=torch.float64)  - Dice:  tensor(0.0090)\n",
      "TH:  tensor(0.6500, dtype=torch.float64)  - Dice:  tensor(0.0062)\n",
      "TH:  tensor(0.7000, dtype=torch.float64)  - Dice:  tensor(0.0040)\n",
      "TH:  tensor(0.7500, dtype=torch.float64)  - Dice:  tensor(0.0024)\n",
      "TH:  tensor(0.8000, dtype=torch.float64)  - Dice:  tensor(0.0012)\n",
      "Best Threshold: 0.2 - Best Dice Score: 0.14000000059604645\n"
     ]
    },
    {
     "data": {
      "application/vnd.jupyter.widget-view+json": {
       "model_id": "",
       "version_major": 2,
       "version_minor": 0
      },
      "text/plain": [
       "Validation: 0it [00:00, ?it/s]"
      ]
     },
     "metadata": {},
     "output_type": "display_data"
    },
    {
     "name": "stdout",
     "output_type": "stream",
     "text": [
      "TH:  tensor(0.2000, dtype=torch.float64)  - Dice:  tensor(0.3415)\n",
      "TH:  tensor(0.2500, dtype=torch.float64)  - Dice:  tensor(0.3227)\n",
      "TH:  tensor(0.3000, dtype=torch.float64)  - Dice:  tensor(0.3012)\n",
      "TH:  tensor(0.3500, dtype=torch.float64)  - Dice:  tensor(0.2804)\n",
      "TH:  tensor(0.4000, dtype=torch.float64)  - Dice:  tensor(0.2611)\n",
      "TH:  tensor(0.4500, dtype=torch.float64)  - Dice:  tensor(0.2418)\n",
      "TH:  tensor(0.5000, dtype=torch.float64)  - Dice:  tensor(0.2218)\n",
      "TH:  tensor(0.5500, dtype=torch.float64)  - Dice:  tensor(0.2000)\n",
      "TH:  tensor(0.6000, dtype=torch.float64)  - Dice:  tensor(0.1763)\n",
      "TH:  tensor(0.6500, dtype=torch.float64)  - Dice:  tensor(0.1502)\n",
      "TH:  tensor(0.7000, dtype=torch.float64)  - Dice:  tensor(0.1211)\n",
      "TH:  tensor(0.7500, dtype=torch.float64)  - Dice:  tensor(0.0917)\n",
      "TH:  tensor(0.8000, dtype=torch.float64)  - Dice:  tensor(0.0643)\n",
      "Best Threshold: 0.2 - Best Dice Score: 0.34200000762939453\n"
     ]
    },
    {
     "data": {
      "application/vnd.jupyter.widget-view+json": {
       "model_id": "",
       "version_major": 2,
       "version_minor": 0
      },
      "text/plain": [
       "Validation: 0it [00:00, ?it/s]"
      ]
     },
     "metadata": {},
     "output_type": "display_data"
    },
    {
     "name": "stdout",
     "output_type": "stream",
     "text": [
      "TH:  tensor(0.2000, dtype=torch.float64)  - Dice:  tensor(0.2344)\n",
      "TH:  tensor(0.2500, dtype=torch.float64)  - Dice:  tensor(0.2357)\n",
      "TH:  tensor(0.3000, dtype=torch.float64)  - Dice:  tensor(0.2374)\n",
      "TH:  tensor(0.3500, dtype=torch.float64)  - Dice:  tensor(0.2389)\n",
      "TH:  tensor(0.4000, dtype=torch.float64)  - Dice:  tensor(0.2403)\n",
      "TH:  tensor(0.4500, dtype=torch.float64)  - Dice:  tensor(0.2416)\n",
      "TH:  tensor(0.5000, dtype=torch.float64)  - Dice:  tensor(0.2431)\n",
      "TH:  tensor(0.5500, dtype=torch.float64)  - Dice:  tensor(0.2447)\n",
      "TH:  tensor(0.6000, dtype=torch.float64)  - Dice:  tensor(0.2466)\n",
      "TH:  tensor(0.6500, dtype=torch.float64)  - Dice:  tensor(0.2485)\n",
      "TH:  tensor(0.7000, dtype=torch.float64)  - Dice:  tensor(0.2506)\n",
      "TH:  tensor(0.7500, dtype=torch.float64)  - Dice:  tensor(0.2531)\n",
      "TH:  tensor(0.8000, dtype=torch.float64)  - Dice:  tensor(0.2562)\n",
      "Best Threshold: 0.7999999999999998 - Best Dice Score: 0.25600001215934753\n"
     ]
    },
    {
     "data": {
      "application/vnd.jupyter.widget-view+json": {
       "model_id": "",
       "version_major": 2,
       "version_minor": 0
      },
      "text/plain": [
       "Validation: 0it [00:00, ?it/s]"
      ]
     },
     "metadata": {},
     "output_type": "display_data"
    },
    {
     "name": "stdout",
     "output_type": "stream",
     "text": [
      "TH:  tensor(0.2000, dtype=torch.float64)  - Dice:  tensor(0.3363)\n",
      "TH:  tensor(0.2500, dtype=torch.float64)  - Dice:  tensor(0.3335)\n",
      "TH:  tensor(0.3000, dtype=torch.float64)  - Dice:  tensor(0.3277)\n",
      "TH:  tensor(0.3500, dtype=torch.float64)  - Dice:  tensor(0.3189)\n",
      "TH:  tensor(0.4000, dtype=torch.float64)  - Dice:  tensor(0.3070)\n",
      "TH:  tensor(0.4500, dtype=torch.float64)  - Dice:  tensor(0.2938)\n",
      "TH:  tensor(0.5000, dtype=torch.float64)  - Dice:  tensor(0.2772)\n",
      "TH:  tensor(0.5500, dtype=torch.float64)  - Dice:  tensor(0.2557)\n",
      "TH:  tensor(0.6000, dtype=torch.float64)  - Dice:  tensor(0.2292)\n",
      "TH:  tensor(0.6500, dtype=torch.float64)  - Dice:  tensor(0.1983)\n",
      "TH:  tensor(0.7000, dtype=torch.float64)  - Dice:  tensor(0.1643)\n",
      "TH:  tensor(0.7500, dtype=torch.float64)  - Dice:  tensor(0.1277)\n",
      "TH:  tensor(0.8000, dtype=torch.float64)  - Dice:  tensor(0.0885)\n",
      "Best Threshold: 0.2 - Best Dice Score: 0.335999995470047\n"
     ]
    },
    {
     "data": {
      "application/vnd.jupyter.widget-view+json": {
       "model_id": "",
       "version_major": 2,
       "version_minor": 0
      },
      "text/plain": [
       "Validation: 0it [00:00, ?it/s]"
      ]
     },
     "metadata": {},
     "output_type": "display_data"
    },
    {
     "name": "stdout",
     "output_type": "stream",
     "text": [
      "TH:  tensor(0.2000, dtype=torch.float64)  - Dice:  tensor(0.3915)\n",
      "TH:  tensor(0.2500, dtype=torch.float64)  - Dice:  tensor(0.3772)\n",
      "TH:  tensor(0.3000, dtype=torch.float64)  - Dice:  tensor(0.3529)\n",
      "TH:  tensor(0.3500, dtype=torch.float64)  - Dice:  tensor(0.3242)\n",
      "TH:  tensor(0.4000, dtype=torch.float64)  - Dice:  tensor(0.2952)\n",
      "TH:  tensor(0.4500, dtype=torch.float64)  - Dice:  tensor(0.2647)\n",
      "TH:  tensor(0.5000, dtype=torch.float64)  - Dice:  tensor(0.2307)\n",
      "TH:  tensor(0.5500, dtype=torch.float64)  - Dice:  tensor(0.1959)\n",
      "TH:  tensor(0.6000, dtype=torch.float64)  - Dice:  tensor(0.1614)\n",
      "TH:  tensor(0.6500, dtype=torch.float64)  - Dice:  tensor(0.1294)\n",
      "TH:  tensor(0.7000, dtype=torch.float64)  - Dice:  tensor(0.0983)\n",
      "TH:  tensor(0.7500, dtype=torch.float64)  - Dice:  tensor(0.0710)\n",
      "TH:  tensor(0.8000, dtype=torch.float64)  - Dice:  tensor(0.0475)\n",
      "Best Threshold: 0.2 - Best Dice Score: 0.39100000262260437\n"
     ]
    },
    {
     "data": {
      "application/vnd.jupyter.widget-view+json": {
       "model_id": "",
       "version_major": 2,
       "version_minor": 0
      },
      "text/plain": [
       "Validation: 0it [00:00, ?it/s]"
      ]
     },
     "metadata": {},
     "output_type": "display_data"
    },
    {
     "name": "stdout",
     "output_type": "stream",
     "text": [
      "TH:  tensor(0.2000, dtype=torch.float64)  - Dice:  tensor(0.4067)\n",
      "TH:  tensor(0.2500, dtype=torch.float64)  - Dice:  tensor(0.3907)\n",
      "TH:  tensor(0.3000, dtype=torch.float64)  - Dice:  tensor(0.3708)\n",
      "TH:  tensor(0.3500, dtype=torch.float64)  - Dice:  tensor(0.3479)\n",
      "TH:  tensor(0.4000, dtype=torch.float64)  - Dice:  tensor(0.3255)\n",
      "TH:  tensor(0.4500, dtype=torch.float64)  - Dice:  tensor(0.3011)\n",
      "TH:  tensor(0.5000, dtype=torch.float64)  - Dice:  tensor(0.2735)\n",
      "TH:  tensor(0.5500, dtype=torch.float64)  - Dice:  tensor(0.2428)\n",
      "TH:  tensor(0.6000, dtype=torch.float64)  - Dice:  tensor(0.2088)\n",
      "TH:  tensor(0.6500, dtype=torch.float64)  - Dice:  tensor(0.1745)\n",
      "TH:  tensor(0.7000, dtype=torch.float64)  - Dice:  tensor(0.1375)\n",
      "TH:  tensor(0.7500, dtype=torch.float64)  - Dice:  tensor(0.1001)\n",
      "TH:  tensor(0.8000, dtype=torch.float64)  - Dice:  tensor(0.0656)\n",
      "Best Threshold: 0.2 - Best Dice Score: 0.40700000524520874\n"
     ]
    },
    {
     "data": {
      "application/vnd.jupyter.widget-view+json": {
       "model_id": "",
       "version_major": 2,
       "version_minor": 0
      },
      "text/plain": [
       "Validation: 0it [00:00, ?it/s]"
      ]
     },
     "metadata": {},
     "output_type": "display_data"
    },
    {
     "name": "stdout",
     "output_type": "stream",
     "text": [
      "TH:  tensor(0.2000, dtype=torch.float64)  - Dice:  tensor(0.3785)\n",
      "TH:  tensor(0.2500, dtype=torch.float64)  - Dice:  tensor(0.3488)\n",
      "TH:  tensor(0.3000, dtype=torch.float64)  - Dice:  tensor(0.3179)\n",
      "TH:  tensor(0.3500, dtype=torch.float64)  - Dice:  tensor(0.2867)\n",
      "TH:  tensor(0.4000, dtype=torch.float64)  - Dice:  tensor(0.2550)\n",
      "TH:  tensor(0.4500, dtype=torch.float64)  - Dice:  tensor(0.2242)\n",
      "TH:  tensor(0.5000, dtype=torch.float64)  - Dice:  tensor(0.1930)\n",
      "TH:  tensor(0.5500, dtype=torch.float64)  - Dice:  tensor(0.1627)\n",
      "TH:  tensor(0.6000, dtype=torch.float64)  - Dice:  tensor(0.1355)\n",
      "TH:  tensor(0.6500, dtype=torch.float64)  - Dice:  tensor(0.1107)\n",
      "TH:  tensor(0.7000, dtype=torch.float64)  - Dice:  tensor(0.0870)\n",
      "TH:  tensor(0.7500, dtype=torch.float64)  - Dice:  tensor(0.0652)\n",
      "TH:  tensor(0.8000, dtype=torch.float64)  - Dice:  tensor(0.0455)\n",
      "Best Threshold: 0.2 - Best Dice Score: 0.3779999911785126\n"
     ]
    },
    {
     "name": "stderr",
     "output_type": "stream",
     "text": [
      "`Trainer.fit` stopped: `max_epochs=20` reached.\n",
      "Using 16bit Automatic Mixed Precision (AMP)\n",
      "GPU available: True (cuda), used: True\n",
      "TPU available: False, using: 0 TPU cores\n",
      "IPU available: False, using: 0 IPUs\n",
      "HPU available: False, using: 0 HPUs\n",
      "LOCAL_RANK: 0 - CUDA_VISIBLE_DEVICES: [0]\n",
      "\n",
      "  | Name      | Type              | Params\n",
      "------------------------------------------------\n",
      "0 | model     | SegModel          | 65.8 M\n",
      "1 | dice      | CustomDice        | 0     \n",
      "2 | BCE       | BCEWithLogitsLoss | 0     \n",
      "3 | dice_loss | DiceLoss          | 0     \n",
      "------------------------------------------------\n",
      "65.8 M    Trainable params\n",
      "0         Non-trainable params\n",
      "65.8 M    Total params\n",
      "263.172   Total estimated model params size (MB)\n"
     ]
    },
    {
     "data": {
      "application/vnd.jupyter.widget-view+json": {
       "model_id": "",
       "version_major": 2,
       "version_minor": 0
      },
      "text/plain": [
       "Sanity Checking: 0it [00:00, ?it/s]"
      ]
     },
     "metadata": {},
     "output_type": "display_data"
    },
    {
     "name": "stdout",
     "output_type": "stream",
     "text": [
      "TH:  tensor(0.2000, dtype=torch.float64)  - Dice:  tensor(0.0873)\n",
      "TH:  tensor(0.2500, dtype=torch.float64)  - Dice:  tensor(0.0873)\n",
      "TH:  tensor(0.3000, dtype=torch.float64)  - Dice:  tensor(0.0873)\n",
      "TH:  tensor(0.3500, dtype=torch.float64)  - Dice:  tensor(0.0873)\n",
      "TH:  tensor(0.4000, dtype=torch.float64)  - Dice:  tensor(0.0873)\n",
      "TH:  tensor(0.4500, dtype=torch.float64)  - Dice:  tensor(0.0873)\n",
      "TH:  tensor(0.5000, dtype=torch.float64)  - Dice:  tensor(0.0282)\n",
      "TH:  tensor(0.5500, dtype=torch.float64)  - Dice:  tensor(0.)\n",
      "TH:  tensor(0.6000, dtype=torch.float64)  - Dice:  tensor(0.)\n",
      "TH:  tensor(0.6500, dtype=torch.float64)  - Dice:  tensor(0.)\n",
      "TH:  tensor(0.7000, dtype=torch.float64)  - Dice:  tensor(0.)\n",
      "TH:  tensor(0.7500, dtype=torch.float64)  - Dice:  tensor(0.)\n",
      "TH:  tensor(0.8000, dtype=torch.float64)  - Dice:  tensor(0.)\n",
      "Best Threshold: 0.2 - Best Dice Score: 0.08699999749660492\n"
     ]
    },
    {
     "data": {
      "application/vnd.jupyter.widget-view+json": {
       "model_id": "8716b96999f74d88bc033e968b5c9538",
       "version_major": 2,
       "version_minor": 0
      },
      "text/plain": [
       "Training: 0it [00:00, ?it/s]"
      ]
     },
     "metadata": {},
     "output_type": "display_data"
    },
    {
     "data": {
      "application/vnd.jupyter.widget-view+json": {
       "model_id": "",
       "version_major": 2,
       "version_minor": 0
      },
      "text/plain": [
       "Validation: 0it [00:00, ?it/s]"
      ]
     },
     "metadata": {},
     "output_type": "display_data"
    },
    {
     "name": "stdout",
     "output_type": "stream",
     "text": [
      "TH:  tensor(0.2000, dtype=torch.float64)  - Dice:  tensor(0.1879)\n",
      "TH:  tensor(0.2500, dtype=torch.float64)  - Dice:  tensor(0.1893)\n",
      "TH:  tensor(0.3000, dtype=torch.float64)  - Dice:  tensor(0.1911)\n",
      "TH:  tensor(0.3500, dtype=torch.float64)  - Dice:  tensor(0.1935)\n",
      "TH:  tensor(0.4000, dtype=torch.float64)  - Dice:  tensor(0.1958)\n",
      "TH:  tensor(0.4500, dtype=torch.float64)  - Dice:  tensor(0.1976)\n",
      "TH:  tensor(0.5000, dtype=torch.float64)  - Dice:  tensor(0.1989)\n",
      "TH:  tensor(0.5500, dtype=torch.float64)  - Dice:  tensor(0.2006)\n",
      "TH:  tensor(0.6000, dtype=torch.float64)  - Dice:  tensor(0.2025)\n",
      "TH:  tensor(0.6500, dtype=torch.float64)  - Dice:  tensor(0.2047)\n",
      "TH:  tensor(0.7000, dtype=torch.float64)  - Dice:  tensor(0.2072)\n",
      "TH:  tensor(0.7500, dtype=torch.float64)  - Dice:  tensor(0.2169)\n",
      "TH:  tensor(0.8000, dtype=torch.float64)  - Dice:  tensor(0.2281)\n",
      "Best Threshold: 0.7999999999999998 - Best Dice Score: 0.2280000001192093\n"
     ]
    },
    {
     "data": {
      "application/vnd.jupyter.widget-view+json": {
       "model_id": "",
       "version_major": 2,
       "version_minor": 0
      },
      "text/plain": [
       "Validation: 0it [00:00, ?it/s]"
      ]
     },
     "metadata": {},
     "output_type": "display_data"
    },
    {
     "name": "stdout",
     "output_type": "stream",
     "text": [
      "TH:  tensor(0.2000, dtype=torch.float64)  - Dice:  tensor(0.1862)\n",
      "TH:  tensor(0.2500, dtype=torch.float64)  - Dice:  tensor(0.1871)\n",
      "TH:  tensor(0.3000, dtype=torch.float64)  - Dice:  tensor(0.1887)\n",
      "TH:  tensor(0.3500, dtype=torch.float64)  - Dice:  tensor(0.1930)\n",
      "TH:  tensor(0.4000, dtype=torch.float64)  - Dice:  tensor(0.1963)\n",
      "TH:  tensor(0.4500, dtype=torch.float64)  - Dice:  tensor(0.2016)\n",
      "TH:  tensor(0.5000, dtype=torch.float64)  - Dice:  tensor(0.2115)\n",
      "TH:  tensor(0.5500, dtype=torch.float64)  - Dice:  tensor(0.2275)\n",
      "TH:  tensor(0.6000, dtype=torch.float64)  - Dice:  tensor(0.2379)\n",
      "TH:  tensor(0.6500, dtype=torch.float64)  - Dice:  tensor(0.2406)\n",
      "TH:  tensor(0.7000, dtype=torch.float64)  - Dice:  tensor(0.2432)\n",
      "TH:  tensor(0.7500, dtype=torch.float64)  - Dice:  tensor(0.2483)\n",
      "TH:  tensor(0.8000, dtype=torch.float64)  - Dice:  tensor(0.2589)\n",
      "Best Threshold: 0.7999999999999998 - Best Dice Score: 0.2590000033378601\n"
     ]
    },
    {
     "data": {
      "application/vnd.jupyter.widget-view+json": {
       "model_id": "",
       "version_major": 2,
       "version_minor": 0
      },
      "text/plain": [
       "Validation: 0it [00:00, ?it/s]"
      ]
     },
     "metadata": {},
     "output_type": "display_data"
    },
    {
     "name": "stdout",
     "output_type": "stream",
     "text": [
      "TH:  tensor(0.2000, dtype=torch.float64)  - Dice:  tensor(0.0272)\n",
      "TH:  tensor(0.2500, dtype=torch.float64)  - Dice:  tensor(0.0086)\n",
      "TH:  tensor(0.3000, dtype=torch.float64)  - Dice:  tensor(0.0047)\n",
      "TH:  tensor(0.3500, dtype=torch.float64)  - Dice:  tensor(0.0030)\n",
      "TH:  tensor(0.4000, dtype=torch.float64)  - Dice:  tensor(0.0012)\n",
      "TH:  tensor(0.4500, dtype=torch.float64)  - Dice:  tensor(0.)\n",
      "TH:  tensor(0.5000, dtype=torch.float64)  - Dice:  tensor(0.)\n",
      "TH:  tensor(0.5500, dtype=torch.float64)  - Dice:  tensor(0.)\n",
      "TH:  tensor(0.6000, dtype=torch.float64)  - Dice:  tensor(0.)\n",
      "TH:  tensor(0.6500, dtype=torch.float64)  - Dice:  tensor(0.)\n",
      "TH:  tensor(0.7000, dtype=torch.float64)  - Dice:  tensor(0.)\n",
      "TH:  tensor(0.7500, dtype=torch.float64)  - Dice:  tensor(0.)\n",
      "TH:  tensor(0.8000, dtype=torch.float64)  - Dice:  tensor(0.)\n",
      "Best Threshold: 0.2 - Best Dice Score: 0.027000000700354576\n"
     ]
    },
    {
     "data": {
      "application/vnd.jupyter.widget-view+json": {
       "model_id": "",
       "version_major": 2,
       "version_minor": 0
      },
      "text/plain": [
       "Validation: 0it [00:00, ?it/s]"
      ]
     },
     "metadata": {},
     "output_type": "display_data"
    },
    {
     "name": "stdout",
     "output_type": "stream",
     "text": [
      "TH:  tensor(0.2000, dtype=torch.float64)  - Dice:  tensor(0.1859)\n",
      "TH:  tensor(0.2500, dtype=torch.float64)  - Dice:  tensor(0.1865)\n",
      "TH:  tensor(0.3000, dtype=torch.float64)  - Dice:  tensor(0.1872)\n",
      "TH:  tensor(0.3500, dtype=torch.float64)  - Dice:  tensor(0.1878)\n",
      "TH:  tensor(0.4000, dtype=torch.float64)  - Dice:  tensor(0.1886)\n",
      "TH:  tensor(0.4500, dtype=torch.float64)  - Dice:  tensor(0.1902)\n",
      "TH:  tensor(0.5000, dtype=torch.float64)  - Dice:  tensor(0.1952)\n",
      "TH:  tensor(0.5500, dtype=torch.float64)  - Dice:  tensor(0.1997)\n",
      "TH:  tensor(0.6000, dtype=torch.float64)  - Dice:  tensor(0.2059)\n",
      "TH:  tensor(0.6500, dtype=torch.float64)  - Dice:  tensor(0.2157)\n",
      "TH:  tensor(0.7000, dtype=torch.float64)  - Dice:  tensor(0.2284)\n",
      "TH:  tensor(0.7500, dtype=torch.float64)  - Dice:  tensor(0.2407)\n",
      "TH:  tensor(0.8000, dtype=torch.float64)  - Dice:  tensor(0.2517)\n",
      "Best Threshold: 0.7999999999999998 - Best Dice Score: 0.25200000405311584\n"
     ]
    },
    {
     "data": {
      "application/vnd.jupyter.widget-view+json": {
       "model_id": "",
       "version_major": 2,
       "version_minor": 0
      },
      "text/plain": [
       "Validation: 0it [00:00, ?it/s]"
      ]
     },
     "metadata": {},
     "output_type": "display_data"
    },
    {
     "name": "stdout",
     "output_type": "stream",
     "text": [
      "TH:  tensor(0.2000, dtype=torch.float64)  - Dice:  tensor(0.1872)\n",
      "TH:  tensor(0.2500, dtype=torch.float64)  - Dice:  tensor(0.1897)\n",
      "TH:  tensor(0.3000, dtype=torch.float64)  - Dice:  tensor(0.1934)\n",
      "TH:  tensor(0.3500, dtype=torch.float64)  - Dice:  tensor(0.1968)\n",
      "TH:  tensor(0.4000, dtype=torch.float64)  - Dice:  tensor(0.2037)\n",
      "TH:  tensor(0.4500, dtype=torch.float64)  - Dice:  tensor(0.2163)\n",
      "TH:  tensor(0.5000, dtype=torch.float64)  - Dice:  tensor(0.2279)\n",
      "TH:  tensor(0.5500, dtype=torch.float64)  - Dice:  tensor(0.2368)\n",
      "TH:  tensor(0.6000, dtype=torch.float64)  - Dice:  tensor(0.2429)\n",
      "TH:  tensor(0.6500, dtype=torch.float64)  - Dice:  tensor(0.2514)\n",
      "TH:  tensor(0.7000, dtype=torch.float64)  - Dice:  tensor(0.2621)\n",
      "TH:  tensor(0.7500, dtype=torch.float64)  - Dice:  tensor(0.2761)\n",
      "TH:  tensor(0.8000, dtype=torch.float64)  - Dice:  tensor(0.2862)\n",
      "Best Threshold: 0.7999999999999998 - Best Dice Score: 0.28600001335144043\n"
     ]
    },
    {
     "data": {
      "application/vnd.jupyter.widget-view+json": {
       "model_id": "",
       "version_major": 2,
       "version_minor": 0
      },
      "text/plain": [
       "Validation: 0it [00:00, ?it/s]"
      ]
     },
     "metadata": {},
     "output_type": "display_data"
    },
    {
     "name": "stdout",
     "output_type": "stream",
     "text": [
      "TH:  tensor(0.2000, dtype=torch.float64)  - Dice:  tensor(0.1930)\n",
      "TH:  tensor(0.2500, dtype=torch.float64)  - Dice:  tensor(0.1968)\n",
      "TH:  tensor(0.3000, dtype=torch.float64)  - Dice:  tensor(0.2090)\n",
      "TH:  tensor(0.3500, dtype=torch.float64)  - Dice:  tensor(0.2221)\n",
      "TH:  tensor(0.4000, dtype=torch.float64)  - Dice:  tensor(0.2326)\n",
      "TH:  tensor(0.4500, dtype=torch.float64)  - Dice:  tensor(0.2416)\n",
      "TH:  tensor(0.5000, dtype=torch.float64)  - Dice:  tensor(0.2482)\n",
      "TH:  tensor(0.5500, dtype=torch.float64)  - Dice:  tensor(0.2516)\n",
      "TH:  tensor(0.6000, dtype=torch.float64)  - Dice:  tensor(0.2553)\n",
      "TH:  tensor(0.6500, dtype=torch.float64)  - Dice:  tensor(0.2577)\n",
      "TH:  tensor(0.7000, dtype=torch.float64)  - Dice:  tensor(0.2562)\n",
      "TH:  tensor(0.7500, dtype=torch.float64)  - Dice:  tensor(0.2551)\n",
      "TH:  tensor(0.8000, dtype=torch.float64)  - Dice:  tensor(0.2549)\n",
      "Best Threshold: 0.6499999999999999 - Best Dice Score: 0.257999986410141\n"
     ]
    },
    {
     "data": {
      "application/vnd.jupyter.widget-view+json": {
       "model_id": "",
       "version_major": 2,
       "version_minor": 0
      },
      "text/plain": [
       "Validation: 0it [00:00, ?it/s]"
      ]
     },
     "metadata": {},
     "output_type": "display_data"
    },
    {
     "name": "stdout",
     "output_type": "stream",
     "text": [
      "TH:  tensor(0.2000, dtype=torch.float64)  - Dice:  tensor(0.3183)\n",
      "TH:  tensor(0.2500, dtype=torch.float64)  - Dice:  tensor(0.3264)\n",
      "TH:  tensor(0.3000, dtype=torch.float64)  - Dice:  tensor(0.3305)\n",
      "TH:  tensor(0.3500, dtype=torch.float64)  - Dice:  tensor(0.3296)\n",
      "TH:  tensor(0.4000, dtype=torch.float64)  - Dice:  tensor(0.3242)\n",
      "TH:  tensor(0.4500, dtype=torch.float64)  - Dice:  tensor(0.3145)\n",
      "TH:  tensor(0.5000, dtype=torch.float64)  - Dice:  tensor(0.3038)\n",
      "TH:  tensor(0.5500, dtype=torch.float64)  - Dice:  tensor(0.2941)\n",
      "TH:  tensor(0.6000, dtype=torch.float64)  - Dice:  tensor(0.2830)\n",
      "TH:  tensor(0.6500, dtype=torch.float64)  - Dice:  tensor(0.2699)\n",
      "TH:  tensor(0.7000, dtype=torch.float64)  - Dice:  tensor(0.2515)\n",
      "TH:  tensor(0.7500, dtype=torch.float64)  - Dice:  tensor(0.2298)\n",
      "TH:  tensor(0.8000, dtype=torch.float64)  - Dice:  tensor(0.2078)\n",
      "Best Threshold: 0.3 - Best Dice Score: 0.3310000002384186\n"
     ]
    },
    {
     "data": {
      "application/vnd.jupyter.widget-view+json": {
       "model_id": "",
       "version_major": 2,
       "version_minor": 0
      },
      "text/plain": [
       "Validation: 0it [00:00, ?it/s]"
      ]
     },
     "metadata": {},
     "output_type": "display_data"
    },
    {
     "name": "stdout",
     "output_type": "stream",
     "text": [
      "TH:  tensor(0.2000, dtype=torch.float64)  - Dice:  tensor(0.1993)\n",
      "TH:  tensor(0.2500, dtype=torch.float64)  - Dice:  tensor(0.2099)\n",
      "TH:  tensor(0.3000, dtype=torch.float64)  - Dice:  tensor(0.2227)\n",
      "TH:  tensor(0.3500, dtype=torch.float64)  - Dice:  tensor(0.2333)\n",
      "TH:  tensor(0.4000, dtype=torch.float64)  - Dice:  tensor(0.2438)\n",
      "TH:  tensor(0.4500, dtype=torch.float64)  - Dice:  tensor(0.2528)\n",
      "TH:  tensor(0.5000, dtype=torch.float64)  - Dice:  tensor(0.2629)\n",
      "TH:  tensor(0.5500, dtype=torch.float64)  - Dice:  tensor(0.2748)\n",
      "TH:  tensor(0.6000, dtype=torch.float64)  - Dice:  tensor(0.2892)\n",
      "TH:  tensor(0.6500, dtype=torch.float64)  - Dice:  tensor(0.3033)\n",
      "TH:  tensor(0.7000, dtype=torch.float64)  - Dice:  tensor(0.3197)\n",
      "TH:  tensor(0.7500, dtype=torch.float64)  - Dice:  tensor(0.3353)\n",
      "TH:  tensor(0.8000, dtype=torch.float64)  - Dice:  tensor(0.3538)\n",
      "Best Threshold: 0.7999999999999998 - Best Dice Score: 0.3540000021457672\n"
     ]
    },
    {
     "data": {
      "application/vnd.jupyter.widget-view+json": {
       "model_id": "",
       "version_major": 2,
       "version_minor": 0
      },
      "text/plain": [
       "Validation: 0it [00:00, ?it/s]"
      ]
     },
     "metadata": {},
     "output_type": "display_data"
    },
    {
     "name": "stdout",
     "output_type": "stream",
     "text": [
      "TH:  tensor(0.2000, dtype=torch.float64)  - Dice:  tensor(0.3043)\n",
      "TH:  tensor(0.2500, dtype=torch.float64)  - Dice:  tensor(0.3203)\n",
      "TH:  tensor(0.3000, dtype=torch.float64)  - Dice:  tensor(0.3314)\n",
      "TH:  tensor(0.3500, dtype=torch.float64)  - Dice:  tensor(0.3434)\n",
      "TH:  tensor(0.4000, dtype=torch.float64)  - Dice:  tensor(0.3569)\n",
      "TH:  tensor(0.4500, dtype=torch.float64)  - Dice:  tensor(0.3677)\n",
      "TH:  tensor(0.5000, dtype=torch.float64)  - Dice:  tensor(0.3748)\n",
      "TH:  tensor(0.5500, dtype=torch.float64)  - Dice:  tensor(0.3788)\n",
      "TH:  tensor(0.6000, dtype=torch.float64)  - Dice:  tensor(0.3799)\n",
      "TH:  tensor(0.6500, dtype=torch.float64)  - Dice:  tensor(0.3760)\n",
      "TH:  tensor(0.7000, dtype=torch.float64)  - Dice:  tensor(0.3622)\n",
      "TH:  tensor(0.7500, dtype=torch.float64)  - Dice:  tensor(0.3392)\n",
      "TH:  tensor(0.8000, dtype=torch.float64)  - Dice:  tensor(0.3140)\n",
      "Best Threshold: 0.5999999999999999 - Best Dice Score: 0.3799999952316284\n"
     ]
    },
    {
     "data": {
      "application/vnd.jupyter.widget-view+json": {
       "model_id": "",
       "version_major": 2,
       "version_minor": 0
      },
      "text/plain": [
       "Validation: 0it [00:00, ?it/s]"
      ]
     },
     "metadata": {},
     "output_type": "display_data"
    },
    {
     "name": "stdout",
     "output_type": "stream",
     "text": [
      "TH:  tensor(0.2000, dtype=torch.float64)  - Dice:  tensor(0.2356)\n",
      "TH:  tensor(0.2500, dtype=torch.float64)  - Dice:  tensor(0.2534)\n",
      "TH:  tensor(0.3000, dtype=torch.float64)  - Dice:  tensor(0.2712)\n",
      "TH:  tensor(0.3500, dtype=torch.float64)  - Dice:  tensor(0.2908)\n",
      "TH:  tensor(0.4000, dtype=torch.float64)  - Dice:  tensor(0.3148)\n",
      "TH:  tensor(0.4500, dtype=torch.float64)  - Dice:  tensor(0.3389)\n",
      "TH:  tensor(0.5000, dtype=torch.float64)  - Dice:  tensor(0.3573)\n",
      "TH:  tensor(0.5500, dtype=torch.float64)  - Dice:  tensor(0.3740)\n",
      "TH:  tensor(0.6000, dtype=torch.float64)  - Dice:  tensor(0.3886)\n",
      "TH:  tensor(0.6500, dtype=torch.float64)  - Dice:  tensor(0.4033)\n",
      "TH:  tensor(0.7000, dtype=torch.float64)  - Dice:  tensor(0.4220)\n",
      "TH:  tensor(0.7500, dtype=torch.float64)  - Dice:  tensor(0.4411)\n",
      "TH:  tensor(0.8000, dtype=torch.float64)  - Dice:  tensor(0.4447)\n",
      "Best Threshold: 0.7999999999999998 - Best Dice Score: 0.4449999928474426\n"
     ]
    },
    {
     "data": {
      "application/vnd.jupyter.widget-view+json": {
       "model_id": "",
       "version_major": 2,
       "version_minor": 0
      },
      "text/plain": [
       "Validation: 0it [00:00, ?it/s]"
      ]
     },
     "metadata": {},
     "output_type": "display_data"
    },
    {
     "name": "stdout",
     "output_type": "stream",
     "text": [
      "TH:  tensor(0.2000, dtype=torch.float64)  - Dice:  tensor(0.3529)\n",
      "TH:  tensor(0.2500, dtype=torch.float64)  - Dice:  tensor(0.2942)\n",
      "TH:  tensor(0.3000, dtype=torch.float64)  - Dice:  tensor(0.1996)\n",
      "TH:  tensor(0.3500, dtype=torch.float64)  - Dice:  tensor(0.1225)\n",
      "TH:  tensor(0.4000, dtype=torch.float64)  - Dice:  tensor(0.0815)\n",
      "TH:  tensor(0.4500, dtype=torch.float64)  - Dice:  tensor(0.0565)\n",
      "TH:  tensor(0.5000, dtype=torch.float64)  - Dice:  tensor(0.0381)\n",
      "TH:  tensor(0.5500, dtype=torch.float64)  - Dice:  tensor(0.0249)\n",
      "TH:  tensor(0.6000, dtype=torch.float64)  - Dice:  tensor(0.0124)\n",
      "TH:  tensor(0.6500, dtype=torch.float64)  - Dice:  tensor(0.0030)\n",
      "TH:  tensor(0.7000, dtype=torch.float64)  - Dice:  tensor(0.0007)\n",
      "TH:  tensor(0.7500, dtype=torch.float64)  - Dice:  tensor(0.0001)\n",
      "TH:  tensor(0.8000, dtype=torch.float64)  - Dice:  tensor(0.)\n",
      "Best Threshold: 0.2 - Best Dice Score: 0.3529999852180481\n"
     ]
    },
    {
     "data": {
      "application/vnd.jupyter.widget-view+json": {
       "model_id": "",
       "version_major": 2,
       "version_minor": 0
      },
      "text/plain": [
       "Validation: 0it [00:00, ?it/s]"
      ]
     },
     "metadata": {},
     "output_type": "display_data"
    },
    {
     "name": "stdout",
     "output_type": "stream",
     "text": [
      "TH:  tensor(0.2000, dtype=torch.float64)  - Dice:  tensor(0.3415)\n",
      "TH:  tensor(0.2500, dtype=torch.float64)  - Dice:  tensor(0.3755)\n",
      "TH:  tensor(0.3000, dtype=torch.float64)  - Dice:  tensor(0.3961)\n",
      "TH:  tensor(0.3500, dtype=torch.float64)  - Dice:  tensor(0.4115)\n",
      "TH:  tensor(0.4000, dtype=torch.float64)  - Dice:  tensor(0.4226)\n",
      "TH:  tensor(0.4500, dtype=torch.float64)  - Dice:  tensor(0.4310)\n",
      "TH:  tensor(0.5000, dtype=torch.float64)  - Dice:  tensor(0.4367)\n",
      "TH:  tensor(0.5500, dtype=torch.float64)  - Dice:  tensor(0.4389)\n",
      "TH:  tensor(0.6000, dtype=torch.float64)  - Dice:  tensor(0.4394)\n",
      "TH:  tensor(0.6500, dtype=torch.float64)  - Dice:  tensor(0.4403)\n",
      "TH:  tensor(0.7000, dtype=torch.float64)  - Dice:  tensor(0.4381)\n",
      "TH:  tensor(0.7500, dtype=torch.float64)  - Dice:  tensor(0.4310)\n",
      "TH:  tensor(0.8000, dtype=torch.float64)  - Dice:  tensor(0.4188)\n",
      "Best Threshold: 0.6499999999999999 - Best Dice Score: 0.4399999976158142\n"
     ]
    },
    {
     "data": {
      "application/vnd.jupyter.widget-view+json": {
       "model_id": "",
       "version_major": 2,
       "version_minor": 0
      },
      "text/plain": [
       "Validation: 0it [00:00, ?it/s]"
      ]
     },
     "metadata": {},
     "output_type": "display_data"
    },
    {
     "name": "stdout",
     "output_type": "stream",
     "text": [
      "TH:  tensor(0.2000, dtype=torch.float64)  - Dice:  tensor(0.1859)\n",
      "TH:  tensor(0.2500, dtype=torch.float64)  - Dice:  tensor(0.1865)\n",
      "TH:  tensor(0.3000, dtype=torch.float64)  - Dice:  tensor(0.1874)\n",
      "TH:  tensor(0.3500, dtype=torch.float64)  - Dice:  tensor(0.1885)\n",
      "TH:  tensor(0.4000, dtype=torch.float64)  - Dice:  tensor(0.1900)\n",
      "TH:  tensor(0.4500, dtype=torch.float64)  - Dice:  tensor(0.1919)\n",
      "TH:  tensor(0.5000, dtype=torch.float64)  - Dice:  tensor(0.1943)\n",
      "TH:  tensor(0.5500, dtype=torch.float64)  - Dice:  tensor(0.1969)\n",
      "TH:  tensor(0.6000, dtype=torch.float64)  - Dice:  tensor(0.1999)\n",
      "TH:  tensor(0.6500, dtype=torch.float64)  - Dice:  tensor(0.2038)\n",
      "TH:  tensor(0.7000, dtype=torch.float64)  - Dice:  tensor(0.2090)\n",
      "TH:  tensor(0.7500, dtype=torch.float64)  - Dice:  tensor(0.2159)\n",
      "TH:  tensor(0.8000, dtype=torch.float64)  - Dice:  tensor(0.2256)\n",
      "Best Threshold: 0.7999999999999998 - Best Dice Score: 0.22599999606609344\n"
     ]
    },
    {
     "data": {
      "application/vnd.jupyter.widget-view+json": {
       "model_id": "",
       "version_major": 2,
       "version_minor": 0
      },
      "text/plain": [
       "Validation: 0it [00:00, ?it/s]"
      ]
     },
     "metadata": {},
     "output_type": "display_data"
    },
    {
     "name": "stdout",
     "output_type": "stream",
     "text": [
      "TH:  tensor(0.2000, dtype=torch.float64)  - Dice:  tensor(0.3260)\n",
      "TH:  tensor(0.2500, dtype=torch.float64)  - Dice:  tensor(0.3430)\n",
      "TH:  tensor(0.3000, dtype=torch.float64)  - Dice:  tensor(0.3555)\n",
      "TH:  tensor(0.3500, dtype=torch.float64)  - Dice:  tensor(0.3652)\n",
      "TH:  tensor(0.4000, dtype=torch.float64)  - Dice:  tensor(0.3747)\n",
      "TH:  tensor(0.4500, dtype=torch.float64)  - Dice:  tensor(0.3778)\n",
      "TH:  tensor(0.5000, dtype=torch.float64)  - Dice:  tensor(0.3744)\n",
      "TH:  tensor(0.5500, dtype=torch.float64)  - Dice:  tensor(0.3644)\n",
      "TH:  tensor(0.6000, dtype=torch.float64)  - Dice:  tensor(0.3439)\n",
      "TH:  tensor(0.6500, dtype=torch.float64)  - Dice:  tensor(0.3111)\n",
      "TH:  tensor(0.7000, dtype=torch.float64)  - Dice:  tensor(0.2545)\n",
      "TH:  tensor(0.7500, dtype=torch.float64)  - Dice:  tensor(0.1705)\n",
      "TH:  tensor(0.8000, dtype=torch.float64)  - Dice:  tensor(0.0809)\n",
      "Best Threshold: 0.44999999999999996 - Best Dice Score: 0.3779999911785126\n"
     ]
    },
    {
     "data": {
      "application/vnd.jupyter.widget-view+json": {
       "model_id": "",
       "version_major": 2,
       "version_minor": 0
      },
      "text/plain": [
       "Validation: 0it [00:00, ?it/s]"
      ]
     },
     "metadata": {},
     "output_type": "display_data"
    },
    {
     "name": "stdout",
     "output_type": "stream",
     "text": [
      "TH:  tensor(0.2000, dtype=torch.float64)  - Dice:  tensor(0.4183)\n",
      "TH:  tensor(0.2500, dtype=torch.float64)  - Dice:  tensor(0.4438)\n",
      "TH:  tensor(0.3000, dtype=torch.float64)  - Dice:  tensor(0.4608)\n",
      "TH:  tensor(0.3500, dtype=torch.float64)  - Dice:  tensor(0.4755)\n",
      "TH:  tensor(0.4000, dtype=torch.float64)  - Dice:  tensor(0.4885)\n",
      "TH:  tensor(0.4500, dtype=torch.float64)  - Dice:  tensor(0.4982)\n",
      "TH:  tensor(0.5000, dtype=torch.float64)  - Dice:  tensor(0.5052)\n",
      "TH:  tensor(0.5500, dtype=torch.float64)  - Dice:  tensor(0.5103)\n",
      "TH:  tensor(0.6000, dtype=torch.float64)  - Dice:  tensor(0.5144)\n",
      "TH:  tensor(0.6500, dtype=torch.float64)  - Dice:  tensor(0.5148)\n",
      "TH:  tensor(0.7000, dtype=torch.float64)  - Dice:  tensor(0.5105)\n",
      "TH:  tensor(0.7500, dtype=torch.float64)  - Dice:  tensor(0.4980)\n",
      "TH:  tensor(0.8000, dtype=torch.float64)  - Dice:  tensor(0.4667)\n",
      "Best Threshold: 0.6499999999999999 - Best Dice Score: 0.5149999856948853\n"
     ]
    },
    {
     "data": {
      "application/vnd.jupyter.widget-view+json": {
       "model_id": "",
       "version_major": 2,
       "version_minor": 0
      },
      "text/plain": [
       "Validation: 0it [00:00, ?it/s]"
      ]
     },
     "metadata": {},
     "output_type": "display_data"
    },
    {
     "name": "stdout",
     "output_type": "stream",
     "text": [
      "TH:  tensor(0.2000, dtype=torch.float64)  - Dice:  tensor(0.2363)\n",
      "TH:  tensor(0.2500, dtype=torch.float64)  - Dice:  tensor(0.2462)\n",
      "TH:  tensor(0.3000, dtype=torch.float64)  - Dice:  tensor(0.2552)\n",
      "TH:  tensor(0.3500, dtype=torch.float64)  - Dice:  tensor(0.2633)\n",
      "TH:  tensor(0.4000, dtype=torch.float64)  - Dice:  tensor(0.2712)\n",
      "TH:  tensor(0.4500, dtype=torch.float64)  - Dice:  tensor(0.2793)\n",
      "TH:  tensor(0.5000, dtype=torch.float64)  - Dice:  tensor(0.2882)\n",
      "TH:  tensor(0.5500, dtype=torch.float64)  - Dice:  tensor(0.2975)\n",
      "TH:  tensor(0.6000, dtype=torch.float64)  - Dice:  tensor(0.3073)\n",
      "TH:  tensor(0.6500, dtype=torch.float64)  - Dice:  tensor(0.3176)\n",
      "TH:  tensor(0.7000, dtype=torch.float64)  - Dice:  tensor(0.3289)\n",
      "TH:  tensor(0.7500, dtype=torch.float64)  - Dice:  tensor(0.3417)\n",
      "TH:  tensor(0.8000, dtype=torch.float64)  - Dice:  tensor(0.3589)\n",
      "Best Threshold: 0.7999999999999998 - Best Dice Score: 0.35899999737739563\n"
     ]
    },
    {
     "data": {
      "application/vnd.jupyter.widget-view+json": {
       "model_id": "",
       "version_major": 2,
       "version_minor": 0
      },
      "text/plain": [
       "Validation: 0it [00:00, ?it/s]"
      ]
     },
     "metadata": {},
     "output_type": "display_data"
    },
    {
     "name": "stdout",
     "output_type": "stream",
     "text": [
      "TH:  tensor(0.2000, dtype=torch.float64)  - Dice:  tensor(0.4907)\n",
      "TH:  tensor(0.2500, dtype=torch.float64)  - Dice:  tensor(0.5033)\n",
      "TH:  tensor(0.3000, dtype=torch.float64)  - Dice:  tensor(0.5096)\n",
      "TH:  tensor(0.3500, dtype=torch.float64)  - Dice:  tensor(0.5120)\n",
      "TH:  tensor(0.4000, dtype=torch.float64)  - Dice:  tensor(0.5118)\n",
      "TH:  tensor(0.4500, dtype=torch.float64)  - Dice:  tensor(0.5095)\n",
      "TH:  tensor(0.5000, dtype=torch.float64)  - Dice:  tensor(0.5049)\n",
      "TH:  tensor(0.5500, dtype=torch.float64)  - Dice:  tensor(0.4972)\n",
      "TH:  tensor(0.6000, dtype=torch.float64)  - Dice:  tensor(0.4866)\n",
      "TH:  tensor(0.6500, dtype=torch.float64)  - Dice:  tensor(0.4729)\n",
      "TH:  tensor(0.7000, dtype=torch.float64)  - Dice:  tensor(0.4516)\n",
      "TH:  tensor(0.7500, dtype=torch.float64)  - Dice:  tensor(0.4215)\n",
      "TH:  tensor(0.8000, dtype=torch.float64)  - Dice:  tensor(0.3802)\n",
      "Best Threshold: 0.35 - Best Dice Score: 0.5120000243186951\n"
     ]
    },
    {
     "data": {
      "application/vnd.jupyter.widget-view+json": {
       "model_id": "",
       "version_major": 2,
       "version_minor": 0
      },
      "text/plain": [
       "Validation: 0it [00:00, ?it/s]"
      ]
     },
     "metadata": {},
     "output_type": "display_data"
    },
    {
     "name": "stdout",
     "output_type": "stream",
     "text": [
      "TH:  tensor(0.2000, dtype=torch.float64)  - Dice:  tensor(0.4158)\n",
      "TH:  tensor(0.2500, dtype=torch.float64)  - Dice:  tensor(0.4302)\n",
      "TH:  tensor(0.3000, dtype=torch.float64)  - Dice:  tensor(0.4414)\n",
      "TH:  tensor(0.3500, dtype=torch.float64)  - Dice:  tensor(0.4511)\n",
      "TH:  tensor(0.4000, dtype=torch.float64)  - Dice:  tensor(0.4589)\n",
      "TH:  tensor(0.4500, dtype=torch.float64)  - Dice:  tensor(0.4656)\n",
      "TH:  tensor(0.5000, dtype=torch.float64)  - Dice:  tensor(0.4715)\n",
      "TH:  tensor(0.5500, dtype=torch.float64)  - Dice:  tensor(0.4767)\n",
      "TH:  tensor(0.6000, dtype=torch.float64)  - Dice:  tensor(0.4817)\n",
      "TH:  tensor(0.6500, dtype=torch.float64)  - Dice:  tensor(0.4871)\n",
      "TH:  tensor(0.7000, dtype=torch.float64)  - Dice:  tensor(0.4902)\n",
      "TH:  tensor(0.7500, dtype=torch.float64)  - Dice:  tensor(0.4860)\n",
      "TH:  tensor(0.8000, dtype=torch.float64)  - Dice:  tensor(0.4717)\n",
      "Best Threshold: 0.7 - Best Dice Score: 0.49000000953674316\n"
     ]
    },
    {
     "data": {
      "application/vnd.jupyter.widget-view+json": {
       "model_id": "",
       "version_major": 2,
       "version_minor": 0
      },
      "text/plain": [
       "Validation: 0it [00:00, ?it/s]"
      ]
     },
     "metadata": {},
     "output_type": "display_data"
    },
    {
     "name": "stdout",
     "output_type": "stream",
     "text": [
      "TH:  tensor(0.2000, dtype=torch.float64)  - Dice:  tensor(0.4147)\n",
      "TH:  tensor(0.2500, dtype=torch.float64)  - Dice:  tensor(0.4351)\n",
      "TH:  tensor(0.3000, dtype=torch.float64)  - Dice:  tensor(0.4487)\n",
      "TH:  tensor(0.3500, dtype=torch.float64)  - Dice:  tensor(0.4599)\n",
      "TH:  tensor(0.4000, dtype=torch.float64)  - Dice:  tensor(0.4697)\n",
      "TH:  tensor(0.4500, dtype=torch.float64)  - Dice:  tensor(0.4779)\n",
      "TH:  tensor(0.5000, dtype=torch.float64)  - Dice:  tensor(0.4850)\n",
      "TH:  tensor(0.5500, dtype=torch.float64)  - Dice:  tensor(0.4909)\n",
      "TH:  tensor(0.6000, dtype=torch.float64)  - Dice:  tensor(0.4967)\n",
      "TH:  tensor(0.6500, dtype=torch.float64)  - Dice:  tensor(0.5019)\n",
      "TH:  tensor(0.7000, dtype=torch.float64)  - Dice:  tensor(0.5051)\n",
      "TH:  tensor(0.7500, dtype=torch.float64)  - Dice:  tensor(0.5035)\n",
      "TH:  tensor(0.8000, dtype=torch.float64)  - Dice:  tensor(0.4939)\n",
      "Best Threshold: 0.7 - Best Dice Score: 0.5049999952316284\n"
     ]
    },
    {
     "data": {
      "application/vnd.jupyter.widget-view+json": {
       "model_id": "",
       "version_major": 2,
       "version_minor": 0
      },
      "text/plain": [
       "Validation: 0it [00:00, ?it/s]"
      ]
     },
     "metadata": {},
     "output_type": "display_data"
    },
    {
     "name": "stdout",
     "output_type": "stream",
     "text": [
      "TH:  tensor(0.2000, dtype=torch.float64)  - Dice:  tensor(0.4243)\n",
      "TH:  tensor(0.2500, dtype=torch.float64)  - Dice:  tensor(0.4405)\n",
      "TH:  tensor(0.3000, dtype=torch.float64)  - Dice:  tensor(0.4524)\n",
      "TH:  tensor(0.3500, dtype=torch.float64)  - Dice:  tensor(0.4611)\n",
      "TH:  tensor(0.4000, dtype=torch.float64)  - Dice:  tensor(0.4674)\n",
      "TH:  tensor(0.4500, dtype=torch.float64)  - Dice:  tensor(0.4735)\n",
      "TH:  tensor(0.5000, dtype=torch.float64)  - Dice:  tensor(0.4796)\n",
      "TH:  tensor(0.5500, dtype=torch.float64)  - Dice:  tensor(0.4856)\n",
      "TH:  tensor(0.6000, dtype=torch.float64)  - Dice:  tensor(0.4912)\n",
      "TH:  tensor(0.6500, dtype=torch.float64)  - Dice:  tensor(0.4958)\n",
      "TH:  tensor(0.7000, dtype=torch.float64)  - Dice:  tensor(0.4971)\n",
      "TH:  tensor(0.7500, dtype=torch.float64)  - Dice:  tensor(0.4934)\n",
      "TH:  tensor(0.8000, dtype=torch.float64)  - Dice:  tensor(0.4812)\n",
      "Best Threshold: 0.7 - Best Dice Score: 0.4970000088214874\n"
     ]
    },
    {
     "name": "stderr",
     "output_type": "stream",
     "text": [
      "`Trainer.fit` stopped: `max_epochs=20` reached.\n"
     ]
    },
    {
     "name": "stdout",
     "output_type": "stream",
     "text": [
      "CPU times: user 3h 15min 29s, sys: 5min 46s, total: 3h 21min 16s\n",
      "Wall time: 3h 32min 27s\n"
     ]
    }
   ],
   "source": [
    "%%time\n",
    "\n",
    "for i in range(0, 3):\n",
    "    MODEL = NN(model=model, learning_rate=learning_rate, calculate_threshold=True)\n",
    "    MODEL.model.load_state_dict(torch.load(random_weights_path))\n",
    "    train_ds = Data(paths=train_data[i], transform=train_aug)\n",
    "    valid_ds = Data(paths=valid_data[i], transform=valid_aug)\n",
    "    dm = DataModule(train_ds=train_ds, valid_ds=valid_ds)\n",
    "    logger = TensorBoardLogger(folder_logs, name=name, version=f'Fold_{i+1}')\n",
    "    trainer = pl.Trainer(accelerator='gpu', devices=[0], max_epochs=epochs, precision='16-mixed', logger=logger)\n",
    "    trainer.fit(MODEL, dm)\n",
    "    path_save_weights = os.path.join(folder, 'Weights', f'Model_{i + 1}_{name}.pth')\n",
    "    torch.save(MODEL.model.state_dict(), path_save_weights)\n"
   ]
  },
  {
   "cell_type": "code",
   "execution_count": null,
   "id": "21b36a11",
   "metadata": {},
   "outputs": [],
   "source": []
  },
  {
   "cell_type": "code",
   "execution_count": null,
   "id": "d1c63ef3",
   "metadata": {},
   "outputs": [],
   "source": []
  }
 ],
 "metadata": {
  "kernelspec": {
   "display_name": "light",
   "language": "python",
   "name": "light"
  },
  "language_info": {
   "codemirror_mode": {
    "name": "ipython",
    "version": 3
   },
   "file_extension": ".py",
   "mimetype": "text/x-python",
   "name": "python",
   "nbconvert_exporter": "python",
   "pygments_lexer": "ipython3",
   "version": "3.11.3"
  }
 },
 "nbformat": 4,
 "nbformat_minor": 5
}
