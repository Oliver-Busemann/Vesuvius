{
 "cells": [
  {
   "cell_type": "markdown",
   "id": "91fe115c",
   "metadata": {},
   "source": [
    "# Final training notebook with optimized hyperparameters"
   ]
  },
  {
   "cell_type": "code",
   "execution_count": 1,
   "id": "9d40998d",
   "metadata": {},
   "outputs": [],
   "source": [
    "%matplotlib inline\n",
    "import matplotlib.pyplot as plt\n",
    "import pandas as pd\n",
    "import numpy as np\n",
    "import cv2\n",
    "import torch\n",
    "import torch.nn as nn\n",
    "import torch.nn.functional as F\n",
    "import pytorch_lightning as pl\n",
    "import os\n",
    "from glob import glob\n",
    "import pickle\n",
    "from torch.utils.data import Dataset, DataLoader\n",
    "from torchinfo import summary\n",
    "import torchmetrics\n",
    "from pytorch_lightning.loggers import TensorBoardLogger\n",
    "from monai import losses\n",
    "import albumentations as A\n",
    "from copy import deepcopy\n",
    "from pytorch_lightning.callbacks import Callback\n",
    "from torch.optim.lr_scheduler import OneCycleLR\n",
    "from torch.utils.data import WeightedRandomSampler\n",
    "import random\n",
    "import segmentation_models_pytorch as smp\n",
    "import gc"
   ]
  },
  {
   "cell_type": "code",
   "execution_count": 2,
   "id": "3e610907",
   "metadata": {},
   "outputs": [],
   "source": [
    "torch.set_float32_matmul_precision('medium')"
   ]
  },
  {
   "cell_type": "code",
   "execution_count": 3,
   "id": "a7c197f4",
   "metadata": {},
   "outputs": [],
   "source": [
    "# paths and hyperparameters\n",
    "name = '2DCNN_SeResNext'\n",
    "folder = '/home/olli/Projects/Kaggle/Vesuvius'\n",
    "folder_data = os.path.join(folder, 'Data_New', 'Preprocessed_1024_12_Masked')\n",
    "folder_logs = os.path.join(folder, f'Logs_2D')\n",
    "depth = 12\n",
    "size = 1024\n",
    "batch_size = 8\n",
    "num_workers = 0\n",
    "epochs = 14\n",
    "learning_rate = 2e-4  # max lr to reach\n",
    "pct_increase = 0.33  # percentage of epochs to increase the lr before decreasing\n",
    "bce_loss_weight = 0.5  # how much to weight dice vs bce (0.5-0.5; 0.7-0.3; ...)\n",
    "ink_loss_weight = 2"
   ]
  },
  {
   "cell_type": "markdown",
   "id": "9f1c448e",
   "metadata": {},
   "source": [
    "# Set up the cross-validation"
   ]
  },
  {
   "cell_type": "code",
   "execution_count": 4,
   "id": "4ebeaf70",
   "metadata": {},
   "outputs": [],
   "source": [
    "fold_1_path = os.path.join(folder_data, '1', f'{size}')\n",
    "fold_2_path = os.path.join(folder_data, '2', f'{size}')\n",
    "fold_3_path = os.path.join(folder_data, '3', f'{size}')"
   ]
  },
  {
   "cell_type": "code",
   "execution_count": 5,
   "id": "261cff52",
   "metadata": {},
   "outputs": [],
   "source": [
    "scans_1 = glob(fold_1_path + '/*.pickle')\n",
    "scans_2 = glob(fold_2_path + '/*.pickle')\n",
    "scans_3 = glob(fold_3_path + '/*.pickle')"
   ]
  },
  {
   "cell_type": "code",
   "execution_count": 6,
   "id": "acfc88ae",
   "metadata": {},
   "outputs": [
    {
     "data": {
      "text/plain": [
       "'/home/olli/Projects/Kaggle/Vesuvius/Data_New/Preprocessed_1024_12_Masked/1/1024/35.pickle'"
      ]
     },
     "execution_count": 6,
     "metadata": {},
     "output_type": "execute_result"
    }
   ],
   "source": [
    "scans_1[0]"
   ]
  },
  {
   "cell_type": "code",
   "execution_count": 7,
   "id": "6e43d0e4",
   "metadata": {},
   "outputs": [],
   "source": [
    "folds = [scans_1, scans_2, scans_3]"
   ]
  },
  {
   "cell_type": "code",
   "execution_count": 8,
   "id": "953901db",
   "metadata": {},
   "outputs": [
    {
     "data": {
      "text/plain": [
       "[107, 360, 84]"
      ]
     },
     "execution_count": 8,
     "metadata": {},
     "output_type": "execute_result"
    }
   ],
   "source": [
    "# check number of scans\n",
    "[len(i) for i in folds]"
   ]
  },
  {
   "cell_type": "markdown",
   "id": "34226e6c",
   "metadata": {},
   "source": [
    "# Create 3 Train-/Valid-Datasets from the folds"
   ]
  },
  {
   "cell_type": "code",
   "execution_count": 9,
   "id": "33fc18fe",
   "metadata": {},
   "outputs": [],
   "source": [
    "'''Write a function that returns the different train/valid-datasets and -paths.\n",
    "   Each fold once is the validation data, the rest is for training.'''\n",
    "\n",
    "\n",
    "def create_train_valid():\n",
    "\n",
    "    train_folds = ['tr_1', 'tr_2', 'tr_3']\n",
    "    valid_folds = ['val_1', 'val_2', 'val_3']\n",
    "\n",
    "    # assign each train/valid dataset the correct folds with i\n",
    "    for i, train, valid in zip(range(3), train_folds, valid_folds):\n",
    "\n",
    "        # copy the folds\n",
    "        flds = deepcopy(folds)\n",
    "\n",
    "        globals()[valid_folds[i]] = flds.pop(i)  # i'ths index is valid rest is for train\n",
    "        globals()[train_folds[i]] = flds[0] + flds[1]  # only 0 and 1 left\n",
    "        \n",
    "    train_folds = [tr_1, tr_2, tr_3]\n",
    "    valid_folds = [val_1, val_2, val_3]\n",
    "    \n",
    "    return train_folds, valid_folds"
   ]
  },
  {
   "cell_type": "code",
   "execution_count": 10,
   "id": "e7ab43cd",
   "metadata": {},
   "outputs": [],
   "source": [
    "train_data, valid_data = create_train_valid()"
   ]
  },
  {
   "cell_type": "code",
   "execution_count": 11,
   "id": "ec9671a7",
   "metadata": {},
   "outputs": [
    {
     "data": {
      "text/plain": [
       "[444, 191, 467]"
      ]
     },
     "execution_count": 11,
     "metadata": {},
     "output_type": "execute_result"
    }
   ],
   "source": [
    "# check the number of cropped scans in each dataset\n",
    "[len(i) for i in train_data]"
   ]
  },
  {
   "cell_type": "code",
   "execution_count": 12,
   "id": "0291074f",
   "metadata": {},
   "outputs": [
    {
     "data": {
      "text/plain": [
       "[107, 360, 84]"
      ]
     },
     "execution_count": 12,
     "metadata": {},
     "output_type": "execute_result"
    }
   ],
   "source": [
    "[len(i) for i in valid_data]"
   ]
  },
  {
   "cell_type": "code",
   "execution_count": 13,
   "id": "14fcae31",
   "metadata": {},
   "outputs": [],
   "source": [
    "# make sure there is no valid file in the corresponding train dataset\n",
    "for i in range(3):\n",
    "    for v in valid_data[i]:\n",
    "        for t in train_data[i]:\n",
    "            if v == t:\n",
    "                print('LEAK')"
   ]
  },
  {
   "cell_type": "markdown",
   "id": "c87cd239",
   "metadata": {},
   "source": [
    "# Define Augmentations"
   ]
  },
  {
   "cell_type": "code",
   "execution_count": 14,
   "id": "fbe1c151",
   "metadata": {},
   "outputs": [],
   "source": [
    "train_aug = A.Compose([\n",
    "    A.HorizontalFlip(p=0.5),\n",
    "    A.VerticalFlip(p=0.5),\n",
    "    A.RandomBrightnessContrast(p=0.82),\n",
    "    A.ShiftScaleRotate(p=0.47),\n",
    "    A.OneOf([\n",
    "            A.GaussNoise(var_limit=[10, 50]),\n",
    "            A.GaussianBlur(),\n",
    "            A.MotionBlur(),\n",
    "            ], p=0.5),\n",
    "    A.GridDistortion(num_steps=5, distort_limit=0.3, p=0.32),\n",
    "    A.CoarseDropout(max_holes=1, max_width=int(size * 0.3), max_height=int(size * 0.3), \n",
    "                        mask_fill_value=0, p=0.47),\n",
    "    A.Normalize(mean=[0] * depth, std=[1] * depth)\n",
    "])"
   ]
  },
  {
   "cell_type": "code",
   "execution_count": 15,
   "id": "11a2eeee",
   "metadata": {},
   "outputs": [],
   "source": [
    "# use valid aug to normalize the scan\n",
    "valid_aug = A.Compose([\n",
    "    A.Normalize(mean=[0] * depth, std=[1] * depth)\n",
    "])"
   ]
  },
  {
   "cell_type": "markdown",
   "id": "d8e99c2a",
   "metadata": {},
   "source": [
    "# Define the PyTorch Dataset"
   ]
  },
  {
   "cell_type": "code",
   "execution_count": 16,
   "id": "1a8af64c",
   "metadata": {},
   "outputs": [],
   "source": [
    "class Data(Dataset):\n",
    "    def __init__(self, paths, transform=False):#, df=df):\n",
    "        self.paths = paths\n",
    "        self.transform = transform\n",
    "        #self.df = df\n",
    "        \n",
    "        random.Random(42).shuffle(self.paths)\n",
    "        \n",
    "    def __len__(self):\n",
    "        return len(self.paths)\n",
    "    \n",
    "    def __getitem__(self, index):\n",
    "        path = self.paths[index]\n",
    "        \n",
    "        with open(path, 'rb') as f:\n",
    "            data = pickle.load(f)\n",
    "            \n",
    "        X, mask, y = data\n",
    "        \n",
    "        if self.transform:\n",
    "            augmented_data = self.transform(image=X, masks=[mask, y])\n",
    "            \n",
    "            X = augmented_data['image']\n",
    "            mask = augmented_data['masks'][0]\n",
    "            y = augmented_data['masks'][1]\n",
    "        \n",
    "        mask = torch.tensor(mask / 255.).type(torch.float32)\n",
    "        y = torch.tensor(y / 255.).type(torch.float32)\n",
    "        \n",
    "        X = torch.tensor(X).permute(2, 0, 1).type(torch.float32)\n",
    "        \n",
    "        return X, mask, y"
   ]
  },
  {
   "cell_type": "markdown",
   "id": "8ccc47d1",
   "metadata": {},
   "source": [
    "# Create a Lightning Data Module from that"
   ]
  },
  {
   "cell_type": "code",
   "execution_count": 17,
   "id": "4ac0af45",
   "metadata": {},
   "outputs": [],
   "source": [
    "# create a lightning datamodule class\n",
    "\n",
    "class DataModule(pl.LightningDataModule):\n",
    "    \n",
    "    def __init__(self, train_ds, valid_ds, batch_size=batch_size, num_workers=num_workers):\n",
    "        \n",
    "        super().__init__()\n",
    "\n",
    "        self.batch_size=batch_size\n",
    "        self.num_workers=num_workers\n",
    "        \n",
    "        self.train_ds = train_ds\n",
    "        self.valid_ds = valid_ds\n",
    "        \n",
    "    def setup(self, stage):\n",
    "        \n",
    "        self.train_ds = self.train_ds\n",
    "        self.valid_ds = self.valid_ds\n",
    "        \n",
    "        # set up the sampler with the shuffled training paths\n",
    "        #files = [path.split('.')[-2].split('/')[-1] for path in self.train_ds.paths]\n",
    "        #scans = [path.split('.')[-2].split('/')[-3] for path in self.train_ds.paths]\n",
    "        #filenames = [scan + '_' + file for scan, file in zip(scans, files)]\n",
    "        \n",
    "        # sort the df to only have these with filenames in Index col\n",
    "        #df_filtered = self.train_ds.df[self.train_ds.df['Index'].isin(filenames)]\n",
    "        \n",
    "        # now sort the df_filtered exactly how the filesnames are sorted\n",
    "        #df_sorted = df_filtered.iloc[np.argsort([filenames.index(i) for i in df_filtered['Index']])]\n",
    "        \n",
    "        # now get the weights that are ordered correctly\n",
    "        #self.weights = df_sorted['Weight'].values\n",
    "        \n",
    "    def train_dataloader(self):\n",
    "        \n",
    "        train_dl = DataLoader(self.train_ds,\n",
    "                              batch_size=self.batch_size,\n",
    "                              num_workers=self.num_workers,\n",
    "                              shuffle=True)\n",
    "                              #pin_memory=True)\n",
    "        \n",
    "        return train_dl\n",
    "        \n",
    "    def val_dataloader(self):\n",
    "        \n",
    "        valid_dl = DataLoader(self.valid_ds,\n",
    "                              batch_size=self.batch_size,\n",
    "                              num_workers=self.num_workers,)\n",
    "                              #pin_memory=True)\n",
    "        \n",
    "        return valid_dl"
   ]
  },
  {
   "cell_type": "markdown",
   "id": "f3bf43eb",
   "metadata": {},
   "source": [
    "# Define the model"
   ]
  },
  {
   "cell_type": "code",
   "execution_count": 18,
   "id": "95249b67",
   "metadata": {},
   "outputs": [],
   "source": [
    "model = smp.Unet('se_resnext50_32x4d', encoder_weights=None, in_channels=depth, classes=1)"
   ]
  },
  {
   "cell_type": "code",
   "execution_count": 19,
   "id": "c8af495a",
   "metadata": {},
   "outputs": [
    {
     "data": {
      "text/plain": [
       "====================================================================================================\n",
       "Layer (type:depth-idx)                             Output Shape              Param #\n",
       "====================================================================================================\n",
       "Unet                                               [2, 1, 1024, 1024]        --\n",
       "├─SENetEncoder: 1-1                                [2, 12, 1024, 1024]       --\n",
       "│    └─Sequential: 2-1                             --                        --\n",
       "│    │    └─Conv2d: 3-1                            [2, 64, 512, 512]         37,632\n",
       "│    │    └─BatchNorm2d: 3-2                       [2, 64, 512, 512]         128\n",
       "│    │    └─ReLU: 3-3                              [2, 64, 512, 512]         --\n",
       "│    │    └─MaxPool2d: 3-4                         [2, 64, 256, 256]         --\n",
       "│    └─Sequential: 2-2                             [2, 256, 256, 256]        --\n",
       "│    │    └─SEResNeXtBottleneck: 3-5               [2, 256, 256, 256]        71,952\n",
       "│    │    └─SEResNeXtBottleneck: 3-6               [2, 256, 256, 256]        79,632\n",
       "│    │    └─SEResNeXtBottleneck: 3-7               [2, 256, 256, 256]        79,632\n",
       "│    └─Sequential: 2-3                             [2, 512, 128, 128]        --\n",
       "│    │    └─SEResNeXtBottleneck: 3-8               [2, 512, 128, 128]        382,496\n",
       "│    │    └─SEResNeXtBottleneck: 3-9               [2, 512, 128, 128]        315,936\n",
       "│    │    └─SEResNeXtBottleneck: 3-10              [2, 512, 128, 128]        315,936\n",
       "│    │    └─SEResNeXtBottleneck: 3-11              [2, 512, 128, 128]        315,936\n",
       "│    └─Sequential: 2-4                             [2, 1024, 64, 64]         --\n",
       "│    │    └─SEResNeXtBottleneck: 3-12              [2, 1024, 64, 64]         1,522,752\n",
       "│    │    └─SEResNeXtBottleneck: 3-13              [2, 1024, 64, 64]         1,258,560\n",
       "│    │    └─SEResNeXtBottleneck: 3-14              [2, 1024, 64, 64]         1,258,560\n",
       "│    │    └─SEResNeXtBottleneck: 3-15              [2, 1024, 64, 64]         1,258,560\n",
       "│    │    └─SEResNeXtBottleneck: 3-16              [2, 1024, 64, 64]         1,258,560\n",
       "│    │    └─SEResNeXtBottleneck: 3-17              [2, 1024, 64, 64]         1,258,560\n",
       "│    └─Sequential: 2-5                             [2, 2048, 32, 32]         --\n",
       "│    │    └─SEResNeXtBottleneck: 3-18              [2, 2048, 32, 32]         6,076,544\n",
       "│    │    └─SEResNeXtBottleneck: 3-19              [2, 2048, 32, 32]         5,023,872\n",
       "│    │    └─SEResNeXtBottleneck: 3-20              [2, 2048, 32, 32]         5,023,872\n",
       "├─UnetDecoder: 1-2                                 [2, 16, 1024, 1024]       --\n",
       "│    └─Identity: 2-6                               [2, 2048, 32, 32]         --\n",
       "│    └─ModuleList: 2-7                             --                        --\n",
       "│    │    └─DecoderBlock: 3-21                     [2, 256, 64, 64]          7,668,736\n",
       "│    │    └─DecoderBlock: 3-22                     [2, 128, 128, 128]        1,032,704\n",
       "│    │    └─DecoderBlock: 3-23                     [2, 64, 256, 256]         258,304\n",
       "│    │    └─DecoderBlock: 3-24                     [2, 32, 512, 512]         46,208\n",
       "│    │    └─DecoderBlock: 3-25                     [2, 16, 1024, 1024]       6,976\n",
       "├─SegmentationHead: 1-3                            [2, 1, 1024, 1024]        --\n",
       "│    └─Conv2d: 2-8                                 [2, 1, 1024, 1024]        145\n",
       "│    └─Identity: 2-9                               [2, 1, 1024, 1024]        --\n",
       "│    └─Activation: 2-10                            [2, 1, 1024, 1024]        --\n",
       "│    │    └─Identity: 3-26                         [2, 1, 1024, 1024]        --\n",
       "====================================================================================================\n",
       "Total params: 34,552,193\n",
       "Trainable params: 34,552,193\n",
       "Non-trainable params: 0\n",
       "Total mult-adds (Units.GIGABYTES): 360.95\n",
       "====================================================================================================\n",
       "Input size (MB): 100.66\n",
       "Forward/backward pass size (MB): 11727.53\n",
       "Params size (MB): 138.21\n",
       "Estimated Total Size (MB): 11966.40\n",
       "===================================================================================================="
      ]
     },
     "execution_count": 19,
     "metadata": {},
     "output_type": "execute_result"
    }
   ],
   "source": [
    "summary(model, input_data=torch.randn(2, depth, size, size))"
   ]
  },
  {
   "cell_type": "code",
   "execution_count": 20,
   "id": "3ddba4fe",
   "metadata": {},
   "outputs": [
    {
     "name": "stdout",
     "output_type": "stream",
     "text": [
      "tensor(-4.5020) tensor(6.3678)\n",
      "torch.Size([1, 1, 1024, 1024])\n"
     ]
    }
   ],
   "source": [
    "# check output shape and make sure that no sigmoid activation is at the last layer\n",
    "with torch.no_grad():\n",
    "    out = model(torch.randn(1, depth, size, size))\n",
    "    print(out.min(), out.max())\n",
    "    print(out.size())"
   ]
  },
  {
   "cell_type": "code",
   "execution_count": 21,
   "id": "381fb27e",
   "metadata": {},
   "outputs": [],
   "source": [
    "# save the initial model weights to use them for each fold\n",
    "random_weights_path = f'{folder}/Weights/{name}_random.pth'\n",
    "if not os.path.exists(random_weights_path):\n",
    "    torch.save(model.state_dict(), random_weights_path)"
   ]
  },
  {
   "cell_type": "markdown",
   "id": "49cf1ad7",
   "metadata": {},
   "source": [
    "# Create a custom metric for the dice F 0.5 score"
   ]
  },
  {
   "cell_type": "code",
   "execution_count": 22,
   "id": "e0480e36",
   "metadata": {},
   "outputs": [],
   "source": [
    "class CustomDice(torchmetrics.Metric):\n",
    "    def __init__(self, beta=0.5, smooth=1e-5):\n",
    "        super().__init__()\n",
    "        \n",
    "        self.beta = beta\n",
    "        self.smooth = smooth\n",
    "        self.add_state(\"ctp\", default=torch.tensor(0, dtype=torch.float32), dist_reduce_fx=\"sum\")\n",
    "        self.add_state(\"cfp\", default=torch.tensor(0, dtype=torch.float32), dist_reduce_fx=\"sum\")\n",
    "        self.add_state(\"y_true_count\", default=torch.tensor(0, dtype=torch.float32), dist_reduce_fx=\"sum\")\n",
    "\n",
    "    def update(self, preds: torch.Tensor, target: torch.Tensor, apply_sigmoid=True):\n",
    "        \n",
    "        if apply_sigmoid:\n",
    "            preds = torch.sigmoid(preds)\n",
    "        preds = preds.view(-1)#.float()\n",
    "        target = target.view(-1)#.float()\n",
    "\n",
    "        self.y_true_count += target.sum()\n",
    "        self.ctp += preds[target == 1].sum()\n",
    "        self.cfp += preds[target == 0].sum()\n",
    "\n",
    "    def compute(self):\n",
    "        c_precision = self.ctp / (self.ctp + self.cfp + self.smooth)\n",
    "        c_recall = self.ctp / (self.y_true_count + self.smooth)\n",
    "        beta_squared = self.beta * self.beta\n",
    "        dice_score = (1 + beta_squared) * (c_precision * c_recall) / (beta_squared * c_precision + c_recall + self.smooth)\n",
    "\n",
    "        return dice_score"
   ]
  },
  {
   "cell_type": "markdown",
   "id": "35ea8b95",
   "metadata": {},
   "source": [
    "# Create the Lightning Module"
   ]
  },
  {
   "cell_type": "code",
   "execution_count": 23,
   "id": "ad8d4538",
   "metadata": {},
   "outputs": [],
   "source": [
    "class NN(pl.LightningModule):\n",
    "    def __init__(self, \n",
    "                 model, \n",
    "                 learning_rate,\n",
    "                 overweight_ink=ink_loss_weight,\n",
    "                 bce_loss_weight=bce_loss_weight,\n",
    "                 calculate_threshold=False):\n",
    "        super().__init__()\n",
    "        self.model = model\n",
    "        self.learning_rate = learning_rate\n",
    "        self.dice = CustomDice()\n",
    "        self.calc_th = calculate_threshold\n",
    "        self.overweight_ink = ink_loss_weight\n",
    "        self.bce_loss_weight = bce_loss_weight\n",
    "        self.epochs = epochs\n",
    "        self.pct_increase = pct_increase\n",
    "        self.BCE = nn.BCEWithLogitsLoss(pos_weight=torch.tensor(self.overweight_ink))\n",
    "        \n",
    "        self.dice_loss = losses.DiceLoss(sigmoid=True)\n",
    "        #self.masked_dice = losses.MaskedDiceLoss(sigmoid=True)\n",
    "        self.bce = nn.functional.binary_cross_entropy_with_logits\n",
    "        \n",
    "        self.predictions = []  # for holding both to calculate the optimal thresholds\n",
    "        self.targets = []\n",
    "        \n",
    "    def forward(self, x):\n",
    "        x = self.model(x)\n",
    "        \n",
    "        return x\n",
    "    \n",
    "    def training_step(self, batch, batch_idx):\n",
    "        X, mask, y = batch\n",
    "        \n",
    "        pred = self.model(X)\n",
    "        \n",
    "        # add class dim\n",
    "        mask = mask.unsqueeze(1)\n",
    "        y = y.unsqueeze(1)\n",
    "        \n",
    "        dice_loss = self.dice_loss(pred, y)\n",
    "        \n",
    "        bce_loss = self.BCE(pred, y)\n",
    "        \n",
    "        #dice_loss = self.masked_dice(pred, target=y, mask=mask)\n",
    "                \n",
    "        #bce_loss = self.bce(pred, y, weight=mask)\n",
    "        \n",
    "        # now calculate the final loss on the defined ration (diceloss vs bceloss)\n",
    "        loss = self.bce_loss_weight * bce_loss + (1 - self.bce_loss_weight) * dice_loss\n",
    "        \n",
    "        #loss = self.BCE(pred, y)\n",
    "        \n",
    "        with torch.no_grad():\n",
    "            dice_score = self.dice(pred, y)\n",
    "            \n",
    "        self.log_dict({'train_loss': loss,\n",
    "                       'train_dice': dice_score},\n",
    "                       on_step=False,\n",
    "                       on_epoch=True,\n",
    "                       prog_bar=True,\n",
    "                       logger=True)\n",
    "        \n",
    "        return {'loss': loss, 'train_dice': dice_score}\n",
    "        \n",
    "    def validation_step(self, batch, batch_idx):\n",
    "        X, mask, y = batch\n",
    "        \n",
    "        with torch.no_grad():\n",
    "            pred = self.model(X)\n",
    "        \n",
    "        # append the pred and y for thresholding\n",
    "        self.predictions.append(pred.flatten()) # flatten them for calculation\n",
    "        self.targets.append(y.flatten())\n",
    "        \n",
    "        # add class dim\n",
    "        mask = mask.unsqueeze(1)\n",
    "        y = y.unsqueeze(1)\n",
    "        \n",
    "        dice_loss = self.dice_loss(pred, y)\n",
    "        \n",
    "        bce_loss = self.BCE(pred, y)\n",
    "        \n",
    "        #dice_loss = self.masked_dice(pred, target=y, mask=mask)\n",
    "                \n",
    "        #bce_loss = self.bce(pred, y, weight=mask)\n",
    "        \n",
    "        # now calculate the final loss on the defined ration (diceloss vs bceloss)\n",
    "        loss = self.bce_loss_weight * bce_loss + (1 - self.bce_loss_weight) * dice_loss\n",
    "        \n",
    "        #loss = self.BCE(pred, y)\n",
    "        \n",
    "        dice_score = self.dice(pred, y)\n",
    "        \n",
    "        self.log_dict({'valid_loss': loss,\n",
    "                       'valid_dice': dice_score},\n",
    "                        on_step=False,\n",
    "                        on_epoch=True,\n",
    "                        prog_bar=True,\n",
    "                        logger=True)\n",
    "        \n",
    "        return {'valid_loss': loss, 'valid_dice': dice_score}\n",
    "    \n",
    "    def on_validation_epoch_end(self):\n",
    "        #if self.calc_th:  # dont calculate the optimal threshold when tuning hp\n",
    "            thresholds = np.arange(start=0.2, stop=0.8, step=0.05)  # thresholds to try\n",
    "            scores = []  # append the scores here to log them after all done\n",
    "            # use the attributes to calculate the dice score for each threshold\n",
    "            predictions = torch.cat(self.predictions, dim=0)\n",
    "            targets = torch.cat(self.targets, dim=0)\n",
    "\n",
    "            # first apply sigmoid to apply correct threshold\n",
    "            predictions = torch.sigmoid(predictions)\n",
    "\n",
    "            # try all thresholds\n",
    "            for threshold in thresholds:\n",
    "                threshold = torch.tensor(threshold)\n",
    "\n",
    "                # make predictions binary based on threshold            \n",
    "                pred_th = torch.where(predictions > threshold, 1, 0)\n",
    "\n",
    "                dice_score = self.dice(pred_th, targets, apply_sigmoid=False).cpu()\n",
    "                print('TH: ', threshold, ' - Dice: ', dice_score)\n",
    "                scores.append(dice_score)\n",
    "\n",
    "            # get the index of the best dice score\n",
    "            index_best = torch.argmax(torch.tensor(scores))\n",
    "\n",
    "            best_dice = torch.round(scores[index_best].clone(), decimals=3)\n",
    "            best_threshold = thresholds[index_best]\n",
    "\n",
    "            print(f'Best Threshold: {best_threshold} - Best Dice Score: {best_dice}')\n",
    "\n",
    "            # Log the best dice valid        \n",
    "            self.log_dict({'Best_Threshold': torch.tensor(best_threshold), 'Best_Dice': best_dice},\n",
    "                           on_step=False, on_epoch=True, prog_bar=True, logger=True)\n",
    "\n",
    "            # reset after each epoch\n",
    "            self.predictions = []\n",
    "            self.targets = []\n",
    "        \n",
    "    def configure_optimizers(self):\n",
    "        optim = torch.optim.Adam(self.model.parameters(), lr=self.learning_rate)\n",
    "        # needs params: total steps or steps per epoch and epochs\n",
    "        total_steps = len(self.trainer.datamodule.train_dataloader()) * self.epochs\n",
    "        scheduler = OneCycleLR(optimizer=optim,\n",
    "                               max_lr=self.learning_rate,\n",
    "                               epochs=self.epochs,\n",
    "                               #steps_per_epoch=10,\n",
    "                               total_steps = total_steps, #epochs*10,\n",
    "                               pct_start=self.pct_increase,)\n",
    "                               #verbose=True)\n",
    "        return [optim], [{\"scheduler\": scheduler, \"interval\": \"step\"}]"
   ]
  },
  {
   "cell_type": "markdown",
   "id": "4b3aaa7a",
   "metadata": {},
   "source": [
    "# Train / validate 3 models with the random weights"
   ]
  },
  {
   "cell_type": "code",
   "execution_count": 24,
   "id": "74bf1454",
   "metadata": {
    "scrolled": false
   },
   "outputs": [
    {
     "name": "stderr",
     "output_type": "stream",
     "text": [
      "Using 16bit Automatic Mixed Precision (AMP)\n",
      "GPU available: True (cuda), used: True\n",
      "TPU available: False, using: 0 TPU cores\n",
      "IPU available: False, using: 0 IPUs\n",
      "HPU available: False, using: 0 HPUs\n",
      "LOCAL_RANK: 0 - CUDA_VISIBLE_DEVICES: [0]\n",
      "\n",
      "  | Name      | Type              | Params\n",
      "------------------------------------------------\n",
      "0 | model     | Unet              | 34.6 M\n",
      "1 | dice      | CustomDice        | 0     \n",
      "2 | BCE       | BCEWithLogitsLoss | 0     \n",
      "3 | dice_loss | DiceLoss          | 0     \n",
      "------------------------------------------------\n",
      "34.6 M    Trainable params\n",
      "0         Non-trainable params\n",
      "34.6 M    Total params\n",
      "138.209   Total estimated model params size (MB)\n"
     ]
    },
    {
     "data": {
      "application/vnd.jupyter.widget-view+json": {
       "model_id": "",
       "version_major": 2,
       "version_minor": 0
      },
      "text/plain": [
       "Sanity Checking: 0it [00:00, ?it/s]"
      ]
     },
     "metadata": {},
     "output_type": "display_data"
    },
    {
     "name": "stderr",
     "output_type": "stream",
     "text": [
      "/home/olli/anaconda3/envs/light/lib/python3.11/site-packages/pytorch_lightning/trainer/connectors/data_connector.py:430: PossibleUserWarning: The dataloader, val_dataloader, does not have many workers which may be a bottleneck. Consider increasing the value of the `num_workers` argument` (try 32 which is the number of cpus on this machine) in the `DataLoader` init to improve performance.\n",
      "  rank_zero_warn(\n"
     ]
    },
    {
     "name": "stdout",
     "output_type": "stream",
     "text": [
      "TH:  tensor(0.2000, dtype=torch.float64)  - Dice:  tensor(0.1853)\n",
      "TH:  tensor(0.2500, dtype=torch.float64)  - Dice:  tensor(0.1853)\n",
      "TH:  tensor(0.3000, dtype=torch.float64)  - Dice:  tensor(0.1853)\n",
      "TH:  tensor(0.3500, dtype=torch.float64)  - Dice:  tensor(0.1853)\n",
      "TH:  tensor(0.4000, dtype=torch.float64)  - Dice:  tensor(0.1853)\n",
      "TH:  tensor(0.4500, dtype=torch.float64)  - Dice:  tensor(0.1853)\n",
      "TH:  tensor(0.5000, dtype=torch.float64)  - Dice:  tensor(0.1805)\n",
      "TH:  tensor(0.5500, dtype=torch.float64)  - Dice:  tensor(0.0004)\n",
      "TH:  tensor(0.6000, dtype=torch.float64)  - Dice:  tensor(0.)\n",
      "TH:  tensor(0.6500, dtype=torch.float64)  - Dice:  tensor(0.)\n",
      "TH:  tensor(0.7000, dtype=torch.float64)  - Dice:  tensor(0.)\n",
      "TH:  tensor(0.7500, dtype=torch.float64)  - Dice:  tensor(0.)\n",
      "TH:  tensor(0.8000, dtype=torch.float64)  - Dice:  tensor(0.)\n",
      "Best Threshold: 0.2 - Best Dice Score: 0.1850000023841858\n"
     ]
    },
    {
     "name": "stderr",
     "output_type": "stream",
     "text": [
      "/home/olli/anaconda3/envs/light/lib/python3.11/site-packages/pytorch_lightning/trainer/connectors/data_connector.py:430: PossibleUserWarning: The dataloader, train_dataloader, does not have many workers which may be a bottleneck. Consider increasing the value of the `num_workers` argument` (try 32 which is the number of cpus on this machine) in the `DataLoader` init to improve performance.\n",
      "  rank_zero_warn(\n"
     ]
    },
    {
     "data": {
      "application/vnd.jupyter.widget-view+json": {
       "model_id": "d0c20b6f171b471e9df756348f150c77",
       "version_major": 2,
       "version_minor": 0
      },
      "text/plain": [
       "Training: 0it [00:00, ?it/s]"
      ]
     },
     "metadata": {},
     "output_type": "display_data"
    },
    {
     "data": {
      "application/vnd.jupyter.widget-view+json": {
       "model_id": "",
       "version_major": 2,
       "version_minor": 0
      },
      "text/plain": [
       "Validation: 0it [00:00, ?it/s]"
      ]
     },
     "metadata": {},
     "output_type": "display_data"
    },
    {
     "name": "stdout",
     "output_type": "stream",
     "text": [
      "TH:  tensor(0.2000, dtype=torch.float64)  - Dice:  tensor(0.2201)\n",
      "TH:  tensor(0.2500, dtype=torch.float64)  - Dice:  tensor(0.2202)\n",
      "TH:  tensor(0.3000, dtype=torch.float64)  - Dice:  tensor(0.2217)\n",
      "TH:  tensor(0.3500, dtype=torch.float64)  - Dice:  tensor(0.2237)\n",
      "TH:  tensor(0.4000, dtype=torch.float64)  - Dice:  tensor(0.2238)\n",
      "TH:  tensor(0.4500, dtype=torch.float64)  - Dice:  tensor(0.2251)\n",
      "TH:  tensor(0.5000, dtype=torch.float64)  - Dice:  tensor(0.2586)\n",
      "TH:  tensor(0.5500, dtype=torch.float64)  - Dice:  tensor(0.2588)\n",
      "TH:  tensor(0.6000, dtype=torch.float64)  - Dice:  tensor(0.2529)\n",
      "TH:  tensor(0.6500, dtype=torch.float64)  - Dice:  tensor(0.2354)\n",
      "TH:  tensor(0.7000, dtype=torch.float64)  - Dice:  tensor(0.1937)\n",
      "TH:  tensor(0.7500, dtype=torch.float64)  - Dice:  tensor(0.1210)\n",
      "TH:  tensor(0.8000, dtype=torch.float64)  - Dice:  tensor(0.0482)\n",
      "Best Threshold: 0.5499999999999999 - Best Dice Score: 0.2590000033378601\n"
     ]
    },
    {
     "data": {
      "application/vnd.jupyter.widget-view+json": {
       "model_id": "",
       "version_major": 2,
       "version_minor": 0
      },
      "text/plain": [
       "Validation: 0it [00:00, ?it/s]"
      ]
     },
     "metadata": {},
     "output_type": "display_data"
    },
    {
     "name": "stdout",
     "output_type": "stream",
     "text": [
      "TH:  tensor(0.2000, dtype=torch.float64)  - Dice:  tensor(0.2533)\n",
      "TH:  tensor(0.2500, dtype=torch.float64)  - Dice:  tensor(0.2539)\n",
      "TH:  tensor(0.3000, dtype=torch.float64)  - Dice:  tensor(0.2574)\n",
      "TH:  tensor(0.3500, dtype=torch.float64)  - Dice:  tensor(0.2627)\n",
      "TH:  tensor(0.4000, dtype=torch.float64)  - Dice:  tensor(0.2677)\n",
      "TH:  tensor(0.4500, dtype=torch.float64)  - Dice:  tensor(0.2723)\n",
      "TH:  tensor(0.5000, dtype=torch.float64)  - Dice:  tensor(0.2714)\n",
      "TH:  tensor(0.5500, dtype=torch.float64)  - Dice:  tensor(0.2449)\n",
      "TH:  tensor(0.6000, dtype=torch.float64)  - Dice:  tensor(0.1606)\n",
      "TH:  tensor(0.6500, dtype=torch.float64)  - Dice:  tensor(0.0585)\n",
      "TH:  tensor(0.7000, dtype=torch.float64)  - Dice:  tensor(0.0149)\n",
      "TH:  tensor(0.7500, dtype=torch.float64)  - Dice:  tensor(0.0042)\n",
      "TH:  tensor(0.8000, dtype=torch.float64)  - Dice:  tensor(0.0012)\n",
      "Best Threshold: 0.44999999999999996 - Best Dice Score: 0.2720000147819519\n"
     ]
    },
    {
     "data": {
      "application/vnd.jupyter.widget-view+json": {
       "model_id": "",
       "version_major": 2,
       "version_minor": 0
      },
      "text/plain": [
       "Validation: 0it [00:00, ?it/s]"
      ]
     },
     "metadata": {},
     "output_type": "display_data"
    },
    {
     "name": "stdout",
     "output_type": "stream",
     "text": [
      "TH:  tensor(0.2000, dtype=torch.float64)  - Dice:  tensor(0.2507)\n",
      "TH:  tensor(0.2500, dtype=torch.float64)  - Dice:  tensor(0.2522)\n",
      "TH:  tensor(0.3000, dtype=torch.float64)  - Dice:  tensor(0.2534)\n",
      "TH:  tensor(0.3500, dtype=torch.float64)  - Dice:  tensor(0.2545)\n",
      "TH:  tensor(0.4000, dtype=torch.float64)  - Dice:  tensor(0.2564)\n",
      "TH:  tensor(0.4500, dtype=torch.float64)  - Dice:  tensor(0.2614)\n",
      "TH:  tensor(0.5000, dtype=torch.float64)  - Dice:  tensor(0.2705)\n",
      "TH:  tensor(0.5500, dtype=torch.float64)  - Dice:  tensor(0.2816)\n",
      "TH:  tensor(0.6000, dtype=torch.float64)  - Dice:  tensor(0.2953)\n",
      "TH:  tensor(0.6500, dtype=torch.float64)  - Dice:  tensor(0.3055)\n",
      "TH:  tensor(0.7000, dtype=torch.float64)  - Dice:  tensor(0.3054)\n",
      "TH:  tensor(0.7500, dtype=torch.float64)  - Dice:  tensor(0.2960)\n",
      "TH:  tensor(0.8000, dtype=torch.float64)  - Dice:  tensor(0.2788)\n",
      "Best Threshold: 0.6499999999999999 - Best Dice Score: 0.3059999942779541\n"
     ]
    },
    {
     "data": {
      "application/vnd.jupyter.widget-view+json": {
       "model_id": "",
       "version_major": 2,
       "version_minor": 0
      },
      "text/plain": [
       "Validation: 0it [00:00, ?it/s]"
      ]
     },
     "metadata": {},
     "output_type": "display_data"
    },
    {
     "name": "stdout",
     "output_type": "stream",
     "text": [
      "TH:  tensor(0.2000, dtype=torch.float64)  - Dice:  tensor(0.2542)\n",
      "TH:  tensor(0.2500, dtype=torch.float64)  - Dice:  tensor(0.2545)\n",
      "TH:  tensor(0.3000, dtype=torch.float64)  - Dice:  tensor(0.2548)\n",
      "TH:  tensor(0.3500, dtype=torch.float64)  - Dice:  tensor(0.2559)\n",
      "TH:  tensor(0.4000, dtype=torch.float64)  - Dice:  tensor(0.2595)\n",
      "TH:  tensor(0.4500, dtype=torch.float64)  - Dice:  tensor(0.2641)\n",
      "TH:  tensor(0.5000, dtype=torch.float64)  - Dice:  tensor(0.2693)\n",
      "TH:  tensor(0.5500, dtype=torch.float64)  - Dice:  tensor(0.2819)\n",
      "TH:  tensor(0.6000, dtype=torch.float64)  - Dice:  tensor(0.2886)\n",
      "TH:  tensor(0.6500, dtype=torch.float64)  - Dice:  tensor(0.1437)\n",
      "TH:  tensor(0.7000, dtype=torch.float64)  - Dice:  tensor(0.0068)\n",
      "TH:  tensor(0.7500, dtype=torch.float64)  - Dice:  tensor(8.1954e-05)\n",
      "TH:  tensor(0.8000, dtype=torch.float64)  - Dice:  tensor(4.1116e-06)\n",
      "Best Threshold: 0.5999999999999999 - Best Dice Score: 0.289000004529953\n"
     ]
    },
    {
     "data": {
      "application/vnd.jupyter.widget-view+json": {
       "model_id": "",
       "version_major": 2,
       "version_minor": 0
      },
      "text/plain": [
       "Validation: 0it [00:00, ?it/s]"
      ]
     },
     "metadata": {},
     "output_type": "display_data"
    },
    {
     "name": "stdout",
     "output_type": "stream",
     "text": [
      "TH:  tensor(0.2000, dtype=torch.float64)  - Dice:  tensor(0.2511)\n",
      "TH:  tensor(0.2500, dtype=torch.float64)  - Dice:  tensor(0.2569)\n",
      "TH:  tensor(0.3000, dtype=torch.float64)  - Dice:  tensor(0.2704)\n",
      "TH:  tensor(0.3500, dtype=torch.float64)  - Dice:  tensor(0.2864)\n",
      "TH:  tensor(0.4000, dtype=torch.float64)  - Dice:  tensor(0.2885)\n",
      "TH:  tensor(0.4500, dtype=torch.float64)  - Dice:  tensor(0.2638)\n",
      "TH:  tensor(0.5000, dtype=torch.float64)  - Dice:  tensor(0.2292)\n",
      "TH:  tensor(0.5500, dtype=torch.float64)  - Dice:  tensor(0.1955)\n",
      "TH:  tensor(0.6000, dtype=torch.float64)  - Dice:  tensor(0.1529)\n",
      "TH:  tensor(0.6500, dtype=torch.float64)  - Dice:  tensor(0.0989)\n",
      "TH:  tensor(0.7000, dtype=torch.float64)  - Dice:  tensor(0.0508)\n",
      "TH:  tensor(0.7500, dtype=torch.float64)  - Dice:  tensor(0.0208)\n",
      "TH:  tensor(0.8000, dtype=torch.float64)  - Dice:  tensor(0.0059)\n",
      "Best Threshold: 0.39999999999999997 - Best Dice Score: 0.2879999876022339\n"
     ]
    },
    {
     "data": {
      "application/vnd.jupyter.widget-view+json": {
       "model_id": "",
       "version_major": 2,
       "version_minor": 0
      },
      "text/plain": [
       "Validation: 0it [00:00, ?it/s]"
      ]
     },
     "metadata": {},
     "output_type": "display_data"
    },
    {
     "name": "stdout",
     "output_type": "stream",
     "text": [
      "TH:  tensor(0.2000, dtype=torch.float64)  - Dice:  tensor(0.2723)\n",
      "TH:  tensor(0.2500, dtype=torch.float64)  - Dice:  tensor(0.2919)\n",
      "TH:  tensor(0.3000, dtype=torch.float64)  - Dice:  tensor(0.3141)\n",
      "TH:  tensor(0.3500, dtype=torch.float64)  - Dice:  tensor(0.3334)\n",
      "TH:  tensor(0.4000, dtype=torch.float64)  - Dice:  tensor(0.3467)\n",
      "TH:  tensor(0.4500, dtype=torch.float64)  - Dice:  tensor(0.3535)\n",
      "TH:  tensor(0.5000, dtype=torch.float64)  - Dice:  tensor(0.3546)\n",
      "TH:  tensor(0.5500, dtype=torch.float64)  - Dice:  tensor(0.3510)\n",
      "TH:  tensor(0.6000, dtype=torch.float64)  - Dice:  tensor(0.3411)\n",
      "TH:  tensor(0.6500, dtype=torch.float64)  - Dice:  tensor(0.3146)\n",
      "TH:  tensor(0.7000, dtype=torch.float64)  - Dice:  tensor(0.2588)\n",
      "TH:  tensor(0.7500, dtype=torch.float64)  - Dice:  tensor(0.1684)\n",
      "TH:  tensor(0.8000, dtype=torch.float64)  - Dice:  tensor(0.0774)\n",
      "Best Threshold: 0.49999999999999994 - Best Dice Score: 0.35499998927116394\n"
     ]
    },
    {
     "data": {
      "application/vnd.jupyter.widget-view+json": {
       "model_id": "",
       "version_major": 2,
       "version_minor": 0
      },
      "text/plain": [
       "Validation: 0it [00:00, ?it/s]"
      ]
     },
     "metadata": {},
     "output_type": "display_data"
    },
    {
     "name": "stdout",
     "output_type": "stream",
     "text": [
      "TH:  tensor(0.2000, dtype=torch.float64)  - Dice:  tensor(0.3382)\n",
      "TH:  tensor(0.2500, dtype=torch.float64)  - Dice:  tensor(0.3896)\n",
      "TH:  tensor(0.3000, dtype=torch.float64)  - Dice:  tensor(0.4270)\n",
      "TH:  tensor(0.3500, dtype=torch.float64)  - Dice:  tensor(0.4427)\n",
      "TH:  tensor(0.4000, dtype=torch.float64)  - Dice:  tensor(0.4432)\n",
      "TH:  tensor(0.4500, dtype=torch.float64)  - Dice:  tensor(0.4379)\n",
      "TH:  tensor(0.5000, dtype=torch.float64)  - Dice:  tensor(0.4291)\n",
      "TH:  tensor(0.5500, dtype=torch.float64)  - Dice:  tensor(0.4158)\n",
      "TH:  tensor(0.6000, dtype=torch.float64)  - Dice:  tensor(0.3988)\n",
      "TH:  tensor(0.6500, dtype=torch.float64)  - Dice:  tensor(0.3785)\n",
      "TH:  tensor(0.7000, dtype=torch.float64)  - Dice:  tensor(0.3526)\n",
      "TH:  tensor(0.7500, dtype=torch.float64)  - Dice:  tensor(0.3192)\n",
      "TH:  tensor(0.8000, dtype=torch.float64)  - Dice:  tensor(0.2788)\n",
      "Best Threshold: 0.39999999999999997 - Best Dice Score: 0.4429999887943268\n"
     ]
    },
    {
     "data": {
      "application/vnd.jupyter.widget-view+json": {
       "model_id": "",
       "version_major": 2,
       "version_minor": 0
      },
      "text/plain": [
       "Validation: 0it [00:00, ?it/s]"
      ]
     },
     "metadata": {},
     "output_type": "display_data"
    },
    {
     "name": "stdout",
     "output_type": "stream",
     "text": [
      "TH:  tensor(0.2000, dtype=torch.float64)  - Dice:  tensor(0.3274)\n",
      "TH:  tensor(0.2500, dtype=torch.float64)  - Dice:  tensor(0.3656)\n",
      "TH:  tensor(0.3000, dtype=torch.float64)  - Dice:  tensor(0.4068)\n",
      "TH:  tensor(0.3500, dtype=torch.float64)  - Dice:  tensor(0.4270)\n",
      "TH:  tensor(0.4000, dtype=torch.float64)  - Dice:  tensor(0.4356)\n",
      "TH:  tensor(0.4500, dtype=torch.float64)  - Dice:  tensor(0.4410)\n",
      "TH:  tensor(0.5000, dtype=torch.float64)  - Dice:  tensor(0.4428)\n",
      "TH:  tensor(0.5500, dtype=torch.float64)  - Dice:  tensor(0.4419)\n",
      "TH:  tensor(0.6000, dtype=torch.float64)  - Dice:  tensor(0.4394)\n",
      "TH:  tensor(0.6500, dtype=torch.float64)  - Dice:  tensor(0.4356)\n",
      "TH:  tensor(0.7000, dtype=torch.float64)  - Dice:  tensor(0.4273)\n",
      "TH:  tensor(0.7500, dtype=torch.float64)  - Dice:  tensor(0.4092)\n",
      "TH:  tensor(0.8000, dtype=torch.float64)  - Dice:  tensor(0.3771)\n",
      "Best Threshold: 0.49999999999999994 - Best Dice Score: 0.4429999887943268\n"
     ]
    },
    {
     "data": {
      "application/vnd.jupyter.widget-view+json": {
       "model_id": "",
       "version_major": 2,
       "version_minor": 0
      },
      "text/plain": [
       "Validation: 0it [00:00, ?it/s]"
      ]
     },
     "metadata": {},
     "output_type": "display_data"
    },
    {
     "name": "stdout",
     "output_type": "stream",
     "text": [
      "TH:  tensor(0.2000, dtype=torch.float64)  - Dice:  tensor(0.2947)\n",
      "TH:  tensor(0.2500, dtype=torch.float64)  - Dice:  tensor(0.3046)\n",
      "TH:  tensor(0.3000, dtype=torch.float64)  - Dice:  tensor(0.3162)\n",
      "TH:  tensor(0.3500, dtype=torch.float64)  - Dice:  tensor(0.3271)\n",
      "TH:  tensor(0.4000, dtype=torch.float64)  - Dice:  tensor(0.3371)\n",
      "TH:  tensor(0.4500, dtype=torch.float64)  - Dice:  tensor(0.3461)\n",
      "TH:  tensor(0.5000, dtype=torch.float64)  - Dice:  tensor(0.3536)\n",
      "TH:  tensor(0.5500, dtype=torch.float64)  - Dice:  tensor(0.3604)\n",
      "TH:  tensor(0.6000, dtype=torch.float64)  - Dice:  tensor(0.3678)\n",
      "TH:  tensor(0.6500, dtype=torch.float64)  - Dice:  tensor(0.3746)\n",
      "TH:  tensor(0.7000, dtype=torch.float64)  - Dice:  tensor(0.3819)\n",
      "TH:  tensor(0.7500, dtype=torch.float64)  - Dice:  tensor(0.3906)\n",
      "TH:  tensor(0.8000, dtype=torch.float64)  - Dice:  tensor(0.3979)\n",
      "Best Threshold: 0.7999999999999998 - Best Dice Score: 0.39800000190734863\n"
     ]
    },
    {
     "data": {
      "application/vnd.jupyter.widget-view+json": {
       "model_id": "",
       "version_major": 2,
       "version_minor": 0
      },
      "text/plain": [
       "Validation: 0it [00:00, ?it/s]"
      ]
     },
     "metadata": {},
     "output_type": "display_data"
    },
    {
     "name": "stdout",
     "output_type": "stream",
     "text": [
      "TH:  tensor(0.2000, dtype=torch.float64)  - Dice:  tensor(0.4044)\n",
      "TH:  tensor(0.2500, dtype=torch.float64)  - Dice:  tensor(0.4307)\n",
      "TH:  tensor(0.3000, dtype=torch.float64)  - Dice:  tensor(0.4474)\n",
      "TH:  tensor(0.3500, dtype=torch.float64)  - Dice:  tensor(0.4551)\n",
      "TH:  tensor(0.4000, dtype=torch.float64)  - Dice:  tensor(0.4587)\n",
      "TH:  tensor(0.4500, dtype=torch.float64)  - Dice:  tensor(0.4605)\n",
      "TH:  tensor(0.5000, dtype=torch.float64)  - Dice:  tensor(0.4607)\n",
      "TH:  tensor(0.5500, dtype=torch.float64)  - Dice:  tensor(0.4578)\n",
      "TH:  tensor(0.6000, dtype=torch.float64)  - Dice:  tensor(0.4505)\n",
      "TH:  tensor(0.6500, dtype=torch.float64)  - Dice:  tensor(0.4397)\n",
      "TH:  tensor(0.7000, dtype=torch.float64)  - Dice:  tensor(0.4238)\n",
      "TH:  tensor(0.7500, dtype=torch.float64)  - Dice:  tensor(0.3984)\n",
      "TH:  tensor(0.8000, dtype=torch.float64)  - Dice:  tensor(0.3548)\n",
      "Best Threshold: 0.49999999999999994 - Best Dice Score: 0.460999995470047\n"
     ]
    },
    {
     "data": {
      "application/vnd.jupyter.widget-view+json": {
       "model_id": "",
       "version_major": 2,
       "version_minor": 0
      },
      "text/plain": [
       "Validation: 0it [00:00, ?it/s]"
      ]
     },
     "metadata": {},
     "output_type": "display_data"
    },
    {
     "name": "stdout",
     "output_type": "stream",
     "text": [
      "TH:  tensor(0.2000, dtype=torch.float64)  - Dice:  tensor(0.3890)\n",
      "TH:  tensor(0.2500, dtype=torch.float64)  - Dice:  tensor(0.4165)\n",
      "TH:  tensor(0.3000, dtype=torch.float64)  - Dice:  tensor(0.4351)\n",
      "TH:  tensor(0.3500, dtype=torch.float64)  - Dice:  tensor(0.4456)\n",
      "TH:  tensor(0.4000, dtype=torch.float64)  - Dice:  tensor(0.4524)\n",
      "TH:  tensor(0.4500, dtype=torch.float64)  - Dice:  tensor(0.4575)\n",
      "TH:  tensor(0.5000, dtype=torch.float64)  - Dice:  tensor(0.4618)\n",
      "TH:  tensor(0.5500, dtype=torch.float64)  - Dice:  tensor(0.4666)\n",
      "TH:  tensor(0.6000, dtype=torch.float64)  - Dice:  tensor(0.4713)\n",
      "TH:  tensor(0.6500, dtype=torch.float64)  - Dice:  tensor(0.4728)\n",
      "TH:  tensor(0.7000, dtype=torch.float64)  - Dice:  tensor(0.4724)\n",
      "TH:  tensor(0.7500, dtype=torch.float64)  - Dice:  tensor(0.4689)\n",
      "TH:  tensor(0.8000, dtype=torch.float64)  - Dice:  tensor(0.4600)\n",
      "Best Threshold: 0.6499999999999999 - Best Dice Score: 0.4729999899864197\n"
     ]
    },
    {
     "data": {
      "application/vnd.jupyter.widget-view+json": {
       "model_id": "",
       "version_major": 2,
       "version_minor": 0
      },
      "text/plain": [
       "Validation: 0it [00:00, ?it/s]"
      ]
     },
     "metadata": {},
     "output_type": "display_data"
    },
    {
     "name": "stdout",
     "output_type": "stream",
     "text": [
      "TH:  tensor(0.2000, dtype=torch.float64)  - Dice:  tensor(0.3957)\n",
      "TH:  tensor(0.2500, dtype=torch.float64)  - Dice:  tensor(0.4296)\n",
      "TH:  tensor(0.3000, dtype=torch.float64)  - Dice:  tensor(0.4517)\n",
      "TH:  tensor(0.3500, dtype=torch.float64)  - Dice:  tensor(0.4644)\n",
      "TH:  tensor(0.4000, dtype=torch.float64)  - Dice:  tensor(0.4736)\n",
      "TH:  tensor(0.4500, dtype=torch.float64)  - Dice:  tensor(0.4807)\n",
      "TH:  tensor(0.5000, dtype=torch.float64)  - Dice:  tensor(0.4859)\n",
      "TH:  tensor(0.5500, dtype=torch.float64)  - Dice:  tensor(0.4890)\n",
      "TH:  tensor(0.6000, dtype=torch.float64)  - Dice:  tensor(0.4884)\n",
      "TH:  tensor(0.6500, dtype=torch.float64)  - Dice:  tensor(0.4849)\n",
      "TH:  tensor(0.7000, dtype=torch.float64)  - Dice:  tensor(0.4791)\n",
      "TH:  tensor(0.7500, dtype=torch.float64)  - Dice:  tensor(0.4686)\n",
      "TH:  tensor(0.8000, dtype=torch.float64)  - Dice:  tensor(0.4486)\n",
      "Best Threshold: 0.5499999999999999 - Best Dice Score: 0.48899999260902405\n"
     ]
    },
    {
     "data": {
      "application/vnd.jupyter.widget-view+json": {
       "model_id": "",
       "version_major": 2,
       "version_minor": 0
      },
      "text/plain": [
       "Validation: 0it [00:00, ?it/s]"
      ]
     },
     "metadata": {},
     "output_type": "display_data"
    },
    {
     "name": "stdout",
     "output_type": "stream",
     "text": [
      "TH:  tensor(0.2000, dtype=torch.float64)  - Dice:  tensor(0.3981)\n",
      "TH:  tensor(0.2500, dtype=torch.float64)  - Dice:  tensor(0.4333)\n",
      "TH:  tensor(0.3000, dtype=torch.float64)  - Dice:  tensor(0.4575)\n",
      "TH:  tensor(0.3500, dtype=torch.float64)  - Dice:  tensor(0.4702)\n",
      "TH:  tensor(0.4000, dtype=torch.float64)  - Dice:  tensor(0.4773)\n",
      "TH:  tensor(0.4500, dtype=torch.float64)  - Dice:  tensor(0.4824)\n",
      "TH:  tensor(0.5000, dtype=torch.float64)  - Dice:  tensor(0.4852)\n",
      "TH:  tensor(0.5500, dtype=torch.float64)  - Dice:  tensor(0.4827)\n",
      "TH:  tensor(0.6000, dtype=torch.float64)  - Dice:  tensor(0.4759)\n",
      "TH:  tensor(0.6500, dtype=torch.float64)  - Dice:  tensor(0.4699)\n",
      "TH:  tensor(0.7000, dtype=torch.float64)  - Dice:  tensor(0.4629)\n",
      "TH:  tensor(0.7500, dtype=torch.float64)  - Dice:  tensor(0.4521)\n",
      "TH:  tensor(0.8000, dtype=torch.float64)  - Dice:  tensor(0.4304)\n",
      "Best Threshold: 0.49999999999999994 - Best Dice Score: 0.48500001430511475\n"
     ]
    },
    {
     "data": {
      "application/vnd.jupyter.widget-view+json": {
       "model_id": "",
       "version_major": 2,
       "version_minor": 0
      },
      "text/plain": [
       "Validation: 0it [00:00, ?it/s]"
      ]
     },
     "metadata": {},
     "output_type": "display_data"
    },
    {
     "name": "stdout",
     "output_type": "stream",
     "text": [
      "TH:  tensor(0.2000, dtype=torch.float64)  - Dice:  tensor(0.3983)\n",
      "TH:  tensor(0.2500, dtype=torch.float64)  - Dice:  tensor(0.4302)\n",
      "TH:  tensor(0.3000, dtype=torch.float64)  - Dice:  tensor(0.4543)\n",
      "TH:  tensor(0.3500, dtype=torch.float64)  - Dice:  tensor(0.4689)\n",
      "TH:  tensor(0.4000, dtype=torch.float64)  - Dice:  tensor(0.4778)\n",
      "TH:  tensor(0.4500, dtype=torch.float64)  - Dice:  tensor(0.4840)\n",
      "TH:  tensor(0.5000, dtype=torch.float64)  - Dice:  tensor(0.4877)\n",
      "TH:  tensor(0.5500, dtype=torch.float64)  - Dice:  tensor(0.4873)\n",
      "TH:  tensor(0.6000, dtype=torch.float64)  - Dice:  tensor(0.4826)\n",
      "TH:  tensor(0.6500, dtype=torch.float64)  - Dice:  tensor(0.4764)\n",
      "TH:  tensor(0.7000, dtype=torch.float64)  - Dice:  tensor(0.4687)\n",
      "TH:  tensor(0.7500, dtype=torch.float64)  - Dice:  tensor(0.4586)\n",
      "TH:  tensor(0.8000, dtype=torch.float64)  - Dice:  tensor(0.4415)\n",
      "Best Threshold: 0.49999999999999994 - Best Dice Score: 0.4880000054836273\n"
     ]
    },
    {
     "name": "stderr",
     "output_type": "stream",
     "text": [
      "`Trainer.fit` stopped: `max_epochs=14` reached.\n",
      "Using 16bit Automatic Mixed Precision (AMP)\n",
      "GPU available: True (cuda), used: True\n",
      "TPU available: False, using: 0 TPU cores\n",
      "IPU available: False, using: 0 IPUs\n",
      "HPU available: False, using: 0 HPUs\n",
      "LOCAL_RANK: 0 - CUDA_VISIBLE_DEVICES: [0]\n",
      "\n",
      "  | Name      | Type              | Params\n",
      "------------------------------------------------\n",
      "0 | model     | Unet              | 34.6 M\n",
      "1 | dice      | CustomDice        | 0     \n",
      "2 | BCE       | BCEWithLogitsLoss | 0     \n",
      "3 | dice_loss | DiceLoss          | 0     \n",
      "------------------------------------------------\n",
      "34.6 M    Trainable params\n",
      "0         Non-trainable params\n",
      "34.6 M    Total params\n",
      "138.209   Total estimated model params size (MB)\n"
     ]
    },
    {
     "data": {
      "application/vnd.jupyter.widget-view+json": {
       "model_id": "",
       "version_major": 2,
       "version_minor": 0
      },
      "text/plain": [
       "Sanity Checking: 0it [00:00, ?it/s]"
      ]
     },
     "metadata": {},
     "output_type": "display_data"
    },
    {
     "name": "stdout",
     "output_type": "stream",
     "text": [
      "TH:  tensor(0.2000, dtype=torch.float64)  - Dice:  tensor(0.2115)\n",
      "TH:  tensor(0.2500, dtype=torch.float64)  - Dice:  tensor(0.2115)\n",
      "TH:  tensor(0.3000, dtype=torch.float64)  - Dice:  tensor(0.2115)\n",
      "TH:  tensor(0.3500, dtype=torch.float64)  - Dice:  tensor(0.2115)\n",
      "TH:  tensor(0.4000, dtype=torch.float64)  - Dice:  tensor(0.2115)\n",
      "TH:  tensor(0.4500, dtype=torch.float64)  - Dice:  tensor(0.2115)\n",
      "TH:  tensor(0.5000, dtype=torch.float64)  - Dice:  tensor(0.2107)\n",
      "TH:  tensor(0.5500, dtype=torch.float64)  - Dice:  tensor(0.0007)\n",
      "TH:  tensor(0.6000, dtype=torch.float64)  - Dice:  tensor(0.)\n",
      "TH:  tensor(0.6500, dtype=torch.float64)  - Dice:  tensor(0.)\n",
      "TH:  tensor(0.7000, dtype=torch.float64)  - Dice:  tensor(0.)\n",
      "TH:  tensor(0.7500, dtype=torch.float64)  - Dice:  tensor(0.)\n",
      "TH:  tensor(0.8000, dtype=torch.float64)  - Dice:  tensor(0.)\n",
      "Best Threshold: 0.2 - Best Dice Score: 0.210999995470047\n"
     ]
    },
    {
     "name": "stderr",
     "output_type": "stream",
     "text": [
      "/home/olli/anaconda3/envs/light/lib/python3.11/site-packages/pytorch_lightning/loops/fit_loop.py:280: PossibleUserWarning: The number of training batches (24) is smaller than the logging interval Trainer(log_every_n_steps=50). Set a lower value for log_every_n_steps if you want to see logs for the training epoch.\n",
      "  rank_zero_warn(\n"
     ]
    },
    {
     "data": {
      "application/vnd.jupyter.widget-view+json": {
       "model_id": "61d6298397b2482d9fdde6986db0b24e",
       "version_major": 2,
       "version_minor": 0
      },
      "text/plain": [
       "Training: 0it [00:00, ?it/s]"
      ]
     },
     "metadata": {},
     "output_type": "display_data"
    },
    {
     "data": {
      "application/vnd.jupyter.widget-view+json": {
       "model_id": "",
       "version_major": 2,
       "version_minor": 0
      },
      "text/plain": [
       "Validation: 0it [00:00, ?it/s]"
      ]
     },
     "metadata": {},
     "output_type": "display_data"
    },
    {
     "name": "stdout",
     "output_type": "stream",
     "text": [
      "TH:  tensor(0.2000, dtype=torch.float64)  - Dice:  tensor(0.2104)\n",
      "TH:  tensor(0.2500, dtype=torch.float64)  - Dice:  tensor(0.2104)\n",
      "TH:  tensor(0.3000, dtype=torch.float64)  - Dice:  tensor(0.2104)\n",
      "TH:  tensor(0.3500, dtype=torch.float64)  - Dice:  tensor(0.2104)\n",
      "TH:  tensor(0.4000, dtype=torch.float64)  - Dice:  tensor(0.2105)\n",
      "TH:  tensor(0.4500, dtype=torch.float64)  - Dice:  tensor(0.2179)\n",
      "TH:  tensor(0.5000, dtype=torch.float64)  - Dice:  tensor(0.2196)\n",
      "TH:  tensor(0.5500, dtype=torch.float64)  - Dice:  tensor(0.2187)\n",
      "TH:  tensor(0.6000, dtype=torch.float64)  - Dice:  tensor(0.2155)\n",
      "TH:  tensor(0.6500, dtype=torch.float64)  - Dice:  tensor(0.2138)\n",
      "TH:  tensor(0.7000, dtype=torch.float64)  - Dice:  tensor(0.1943)\n",
      "TH:  tensor(0.7500, dtype=torch.float64)  - Dice:  tensor(0.1105)\n",
      "TH:  tensor(0.8000, dtype=torch.float64)  - Dice:  tensor(0.0164)\n",
      "Best Threshold: 0.49999999999999994 - Best Dice Score: 0.2199999988079071\n"
     ]
    },
    {
     "data": {
      "application/vnd.jupyter.widget-view+json": {
       "model_id": "",
       "version_major": 2,
       "version_minor": 0
      },
      "text/plain": [
       "Validation: 0it [00:00, ?it/s]"
      ]
     },
     "metadata": {},
     "output_type": "display_data"
    },
    {
     "name": "stdout",
     "output_type": "stream",
     "text": [
      "TH:  tensor(0.2000, dtype=torch.float64)  - Dice:  tensor(0.2102)\n",
      "TH:  tensor(0.2500, dtype=torch.float64)  - Dice:  tensor(0.2103)\n",
      "TH:  tensor(0.3000, dtype=torch.float64)  - Dice:  tensor(0.2198)\n",
      "TH:  tensor(0.3500, dtype=torch.float64)  - Dice:  tensor(0.2214)\n",
      "TH:  tensor(0.4000, dtype=torch.float64)  - Dice:  tensor(0.2246)\n",
      "TH:  tensor(0.4500, dtype=torch.float64)  - Dice:  tensor(0.2277)\n",
      "TH:  tensor(0.5000, dtype=torch.float64)  - Dice:  tensor(0.2288)\n",
      "TH:  tensor(0.5500, dtype=torch.float64)  - Dice:  tensor(0.2286)\n",
      "TH:  tensor(0.6000, dtype=torch.float64)  - Dice:  tensor(0.2214)\n",
      "TH:  tensor(0.6500, dtype=torch.float64)  - Dice:  tensor(0.1997)\n",
      "TH:  tensor(0.7000, dtype=torch.float64)  - Dice:  tensor(0.1633)\n",
      "TH:  tensor(0.7500, dtype=torch.float64)  - Dice:  tensor(0.1244)\n",
      "TH:  tensor(0.8000, dtype=torch.float64)  - Dice:  tensor(0.0927)\n",
      "Best Threshold: 0.49999999999999994 - Best Dice Score: 0.2290000021457672\n"
     ]
    },
    {
     "data": {
      "application/vnd.jupyter.widget-view+json": {
       "model_id": "",
       "version_major": 2,
       "version_minor": 0
      },
      "text/plain": [
       "Validation: 0it [00:00, ?it/s]"
      ]
     },
     "metadata": {},
     "output_type": "display_data"
    },
    {
     "name": "stdout",
     "output_type": "stream",
     "text": [
      "TH:  tensor(0.2000, dtype=torch.float64)  - Dice:  tensor(0.2278)\n",
      "TH:  tensor(0.2500, dtype=torch.float64)  - Dice:  tensor(0.2282)\n",
      "TH:  tensor(0.3000, dtype=torch.float64)  - Dice:  tensor(0.2287)\n",
      "TH:  tensor(0.3500, dtype=torch.float64)  - Dice:  tensor(0.2292)\n",
      "TH:  tensor(0.4000, dtype=torch.float64)  - Dice:  tensor(0.2298)\n",
      "TH:  tensor(0.4500, dtype=torch.float64)  - Dice:  tensor(0.2308)\n",
      "TH:  tensor(0.5000, dtype=torch.float64)  - Dice:  tensor(0.2322)\n",
      "TH:  tensor(0.5500, dtype=torch.float64)  - Dice:  tensor(0.2269)\n",
      "TH:  tensor(0.6000, dtype=torch.float64)  - Dice:  tensor(0.2023)\n",
      "TH:  tensor(0.6500, dtype=torch.float64)  - Dice:  tensor(0.1701)\n",
      "TH:  tensor(0.7000, dtype=torch.float64)  - Dice:  tensor(0.1484)\n",
      "TH:  tensor(0.7500, dtype=torch.float64)  - Dice:  tensor(0.1352)\n",
      "TH:  tensor(0.8000, dtype=torch.float64)  - Dice:  tensor(0.1255)\n",
      "Best Threshold: 0.49999999999999994 - Best Dice Score: 0.23199999332427979\n"
     ]
    },
    {
     "data": {
      "application/vnd.jupyter.widget-view+json": {
       "model_id": "",
       "version_major": 2,
       "version_minor": 0
      },
      "text/plain": [
       "Validation: 0it [00:00, ?it/s]"
      ]
     },
     "metadata": {},
     "output_type": "display_data"
    },
    {
     "name": "stdout",
     "output_type": "stream",
     "text": [
      "TH:  tensor(0.2000, dtype=torch.float64)  - Dice:  tensor(0.2290)\n",
      "TH:  tensor(0.2500, dtype=torch.float64)  - Dice:  tensor(0.2303)\n",
      "TH:  tensor(0.3000, dtype=torch.float64)  - Dice:  tensor(0.2320)\n",
      "TH:  tensor(0.3500, dtype=torch.float64)  - Dice:  tensor(0.2348)\n",
      "TH:  tensor(0.4000, dtype=torch.float64)  - Dice:  tensor(0.2395)\n",
      "TH:  tensor(0.4500, dtype=torch.float64)  - Dice:  tensor(0.2477)\n",
      "TH:  tensor(0.5000, dtype=torch.float64)  - Dice:  tensor(0.2606)\n",
      "TH:  tensor(0.5500, dtype=torch.float64)  - Dice:  tensor(0.2542)\n",
      "TH:  tensor(0.6000, dtype=torch.float64)  - Dice:  tensor(0.2170)\n",
      "TH:  tensor(0.6500, dtype=torch.float64)  - Dice:  tensor(0.1645)\n",
      "TH:  tensor(0.7000, dtype=torch.float64)  - Dice:  tensor(0.1147)\n",
      "TH:  tensor(0.7500, dtype=torch.float64)  - Dice:  tensor(0.0745)\n",
      "TH:  tensor(0.8000, dtype=torch.float64)  - Dice:  tensor(0.0446)\n",
      "Best Threshold: 0.49999999999999994 - Best Dice Score: 0.26100000739097595\n"
     ]
    },
    {
     "data": {
      "application/vnd.jupyter.widget-view+json": {
       "model_id": "",
       "version_major": 2,
       "version_minor": 0
      },
      "text/plain": [
       "Validation: 0it [00:00, ?it/s]"
      ]
     },
     "metadata": {},
     "output_type": "display_data"
    },
    {
     "name": "stdout",
     "output_type": "stream",
     "text": [
      "TH:  tensor(0.2000, dtype=torch.float64)  - Dice:  tensor(0.2356)\n",
      "TH:  tensor(0.2500, dtype=torch.float64)  - Dice:  tensor(0.2388)\n",
      "TH:  tensor(0.3000, dtype=torch.float64)  - Dice:  tensor(0.2417)\n",
      "TH:  tensor(0.3500, dtype=torch.float64)  - Dice:  tensor(0.2452)\n",
      "TH:  tensor(0.4000, dtype=torch.float64)  - Dice:  tensor(0.2517)\n",
      "TH:  tensor(0.4500, dtype=torch.float64)  - Dice:  tensor(0.2652)\n",
      "TH:  tensor(0.5000, dtype=torch.float64)  - Dice:  tensor(0.2695)\n",
      "TH:  tensor(0.5500, dtype=torch.float64)  - Dice:  tensor(0.2564)\n",
      "TH:  tensor(0.6000, dtype=torch.float64)  - Dice:  tensor(0.2247)\n",
      "TH:  tensor(0.6500, dtype=torch.float64)  - Dice:  tensor(0.1845)\n",
      "TH:  tensor(0.7000, dtype=torch.float64)  - Dice:  tensor(0.1480)\n",
      "TH:  tensor(0.7500, dtype=torch.float64)  - Dice:  tensor(0.1207)\n",
      "TH:  tensor(0.8000, dtype=torch.float64)  - Dice:  tensor(0.1006)\n",
      "Best Threshold: 0.49999999999999994 - Best Dice Score: 0.26899999380111694\n"
     ]
    },
    {
     "data": {
      "application/vnd.jupyter.widget-view+json": {
       "model_id": "",
       "version_major": 2,
       "version_minor": 0
      },
      "text/plain": [
       "Validation: 0it [00:00, ?it/s]"
      ]
     },
     "metadata": {},
     "output_type": "display_data"
    },
    {
     "name": "stdout",
     "output_type": "stream",
     "text": [
      "TH:  tensor(0.2000, dtype=torch.float64)  - Dice:  tensor(0.2294)\n",
      "TH:  tensor(0.2500, dtype=torch.float64)  - Dice:  tensor(0.2329)\n",
      "TH:  tensor(0.3000, dtype=torch.float64)  - Dice:  tensor(0.2367)\n",
      "TH:  tensor(0.3500, dtype=torch.float64)  - Dice:  tensor(0.2442)\n",
      "TH:  tensor(0.4000, dtype=torch.float64)  - Dice:  tensor(0.2565)\n",
      "TH:  tensor(0.4500, dtype=torch.float64)  - Dice:  tensor(0.2682)\n",
      "TH:  tensor(0.5000, dtype=torch.float64)  - Dice:  tensor(0.2734)\n",
      "TH:  tensor(0.5500, dtype=torch.float64)  - Dice:  tensor(0.2554)\n",
      "TH:  tensor(0.6000, dtype=torch.float64)  - Dice:  tensor(0.1910)\n",
      "TH:  tensor(0.6500, dtype=torch.float64)  - Dice:  tensor(0.1014)\n",
      "TH:  tensor(0.7000, dtype=torch.float64)  - Dice:  tensor(0.0392)\n",
      "TH:  tensor(0.7500, dtype=torch.float64)  - Dice:  tensor(0.0110)\n",
      "TH:  tensor(0.8000, dtype=torch.float64)  - Dice:  tensor(0.0024)\n",
      "Best Threshold: 0.49999999999999994 - Best Dice Score: 0.27300000190734863\n"
     ]
    },
    {
     "data": {
      "application/vnd.jupyter.widget-view+json": {
       "model_id": "",
       "version_major": 2,
       "version_minor": 0
      },
      "text/plain": [
       "Validation: 0it [00:00, ?it/s]"
      ]
     },
     "metadata": {},
     "output_type": "display_data"
    },
    {
     "name": "stdout",
     "output_type": "stream",
     "text": [
      "TH:  tensor(0.2000, dtype=torch.float64)  - Dice:  tensor(0.2407)\n",
      "TH:  tensor(0.2500, dtype=torch.float64)  - Dice:  tensor(0.2418)\n",
      "TH:  tensor(0.3000, dtype=torch.float64)  - Dice:  tensor(0.2414)\n",
      "TH:  tensor(0.3500, dtype=torch.float64)  - Dice:  tensor(0.2390)\n",
      "TH:  tensor(0.4000, dtype=torch.float64)  - Dice:  tensor(0.2327)\n",
      "TH:  tensor(0.4500, dtype=torch.float64)  - Dice:  tensor(0.2098)\n",
      "TH:  tensor(0.5000, dtype=torch.float64)  - Dice:  tensor(0.1484)\n",
      "TH:  tensor(0.5500, dtype=torch.float64)  - Dice:  tensor(0.0826)\n",
      "TH:  tensor(0.6000, dtype=torch.float64)  - Dice:  tensor(0.0318)\n",
      "TH:  tensor(0.6500, dtype=torch.float64)  - Dice:  tensor(0.0103)\n",
      "TH:  tensor(0.7000, dtype=torch.float64)  - Dice:  tensor(0.0046)\n",
      "TH:  tensor(0.7500, dtype=torch.float64)  - Dice:  tensor(0.0028)\n",
      "TH:  tensor(0.8000, dtype=torch.float64)  - Dice:  tensor(0.0016)\n",
      "Best Threshold: 0.25 - Best Dice Score: 0.24199999868869781\n"
     ]
    },
    {
     "data": {
      "application/vnd.jupyter.widget-view+json": {
       "model_id": "",
       "version_major": 2,
       "version_minor": 0
      },
      "text/plain": [
       "Validation: 0it [00:00, ?it/s]"
      ]
     },
     "metadata": {},
     "output_type": "display_data"
    },
    {
     "name": "stdout",
     "output_type": "stream",
     "text": [
      "TH:  tensor(0.2000, dtype=torch.float64)  - Dice:  tensor(0.2464)\n",
      "TH:  tensor(0.2500, dtype=torch.float64)  - Dice:  tensor(0.2550)\n",
      "TH:  tensor(0.3000, dtype=torch.float64)  - Dice:  tensor(0.2654)\n",
      "TH:  tensor(0.3500, dtype=torch.float64)  - Dice:  tensor(0.2772)\n",
      "TH:  tensor(0.4000, dtype=torch.float64)  - Dice:  tensor(0.2880)\n",
      "TH:  tensor(0.4500, dtype=torch.float64)  - Dice:  tensor(0.2959)\n",
      "TH:  tensor(0.5000, dtype=torch.float64)  - Dice:  tensor(0.3022)\n",
      "TH:  tensor(0.5500, dtype=torch.float64)  - Dice:  tensor(0.3088)\n",
      "TH:  tensor(0.6000, dtype=torch.float64)  - Dice:  tensor(0.3185)\n",
      "TH:  tensor(0.6500, dtype=torch.float64)  - Dice:  tensor(0.3227)\n",
      "TH:  tensor(0.7000, dtype=torch.float64)  - Dice:  tensor(0.3180)\n",
      "TH:  tensor(0.7500, dtype=torch.float64)  - Dice:  tensor(0.3050)\n",
      "TH:  tensor(0.8000, dtype=torch.float64)  - Dice:  tensor(0.2781)\n",
      "Best Threshold: 0.6499999999999999 - Best Dice Score: 0.3230000138282776\n"
     ]
    },
    {
     "data": {
      "application/vnd.jupyter.widget-view+json": {
       "model_id": "",
       "version_major": 2,
       "version_minor": 0
      },
      "text/plain": [
       "Validation: 0it [00:00, ?it/s]"
      ]
     },
     "metadata": {},
     "output_type": "display_data"
    },
    {
     "name": "stdout",
     "output_type": "stream",
     "text": [
      "TH:  tensor(0.2000, dtype=torch.float64)  - Dice:  tensor(0.2476)\n",
      "TH:  tensor(0.2500, dtype=torch.float64)  - Dice:  tensor(0.2533)\n",
      "TH:  tensor(0.3000, dtype=torch.float64)  - Dice:  tensor(0.2590)\n",
      "TH:  tensor(0.3500, dtype=torch.float64)  - Dice:  tensor(0.2656)\n",
      "TH:  tensor(0.4000, dtype=torch.float64)  - Dice:  tensor(0.2758)\n",
      "TH:  tensor(0.4500, dtype=torch.float64)  - Dice:  tensor(0.2820)\n",
      "TH:  tensor(0.5000, dtype=torch.float64)  - Dice:  tensor(0.2857)\n",
      "TH:  tensor(0.5500, dtype=torch.float64)  - Dice:  tensor(0.2894)\n",
      "TH:  tensor(0.6000, dtype=torch.float64)  - Dice:  tensor(0.2932)\n",
      "TH:  tensor(0.6500, dtype=torch.float64)  - Dice:  tensor(0.2937)\n",
      "TH:  tensor(0.7000, dtype=torch.float64)  - Dice:  tensor(0.2691)\n",
      "TH:  tensor(0.7500, dtype=torch.float64)  - Dice:  tensor(0.2044)\n",
      "TH:  tensor(0.8000, dtype=torch.float64)  - Dice:  tensor(0.1302)\n",
      "Best Threshold: 0.6499999999999999 - Best Dice Score: 0.2939999997615814\n"
     ]
    },
    {
     "data": {
      "application/vnd.jupyter.widget-view+json": {
       "model_id": "",
       "version_major": 2,
       "version_minor": 0
      },
      "text/plain": [
       "Validation: 0it [00:00, ?it/s]"
      ]
     },
     "metadata": {},
     "output_type": "display_data"
    },
    {
     "name": "stdout",
     "output_type": "stream",
     "text": [
      "TH:  tensor(0.2000, dtype=torch.float64)  - Dice:  tensor(0.2856)\n",
      "TH:  tensor(0.2500, dtype=torch.float64)  - Dice:  tensor(0.3010)\n",
      "TH:  tensor(0.3000, dtype=torch.float64)  - Dice:  tensor(0.3214)\n",
      "TH:  tensor(0.3500, dtype=torch.float64)  - Dice:  tensor(0.3403)\n",
      "TH:  tensor(0.4000, dtype=torch.float64)  - Dice:  tensor(0.3490)\n",
      "TH:  tensor(0.4500, dtype=torch.float64)  - Dice:  tensor(0.3458)\n",
      "TH:  tensor(0.5000, dtype=torch.float64)  - Dice:  tensor(0.3369)\n",
      "TH:  tensor(0.5500, dtype=torch.float64)  - Dice:  tensor(0.3228)\n",
      "TH:  tensor(0.6000, dtype=torch.float64)  - Dice:  tensor(0.2986)\n",
      "TH:  tensor(0.6500, dtype=torch.float64)  - Dice:  tensor(0.2546)\n",
      "TH:  tensor(0.7000, dtype=torch.float64)  - Dice:  tensor(0.2013)\n",
      "TH:  tensor(0.7500, dtype=torch.float64)  - Dice:  tensor(0.1453)\n",
      "TH:  tensor(0.8000, dtype=torch.float64)  - Dice:  tensor(0.0892)\n",
      "Best Threshold: 0.39999999999999997 - Best Dice Score: 0.3490000069141388\n"
     ]
    },
    {
     "data": {
      "application/vnd.jupyter.widget-view+json": {
       "model_id": "",
       "version_major": 2,
       "version_minor": 0
      },
      "text/plain": [
       "Validation: 0it [00:00, ?it/s]"
      ]
     },
     "metadata": {},
     "output_type": "display_data"
    },
    {
     "name": "stdout",
     "output_type": "stream",
     "text": [
      "TH:  tensor(0.2000, dtype=torch.float64)  - Dice:  tensor(0.2613)\n",
      "TH:  tensor(0.2500, dtype=torch.float64)  - Dice:  tensor(0.2747)\n",
      "TH:  tensor(0.3000, dtype=torch.float64)  - Dice:  tensor(0.2921)\n",
      "TH:  tensor(0.3500, dtype=torch.float64)  - Dice:  tensor(0.3108)\n",
      "TH:  tensor(0.4000, dtype=torch.float64)  - Dice:  tensor(0.3247)\n",
      "TH:  tensor(0.4500, dtype=torch.float64)  - Dice:  tensor(0.3317)\n",
      "TH:  tensor(0.5000, dtype=torch.float64)  - Dice:  tensor(0.3352)\n",
      "TH:  tensor(0.5500, dtype=torch.float64)  - Dice:  tensor(0.3369)\n",
      "TH:  tensor(0.6000, dtype=torch.float64)  - Dice:  tensor(0.3369)\n",
      "TH:  tensor(0.6500, dtype=torch.float64)  - Dice:  tensor(0.3343)\n",
      "TH:  tensor(0.7000, dtype=torch.float64)  - Dice:  tensor(0.3241)\n",
      "TH:  tensor(0.7500, dtype=torch.float64)  - Dice:  tensor(0.3047)\n",
      "TH:  tensor(0.8000, dtype=torch.float64)  - Dice:  tensor(0.2722)\n",
      "Best Threshold: 0.5999999999999999 - Best Dice Score: 0.3370000123977661\n"
     ]
    },
    {
     "data": {
      "application/vnd.jupyter.widget-view+json": {
       "model_id": "",
       "version_major": 2,
       "version_minor": 0
      },
      "text/plain": [
       "Validation: 0it [00:00, ?it/s]"
      ]
     },
     "metadata": {},
     "output_type": "display_data"
    },
    {
     "name": "stdout",
     "output_type": "stream",
     "text": [
      "TH:  tensor(0.2000, dtype=torch.float64)  - Dice:  tensor(0.2922)\n",
      "TH:  tensor(0.2500, dtype=torch.float64)  - Dice:  tensor(0.3025)\n",
      "TH:  tensor(0.3000, dtype=torch.float64)  - Dice:  tensor(0.3150)\n",
      "TH:  tensor(0.3500, dtype=torch.float64)  - Dice:  tensor(0.3302)\n",
      "TH:  tensor(0.4000, dtype=torch.float64)  - Dice:  tensor(0.3449)\n",
      "TH:  tensor(0.4500, dtype=torch.float64)  - Dice:  tensor(0.3529)\n",
      "TH:  tensor(0.5000, dtype=torch.float64)  - Dice:  tensor(0.3564)\n",
      "TH:  tensor(0.5500, dtype=torch.float64)  - Dice:  tensor(0.3571)\n",
      "TH:  tensor(0.6000, dtype=torch.float64)  - Dice:  tensor(0.3540)\n",
      "TH:  tensor(0.6500, dtype=torch.float64)  - Dice:  tensor(0.3426)\n",
      "TH:  tensor(0.7000, dtype=torch.float64)  - Dice:  tensor(0.3175)\n",
      "TH:  tensor(0.7500, dtype=torch.float64)  - Dice:  tensor(0.2807)\n",
      "TH:  tensor(0.8000, dtype=torch.float64)  - Dice:  tensor(0.2270)\n",
      "Best Threshold: 0.5499999999999999 - Best Dice Score: 0.3569999933242798\n"
     ]
    },
    {
     "data": {
      "application/vnd.jupyter.widget-view+json": {
       "model_id": "",
       "version_major": 2,
       "version_minor": 0
      },
      "text/plain": [
       "Validation: 0it [00:00, ?it/s]"
      ]
     },
     "metadata": {},
     "output_type": "display_data"
    },
    {
     "name": "stdout",
     "output_type": "stream",
     "text": [
      "TH:  tensor(0.2000, dtype=torch.float64)  - Dice:  tensor(0.2985)\n",
      "TH:  tensor(0.2500, dtype=torch.float64)  - Dice:  tensor(0.3126)\n",
      "TH:  tensor(0.3000, dtype=torch.float64)  - Dice:  tensor(0.3278)\n",
      "TH:  tensor(0.3500, dtype=torch.float64)  - Dice:  tensor(0.3426)\n",
      "TH:  tensor(0.4000, dtype=torch.float64)  - Dice:  tensor(0.3517)\n",
      "TH:  tensor(0.4500, dtype=torch.float64)  - Dice:  tensor(0.3526)\n",
      "TH:  tensor(0.5000, dtype=torch.float64)  - Dice:  tensor(0.3488)\n",
      "TH:  tensor(0.5500, dtype=torch.float64)  - Dice:  tensor(0.3411)\n",
      "TH:  tensor(0.6000, dtype=torch.float64)  - Dice:  tensor(0.3275)\n",
      "TH:  tensor(0.6500, dtype=torch.float64)  - Dice:  tensor(0.3031)\n",
      "TH:  tensor(0.7000, dtype=torch.float64)  - Dice:  tensor(0.2680)\n",
      "TH:  tensor(0.7500, dtype=torch.float64)  - Dice:  tensor(0.2304)\n",
      "TH:  tensor(0.8000, dtype=torch.float64)  - Dice:  tensor(0.1875)\n",
      "Best Threshold: 0.44999999999999996 - Best Dice Score: 0.3529999852180481\n"
     ]
    },
    {
     "data": {
      "application/vnd.jupyter.widget-view+json": {
       "model_id": "",
       "version_major": 2,
       "version_minor": 0
      },
      "text/plain": [
       "Validation: 0it [00:00, ?it/s]"
      ]
     },
     "metadata": {},
     "output_type": "display_data"
    },
    {
     "name": "stdout",
     "output_type": "stream",
     "text": [
      "TH:  tensor(0.2000, dtype=torch.float64)  - Dice:  tensor(0.2933)\n",
      "TH:  tensor(0.2500, dtype=torch.float64)  - Dice:  tensor(0.3049)\n",
      "TH:  tensor(0.3000, dtype=torch.float64)  - Dice:  tensor(0.3184)\n",
      "TH:  tensor(0.3500, dtype=torch.float64)  - Dice:  tensor(0.3335)\n",
      "TH:  tensor(0.4000, dtype=torch.float64)  - Dice:  tensor(0.3446)\n",
      "TH:  tensor(0.4500, dtype=torch.float64)  - Dice:  tensor(0.3489)\n",
      "TH:  tensor(0.5000, dtype=torch.float64)  - Dice:  tensor(0.3492)\n",
      "TH:  tensor(0.5500, dtype=torch.float64)  - Dice:  tensor(0.3463)\n",
      "TH:  tensor(0.6000, dtype=torch.float64)  - Dice:  tensor(0.3387)\n",
      "TH:  tensor(0.6500, dtype=torch.float64)  - Dice:  tensor(0.3220)\n",
      "TH:  tensor(0.7000, dtype=torch.float64)  - Dice:  tensor(0.2954)\n",
      "TH:  tensor(0.7500, dtype=torch.float64)  - Dice:  tensor(0.2624)\n",
      "TH:  tensor(0.8000, dtype=torch.float64)  - Dice:  tensor(0.2185)\n",
      "Best Threshold: 0.49999999999999994 - Best Dice Score: 0.3490000069141388\n"
     ]
    },
    {
     "name": "stderr",
     "output_type": "stream",
     "text": [
      "`Trainer.fit` stopped: `max_epochs=14` reached.\n",
      "Using 16bit Automatic Mixed Precision (AMP)\n",
      "GPU available: True (cuda), used: True\n",
      "TPU available: False, using: 0 TPU cores\n",
      "IPU available: False, using: 0 IPUs\n",
      "HPU available: False, using: 0 HPUs\n",
      "LOCAL_RANK: 0 - CUDA_VISIBLE_DEVICES: [0]\n",
      "\n",
      "  | Name      | Type              | Params\n",
      "------------------------------------------------\n",
      "0 | model     | Unet              | 34.6 M\n",
      "1 | dice      | CustomDice        | 0     \n",
      "2 | BCE       | BCEWithLogitsLoss | 0     \n",
      "3 | dice_loss | DiceLoss          | 0     \n",
      "------------------------------------------------\n",
      "34.6 M    Trainable params\n",
      "0         Non-trainable params\n",
      "34.6 M    Total params\n",
      "138.209   Total estimated model params size (MB)\n"
     ]
    },
    {
     "data": {
      "application/vnd.jupyter.widget-view+json": {
       "model_id": "",
       "version_major": 2,
       "version_minor": 0
      },
      "text/plain": [
       "Sanity Checking: 0it [00:00, ?it/s]"
      ]
     },
     "metadata": {},
     "output_type": "display_data"
    },
    {
     "name": "stdout",
     "output_type": "stream",
     "text": [
      "TH:  tensor(0.2000, dtype=torch.float64)  - Dice:  tensor(0.1386)\n",
      "TH:  tensor(0.2500, dtype=torch.float64)  - Dice:  tensor(0.1386)\n",
      "TH:  tensor(0.3000, dtype=torch.float64)  - Dice:  tensor(0.1386)\n",
      "TH:  tensor(0.3500, dtype=torch.float64)  - Dice:  tensor(0.1386)\n",
      "TH:  tensor(0.4000, dtype=torch.float64)  - Dice:  tensor(0.1386)\n",
      "TH:  tensor(0.4500, dtype=torch.float64)  - Dice:  tensor(0.1386)\n",
      "TH:  tensor(0.5000, dtype=torch.float64)  - Dice:  tensor(0.1369)\n",
      "TH:  tensor(0.5500, dtype=torch.float64)  - Dice:  tensor(0.0006)\n",
      "TH:  tensor(0.6000, dtype=torch.float64)  - Dice:  tensor(0.)\n",
      "TH:  tensor(0.6500, dtype=torch.float64)  - Dice:  tensor(0.)\n",
      "TH:  tensor(0.7000, dtype=torch.float64)  - Dice:  tensor(0.)\n",
      "TH:  tensor(0.7500, dtype=torch.float64)  - Dice:  tensor(0.)\n",
      "TH:  tensor(0.8000, dtype=torch.float64)  - Dice:  tensor(0.)\n",
      "Best Threshold: 0.2 - Best Dice Score: 0.13899999856948853\n"
     ]
    },
    {
     "data": {
      "application/vnd.jupyter.widget-view+json": {
       "model_id": "d3a51694575e4a80b472878e16b14edf",
       "version_major": 2,
       "version_minor": 0
      },
      "text/plain": [
       "Training: 0it [00:00, ?it/s]"
      ]
     },
     "metadata": {},
     "output_type": "display_data"
    },
    {
     "data": {
      "application/vnd.jupyter.widget-view+json": {
       "model_id": "",
       "version_major": 2,
       "version_minor": 0
      },
      "text/plain": [
       "Validation: 0it [00:00, ?it/s]"
      ]
     },
     "metadata": {},
     "output_type": "display_data"
    },
    {
     "name": "stdout",
     "output_type": "stream",
     "text": [
      "TH:  tensor(0.2000, dtype=torch.float64)  - Dice:  tensor(0.1660)\n",
      "TH:  tensor(0.2500, dtype=torch.float64)  - Dice:  tensor(0.1662)\n",
      "TH:  tensor(0.3000, dtype=torch.float64)  - Dice:  tensor(0.1673)\n",
      "TH:  tensor(0.3500, dtype=torch.float64)  - Dice:  tensor(0.1684)\n",
      "TH:  tensor(0.4000, dtype=torch.float64)  - Dice:  tensor(0.1694)\n",
      "TH:  tensor(0.4500, dtype=torch.float64)  - Dice:  tensor(0.1876)\n",
      "TH:  tensor(0.5000, dtype=torch.float64)  - Dice:  tensor(0.1897)\n",
      "TH:  tensor(0.5500, dtype=torch.float64)  - Dice:  tensor(0.1905)\n",
      "TH:  tensor(0.6000, dtype=torch.float64)  - Dice:  tensor(0.1894)\n",
      "TH:  tensor(0.6500, dtype=torch.float64)  - Dice:  tensor(0.1820)\n",
      "TH:  tensor(0.7000, dtype=torch.float64)  - Dice:  tensor(0.1590)\n",
      "TH:  tensor(0.7500, dtype=torch.float64)  - Dice:  tensor(0.1061)\n",
      "TH:  tensor(0.8000, dtype=torch.float64)  - Dice:  tensor(0.0419)\n",
      "Best Threshold: 0.5499999999999999 - Best Dice Score: 0.1899999976158142\n"
     ]
    },
    {
     "data": {
      "application/vnd.jupyter.widget-view+json": {
       "model_id": "",
       "version_major": 2,
       "version_minor": 0
      },
      "text/plain": [
       "Validation: 0it [00:00, ?it/s]"
      ]
     },
     "metadata": {},
     "output_type": "display_data"
    },
    {
     "name": "stdout",
     "output_type": "stream",
     "text": [
      "TH:  tensor(0.2000, dtype=torch.float64)  - Dice:  tensor(0.1866)\n",
      "TH:  tensor(0.2500, dtype=torch.float64)  - Dice:  tensor(0.1878)\n",
      "TH:  tensor(0.3000, dtype=torch.float64)  - Dice:  tensor(0.1887)\n",
      "TH:  tensor(0.3500, dtype=torch.float64)  - Dice:  tensor(0.1896)\n",
      "TH:  tensor(0.4000, dtype=torch.float64)  - Dice:  tensor(0.1906)\n",
      "TH:  tensor(0.4500, dtype=torch.float64)  - Dice:  tensor(0.1922)\n",
      "TH:  tensor(0.5000, dtype=torch.float64)  - Dice:  tensor(0.1947)\n",
      "TH:  tensor(0.5500, dtype=torch.float64)  - Dice:  tensor(0.1930)\n",
      "TH:  tensor(0.6000, dtype=torch.float64)  - Dice:  tensor(0.1674)\n",
      "TH:  tensor(0.6500, dtype=torch.float64)  - Dice:  tensor(0.0914)\n",
      "TH:  tensor(0.7000, dtype=torch.float64)  - Dice:  tensor(0.0252)\n",
      "TH:  tensor(0.7500, dtype=torch.float64)  - Dice:  tensor(0.0048)\n",
      "TH:  tensor(0.8000, dtype=torch.float64)  - Dice:  tensor(0.0007)\n",
      "Best Threshold: 0.49999999999999994 - Best Dice Score: 0.19499999284744263\n"
     ]
    },
    {
     "data": {
      "application/vnd.jupyter.widget-view+json": {
       "model_id": "",
       "version_major": 2,
       "version_minor": 0
      },
      "text/plain": [
       "Validation: 0it [00:00, ?it/s]"
      ]
     },
     "metadata": {},
     "output_type": "display_data"
    },
    {
     "name": "stdout",
     "output_type": "stream",
     "text": [
      "TH:  tensor(0.2000, dtype=torch.float64)  - Dice:  tensor(0.1821)\n",
      "TH:  tensor(0.2500, dtype=torch.float64)  - Dice:  tensor(0.1838)\n",
      "TH:  tensor(0.3000, dtype=torch.float64)  - Dice:  tensor(0.1865)\n",
      "TH:  tensor(0.3500, dtype=torch.float64)  - Dice:  tensor(0.1906)\n",
      "TH:  tensor(0.4000, dtype=torch.float64)  - Dice:  tensor(0.1952)\n",
      "TH:  tensor(0.4500, dtype=torch.float64)  - Dice:  tensor(0.1995)\n",
      "TH:  tensor(0.5000, dtype=torch.float64)  - Dice:  tensor(0.2036)\n",
      "TH:  tensor(0.5500, dtype=torch.float64)  - Dice:  tensor(0.2087)\n",
      "TH:  tensor(0.6000, dtype=torch.float64)  - Dice:  tensor(0.2195)\n",
      "TH:  tensor(0.6500, dtype=torch.float64)  - Dice:  tensor(0.2169)\n",
      "TH:  tensor(0.7000, dtype=torch.float64)  - Dice:  tensor(0.1433)\n",
      "TH:  tensor(0.7500, dtype=torch.float64)  - Dice:  tensor(0.0663)\n",
      "TH:  tensor(0.8000, dtype=torch.float64)  - Dice:  tensor(0.0274)\n",
      "Best Threshold: 0.5999999999999999 - Best Dice Score: 0.2199999988079071\n"
     ]
    },
    {
     "data": {
      "application/vnd.jupyter.widget-view+json": {
       "model_id": "",
       "version_major": 2,
       "version_minor": 0
      },
      "text/plain": [
       "Validation: 0it [00:00, ?it/s]"
      ]
     },
     "metadata": {},
     "output_type": "display_data"
    },
    {
     "name": "stdout",
     "output_type": "stream",
     "text": [
      "TH:  tensor(0.2000, dtype=torch.float64)  - Dice:  tensor(0.1852)\n",
      "TH:  tensor(0.2500, dtype=torch.float64)  - Dice:  tensor(0.1855)\n",
      "TH:  tensor(0.3000, dtype=torch.float64)  - Dice:  tensor(0.1861)\n",
      "TH:  tensor(0.3500, dtype=torch.float64)  - Dice:  tensor(0.1873)\n",
      "TH:  tensor(0.4000, dtype=torch.float64)  - Dice:  tensor(0.1885)\n",
      "TH:  tensor(0.4500, dtype=torch.float64)  - Dice:  tensor(0.1895)\n",
      "TH:  tensor(0.5000, dtype=torch.float64)  - Dice:  tensor(0.1905)\n",
      "TH:  tensor(0.5500, dtype=torch.float64)  - Dice:  tensor(0.1920)\n",
      "TH:  tensor(0.6000, dtype=torch.float64)  - Dice:  tensor(0.1950)\n",
      "TH:  tensor(0.6500, dtype=torch.float64)  - Dice:  tensor(0.2056)\n",
      "TH:  tensor(0.7000, dtype=torch.float64)  - Dice:  tensor(0.2312)\n",
      "TH:  tensor(0.7500, dtype=torch.float64)  - Dice:  tensor(0.2646)\n",
      "TH:  tensor(0.8000, dtype=torch.float64)  - Dice:  tensor(0.2487)\n",
      "Best Threshold: 0.7499999999999998 - Best Dice Score: 0.26499998569488525\n"
     ]
    },
    {
     "data": {
      "application/vnd.jupyter.widget-view+json": {
       "model_id": "",
       "version_major": 2,
       "version_minor": 0
      },
      "text/plain": [
       "Validation: 0it [00:00, ?it/s]"
      ]
     },
     "metadata": {},
     "output_type": "display_data"
    },
    {
     "name": "stdout",
     "output_type": "stream",
     "text": [
      "TH:  tensor(0.2000, dtype=torch.float64)  - Dice:  tensor(0.1971)\n",
      "TH:  tensor(0.2500, dtype=torch.float64)  - Dice:  tensor(0.2016)\n",
      "TH:  tensor(0.3000, dtype=torch.float64)  - Dice:  tensor(0.2106)\n",
      "TH:  tensor(0.3500, dtype=torch.float64)  - Dice:  tensor(0.2282)\n",
      "TH:  tensor(0.4000, dtype=torch.float64)  - Dice:  tensor(0.2599)\n",
      "TH:  tensor(0.4500, dtype=torch.float64)  - Dice:  tensor(0.2948)\n",
      "TH:  tensor(0.5000, dtype=torch.float64)  - Dice:  tensor(0.3093)\n",
      "TH:  tensor(0.5500, dtype=torch.float64)  - Dice:  tensor(0.3127)\n",
      "TH:  tensor(0.6000, dtype=torch.float64)  - Dice:  tensor(0.3123)\n",
      "TH:  tensor(0.6500, dtype=torch.float64)  - Dice:  tensor(0.3076)\n",
      "TH:  tensor(0.7000, dtype=torch.float64)  - Dice:  tensor(0.2951)\n",
      "TH:  tensor(0.7500, dtype=torch.float64)  - Dice:  tensor(0.2730)\n",
      "TH:  tensor(0.8000, dtype=torch.float64)  - Dice:  tensor(0.2425)\n",
      "Best Threshold: 0.5499999999999999 - Best Dice Score: 0.31299999356269836\n"
     ]
    },
    {
     "data": {
      "application/vnd.jupyter.widget-view+json": {
       "model_id": "",
       "version_major": 2,
       "version_minor": 0
      },
      "text/plain": [
       "Validation: 0it [00:00, ?it/s]"
      ]
     },
     "metadata": {},
     "output_type": "display_data"
    },
    {
     "name": "stdout",
     "output_type": "stream",
     "text": [
      "TH:  tensor(0.2000, dtype=torch.float64)  - Dice:  tensor(0.2662)\n",
      "TH:  tensor(0.2500, dtype=torch.float64)  - Dice:  tensor(0.2843)\n",
      "TH:  tensor(0.3000, dtype=torch.float64)  - Dice:  tensor(0.3011)\n",
      "TH:  tensor(0.3500, dtype=torch.float64)  - Dice:  tensor(0.3136)\n",
      "TH:  tensor(0.4000, dtype=torch.float64)  - Dice:  tensor(0.3243)\n",
      "TH:  tensor(0.4500, dtype=torch.float64)  - Dice:  tensor(0.3344)\n",
      "TH:  tensor(0.5000, dtype=torch.float64)  - Dice:  tensor(0.3437)\n",
      "TH:  tensor(0.5500, dtype=torch.float64)  - Dice:  tensor(0.3534)\n",
      "TH:  tensor(0.6000, dtype=torch.float64)  - Dice:  tensor(0.3645)\n",
      "TH:  tensor(0.6500, dtype=torch.float64)  - Dice:  tensor(0.3798)\n",
      "TH:  tensor(0.7000, dtype=torch.float64)  - Dice:  tensor(0.3904)\n",
      "TH:  tensor(0.7500, dtype=torch.float64)  - Dice:  tensor(0.3891)\n",
      "TH:  tensor(0.8000, dtype=torch.float64)  - Dice:  tensor(0.3657)\n",
      "Best Threshold: 0.7 - Best Dice Score: 0.38999998569488525\n"
     ]
    },
    {
     "data": {
      "application/vnd.jupyter.widget-view+json": {
       "model_id": "",
       "version_major": 2,
       "version_minor": 0
      },
      "text/plain": [
       "Validation: 0it [00:00, ?it/s]"
      ]
     },
     "metadata": {},
     "output_type": "display_data"
    },
    {
     "name": "stdout",
     "output_type": "stream",
     "text": [
      "TH:  tensor(0.2000, dtype=torch.float64)  - Dice:  tensor(0.2130)\n",
      "TH:  tensor(0.2500, dtype=torch.float64)  - Dice:  tensor(0.2512)\n",
      "TH:  tensor(0.3000, dtype=torch.float64)  - Dice:  tensor(0.2934)\n",
      "TH:  tensor(0.3500, dtype=torch.float64)  - Dice:  tensor(0.3162)\n",
      "TH:  tensor(0.4000, dtype=torch.float64)  - Dice:  tensor(0.3264)\n",
      "TH:  tensor(0.4500, dtype=torch.float64)  - Dice:  tensor(0.3304)\n",
      "TH:  tensor(0.5000, dtype=torch.float64)  - Dice:  tensor(0.3262)\n",
      "TH:  tensor(0.5500, dtype=torch.float64)  - Dice:  tensor(0.3172)\n",
      "TH:  tensor(0.6000, dtype=torch.float64)  - Dice:  tensor(0.3042)\n",
      "TH:  tensor(0.6500, dtype=torch.float64)  - Dice:  tensor(0.2869)\n",
      "TH:  tensor(0.7000, dtype=torch.float64)  - Dice:  tensor(0.2635)\n",
      "TH:  tensor(0.7500, dtype=torch.float64)  - Dice:  tensor(0.2374)\n",
      "TH:  tensor(0.8000, dtype=torch.float64)  - Dice:  tensor(0.2087)\n",
      "Best Threshold: 0.44999999999999996 - Best Dice Score: 0.33000001311302185\n"
     ]
    },
    {
     "data": {
      "application/vnd.jupyter.widget-view+json": {
       "model_id": "",
       "version_major": 2,
       "version_minor": 0
      },
      "text/plain": [
       "Validation: 0it [00:00, ?it/s]"
      ]
     },
     "metadata": {},
     "output_type": "display_data"
    },
    {
     "name": "stdout",
     "output_type": "stream",
     "text": [
      "TH:  tensor(0.2000, dtype=torch.float64)  - Dice:  tensor(0.2154)\n",
      "TH:  tensor(0.2500, dtype=torch.float64)  - Dice:  tensor(0.2353)\n",
      "TH:  tensor(0.3000, dtype=torch.float64)  - Dice:  tensor(0.2660)\n",
      "TH:  tensor(0.3500, dtype=torch.float64)  - Dice:  tensor(0.2965)\n",
      "TH:  tensor(0.4000, dtype=torch.float64)  - Dice:  tensor(0.3219)\n",
      "TH:  tensor(0.4500, dtype=torch.float64)  - Dice:  tensor(0.3363)\n",
      "TH:  tensor(0.5000, dtype=torch.float64)  - Dice:  tensor(0.3450)\n",
      "TH:  tensor(0.5500, dtype=torch.float64)  - Dice:  tensor(0.3514)\n",
      "TH:  tensor(0.6000, dtype=torch.float64)  - Dice:  tensor(0.3538)\n",
      "TH:  tensor(0.6500, dtype=torch.float64)  - Dice:  tensor(0.3540)\n",
      "TH:  tensor(0.7000, dtype=torch.float64)  - Dice:  tensor(0.3524)\n",
      "TH:  tensor(0.7500, dtype=torch.float64)  - Dice:  tensor(0.3455)\n",
      "TH:  tensor(0.8000, dtype=torch.float64)  - Dice:  tensor(0.3334)\n",
      "Best Threshold: 0.6499999999999999 - Best Dice Score: 0.3540000021457672\n"
     ]
    },
    {
     "data": {
      "application/vnd.jupyter.widget-view+json": {
       "model_id": "",
       "version_major": 2,
       "version_minor": 0
      },
      "text/plain": [
       "Validation: 0it [00:00, ?it/s]"
      ]
     },
     "metadata": {},
     "output_type": "display_data"
    },
    {
     "name": "stdout",
     "output_type": "stream",
     "text": [
      "TH:  tensor(0.2000, dtype=torch.float64)  - Dice:  tensor(0.2591)\n",
      "TH:  tensor(0.2500, dtype=torch.float64)  - Dice:  tensor(0.2850)\n",
      "TH:  tensor(0.3000, dtype=torch.float64)  - Dice:  tensor(0.3032)\n",
      "TH:  tensor(0.3500, dtype=torch.float64)  - Dice:  tensor(0.3137)\n",
      "TH:  tensor(0.4000, dtype=torch.float64)  - Dice:  tensor(0.3221)\n",
      "TH:  tensor(0.4500, dtype=torch.float64)  - Dice:  tensor(0.3300)\n",
      "TH:  tensor(0.5000, dtype=torch.float64)  - Dice:  tensor(0.3378)\n",
      "TH:  tensor(0.5500, dtype=torch.float64)  - Dice:  tensor(0.3467)\n",
      "TH:  tensor(0.6000, dtype=torch.float64)  - Dice:  tensor(0.3584)\n",
      "TH:  tensor(0.6500, dtype=torch.float64)  - Dice:  tensor(0.3731)\n",
      "TH:  tensor(0.7000, dtype=torch.float64)  - Dice:  tensor(0.3929)\n",
      "TH:  tensor(0.7500, dtype=torch.float64)  - Dice:  tensor(0.4131)\n",
      "TH:  tensor(0.8000, dtype=torch.float64)  - Dice:  tensor(0.4338)\n",
      "Best Threshold: 0.7999999999999998 - Best Dice Score: 0.4339999854564667\n"
     ]
    },
    {
     "data": {
      "application/vnd.jupyter.widget-view+json": {
       "model_id": "",
       "version_major": 2,
       "version_minor": 0
      },
      "text/plain": [
       "Validation: 0it [00:00, ?it/s]"
      ]
     },
     "metadata": {},
     "output_type": "display_data"
    },
    {
     "name": "stdout",
     "output_type": "stream",
     "text": [
      "TH:  tensor(0.2000, dtype=torch.float64)  - Dice:  tensor(0.2669)\n",
      "TH:  tensor(0.2500, dtype=torch.float64)  - Dice:  tensor(0.2861)\n",
      "TH:  tensor(0.3000, dtype=torch.float64)  - Dice:  tensor(0.3007)\n",
      "TH:  tensor(0.3500, dtype=torch.float64)  - Dice:  tensor(0.3129)\n",
      "TH:  tensor(0.4000, dtype=torch.float64)  - Dice:  tensor(0.3241)\n",
      "TH:  tensor(0.4500, dtype=torch.float64)  - Dice:  tensor(0.3340)\n",
      "TH:  tensor(0.5000, dtype=torch.float64)  - Dice:  tensor(0.3447)\n",
      "TH:  tensor(0.5500, dtype=torch.float64)  - Dice:  tensor(0.3564)\n",
      "TH:  tensor(0.6000, dtype=torch.float64)  - Dice:  tensor(0.3678)\n",
      "TH:  tensor(0.6500, dtype=torch.float64)  - Dice:  tensor(0.3764)\n",
      "TH:  tensor(0.7000, dtype=torch.float64)  - Dice:  tensor(0.3854)\n",
      "TH:  tensor(0.7500, dtype=torch.float64)  - Dice:  tensor(0.3943)\n",
      "TH:  tensor(0.8000, dtype=torch.float64)  - Dice:  tensor(0.4015)\n",
      "Best Threshold: 0.7999999999999998 - Best Dice Score: 0.4020000100135803\n"
     ]
    },
    {
     "data": {
      "application/vnd.jupyter.widget-view+json": {
       "model_id": "",
       "version_major": 2,
       "version_minor": 0
      },
      "text/plain": [
       "Validation: 0it [00:00, ?it/s]"
      ]
     },
     "metadata": {},
     "output_type": "display_data"
    },
    {
     "name": "stdout",
     "output_type": "stream",
     "text": [
      "TH:  tensor(0.2000, dtype=torch.float64)  - Dice:  tensor(0.2717)\n",
      "TH:  tensor(0.2500, dtype=torch.float64)  - Dice:  tensor(0.2943)\n",
      "TH:  tensor(0.3000, dtype=torch.float64)  - Dice:  tensor(0.3110)\n",
      "TH:  tensor(0.3500, dtype=torch.float64)  - Dice:  tensor(0.3250)\n",
      "TH:  tensor(0.4000, dtype=torch.float64)  - Dice:  tensor(0.3386)\n",
      "TH:  tensor(0.4500, dtype=torch.float64)  - Dice:  tensor(0.3525)\n",
      "TH:  tensor(0.5000, dtype=torch.float64)  - Dice:  tensor(0.3693)\n",
      "TH:  tensor(0.5500, dtype=torch.float64)  - Dice:  tensor(0.3876)\n",
      "TH:  tensor(0.6000, dtype=torch.float64)  - Dice:  tensor(0.4026)\n",
      "TH:  tensor(0.6500, dtype=torch.float64)  - Dice:  tensor(0.4137)\n",
      "TH:  tensor(0.7000, dtype=torch.float64)  - Dice:  tensor(0.4264)\n",
      "TH:  tensor(0.7500, dtype=torch.float64)  - Dice:  tensor(0.4428)\n",
      "TH:  tensor(0.8000, dtype=torch.float64)  - Dice:  tensor(0.4625)\n",
      "Best Threshold: 0.7999999999999998 - Best Dice Score: 0.46299999952316284\n"
     ]
    },
    {
     "data": {
      "application/vnd.jupyter.widget-view+json": {
       "model_id": "",
       "version_major": 2,
       "version_minor": 0
      },
      "text/plain": [
       "Validation: 0it [00:00, ?it/s]"
      ]
     },
     "metadata": {},
     "output_type": "display_data"
    },
    {
     "name": "stdout",
     "output_type": "stream",
     "text": [
      "TH:  tensor(0.2000, dtype=torch.float64)  - Dice:  tensor(0.2883)\n",
      "TH:  tensor(0.2500, dtype=torch.float64)  - Dice:  tensor(0.3090)\n",
      "TH:  tensor(0.3000, dtype=torch.float64)  - Dice:  tensor(0.3242)\n",
      "TH:  tensor(0.3500, dtype=torch.float64)  - Dice:  tensor(0.3372)\n",
      "TH:  tensor(0.4000, dtype=torch.float64)  - Dice:  tensor(0.3502)\n",
      "TH:  tensor(0.4500, dtype=torch.float64)  - Dice:  tensor(0.3622)\n",
      "TH:  tensor(0.5000, dtype=torch.float64)  - Dice:  tensor(0.3748)\n",
      "TH:  tensor(0.5500, dtype=torch.float64)  - Dice:  tensor(0.3878)\n",
      "TH:  tensor(0.6000, dtype=torch.float64)  - Dice:  tensor(0.4001)\n",
      "TH:  tensor(0.6500, dtype=torch.float64)  - Dice:  tensor(0.4104)\n",
      "TH:  tensor(0.7000, dtype=torch.float64)  - Dice:  tensor(0.4214)\n",
      "TH:  tensor(0.7500, dtype=torch.float64)  - Dice:  tensor(0.4339)\n",
      "TH:  tensor(0.8000, dtype=torch.float64)  - Dice:  tensor(0.4439)\n",
      "Best Threshold: 0.7999999999999998 - Best Dice Score: 0.4440000057220459\n"
     ]
    },
    {
     "data": {
      "application/vnd.jupyter.widget-view+json": {
       "model_id": "",
       "version_major": 2,
       "version_minor": 0
      },
      "text/plain": [
       "Validation: 0it [00:00, ?it/s]"
      ]
     },
     "metadata": {},
     "output_type": "display_data"
    },
    {
     "name": "stdout",
     "output_type": "stream",
     "text": [
      "TH:  tensor(0.2000, dtype=torch.float64)  - Dice:  tensor(0.2893)\n",
      "TH:  tensor(0.2500, dtype=torch.float64)  - Dice:  tensor(0.3115)\n",
      "TH:  tensor(0.3000, dtype=torch.float64)  - Dice:  tensor(0.3293)\n",
      "TH:  tensor(0.3500, dtype=torch.float64)  - Dice:  tensor(0.3449)\n",
      "TH:  tensor(0.4000, dtype=torch.float64)  - Dice:  tensor(0.3595)\n",
      "TH:  tensor(0.4500, dtype=torch.float64)  - Dice:  tensor(0.3731)\n",
      "TH:  tensor(0.5000, dtype=torch.float64)  - Dice:  tensor(0.3877)\n",
      "TH:  tensor(0.5500, dtype=torch.float64)  - Dice:  tensor(0.4038)\n",
      "TH:  tensor(0.6000, dtype=torch.float64)  - Dice:  tensor(0.4178)\n",
      "TH:  tensor(0.6500, dtype=torch.float64)  - Dice:  tensor(0.4282)\n",
      "TH:  tensor(0.7000, dtype=torch.float64)  - Dice:  tensor(0.4392)\n",
      "TH:  tensor(0.7500, dtype=torch.float64)  - Dice:  tensor(0.4521)\n",
      "TH:  tensor(0.8000, dtype=torch.float64)  - Dice:  tensor(0.4617)\n",
      "Best Threshold: 0.7999999999999998 - Best Dice Score: 0.4620000123977661\n"
     ]
    },
    {
     "data": {
      "application/vnd.jupyter.widget-view+json": {
       "model_id": "",
       "version_major": 2,
       "version_minor": 0
      },
      "text/plain": [
       "Validation: 0it [00:00, ?it/s]"
      ]
     },
     "metadata": {},
     "output_type": "display_data"
    },
    {
     "name": "stdout",
     "output_type": "stream",
     "text": [
      "TH:  tensor(0.2000, dtype=torch.float64)  - Dice:  tensor(0.2929)\n",
      "TH:  tensor(0.2500, dtype=torch.float64)  - Dice:  tensor(0.3155)\n",
      "TH:  tensor(0.3000, dtype=torch.float64)  - Dice:  tensor(0.3325)\n",
      "TH:  tensor(0.3500, dtype=torch.float64)  - Dice:  tensor(0.3467)\n",
      "TH:  tensor(0.4000, dtype=torch.float64)  - Dice:  tensor(0.3594)\n",
      "TH:  tensor(0.4500, dtype=torch.float64)  - Dice:  tensor(0.3711)\n",
      "TH:  tensor(0.5000, dtype=torch.float64)  - Dice:  tensor(0.3837)\n",
      "TH:  tensor(0.5500, dtype=torch.float64)  - Dice:  tensor(0.3978)\n",
      "TH:  tensor(0.6000, dtype=torch.float64)  - Dice:  tensor(0.4096)\n",
      "TH:  tensor(0.6500, dtype=torch.float64)  - Dice:  tensor(0.4192)\n",
      "TH:  tensor(0.7000, dtype=torch.float64)  - Dice:  tensor(0.4299)\n",
      "TH:  tensor(0.7500, dtype=torch.float64)  - Dice:  tensor(0.4422)\n",
      "TH:  tensor(0.8000, dtype=torch.float64)  - Dice:  tensor(0.4521)\n",
      "Best Threshold: 0.7999999999999998 - Best Dice Score: 0.4519999921321869\n"
     ]
    },
    {
     "name": "stderr",
     "output_type": "stream",
     "text": [
      "`Trainer.fit` stopped: `max_epochs=14` reached.\n"
     ]
    },
    {
     "name": "stdout",
     "output_type": "stream",
     "text": [
      "CPU times: user 9h 53min 42s, sys: 53min 12s, total: 10h 46min 54s\n",
      "Wall time: 56min 34s\n"
     ]
    }
   ],
   "source": [
    "%%time\n",
    "\n",
    "for i in range(0, 3):\n",
    "    MODEL = NN(model=model, learning_rate=learning_rate, calculate_threshold=True)\n",
    "    MODEL.model.load_state_dict(torch.load(random_weights_path))\n",
    "    train_ds = Data(paths=train_data[i], transform=train_aug)\n",
    "    valid_ds = Data(paths=valid_data[i], transform=valid_aug)\n",
    "    dm = DataModule(train_ds=train_ds, valid_ds=valid_ds)\n",
    "    logger = TensorBoardLogger(folder_logs, name=name, version=f'Fold_{i+1}')\n",
    "    trainer = pl.Trainer(accelerator='gpu', devices=[0], max_epochs=epochs, precision='16-mixed', logger=logger)\n",
    "    trainer.fit(MODEL, dm)\n",
    "    path_save_weights = os.path.join(folder, 'Weights', f'Model_{i + 1}_{name}.pth')\n",
    "    torch.save(MODEL.model.state_dict(), path_save_weights)\n",
    "    gc.collect()\n",
    "    torch.cuda.empty_cache()"
   ]
  },
  {
   "cell_type": "code",
   "execution_count": null,
   "id": "21b36a11",
   "metadata": {},
   "outputs": [],
   "source": []
  },
  {
   "cell_type": "code",
   "execution_count": null,
   "id": "d1c63ef3",
   "metadata": {},
   "outputs": [],
   "source": []
  }
 ],
 "metadata": {
  "kernelspec": {
   "display_name": "light",
   "language": "python",
   "name": "light"
  },
  "language_info": {
   "codemirror_mode": {
    "name": "ipython",
    "version": 3
   },
   "file_extension": ".py",
   "mimetype": "text/x-python",
   "name": "python",
   "nbconvert_exporter": "python",
   "pygments_lexer": "ipython3",
   "version": "3.11.3"
  }
 },
 "nbformat": 4,
 "nbformat_minor": 5
}
