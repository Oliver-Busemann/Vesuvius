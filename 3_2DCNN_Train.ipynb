{
 "cells": [
  {
   "cell_type": "markdown",
   "id": "91fe115c",
   "metadata": {},
   "source": [
    "# First Notebook to try out Lightning"
   ]
  },
  {
   "cell_type": "code",
   "execution_count": 1,
   "id": "9d40998d",
   "metadata": {},
   "outputs": [],
   "source": [
    "%matplotlib inline\n",
    "import matplotlib.pyplot as plt\n",
    "import pandas as pd\n",
    "import numpy as np\n",
    "import cv2\n",
    "import torch\n",
    "import torch.nn as nn\n",
    "import pytorch_lightning as pl\n",
    "import segmentation_models_pytorch as smp\n",
    "import os\n",
    "from glob import glob\n",
    "import pickle\n",
    "from torch.utils.data import Dataset, DataLoader\n",
    "from torchinfo import summary\n",
    "import torchmetrics\n",
    "from pytorch_lightning.loggers import TensorBoardLogger\n",
    "from monai.losses import DiceLoss\n",
    "import albumentations as A\n",
    "from copy import deepcopy\n",
    "from segmentation_models_pytorch.losses import SoftBCEWithLogitsLoss\n",
    "from pytorch_lightning.callbacks import Callback\n",
    "from torch.optim.lr_scheduler import OneCycleLR"
   ]
  },
  {
   "cell_type": "code",
   "execution_count": 2,
   "id": "3e610907",
   "metadata": {},
   "outputs": [],
   "source": [
    "torch.set_float32_matmul_precision('medium')"
   ]
  },
  {
   "cell_type": "code",
   "execution_count": 3,
   "id": "a7c197f4",
   "metadata": {},
   "outputs": [],
   "source": [
    "# paths and hyperparameters\n",
    "name = 'Final_2DCNN'\n",
    "folder = '/home/olli/Projects/Kaggle/Vesuvius'\n",
    "folder_data = os.path.join(folder, 'Data', 'Preprocessed_224_20_24')\n",
    "folder_logs = os.path.join(folder, 'Logs')\n",
    "depth = 24\n",
    "size = 224\n",
    "batch_size = 32\n",
    "num_workers = 16\n",
    "epochs=14\n",
    "learning_rate = 6e-5  # start with this\n",
    "max_lr = 2e-4  # max value to reach\n",
    "pct_increase = 0.33  # percentage of epochs to increase the lr before decreasing"
   ]
  },
  {
   "cell_type": "markdown",
   "id": "9f1c448e",
   "metadata": {},
   "source": [
    "# Set up the cross-validation"
   ]
  },
  {
   "cell_type": "code",
   "execution_count": 4,
   "id": "4ebeaf70",
   "metadata": {},
   "outputs": [],
   "source": [
    "fold_1_path = os.path.join(folder, 'Data', folder_data, '1')\n",
    "fold_2_path = os.path.join(folder, 'Data', folder_data, '2')\n",
    "fold_3_path = os.path.join(folder, 'Data', folder_data, '3')"
   ]
  },
  {
   "cell_type": "code",
   "execution_count": 5,
   "id": "261cff52",
   "metadata": {},
   "outputs": [],
   "source": [
    "scans_1 = glob(fold_1_path + '/*.pickle')\n",
    "scans_2 = glob(fold_2_path + '/*.pickle')\n",
    "scans_3 = glob(fold_3_path + '/*.pickle')"
   ]
  },
  {
   "cell_type": "code",
   "execution_count": 6,
   "id": "acfc88ae",
   "metadata": {},
   "outputs": [
    {
     "data": {
      "text/plain": [
       "'/home/olli/Projects/Kaggle/Vesuvius/Data/Preprocessed_224_20_24/1/600.pickle'"
      ]
     },
     "execution_count": 6,
     "metadata": {},
     "output_type": "execute_result"
    }
   ],
   "source": [
    "scans_1[0]"
   ]
  },
  {
   "cell_type": "code",
   "execution_count": 7,
   "id": "6e43d0e4",
   "metadata": {},
   "outputs": [],
   "source": [
    "folds = [scans_1, scans_2, scans_3]"
   ]
  },
  {
   "cell_type": "code",
   "execution_count": 8,
   "id": "953901db",
   "metadata": {},
   "outputs": [
    {
     "data": {
      "text/plain": [
       "[1333, 4558, 967]"
      ]
     },
     "execution_count": 8,
     "metadata": {},
     "output_type": "execute_result"
    }
   ],
   "source": [
    "# check number of scans\n",
    "[len(i) for i in folds]"
   ]
  },
  {
   "cell_type": "markdown",
   "id": "34226e6c",
   "metadata": {},
   "source": [
    "# Create 3 Train-/Valid-Datasets from the folds"
   ]
  },
  {
   "cell_type": "code",
   "execution_count": 9,
   "id": "33fc18fe",
   "metadata": {},
   "outputs": [],
   "source": [
    "'''Write a function that returns the different train/valid-datasets and -paths.\n",
    "   Each fold once is the validation data, the rest is for training.'''\n",
    "\n",
    "\n",
    "def create_train_valid():\n",
    "\n",
    "    train_folds = ['tr_1', 'tr_2', 'tr_3']\n",
    "    valid_folds = ['val_1', 'val_2', 'val_3']\n",
    "\n",
    "    # assign each train/valid dataset the correct folds with i\n",
    "    for i, train, valid in zip(range(3), train_folds, valid_folds):\n",
    "\n",
    "        # copy the folds\n",
    "        flds = deepcopy(folds)\n",
    "\n",
    "        globals()[valid_folds[i]] = flds.pop(i)  # i'ths index is valid rest is for train\n",
    "        globals()[train_folds[i]] = flds[0] + flds[1]  # only 0 and 1 left\n",
    "        \n",
    "    train_folds = [tr_1, tr_2, tr_3]\n",
    "    valid_folds = [val_1, val_2, val_3]\n",
    "    \n",
    "    return train_folds, valid_folds"
   ]
  },
  {
   "cell_type": "code",
   "execution_count": 10,
   "id": "e7ab43cd",
   "metadata": {},
   "outputs": [],
   "source": [
    "train_data, valid_data = create_train_valid()"
   ]
  },
  {
   "cell_type": "code",
   "execution_count": 11,
   "id": "ec9671a7",
   "metadata": {},
   "outputs": [
    {
     "data": {
      "text/plain": [
       "[5525, 2300, 5891]"
      ]
     },
     "execution_count": 11,
     "metadata": {},
     "output_type": "execute_result"
    }
   ],
   "source": [
    "# check the number of cropped scans in each dataset\n",
    "[len(i) for i in train_data]"
   ]
  },
  {
   "cell_type": "code",
   "execution_count": 12,
   "id": "0291074f",
   "metadata": {},
   "outputs": [
    {
     "data": {
      "text/plain": [
       "[1333, 4558, 967]"
      ]
     },
     "execution_count": 12,
     "metadata": {},
     "output_type": "execute_result"
    }
   ],
   "source": [
    "[len(i) for i in valid_data]"
   ]
  },
  {
   "cell_type": "code",
   "execution_count": 13,
   "id": "14fcae31",
   "metadata": {},
   "outputs": [],
   "source": [
    "# make sure there is no valid file in the corresponding train dataset\n",
    "for i in range(3):\n",
    "    for v in valid_data[i]:\n",
    "        for t in train_data[i]:\n",
    "            if v == t:\n",
    "                print('LEAK')"
   ]
  },
  {
   "cell_type": "markdown",
   "id": "c87cd239",
   "metadata": {},
   "source": [
    "# Define Augmentations"
   ]
  },
  {
   "cell_type": "code",
   "execution_count": 14,
   "id": "fbe1c151",
   "metadata": {},
   "outputs": [],
   "source": [
    "# start with only a basic augmentation thats safe to use\n",
    "train_aug = A.Compose([\n",
    "    #A.Resize(height=224 ,width=224),\n",
    "    A.HorizontalFlip(p=0.5),\n",
    "    A.VerticalFlip(p=0.5),\n",
    "    A.RandomBrightnessContrast(p=0.82),\n",
    "    A.ShiftScaleRotate(p=0.47),\n",
    "    A.OneOf([\n",
    "            A.GaussNoise(var_limit=[10, 50]),\n",
    "            A.GaussianBlur(),\n",
    "            A.MotionBlur(),\n",
    "            ], p=0.5),\n",
    "    A.GridDistortion(num_steps=5, distort_limit=0.3, p=0.32),\n",
    "    A.CoarseDropout(max_holes=1, max_width=int(size * 0.3), max_height=int(size * 0.3), \n",
    "                        mask_fill_value=0, p=0.47),\n",
    "    A.Normalize(mean=[0] * depth, std=[1] * depth)\n",
    "])"
   ]
  },
  {
   "cell_type": "code",
   "execution_count": 15,
   "id": "11a2eeee",
   "metadata": {},
   "outputs": [],
   "source": [
    "# use valid aug to normalize the scan\n",
    "valid_aug = A.Compose([\n",
    "    #A.Resize(height=224 ,width=224),\n",
    "    A.Normalize(mean=[0] * depth, std=[1] * depth)\n",
    "])"
   ]
  },
  {
   "cell_type": "markdown",
   "id": "d8e99c2a",
   "metadata": {},
   "source": [
    "# Define the PyTorch Dataset"
   ]
  },
  {
   "cell_type": "code",
   "execution_count": 16,
   "id": "1a8af64c",
   "metadata": {},
   "outputs": [],
   "source": [
    "class Data(Dataset):\n",
    "    def __init__(self, paths, transform=False):\n",
    "        self.paths = paths\n",
    "        self.transform = transform\n",
    "        \n",
    "        \n",
    "    def __len__(self):\n",
    "        return len(self.paths)\n",
    "    \n",
    "    def __getitem__(self, index):\n",
    "        path = self.paths[index]\n",
    "        \n",
    "        with open(path, 'rb') as f:\n",
    "            data = pickle.load(f)\n",
    "            \n",
    "        X, y = data\n",
    "        \n",
    "        if self.transform:\n",
    "            augmented_data = self.transform(image=X, mask=y)\n",
    "            \n",
    "            X = augmented_data['image']\n",
    "            y = augmented_data['mask']\n",
    "            \n",
    "        y = torch.tensor(y / 255.).type(torch.float32)\n",
    "        \n",
    "        X = torch.tensor(X).permute(2, 0, 1).type(torch.float32)\n",
    "        \n",
    "        return X, y"
   ]
  },
  {
   "cell_type": "markdown",
   "id": "8ccc47d1",
   "metadata": {},
   "source": [
    "# Create a Lightning Data Module from that"
   ]
  },
  {
   "cell_type": "code",
   "execution_count": 17,
   "id": "4ac0af45",
   "metadata": {},
   "outputs": [],
   "source": [
    "# create a lightning datamodule class\n",
    "\n",
    "class DataModule(pl.LightningDataModule):\n",
    "    \n",
    "    def __init__(self, train_ds, valid_ds, batch_size=batch_size, num_workers=num_workers):\n",
    "        \n",
    "        super().__init__()\n",
    "\n",
    "        self.batch_size=batch_size\n",
    "        self.num_workers=num_workers\n",
    "        \n",
    "        self.train_ds = train_ds\n",
    "        self.valid_ds = valid_ds\n",
    "        \n",
    "    def setup(self, stage):\n",
    "        \n",
    "        self.train_ds = self.train_ds\n",
    "        self.valid_ds = self.valid_ds\n",
    "        \n",
    "    def train_dataloader(self):\n",
    "        \n",
    "        train_dl = DataLoader(self.train_ds,\n",
    "                              batch_size=self.batch_size,\n",
    "                              num_workers=self.num_workers,\n",
    "                              shuffle=True,)\n",
    "                              #pin_memory=True)\n",
    "        \n",
    "        return train_dl\n",
    "        \n",
    "    def val_dataloader(self):\n",
    "        \n",
    "        valid_dl = DataLoader(self.valid_ds,\n",
    "                              batch_size=self.batch_size,\n",
    "                              num_workers=self.num_workers,)\n",
    "                              #pin_memory=True)\n",
    "        \n",
    "        return valid_dl"
   ]
  },
  {
   "cell_type": "markdown",
   "id": "f3bf43eb",
   "metadata": {},
   "source": [
    "# Define the model"
   ]
  },
  {
   "cell_type": "code",
   "execution_count": 18,
   "id": "2ad35dba",
   "metadata": {},
   "outputs": [],
   "source": [
    "# se_resnext50_32x4d# efficientnet-b0\n",
    "\n",
    "model = smp.Unet(encoder_name='se_resnext50_32x4d', encoder_weights=None, in_channels=depth, classes=1)"
   ]
  },
  {
   "cell_type": "code",
   "execution_count": 19,
   "id": "efd512a2",
   "metadata": {},
   "outputs": [
    {
     "data": {
      "text/plain": [
       "====================================================================================================\n",
       "Layer (type:depth-idx)                             Output Shape              Param #\n",
       "====================================================================================================\n",
       "Unet                                               [2, 1, 224, 224]          --\n",
       "├─SENetEncoder: 1-1                                [2, 24, 224, 224]         --\n",
       "│    └─Sequential: 2-1                             --                        --\n",
       "│    │    └─Conv2d: 3-1                            [2, 64, 112, 112]         75,264\n",
       "│    │    └─BatchNorm2d: 3-2                       [2, 64, 112, 112]         128\n",
       "│    │    └─ReLU: 3-3                              [2, 64, 112, 112]         --\n",
       "│    │    └─MaxPool2d: 3-4                         [2, 64, 56, 56]           --\n",
       "│    └─Sequential: 2-2                             [2, 256, 56, 56]          --\n",
       "│    │    └─SEResNeXtBottleneck: 3-5               [2, 256, 56, 56]          71,952\n",
       "│    │    └─SEResNeXtBottleneck: 3-6               [2, 256, 56, 56]          79,632\n",
       "│    │    └─SEResNeXtBottleneck: 3-7               [2, 256, 56, 56]          79,632\n",
       "│    └─Sequential: 2-3                             [2, 512, 28, 28]          --\n",
       "│    │    └─SEResNeXtBottleneck: 3-8               [2, 512, 28, 28]          382,496\n",
       "│    │    └─SEResNeXtBottleneck: 3-9               [2, 512, 28, 28]          315,936\n",
       "│    │    └─SEResNeXtBottleneck: 3-10              [2, 512, 28, 28]          315,936\n",
       "│    │    └─SEResNeXtBottleneck: 3-11              [2, 512, 28, 28]          315,936\n",
       "│    └─Sequential: 2-4                             [2, 1024, 14, 14]         --\n",
       "│    │    └─SEResNeXtBottleneck: 3-12              [2, 1024, 14, 14]         1,522,752\n",
       "│    │    └─SEResNeXtBottleneck: 3-13              [2, 1024, 14, 14]         1,258,560\n",
       "│    │    └─SEResNeXtBottleneck: 3-14              [2, 1024, 14, 14]         1,258,560\n",
       "│    │    └─SEResNeXtBottleneck: 3-15              [2, 1024, 14, 14]         1,258,560\n",
       "│    │    └─SEResNeXtBottleneck: 3-16              [2, 1024, 14, 14]         1,258,560\n",
       "│    │    └─SEResNeXtBottleneck: 3-17              [2, 1024, 14, 14]         1,258,560\n",
       "│    └─Sequential: 2-5                             [2, 2048, 7, 7]           --\n",
       "│    │    └─SEResNeXtBottleneck: 3-18              [2, 2048, 7, 7]           6,076,544\n",
       "│    │    └─SEResNeXtBottleneck: 3-19              [2, 2048, 7, 7]           5,023,872\n",
       "│    │    └─SEResNeXtBottleneck: 3-20              [2, 2048, 7, 7]           5,023,872\n",
       "├─UnetDecoder: 1-2                                 [2, 16, 224, 224]         --\n",
       "│    └─Identity: 2-6                               [2, 2048, 7, 7]           --\n",
       "│    └─ModuleList: 2-7                             --                        --\n",
       "│    │    └─DecoderBlock: 3-21                     [2, 256, 14, 14]          7,668,736\n",
       "│    │    └─DecoderBlock: 3-22                     [2, 128, 28, 28]          1,032,704\n",
       "│    │    └─DecoderBlock: 3-23                     [2, 64, 56, 56]           258,304\n",
       "│    │    └─DecoderBlock: 3-24                     [2, 32, 112, 112]         46,208\n",
       "│    │    └─DecoderBlock: 3-25                     [2, 16, 224, 224]         6,976\n",
       "├─SegmentationHead: 1-3                            [2, 1, 224, 224]          --\n",
       "│    └─Conv2d: 2-8                                 [2, 1, 224, 224]          145\n",
       "│    └─Identity: 2-9                               [2, 1, 224, 224]          --\n",
       "│    └─Activation: 2-10                            [2, 1, 224, 224]          --\n",
       "│    │    └─Identity: 3-26                         [2, 1, 224, 224]          --\n",
       "====================================================================================================\n",
       "Total params: 34,589,825\n",
       "Trainable params: 34,589,825\n",
       "Non-trainable params: 0\n",
       "Total mult-adds (Units.GIGABYTES): 18.22\n",
       "====================================================================================================\n",
       "Input size (MB): 9.63\n",
       "Forward/backward pass size (MB): 561.43\n",
       "Params size (MB): 138.36\n",
       "Estimated Total Size (MB): 709.42\n",
       "===================================================================================================="
      ]
     },
     "execution_count": 19,
     "metadata": {},
     "output_type": "execute_result"
    }
   ],
   "source": [
    "summary(model, input_data=torch.randn(2, depth, size, size))"
   ]
  },
  {
   "cell_type": "code",
   "execution_count": 20,
   "id": "3ddba4fe",
   "metadata": {},
   "outputs": [
    {
     "name": "stdout",
     "output_type": "stream",
     "text": [
      "tensor(5.0035)\n",
      "torch.Size([2, 1, 224, 224])\n"
     ]
    }
   ],
   "source": [
    "# check output shape and make sure that no sigmoid activation is at the last layer\n",
    "with torch.no_grad():\n",
    "    print(model(torch.randn(32, depth, size, size)).max())\n",
    "    print(model(torch.randn(2, depth, size, size)).size())"
   ]
  },
  {
   "cell_type": "code",
   "execution_count": 21,
   "id": "381fb27e",
   "metadata": {},
   "outputs": [],
   "source": [
    "# save the initial model weights to use them for each fold\n",
    "random_weights_path = f'{folder}/Weights/{name}_random.pth'\n",
    "if not os.path.exists(random_weights_path):\n",
    "    torch.save(model.state_dict(), random_weights_path)"
   ]
  },
  {
   "cell_type": "markdown",
   "id": "49cf1ad7",
   "metadata": {},
   "source": [
    "# Create a custom metric for the dice F 0.5 score"
   ]
  },
  {
   "cell_type": "code",
   "execution_count": 22,
   "id": "e0480e36",
   "metadata": {},
   "outputs": [],
   "source": [
    "class CustomDice(torchmetrics.Metric):\n",
    "    def __init__(self, beta=0.5, smooth=1e-5):\n",
    "        super().__init__()\n",
    "        \n",
    "        self.beta = beta\n",
    "        self.smooth = smooth\n",
    "        self.add_state(\"ctp\", default=torch.tensor(0, dtype=torch.float32), dist_reduce_fx=\"sum\")\n",
    "        self.add_state(\"cfp\", default=torch.tensor(0, dtype=torch.float32), dist_reduce_fx=\"sum\")\n",
    "        self.add_state(\"y_true_count\", default=torch.tensor(0, dtype=torch.float32), dist_reduce_fx=\"sum\")\n",
    "\n",
    "    def update(self, preds: torch.Tensor, target: torch.Tensor, apply_sigmoid=True):\n",
    "        \n",
    "        if apply_sigmoid:\n",
    "            preds = torch.sigmoid(preds)\n",
    "        preds = preds.view(-1)#.float()\n",
    "        target = target.view(-1)#.float()\n",
    "\n",
    "        self.y_true_count += target.sum()\n",
    "        self.ctp += preds[target == 1].sum()\n",
    "        self.cfp += preds[target == 0].sum()\n",
    "\n",
    "    def compute(self):\n",
    "        c_precision = self.ctp / (self.ctp + self.cfp + self.smooth)\n",
    "        c_recall = self.ctp / (self.y_true_count + self.smooth)\n",
    "        beta_squared = self.beta * self.beta\n",
    "        dice_score = (1 + beta_squared) * (c_precision * c_recall) / (beta_squared * c_precision + c_recall + self.smooth)\n",
    "\n",
    "        return dice_score"
   ]
  },
  {
   "cell_type": "markdown",
   "id": "35ea8b95",
   "metadata": {},
   "source": [
    "# Create the Lightning Module"
   ]
  },
  {
   "cell_type": "code",
   "execution_count": 23,
   "id": "ad8d4538",
   "metadata": {},
   "outputs": [],
   "source": [
    "class NN(pl.LightningModule):\n",
    "    def __init__(self, model, learning_rate):\n",
    "        super().__init__()\n",
    "        self.model = model\n",
    "        self.learning_rate = learning_rate\n",
    "        self.loss_bce = SoftBCEWithLogitsLoss()\n",
    "        self.loss_dice = DiceLoss(sigmoid=True)  # sigmoid not applied\n",
    "        #self.loss = SoftBCEWithLogitsLoss(pos_weight=torch.tensor(2))\n",
    "        #self.loss = DiceLoss(sigmoid=True)\n",
    "        self.dice = CustomDice()\n",
    "        \n",
    "        self.predictions = []  # for holding both to calculate the optimal thresholds\n",
    "        self.targets = []\n",
    "        \n",
    "    def forward(self, x):\n",
    "        x = self.model(x)\n",
    "        \n",
    "        return x\n",
    "    \n",
    "    def training_step(self, batch, batch_idx):\n",
    "        X, y = batch\n",
    "        \n",
    "        pred = self.model(X)\n",
    "        \n",
    "        # add class dim\n",
    "        y = y.unsqueeze(1)\n",
    "        \n",
    "        #loss = self.loss(pred, y)\n",
    "        loss_dice = self.loss_dice(pred, y)\n",
    "        loss_bce = self.loss_bce(pred, y)\n",
    "        loss = 0.5 * loss_bce + 0.5 * loss_dice\n",
    "        \n",
    "        with torch.no_grad():\n",
    "            dice_score = self.dice(pred, y)\n",
    "            \n",
    "        self.log_dict({'train_loss': loss,\n",
    "                       'train_dice': dice_score},\n",
    "                       on_step=False,\n",
    "                       on_epoch=True,\n",
    "                       prog_bar=True,\n",
    "                       logger=True)\n",
    "        \n",
    "        return {'loss': loss, 'train_dice': dice_score}\n",
    "        \n",
    "    def validation_step(self, batch, batch_idx):\n",
    "        X, y = batch\n",
    "        \n",
    "        pred = self.model(X)\n",
    "        \n",
    "        # append the pred and y for thresholding\n",
    "        self.predictions.append(pred.flatten()) # flatten them for calculation\n",
    "        self.targets.append(y.flatten())\n",
    "        \n",
    "        y = y.unsqueeze(1)\n",
    "        \n",
    "        #loss = self.loss(pred, y)\n",
    "        loss_dice = self.loss_dice(pred, y)\n",
    "        loss_bce = self.loss_bce(pred, y)\n",
    "        loss = 0.5 * loss_bce + 0.5 * loss_dice\n",
    "        \n",
    "        dice_score = self.dice(pred, y)\n",
    "        \n",
    "        self.log_dict({'valid_loss': loss,\n",
    "                       'valid_dice': dice_score},\n",
    "                        on_step=False,\n",
    "                        on_epoch=True,\n",
    "                        prog_bar=True,\n",
    "                        logger=True)\n",
    "        \n",
    "        return {'valid_loss': loss, 'valid_dice': dice_score}\n",
    "    \n",
    "    def on_validation_epoch_end(self):\n",
    "        thresholds = np.arange(start=0.2, stop=0.6, step=0.05)  # thresholds to try\n",
    "        scores = []  # append the scores here to log them after all done\n",
    "        \n",
    "        # use the attributes to calculate the dice score for each threshold\n",
    "        predictions = torch.cat(self.predictions, dim=0)\n",
    "        targets = torch.cat(self.targets, dim=0)\n",
    "        \n",
    "        # first apply sigmoid to apply correct threshold\n",
    "        predictions = torch.sigmoid(predictions)\n",
    "        \n",
    "        # try all thresholds\n",
    "        for threshold in thresholds:\n",
    "            threshold = torch.tensor(threshold)\n",
    "            \n",
    "            # make predictions binary based on threshold            \n",
    "            pred_th = torch.where(predictions > threshold, 1, 0)\n",
    "\n",
    "            dice_score = self.dice(pred_th, targets, apply_sigmoid=False).cpu()\n",
    "            print('TH: ', threshold, ' - Dice: ', dice_score)\n",
    "            scores.append(dice_score)\n",
    "        \n",
    "        # get the index of the best dice score\n",
    "        index_best = torch.argmax(torch.tensor(scores))\n",
    "        \n",
    "        best_dice = torch.round(scores[index_best].clone(), decimals=3)\n",
    "        best_threshold = thresholds[index_best]\n",
    "        \n",
    "        print(f'Best Threshold: {best_threshold} - Best Dice Score: {best_dice}')\n",
    "        \n",
    "        # Log the best dice valid        \n",
    "        self.log_dict({'Best_Threshold': torch.tensor(best_threshold), 'Best_Dice': best_dice},\n",
    "                       on_step=False, on_epoch=True, prog_bar=True, logger=True)\n",
    "        \n",
    "        # reset after each epoch\n",
    "        self.predictions = []\n",
    "        self.targets = []\n",
    "        \n",
    "    def configure_optimizers(self):\n",
    "        optim = torch.optim.Adam(self.model.parameters(), lr=self.learning_rate)\n",
    "        # needs params: total steps or steps per epoch and epochs\n",
    "        total_steps = len(self.trainer.datamodule.train_dataloader()) * epochs\n",
    "        scheduler = OneCycleLR(optimizer=optim,\n",
    "                               max_lr=1e-4,\n",
    "                               epochs=epochs,\n",
    "                               #steps_per_epoch=10,\n",
    "                               total_steps = total_steps, #epochs*10,\n",
    "                               pct_start=pct_increase,)\n",
    "                               #verbose=True)\n",
    "        return [optim], [{\"scheduler\": scheduler, \"interval\": \"step\"}]"
   ]
  },
  {
   "cell_type": "code",
   "execution_count": 24,
   "id": "d49c4aa6",
   "metadata": {},
   "outputs": [],
   "source": [
    "MODEL = NN(model=model, learning_rate=learning_rate)"
   ]
  },
  {
   "cell_type": "markdown",
   "id": "4b3aaa7a",
   "metadata": {},
   "source": [
    "# Train / validate 3 models with the random weights"
   ]
  },
  {
   "cell_type": "code",
   "execution_count": 25,
   "id": "74bf1454",
   "metadata": {
    "scrolled": false
   },
   "outputs": [
    {
     "name": "stderr",
     "output_type": "stream",
     "text": [
      "Using 16bit Automatic Mixed Precision (AMP)\n",
      "GPU available: True (cuda), used: True\n",
      "TPU available: False, using: 0 TPU cores\n",
      "IPU available: False, using: 0 IPUs\n",
      "HPU available: False, using: 0 HPUs\n",
      "LOCAL_RANK: 0 - CUDA_VISIBLE_DEVICES: [0]\n",
      "\n",
      "  | Name      | Type                  | Params\n",
      "----------------------------------------------------\n",
      "0 | model     | Unet                  | 34.6 M\n",
      "1 | loss_bce  | SoftBCEWithLogitsLoss | 0     \n",
      "2 | loss_dice | DiceLoss              | 0     \n",
      "3 | dice      | CustomDice            | 0     \n",
      "----------------------------------------------------\n",
      "34.6 M    Trainable params\n",
      "0         Non-trainable params\n",
      "34.6 M    Total params\n",
      "138.359   Total estimated model params size (MB)\n"
     ]
    },
    {
     "data": {
      "application/vnd.jupyter.widget-view+json": {
       "model_id": "",
       "version_major": 2,
       "version_minor": 0
      },
      "text/plain": [
       "Sanity Checking: 0it [00:00, ?it/s]"
      ]
     },
     "metadata": {},
     "output_type": "display_data"
    },
    {
     "name": "stdout",
     "output_type": "stream",
     "text": [
      "TH:  tensor(0.2000, dtype=torch.float64)  - Dice:  tensor(0.3338)\n",
      "TH:  tensor(0.2500, dtype=torch.float64)  - Dice:  tensor(0.3338)\n",
      "TH:  tensor(0.3000, dtype=torch.float64)  - Dice:  tensor(0.3338)\n",
      "TH:  tensor(0.3500, dtype=torch.float64)  - Dice:  tensor(0.3338)\n",
      "TH:  tensor(0.4000, dtype=torch.float64)  - Dice:  tensor(0.3338)\n",
      "TH:  tensor(0.4500, dtype=torch.float64)  - Dice:  tensor(0.3338)\n",
      "TH:  tensor(0.5000, dtype=torch.float64)  - Dice:  tensor(0.1197)\n",
      "TH:  tensor(0.5500, dtype=torch.float64)  - Dice:  tensor(0.)\n",
      "Best Threshold: 0.2 - Best Dice Score: 0.33399999141693115\n"
     ]
    },
    {
     "name": "stderr",
     "output_type": "stream",
     "text": [
      "/home/olli/anaconda3/envs/light/lib/python3.11/site-packages/torch/nn/modules/conv.py:459: UserWarning: Applied workaround for CuDNN issue, install nvrtc.so (Triggered internally at /opt/conda/conda-bld/pytorch_1682343995622/work/aten/src/ATen/native/cudnn/Conv_v8.cpp:80.)\n",
      "  return F.conv2d(input, weight, bias, self.stride,\n"
     ]
    },
    {
     "data": {
      "application/vnd.jupyter.widget-view+json": {
       "model_id": "274866124f214790b645c166ceddfa66",
       "version_major": 2,
       "version_minor": 0
      },
      "text/plain": [
       "Training: 0it [00:00, ?it/s]"
      ]
     },
     "metadata": {},
     "output_type": "display_data"
    },
    {
     "data": {
      "application/vnd.jupyter.widget-view+json": {
       "model_id": "",
       "version_major": 2,
       "version_minor": 0
      },
      "text/plain": [
       "Validation: 0it [00:00, ?it/s]"
      ]
     },
     "metadata": {},
     "output_type": "display_data"
    },
    {
     "name": "stdout",
     "output_type": "stream",
     "text": [
      "TH:  tensor(0.2000, dtype=torch.float64)  - Dice:  tensor(0.3838)\n",
      "TH:  tensor(0.2500, dtype=torch.float64)  - Dice:  tensor(0.3835)\n",
      "TH:  tensor(0.3000, dtype=torch.float64)  - Dice:  tensor(0.3811)\n",
      "TH:  tensor(0.3500, dtype=torch.float64)  - Dice:  tensor(0.3752)\n",
      "TH:  tensor(0.4000, dtype=torch.float64)  - Dice:  tensor(0.3634)\n",
      "TH:  tensor(0.4500, dtype=torch.float64)  - Dice:  tensor(0.3403)\n",
      "TH:  tensor(0.5000, dtype=torch.float64)  - Dice:  tensor(0.2971)\n",
      "TH:  tensor(0.5500, dtype=torch.float64)  - Dice:  tensor(0.2263)\n",
      "Best Threshold: 0.2 - Best Dice Score: 0.3840000033378601\n"
     ]
    },
    {
     "data": {
      "application/vnd.jupyter.widget-view+json": {
       "model_id": "",
       "version_major": 2,
       "version_minor": 0
      },
      "text/plain": [
       "Validation: 0it [00:00, ?it/s]"
      ]
     },
     "metadata": {},
     "output_type": "display_data"
    },
    {
     "name": "stdout",
     "output_type": "stream",
     "text": [
      "TH:  tensor(0.2000, dtype=torch.float64)  - Dice:  tensor(0.3838)\n",
      "TH:  tensor(0.2500, dtype=torch.float64)  - Dice:  tensor(0.3851)\n",
      "TH:  tensor(0.3000, dtype=torch.float64)  - Dice:  tensor(0.3864)\n",
      "TH:  tensor(0.3500, dtype=torch.float64)  - Dice:  tensor(0.3876)\n",
      "TH:  tensor(0.4000, dtype=torch.float64)  - Dice:  tensor(0.3869)\n",
      "TH:  tensor(0.4500, dtype=torch.float64)  - Dice:  tensor(0.3767)\n",
      "TH:  tensor(0.5000, dtype=torch.float64)  - Dice:  tensor(0.3378)\n",
      "TH:  tensor(0.5500, dtype=torch.float64)  - Dice:  tensor(0.2375)\n",
      "Best Threshold: 0.35 - Best Dice Score: 0.3880000114440918\n"
     ]
    },
    {
     "data": {
      "application/vnd.jupyter.widget-view+json": {
       "model_id": "",
       "version_major": 2,
       "version_minor": 0
      },
      "text/plain": [
       "Validation: 0it [00:00, ?it/s]"
      ]
     },
     "metadata": {},
     "output_type": "display_data"
    },
    {
     "name": "stdout",
     "output_type": "stream",
     "text": [
      "TH:  tensor(0.2000, dtype=torch.float64)  - Dice:  tensor(0.3877)\n",
      "TH:  tensor(0.2500, dtype=torch.float64)  - Dice:  tensor(0.3907)\n",
      "TH:  tensor(0.3000, dtype=torch.float64)  - Dice:  tensor(0.3958)\n",
      "TH:  tensor(0.3500, dtype=torch.float64)  - Dice:  tensor(0.4032)\n",
      "TH:  tensor(0.4000, dtype=torch.float64)  - Dice:  tensor(0.4112)\n",
      "TH:  tensor(0.4500, dtype=torch.float64)  - Dice:  tensor(0.4108)\n",
      "TH:  tensor(0.5000, dtype=torch.float64)  - Dice:  tensor(0.3648)\n",
      "TH:  tensor(0.5500, dtype=torch.float64)  - Dice:  tensor(0.2248)\n",
      "Best Threshold: 0.39999999999999997 - Best Dice Score: 0.41100001335144043\n"
     ]
    },
    {
     "data": {
      "application/vnd.jupyter.widget-view+json": {
       "model_id": "",
       "version_major": 2,
       "version_minor": 0
      },
      "text/plain": [
       "Validation: 0it [00:00, ?it/s]"
      ]
     },
     "metadata": {},
     "output_type": "display_data"
    },
    {
     "name": "stdout",
     "output_type": "stream",
     "text": [
      "TH:  tensor(0.2000, dtype=torch.float64)  - Dice:  tensor(0.3758)\n",
      "TH:  tensor(0.2500, dtype=torch.float64)  - Dice:  tensor(0.3767)\n",
      "TH:  tensor(0.3000, dtype=torch.float64)  - Dice:  tensor(0.3797)\n",
      "TH:  tensor(0.3500, dtype=torch.float64)  - Dice:  tensor(0.3820)\n",
      "TH:  tensor(0.4000, dtype=torch.float64)  - Dice:  tensor(0.3837)\n",
      "TH:  tensor(0.4500, dtype=torch.float64)  - Dice:  tensor(0.3849)\n",
      "TH:  tensor(0.5000, dtype=torch.float64)  - Dice:  tensor(0.3867)\n",
      "TH:  tensor(0.5500, dtype=torch.float64)  - Dice:  tensor(0.3881)\n",
      "Best Threshold: 0.5499999999999999 - Best Dice Score: 0.3880000114440918\n"
     ]
    },
    {
     "data": {
      "application/vnd.jupyter.widget-view+json": {
       "model_id": "",
       "version_major": 2,
       "version_minor": 0
      },
      "text/plain": [
       "Validation: 0it [00:00, ?it/s]"
      ]
     },
     "metadata": {},
     "output_type": "display_data"
    },
    {
     "name": "stdout",
     "output_type": "stream",
     "text": [
      "TH:  tensor(0.2000, dtype=torch.float64)  - Dice:  tensor(0.3819)\n",
      "TH:  tensor(0.2500, dtype=torch.float64)  - Dice:  tensor(0.3844)\n",
      "TH:  tensor(0.3000, dtype=torch.float64)  - Dice:  tensor(0.3865)\n",
      "TH:  tensor(0.3500, dtype=torch.float64)  - Dice:  tensor(0.3886)\n",
      "TH:  tensor(0.4000, dtype=torch.float64)  - Dice:  tensor(0.3906)\n",
      "TH:  tensor(0.4500, dtype=torch.float64)  - Dice:  tensor(0.3929)\n",
      "TH:  tensor(0.5000, dtype=torch.float64)  - Dice:  tensor(0.3958)\n",
      "TH:  tensor(0.5500, dtype=torch.float64)  - Dice:  tensor(0.3992)\n",
      "Best Threshold: 0.5499999999999999 - Best Dice Score: 0.39899998903274536\n"
     ]
    },
    {
     "data": {
      "application/vnd.jupyter.widget-view+json": {
       "model_id": "",
       "version_major": 2,
       "version_minor": 0
      },
      "text/plain": [
       "Validation: 0it [00:00, ?it/s]"
      ]
     },
     "metadata": {},
     "output_type": "display_data"
    },
    {
     "name": "stdout",
     "output_type": "stream",
     "text": [
      "TH:  tensor(0.2000, dtype=torch.float64)  - Dice:  tensor(0.3916)\n",
      "TH:  tensor(0.2500, dtype=torch.float64)  - Dice:  tensor(0.4006)\n",
      "TH:  tensor(0.3000, dtype=torch.float64)  - Dice:  tensor(0.4116)\n",
      "TH:  tensor(0.3500, dtype=torch.float64)  - Dice:  tensor(0.4200)\n",
      "TH:  tensor(0.4000, dtype=torch.float64)  - Dice:  tensor(0.4215)\n",
      "TH:  tensor(0.4500, dtype=torch.float64)  - Dice:  tensor(0.4137)\n",
      "TH:  tensor(0.5000, dtype=torch.float64)  - Dice:  tensor(0.3769)\n",
      "TH:  tensor(0.5500, dtype=torch.float64)  - Dice:  tensor(0.3042)\n",
      "Best Threshold: 0.39999999999999997 - Best Dice Score: 0.42100000381469727\n"
     ]
    },
    {
     "data": {
      "application/vnd.jupyter.widget-view+json": {
       "model_id": "",
       "version_major": 2,
       "version_minor": 0
      },
      "text/plain": [
       "Validation: 0it [00:00, ?it/s]"
      ]
     },
     "metadata": {},
     "output_type": "display_data"
    },
    {
     "name": "stdout",
     "output_type": "stream",
     "text": [
      "TH:  tensor(0.2000, dtype=torch.float64)  - Dice:  tensor(0.4148)\n",
      "TH:  tensor(0.2500, dtype=torch.float64)  - Dice:  tensor(0.4331)\n",
      "TH:  tensor(0.3000, dtype=torch.float64)  - Dice:  tensor(0.4426)\n",
      "TH:  tensor(0.3500, dtype=torch.float64)  - Dice:  tensor(0.4390)\n",
      "TH:  tensor(0.4000, dtype=torch.float64)  - Dice:  tensor(0.4147)\n",
      "TH:  tensor(0.4500, dtype=torch.float64)  - Dice:  tensor(0.3704)\n",
      "TH:  tensor(0.5000, dtype=torch.float64)  - Dice:  tensor(0.2941)\n",
      "TH:  tensor(0.5500, dtype=torch.float64)  - Dice:  tensor(0.2048)\n",
      "Best Threshold: 0.3 - Best Dice Score: 0.4429999887943268\n"
     ]
    },
    {
     "data": {
      "application/vnd.jupyter.widget-view+json": {
       "model_id": "",
       "version_major": 2,
       "version_minor": 0
      },
      "text/plain": [
       "Validation: 0it [00:00, ?it/s]"
      ]
     },
     "metadata": {},
     "output_type": "display_data"
    },
    {
     "name": "stdout",
     "output_type": "stream",
     "text": [
      "TH:  tensor(0.2000, dtype=torch.float64)  - Dice:  tensor(0.4262)\n",
      "TH:  tensor(0.2500, dtype=torch.float64)  - Dice:  tensor(0.4380)\n",
      "TH:  tensor(0.3000, dtype=torch.float64)  - Dice:  tensor(0.4488)\n",
      "TH:  tensor(0.3500, dtype=torch.float64)  - Dice:  tensor(0.4588)\n",
      "TH:  tensor(0.4000, dtype=torch.float64)  - Dice:  tensor(0.4677)\n",
      "TH:  tensor(0.4500, dtype=torch.float64)  - Dice:  tensor(0.4750)\n",
      "TH:  tensor(0.5000, dtype=torch.float64)  - Dice:  tensor(0.4820)\n",
      "TH:  tensor(0.5500, dtype=torch.float64)  - Dice:  tensor(0.4866)\n",
      "Best Threshold: 0.5499999999999999 - Best Dice Score: 0.4869999885559082\n"
     ]
    },
    {
     "data": {
      "application/vnd.jupyter.widget-view+json": {
       "model_id": "",
       "version_major": 2,
       "version_minor": 0
      },
      "text/plain": [
       "Validation: 0it [00:00, ?it/s]"
      ]
     },
     "metadata": {},
     "output_type": "display_data"
    },
    {
     "name": "stdout",
     "output_type": "stream",
     "text": [
      "TH:  tensor(0.2000, dtype=torch.float64)  - Dice:  tensor(0.4447)\n",
      "TH:  tensor(0.2500, dtype=torch.float64)  - Dice:  tensor(0.4574)\n",
      "TH:  tensor(0.3000, dtype=torch.float64)  - Dice:  tensor(0.4629)\n",
      "TH:  tensor(0.3500, dtype=torch.float64)  - Dice:  tensor(0.4639)\n",
      "TH:  tensor(0.4000, dtype=torch.float64)  - Dice:  tensor(0.4625)\n",
      "TH:  tensor(0.4500, dtype=torch.float64)  - Dice:  tensor(0.4579)\n",
      "TH:  tensor(0.5000, dtype=torch.float64)  - Dice:  tensor(0.4481)\n",
      "TH:  tensor(0.5500, dtype=torch.float64)  - Dice:  tensor(0.4334)\n",
      "Best Threshold: 0.35 - Best Dice Score: 0.46399998664855957\n"
     ]
    },
    {
     "data": {
      "application/vnd.jupyter.widget-view+json": {
       "model_id": "",
       "version_major": 2,
       "version_minor": 0
      },
      "text/plain": [
       "Validation: 0it [00:00, ?it/s]"
      ]
     },
     "metadata": {},
     "output_type": "display_data"
    },
    {
     "name": "stdout",
     "output_type": "stream",
     "text": [
      "TH:  tensor(0.2000, dtype=torch.float64)  - Dice:  tensor(0.4569)\n",
      "TH:  tensor(0.2500, dtype=torch.float64)  - Dice:  tensor(0.4710)\n",
      "TH:  tensor(0.3000, dtype=torch.float64)  - Dice:  tensor(0.4811)\n",
      "TH:  tensor(0.3500, dtype=torch.float64)  - Dice:  tensor(0.4885)\n",
      "TH:  tensor(0.4000, dtype=torch.float64)  - Dice:  tensor(0.4932)\n",
      "TH:  tensor(0.4500, dtype=torch.float64)  - Dice:  tensor(0.4962)\n",
      "TH:  tensor(0.5000, dtype=torch.float64)  - Dice:  tensor(0.4965)\n",
      "TH:  tensor(0.5500, dtype=torch.float64)  - Dice:  tensor(0.4918)\n",
      "Best Threshold: 0.49999999999999994 - Best Dice Score: 0.4970000088214874\n"
     ]
    },
    {
     "data": {
      "application/vnd.jupyter.widget-view+json": {
       "model_id": "",
       "version_major": 2,
       "version_minor": 0
      },
      "text/plain": [
       "Validation: 0it [00:00, ?it/s]"
      ]
     },
     "metadata": {},
     "output_type": "display_data"
    },
    {
     "name": "stdout",
     "output_type": "stream",
     "text": [
      "TH:  tensor(0.2000, dtype=torch.float64)  - Dice:  tensor(0.4550)\n",
      "TH:  tensor(0.2500, dtype=torch.float64)  - Dice:  tensor(0.4674)\n",
      "TH:  tensor(0.3000, dtype=torch.float64)  - Dice:  tensor(0.4746)\n",
      "TH:  tensor(0.3500, dtype=torch.float64)  - Dice:  tensor(0.4783)\n",
      "TH:  tensor(0.4000, dtype=torch.float64)  - Dice:  tensor(0.4807)\n",
      "TH:  tensor(0.4500, dtype=torch.float64)  - Dice:  tensor(0.4822)\n",
      "TH:  tensor(0.5000, dtype=torch.float64)  - Dice:  tensor(0.4809)\n",
      "TH:  tensor(0.5500, dtype=torch.float64)  - Dice:  tensor(0.4764)\n",
      "Best Threshold: 0.44999999999999996 - Best Dice Score: 0.4819999933242798\n"
     ]
    },
    {
     "data": {
      "application/vnd.jupyter.widget-view+json": {
       "model_id": "",
       "version_major": 2,
       "version_minor": 0
      },
      "text/plain": [
       "Validation: 0it [00:00, ?it/s]"
      ]
     },
     "metadata": {},
     "output_type": "display_data"
    },
    {
     "name": "stdout",
     "output_type": "stream",
     "text": [
      "TH:  tensor(0.2000, dtype=torch.float64)  - Dice:  tensor(0.4445)\n",
      "TH:  tensor(0.2500, dtype=torch.float64)  - Dice:  tensor(0.4555)\n",
      "TH:  tensor(0.3000, dtype=torch.float64)  - Dice:  tensor(0.4634)\n",
      "TH:  tensor(0.3500, dtype=torch.float64)  - Dice:  tensor(0.4702)\n",
      "TH:  tensor(0.4000, dtype=torch.float64)  - Dice:  tensor(0.4759)\n",
      "TH:  tensor(0.4500, dtype=torch.float64)  - Dice:  tensor(0.4815)\n",
      "TH:  tensor(0.5000, dtype=torch.float64)  - Dice:  tensor(0.4872)\n",
      "TH:  tensor(0.5500, dtype=torch.float64)  - Dice:  tensor(0.4906)\n",
      "Best Threshold: 0.5499999999999999 - Best Dice Score: 0.4909999966621399\n"
     ]
    },
    {
     "data": {
      "application/vnd.jupyter.widget-view+json": {
       "model_id": "",
       "version_major": 2,
       "version_minor": 0
      },
      "text/plain": [
       "Validation: 0it [00:00, ?it/s]"
      ]
     },
     "metadata": {},
     "output_type": "display_data"
    },
    {
     "name": "stdout",
     "output_type": "stream",
     "text": [
      "TH:  tensor(0.2000, dtype=torch.float64)  - Dice:  tensor(0.4472)\n",
      "TH:  tensor(0.2500, dtype=torch.float64)  - Dice:  tensor(0.4589)\n",
      "TH:  tensor(0.3000, dtype=torch.float64)  - Dice:  tensor(0.4677)\n",
      "TH:  tensor(0.3500, dtype=torch.float64)  - Dice:  tensor(0.4754)\n",
      "TH:  tensor(0.4000, dtype=torch.float64)  - Dice:  tensor(0.4817)\n",
      "TH:  tensor(0.4500, dtype=torch.float64)  - Dice:  tensor(0.4878)\n",
      "TH:  tensor(0.5000, dtype=torch.float64)  - Dice:  tensor(0.4931)\n",
      "TH:  tensor(0.5500, dtype=torch.float64)  - Dice:  tensor(0.4968)\n",
      "Best Threshold: 0.5499999999999999 - Best Dice Score: 0.4970000088214874\n"
     ]
    },
    {
     "data": {
      "application/vnd.jupyter.widget-view+json": {
       "model_id": "",
       "version_major": 2,
       "version_minor": 0
      },
      "text/plain": [
       "Validation: 0it [00:00, ?it/s]"
      ]
     },
     "metadata": {},
     "output_type": "display_data"
    },
    {
     "name": "stdout",
     "output_type": "stream",
     "text": [
      "TH:  tensor(0.2000, dtype=torch.float64)  - Dice:  tensor(0.4502)\n",
      "TH:  tensor(0.2500, dtype=torch.float64)  - Dice:  tensor(0.4619)\n",
      "TH:  tensor(0.3000, dtype=torch.float64)  - Dice:  tensor(0.4706)\n",
      "TH:  tensor(0.3500, dtype=torch.float64)  - Dice:  tensor(0.4783)\n",
      "TH:  tensor(0.4000, dtype=torch.float64)  - Dice:  tensor(0.4852)\n",
      "TH:  tensor(0.4500, dtype=torch.float64)  - Dice:  tensor(0.4921)\n",
      "TH:  tensor(0.5000, dtype=torch.float64)  - Dice:  tensor(0.4979)\n",
      "TH:  tensor(0.5500, dtype=torch.float64)  - Dice:  tensor(0.5018)\n",
      "Best Threshold: 0.5499999999999999 - Best Dice Score: 0.5019999742507935\n"
     ]
    },
    {
     "name": "stderr",
     "output_type": "stream",
     "text": [
      "`Trainer.fit` stopped: `max_epochs=14` reached.\n",
      "Using 16bit Automatic Mixed Precision (AMP)\n",
      "GPU available: True (cuda), used: True\n",
      "TPU available: False, using: 0 TPU cores\n",
      "IPU available: False, using: 0 IPUs\n",
      "HPU available: False, using: 0 HPUs\n",
      "LOCAL_RANK: 0 - CUDA_VISIBLE_DEVICES: [0]\n",
      "\n",
      "  | Name      | Type                  | Params\n",
      "----------------------------------------------------\n",
      "0 | model     | Unet                  | 34.6 M\n",
      "1 | loss_bce  | SoftBCEWithLogitsLoss | 0     \n",
      "2 | loss_dice | DiceLoss              | 0     \n",
      "3 | dice      | CustomDice            | 0     \n",
      "----------------------------------------------------\n",
      "34.6 M    Trainable params\n",
      "0         Non-trainable params\n",
      "34.6 M    Total params\n",
      "138.359   Total estimated model params size (MB)\n"
     ]
    },
    {
     "data": {
      "application/vnd.jupyter.widget-view+json": {
       "model_id": "",
       "version_major": 2,
       "version_minor": 0
      },
      "text/plain": [
       "Sanity Checking: 0it [00:00, ?it/s]"
      ]
     },
     "metadata": {},
     "output_type": "display_data"
    },
    {
     "name": "stdout",
     "output_type": "stream",
     "text": [
      "TH:  tensor(0.2000, dtype=torch.float64)  - Dice:  tensor(0.3754)\n",
      "TH:  tensor(0.2500, dtype=torch.float64)  - Dice:  tensor(0.3754)\n",
      "TH:  tensor(0.3000, dtype=torch.float64)  - Dice:  tensor(0.3754)\n",
      "TH:  tensor(0.3500, dtype=torch.float64)  - Dice:  tensor(0.3754)\n",
      "TH:  tensor(0.4000, dtype=torch.float64)  - Dice:  tensor(0.3754)\n",
      "TH:  tensor(0.4500, dtype=torch.float64)  - Dice:  tensor(0.3753)\n",
      "TH:  tensor(0.5000, dtype=torch.float64)  - Dice:  tensor(0.0920)\n",
      "TH:  tensor(0.5500, dtype=torch.float64)  - Dice:  tensor(0.)\n",
      "Best Threshold: 0.2 - Best Dice Score: 0.375\n"
     ]
    },
    {
     "data": {
      "application/vnd.jupyter.widget-view+json": {
       "model_id": "fb9a3691d2484e34829aceada183a9c1",
       "version_major": 2,
       "version_minor": 0
      },
      "text/plain": [
       "Training: 0it [00:00, ?it/s]"
      ]
     },
     "metadata": {},
     "output_type": "display_data"
    },
    {
     "data": {
      "application/vnd.jupyter.widget-view+json": {
       "model_id": "",
       "version_major": 2,
       "version_minor": 0
      },
      "text/plain": [
       "Validation: 0it [00:00, ?it/s]"
      ]
     },
     "metadata": {},
     "output_type": "display_data"
    },
    {
     "name": "stdout",
     "output_type": "stream",
     "text": [
      "TH:  tensor(0.2000, dtype=torch.float64)  - Dice:  tensor(0.3500)\n",
      "TH:  tensor(0.2500, dtype=torch.float64)  - Dice:  tensor(0.3482)\n",
      "TH:  tensor(0.3000, dtype=torch.float64)  - Dice:  tensor(0.3434)\n",
      "TH:  tensor(0.3500, dtype=torch.float64)  - Dice:  tensor(0.3342)\n",
      "TH:  tensor(0.4000, dtype=torch.float64)  - Dice:  tensor(0.3178)\n",
      "TH:  tensor(0.4500, dtype=torch.float64)  - Dice:  tensor(0.2892)\n",
      "TH:  tensor(0.5000, dtype=torch.float64)  - Dice:  tensor(0.2421)\n",
      "TH:  tensor(0.5500, dtype=torch.float64)  - Dice:  tensor(0.1761)\n",
      "Best Threshold: 0.2 - Best Dice Score: 0.3499999940395355\n"
     ]
    },
    {
     "data": {
      "application/vnd.jupyter.widget-view+json": {
       "model_id": "",
       "version_major": 2,
       "version_minor": 0
      },
      "text/plain": [
       "Validation: 0it [00:00, ?it/s]"
      ]
     },
     "metadata": {},
     "output_type": "display_data"
    },
    {
     "name": "stdout",
     "output_type": "stream",
     "text": [
      "TH:  tensor(0.2000, dtype=torch.float64)  - Dice:  tensor(0.3570)\n",
      "TH:  tensor(0.2500, dtype=torch.float64)  - Dice:  tensor(0.3570)\n",
      "TH:  tensor(0.3000, dtype=torch.float64)  - Dice:  tensor(0.3552)\n",
      "TH:  tensor(0.3500, dtype=torch.float64)  - Dice:  tensor(0.3505)\n",
      "TH:  tensor(0.4000, dtype=torch.float64)  - Dice:  tensor(0.3398)\n",
      "TH:  tensor(0.4500, dtype=torch.float64)  - Dice:  tensor(0.3171)\n",
      "TH:  tensor(0.5000, dtype=torch.float64)  - Dice:  tensor(0.2730)\n",
      "TH:  tensor(0.5500, dtype=torch.float64)  - Dice:  tensor(0.2017)\n",
      "Best Threshold: 0.2 - Best Dice Score: 0.3569999933242798\n"
     ]
    },
    {
     "data": {
      "application/vnd.jupyter.widget-view+json": {
       "model_id": "",
       "version_major": 2,
       "version_minor": 0
      },
      "text/plain": [
       "Validation: 0it [00:00, ?it/s]"
      ]
     },
     "metadata": {},
     "output_type": "display_data"
    },
    {
     "name": "stdout",
     "output_type": "stream",
     "text": [
      "TH:  tensor(0.2000, dtype=torch.float64)  - Dice:  tensor(0.3555)\n",
      "TH:  tensor(0.2500, dtype=torch.float64)  - Dice:  tensor(0.3568)\n",
      "TH:  tensor(0.3000, dtype=torch.float64)  - Dice:  tensor(0.3582)\n",
      "TH:  tensor(0.3500, dtype=torch.float64)  - Dice:  tensor(0.3597)\n",
      "TH:  tensor(0.4000, dtype=torch.float64)  - Dice:  tensor(0.3603)\n",
      "TH:  tensor(0.4500, dtype=torch.float64)  - Dice:  tensor(0.3555)\n",
      "TH:  tensor(0.5000, dtype=torch.float64)  - Dice:  tensor(0.3334)\n",
      "TH:  tensor(0.5500, dtype=torch.float64)  - Dice:  tensor(0.2750)\n",
      "Best Threshold: 0.39999999999999997 - Best Dice Score: 0.36000001430511475\n"
     ]
    },
    {
     "data": {
      "application/vnd.jupyter.widget-view+json": {
       "model_id": "",
       "version_major": 2,
       "version_minor": 0
      },
      "text/plain": [
       "Validation: 0it [00:00, ?it/s]"
      ]
     },
     "metadata": {},
     "output_type": "display_data"
    },
    {
     "name": "stdout",
     "output_type": "stream",
     "text": [
      "TH:  tensor(0.2000, dtype=torch.float64)  - Dice:  tensor(0.3632)\n",
      "TH:  tensor(0.2500, dtype=torch.float64)  - Dice:  tensor(0.3648)\n",
      "TH:  tensor(0.3000, dtype=torch.float64)  - Dice:  tensor(0.3660)\n",
      "TH:  tensor(0.3500, dtype=torch.float64)  - Dice:  tensor(0.3667)\n",
      "TH:  tensor(0.4000, dtype=torch.float64)  - Dice:  tensor(0.3654)\n",
      "TH:  tensor(0.4500, dtype=torch.float64)  - Dice:  tensor(0.3584)\n",
      "TH:  tensor(0.5000, dtype=torch.float64)  - Dice:  tensor(0.3359)\n",
      "TH:  tensor(0.5500, dtype=torch.float64)  - Dice:  tensor(0.2776)\n",
      "Best Threshold: 0.35 - Best Dice Score: 0.367000013589859\n"
     ]
    },
    {
     "data": {
      "application/vnd.jupyter.widget-view+json": {
       "model_id": "",
       "version_major": 2,
       "version_minor": 0
      },
      "text/plain": [
       "Validation: 0it [00:00, ?it/s]"
      ]
     },
     "metadata": {},
     "output_type": "display_data"
    },
    {
     "name": "stdout",
     "output_type": "stream",
     "text": [
      "TH:  tensor(0.2000, dtype=torch.float64)  - Dice:  tensor(0.3690)\n",
      "TH:  tensor(0.2500, dtype=torch.float64)  - Dice:  tensor(0.3703)\n",
      "TH:  tensor(0.3000, dtype=torch.float64)  - Dice:  tensor(0.3701)\n",
      "TH:  tensor(0.3500, dtype=torch.float64)  - Dice:  tensor(0.3620)\n",
      "TH:  tensor(0.4000, dtype=torch.float64)  - Dice:  tensor(0.3355)\n",
      "TH:  tensor(0.4500, dtype=torch.float64)  - Dice:  tensor(0.2753)\n",
      "TH:  tensor(0.5000, dtype=torch.float64)  - Dice:  tensor(0.1817)\n",
      "TH:  tensor(0.5500, dtype=torch.float64)  - Dice:  tensor(0.0932)\n",
      "Best Threshold: 0.25 - Best Dice Score: 0.3700000047683716\n"
     ]
    },
    {
     "data": {
      "application/vnd.jupyter.widget-view+json": {
       "model_id": "",
       "version_major": 2,
       "version_minor": 0
      },
      "text/plain": [
       "Validation: 0it [00:00, ?it/s]"
      ]
     },
     "metadata": {},
     "output_type": "display_data"
    },
    {
     "name": "stdout",
     "output_type": "stream",
     "text": [
      "TH:  tensor(0.2000, dtype=torch.float64)  - Dice:  tensor(0.3547)\n",
      "TH:  tensor(0.2500, dtype=torch.float64)  - Dice:  tensor(0.3558)\n",
      "TH:  tensor(0.3000, dtype=torch.float64)  - Dice:  tensor(0.3567)\n",
      "TH:  tensor(0.3500, dtype=torch.float64)  - Dice:  tensor(0.3574)\n",
      "TH:  tensor(0.4000, dtype=torch.float64)  - Dice:  tensor(0.3573)\n",
      "TH:  tensor(0.4500, dtype=torch.float64)  - Dice:  tensor(0.3566)\n",
      "TH:  tensor(0.5000, dtype=torch.float64)  - Dice:  tensor(0.3544)\n",
      "TH:  tensor(0.5500, dtype=torch.float64)  - Dice:  tensor(0.3508)\n",
      "Best Threshold: 0.35 - Best Dice Score: 0.3569999933242798\n"
     ]
    },
    {
     "data": {
      "application/vnd.jupyter.widget-view+json": {
       "model_id": "",
       "version_major": 2,
       "version_minor": 0
      },
      "text/plain": [
       "Validation: 0it [00:00, ?it/s]"
      ]
     },
     "metadata": {},
     "output_type": "display_data"
    },
    {
     "name": "stdout",
     "output_type": "stream",
     "text": [
      "TH:  tensor(0.2000, dtype=torch.float64)  - Dice:  tensor(0.3596)\n",
      "TH:  tensor(0.2500, dtype=torch.float64)  - Dice:  tensor(0.3667)\n",
      "TH:  tensor(0.3000, dtype=torch.float64)  - Dice:  tensor(0.3742)\n",
      "TH:  tensor(0.3500, dtype=torch.float64)  - Dice:  tensor(0.3815)\n",
      "TH:  tensor(0.4000, dtype=torch.float64)  - Dice:  tensor(0.3883)\n",
      "TH:  tensor(0.4500, dtype=torch.float64)  - Dice:  tensor(0.3933)\n",
      "TH:  tensor(0.5000, dtype=torch.float64)  - Dice:  tensor(0.3935)\n",
      "TH:  tensor(0.5500, dtype=torch.float64)  - Dice:  tensor(0.3845)\n",
      "Best Threshold: 0.49999999999999994 - Best Dice Score: 0.39399999380111694\n"
     ]
    },
    {
     "data": {
      "application/vnd.jupyter.widget-view+json": {
       "model_id": "",
       "version_major": 2,
       "version_minor": 0
      },
      "text/plain": [
       "Validation: 0it [00:00, ?it/s]"
      ]
     },
     "metadata": {},
     "output_type": "display_data"
    },
    {
     "name": "stdout",
     "output_type": "stream",
     "text": [
      "TH:  tensor(0.2000, dtype=torch.float64)  - Dice:  tensor(0.3653)\n",
      "TH:  tensor(0.2500, dtype=torch.float64)  - Dice:  tensor(0.3676)\n",
      "TH:  tensor(0.3000, dtype=torch.float64)  - Dice:  tensor(0.3695)\n",
      "TH:  tensor(0.3500, dtype=torch.float64)  - Dice:  tensor(0.3711)\n",
      "TH:  tensor(0.4000, dtype=torch.float64)  - Dice:  tensor(0.3688)\n",
      "TH:  tensor(0.4500, dtype=torch.float64)  - Dice:  tensor(0.3581)\n",
      "TH:  tensor(0.5000, dtype=torch.float64)  - Dice:  tensor(0.3391)\n",
      "TH:  tensor(0.5500, dtype=torch.float64)  - Dice:  tensor(0.3154)\n",
      "Best Threshold: 0.35 - Best Dice Score: 0.3709999918937683\n"
     ]
    },
    {
     "data": {
      "application/vnd.jupyter.widget-view+json": {
       "model_id": "",
       "version_major": 2,
       "version_minor": 0
      },
      "text/plain": [
       "Validation: 0it [00:00, ?it/s]"
      ]
     },
     "metadata": {},
     "output_type": "display_data"
    },
    {
     "name": "stdout",
     "output_type": "stream",
     "text": [
      "TH:  tensor(0.2000, dtype=torch.float64)  - Dice:  tensor(0.3694)\n",
      "TH:  tensor(0.2500, dtype=torch.float64)  - Dice:  tensor(0.3616)\n",
      "TH:  tensor(0.3000, dtype=torch.float64)  - Dice:  tensor(0.3498)\n",
      "TH:  tensor(0.3500, dtype=torch.float64)  - Dice:  tensor(0.3326)\n",
      "TH:  tensor(0.4000, dtype=torch.float64)  - Dice:  tensor(0.3094)\n",
      "TH:  tensor(0.4500, dtype=torch.float64)  - Dice:  tensor(0.2777)\n",
      "TH:  tensor(0.5000, dtype=torch.float64)  - Dice:  tensor(0.2409)\n",
      "TH:  tensor(0.5500, dtype=torch.float64)  - Dice:  tensor(0.2056)\n",
      "Best Threshold: 0.2 - Best Dice Score: 0.36899998784065247\n"
     ]
    },
    {
     "data": {
      "application/vnd.jupyter.widget-view+json": {
       "model_id": "",
       "version_major": 2,
       "version_minor": 0
      },
      "text/plain": [
       "Validation: 0it [00:00, ?it/s]"
      ]
     },
     "metadata": {},
     "output_type": "display_data"
    },
    {
     "name": "stdout",
     "output_type": "stream",
     "text": [
      "TH:  tensor(0.2000, dtype=torch.float64)  - Dice:  tensor(0.3974)\n",
      "TH:  tensor(0.2500, dtype=torch.float64)  - Dice:  tensor(0.4044)\n",
      "TH:  tensor(0.3000, dtype=torch.float64)  - Dice:  tensor(0.4103)\n",
      "TH:  tensor(0.3500, dtype=torch.float64)  - Dice:  tensor(0.4137)\n",
      "TH:  tensor(0.4000, dtype=torch.float64)  - Dice:  tensor(0.4137)\n",
      "TH:  tensor(0.4500, dtype=torch.float64)  - Dice:  tensor(0.4090)\n",
      "TH:  tensor(0.5000, dtype=torch.float64)  - Dice:  tensor(0.3992)\n",
      "TH:  tensor(0.5500, dtype=torch.float64)  - Dice:  tensor(0.3833)\n",
      "Best Threshold: 0.35 - Best Dice Score: 0.414000004529953\n"
     ]
    },
    {
     "data": {
      "application/vnd.jupyter.widget-view+json": {
       "model_id": "",
       "version_major": 2,
       "version_minor": 0
      },
      "text/plain": [
       "Validation: 0it [00:00, ?it/s]"
      ]
     },
     "metadata": {},
     "output_type": "display_data"
    },
    {
     "name": "stdout",
     "output_type": "stream",
     "text": [
      "TH:  tensor(0.2000, dtype=torch.float64)  - Dice:  tensor(0.3987)\n",
      "TH:  tensor(0.2500, dtype=torch.float64)  - Dice:  tensor(0.3968)\n",
      "TH:  tensor(0.3000, dtype=torch.float64)  - Dice:  tensor(0.3896)\n",
      "TH:  tensor(0.3500, dtype=torch.float64)  - Dice:  tensor(0.3760)\n",
      "TH:  tensor(0.4000, dtype=torch.float64)  - Dice:  tensor(0.3546)\n",
      "TH:  tensor(0.4500, dtype=torch.float64)  - Dice:  tensor(0.3210)\n",
      "TH:  tensor(0.5000, dtype=torch.float64)  - Dice:  tensor(0.2830)\n",
      "TH:  tensor(0.5500, dtype=torch.float64)  - Dice:  tensor(0.2455)\n",
      "Best Threshold: 0.2 - Best Dice Score: 0.39899998903274536\n"
     ]
    },
    {
     "data": {
      "application/vnd.jupyter.widget-view+json": {
       "model_id": "",
       "version_major": 2,
       "version_minor": 0
      },
      "text/plain": [
       "Validation: 0it [00:00, ?it/s]"
      ]
     },
     "metadata": {},
     "output_type": "display_data"
    },
    {
     "name": "stdout",
     "output_type": "stream",
     "text": [
      "TH:  tensor(0.2000, dtype=torch.float64)  - Dice:  tensor(0.4123)\n",
      "TH:  tensor(0.2500, dtype=torch.float64)  - Dice:  tensor(0.4192)\n",
      "TH:  tensor(0.3000, dtype=torch.float64)  - Dice:  tensor(0.4229)\n",
      "TH:  tensor(0.3500, dtype=torch.float64)  - Dice:  tensor(0.4228)\n",
      "TH:  tensor(0.4000, dtype=torch.float64)  - Dice:  tensor(0.4179)\n",
      "TH:  tensor(0.4500, dtype=torch.float64)  - Dice:  tensor(0.4040)\n",
      "TH:  tensor(0.5000, dtype=torch.float64)  - Dice:  tensor(0.3819)\n",
      "TH:  tensor(0.5500, dtype=torch.float64)  - Dice:  tensor(0.3565)\n",
      "Best Threshold: 0.3 - Best Dice Score: 0.4230000078678131\n"
     ]
    },
    {
     "data": {
      "application/vnd.jupyter.widget-view+json": {
       "model_id": "",
       "version_major": 2,
       "version_minor": 0
      },
      "text/plain": [
       "Validation: 0it [00:00, ?it/s]"
      ]
     },
     "metadata": {},
     "output_type": "display_data"
    },
    {
     "name": "stdout",
     "output_type": "stream",
     "text": [
      "TH:  tensor(0.2000, dtype=torch.float64)  - Dice:  tensor(0.4158)\n",
      "TH:  tensor(0.2500, dtype=torch.float64)  - Dice:  tensor(0.4204)\n",
      "TH:  tensor(0.3000, dtype=torch.float64)  - Dice:  tensor(0.4216)\n",
      "TH:  tensor(0.3500, dtype=torch.float64)  - Dice:  tensor(0.4187)\n",
      "TH:  tensor(0.4000, dtype=torch.float64)  - Dice:  tensor(0.4116)\n",
      "TH:  tensor(0.4500, dtype=torch.float64)  - Dice:  tensor(0.3962)\n",
      "TH:  tensor(0.5000, dtype=torch.float64)  - Dice:  tensor(0.3741)\n",
      "TH:  tensor(0.5500, dtype=torch.float64)  - Dice:  tensor(0.3489)\n",
      "Best Threshold: 0.3 - Best Dice Score: 0.421999990940094\n"
     ]
    },
    {
     "data": {
      "application/vnd.jupyter.widget-view+json": {
       "model_id": "",
       "version_major": 2,
       "version_minor": 0
      },
      "text/plain": [
       "Validation: 0it [00:00, ?it/s]"
      ]
     },
     "metadata": {},
     "output_type": "display_data"
    },
    {
     "name": "stdout",
     "output_type": "stream",
     "text": [
      "TH:  tensor(0.2000, dtype=torch.float64)  - Dice:  tensor(0.4158)\n",
      "TH:  tensor(0.2500, dtype=torch.float64)  - Dice:  tensor(0.4201)\n",
      "TH:  tensor(0.3000, dtype=torch.float64)  - Dice:  tensor(0.4206)\n",
      "TH:  tensor(0.3500, dtype=torch.float64)  - Dice:  tensor(0.4167)\n",
      "TH:  tensor(0.4000, dtype=torch.float64)  - Dice:  tensor(0.4079)\n",
      "TH:  tensor(0.4500, dtype=torch.float64)  - Dice:  tensor(0.3888)\n",
      "TH:  tensor(0.5000, dtype=torch.float64)  - Dice:  tensor(0.3629)\n",
      "TH:  tensor(0.5500, dtype=torch.float64)  - Dice:  tensor(0.3347)\n",
      "Best Threshold: 0.3 - Best Dice Score: 0.42100000381469727\n"
     ]
    },
    {
     "name": "stderr",
     "output_type": "stream",
     "text": [
      "`Trainer.fit` stopped: `max_epochs=14` reached.\n",
      "Using 16bit Automatic Mixed Precision (AMP)\n",
      "GPU available: True (cuda), used: True\n",
      "TPU available: False, using: 0 TPU cores\n",
      "IPU available: False, using: 0 IPUs\n",
      "HPU available: False, using: 0 HPUs\n",
      "LOCAL_RANK: 0 - CUDA_VISIBLE_DEVICES: [0]\n",
      "\n",
      "  | Name      | Type                  | Params\n",
      "----------------------------------------------------\n",
      "0 | model     | Unet                  | 34.6 M\n",
      "1 | loss_bce  | SoftBCEWithLogitsLoss | 0     \n",
      "2 | loss_dice | DiceLoss              | 0     \n",
      "3 | dice      | CustomDice            | 0     \n",
      "----------------------------------------------------\n",
      "34.6 M    Trainable params\n",
      "0         Non-trainable params\n",
      "34.6 M    Total params\n",
      "138.359   Total estimated model params size (MB)\n"
     ]
    },
    {
     "data": {
      "application/vnd.jupyter.widget-view+json": {
       "model_id": "",
       "version_major": 2,
       "version_minor": 0
      },
      "text/plain": [
       "Sanity Checking: 0it [00:00, ?it/s]"
      ]
     },
     "metadata": {},
     "output_type": "display_data"
    },
    {
     "name": "stdout",
     "output_type": "stream",
     "text": [
      "TH:  tensor(0.2000, dtype=torch.float64)  - Dice:  tensor(0.2834)\n",
      "TH:  tensor(0.2500, dtype=torch.float64)  - Dice:  tensor(0.2834)\n",
      "TH:  tensor(0.3000, dtype=torch.float64)  - Dice:  tensor(0.2834)\n",
      "TH:  tensor(0.3500, dtype=torch.float64)  - Dice:  tensor(0.2834)\n",
      "TH:  tensor(0.4000, dtype=torch.float64)  - Dice:  tensor(0.2834)\n",
      "TH:  tensor(0.4500, dtype=torch.float64)  - Dice:  tensor(0.2834)\n",
      "TH:  tensor(0.5000, dtype=torch.float64)  - Dice:  tensor(0.0516)\n",
      "TH:  tensor(0.5500, dtype=torch.float64)  - Dice:  tensor(0.)\n",
      "Best Threshold: 0.2 - Best Dice Score: 0.28299999237060547\n"
     ]
    },
    {
     "data": {
      "application/vnd.jupyter.widget-view+json": {
       "model_id": "f3e6dc3dfc52489b9cb7342f48039cca",
       "version_major": 2,
       "version_minor": 0
      },
      "text/plain": [
       "Training: 0it [00:00, ?it/s]"
      ]
     },
     "metadata": {},
     "output_type": "display_data"
    },
    {
     "data": {
      "application/vnd.jupyter.widget-view+json": {
       "model_id": "",
       "version_major": 2,
       "version_minor": 0
      },
      "text/plain": [
       "Validation: 0it [00:00, ?it/s]"
      ]
     },
     "metadata": {},
     "output_type": "display_data"
    },
    {
     "name": "stdout",
     "output_type": "stream",
     "text": [
      "TH:  tensor(0.2000, dtype=torch.float64)  - Dice:  tensor(0.3190)\n",
      "TH:  tensor(0.2500, dtype=torch.float64)  - Dice:  tensor(0.3191)\n",
      "TH:  tensor(0.3000, dtype=torch.float64)  - Dice:  tensor(0.3177)\n",
      "TH:  tensor(0.3500, dtype=torch.float64)  - Dice:  tensor(0.3135)\n",
      "TH:  tensor(0.4000, dtype=torch.float64)  - Dice:  tensor(0.3031)\n",
      "TH:  tensor(0.4500, dtype=torch.float64)  - Dice:  tensor(0.2798)\n",
      "TH:  tensor(0.5000, dtype=torch.float64)  - Dice:  tensor(0.2329)\n",
      "TH:  tensor(0.5500, dtype=torch.float64)  - Dice:  tensor(0.1600)\n",
      "Best Threshold: 0.25 - Best Dice Score: 0.3190000057220459\n"
     ]
    },
    {
     "data": {
      "application/vnd.jupyter.widget-view+json": {
       "model_id": "",
       "version_major": 2,
       "version_minor": 0
      },
      "text/plain": [
       "Validation: 0it [00:00, ?it/s]"
      ]
     },
     "metadata": {},
     "output_type": "display_data"
    },
    {
     "name": "stdout",
     "output_type": "stream",
     "text": [
      "TH:  tensor(0.2000, dtype=torch.float64)  - Dice:  tensor(0.3187)\n",
      "TH:  tensor(0.2500, dtype=torch.float64)  - Dice:  tensor(0.3201)\n",
      "TH:  tensor(0.3000, dtype=torch.float64)  - Dice:  tensor(0.3215)\n",
      "TH:  tensor(0.3500, dtype=torch.float64)  - Dice:  tensor(0.3227)\n",
      "TH:  tensor(0.4000, dtype=torch.float64)  - Dice:  tensor(0.3219)\n",
      "TH:  tensor(0.4500, dtype=torch.float64)  - Dice:  tensor(0.3113)\n",
      "TH:  tensor(0.5000, dtype=torch.float64)  - Dice:  tensor(0.2705)\n",
      "TH:  tensor(0.5500, dtype=torch.float64)  - Dice:  tensor(0.1778)\n",
      "Best Threshold: 0.35 - Best Dice Score: 0.3230000138282776\n"
     ]
    },
    {
     "data": {
      "application/vnd.jupyter.widget-view+json": {
       "model_id": "",
       "version_major": 2,
       "version_minor": 0
      },
      "text/plain": [
       "Validation: 0it [00:00, ?it/s]"
      ]
     },
     "metadata": {},
     "output_type": "display_data"
    },
    {
     "name": "stdout",
     "output_type": "stream",
     "text": [
      "TH:  tensor(0.2000, dtype=torch.float64)  - Dice:  tensor(0.3129)\n",
      "TH:  tensor(0.2500, dtype=torch.float64)  - Dice:  tensor(0.3134)\n",
      "TH:  tensor(0.3000, dtype=torch.float64)  - Dice:  tensor(0.3153)\n",
      "TH:  tensor(0.3500, dtype=torch.float64)  - Dice:  tensor(0.3190)\n",
      "TH:  tensor(0.4000, dtype=torch.float64)  - Dice:  tensor(0.3235)\n",
      "TH:  tensor(0.4500, dtype=torch.float64)  - Dice:  tensor(0.3254)\n",
      "TH:  tensor(0.5000, dtype=torch.float64)  - Dice:  tensor(0.3161)\n",
      "TH:  tensor(0.5500, dtype=torch.float64)  - Dice:  tensor(0.2563)\n",
      "Best Threshold: 0.44999999999999996 - Best Dice Score: 0.32499998807907104\n"
     ]
    },
    {
     "data": {
      "application/vnd.jupyter.widget-view+json": {
       "model_id": "",
       "version_major": 2,
       "version_minor": 0
      },
      "text/plain": [
       "Validation: 0it [00:00, ?it/s]"
      ]
     },
     "metadata": {},
     "output_type": "display_data"
    },
    {
     "name": "stdout",
     "output_type": "stream",
     "text": [
      "TH:  tensor(0.2000, dtype=torch.float64)  - Dice:  tensor(0.3149)\n",
      "TH:  tensor(0.2500, dtype=torch.float64)  - Dice:  tensor(0.3212)\n",
      "TH:  tensor(0.3000, dtype=torch.float64)  - Dice:  tensor(0.3320)\n",
      "TH:  tensor(0.3500, dtype=torch.float64)  - Dice:  tensor(0.3412)\n",
      "TH:  tensor(0.4000, dtype=torch.float64)  - Dice:  tensor(0.3463)\n",
      "TH:  tensor(0.4500, dtype=torch.float64)  - Dice:  tensor(0.3452)\n",
      "TH:  tensor(0.5000, dtype=torch.float64)  - Dice:  tensor(0.3362)\n",
      "TH:  tensor(0.5500, dtype=torch.float64)  - Dice:  tensor(0.3097)\n",
      "Best Threshold: 0.39999999999999997 - Best Dice Score: 0.34599998593330383\n"
     ]
    },
    {
     "data": {
      "application/vnd.jupyter.widget-view+json": {
       "model_id": "",
       "version_major": 2,
       "version_minor": 0
      },
      "text/plain": [
       "Validation: 0it [00:00, ?it/s]"
      ]
     },
     "metadata": {},
     "output_type": "display_data"
    },
    {
     "name": "stdout",
     "output_type": "stream",
     "text": [
      "TH:  tensor(0.2000, dtype=torch.float64)  - Dice:  tensor(0.3129)\n",
      "TH:  tensor(0.2500, dtype=torch.float64)  - Dice:  tensor(0.3130)\n",
      "TH:  tensor(0.3000, dtype=torch.float64)  - Dice:  tensor(0.3133)\n",
      "TH:  tensor(0.3500, dtype=torch.float64)  - Dice:  tensor(0.3139)\n",
      "TH:  tensor(0.4000, dtype=torch.float64)  - Dice:  tensor(0.3150)\n",
      "TH:  tensor(0.4500, dtype=torch.float64)  - Dice:  tensor(0.3171)\n",
      "TH:  tensor(0.5000, dtype=torch.float64)  - Dice:  tensor(0.3187)\n",
      "TH:  tensor(0.5500, dtype=torch.float64)  - Dice:  tensor(0.3200)\n",
      "Best Threshold: 0.5499999999999999 - Best Dice Score: 0.3199999928474426\n"
     ]
    },
    {
     "data": {
      "application/vnd.jupyter.widget-view+json": {
       "model_id": "",
       "version_major": 2,
       "version_minor": 0
      },
      "text/plain": [
       "Validation: 0it [00:00, ?it/s]"
      ]
     },
     "metadata": {},
     "output_type": "display_data"
    },
    {
     "name": "stdout",
     "output_type": "stream",
     "text": [
      "TH:  tensor(0.2000, dtype=torch.float64)  - Dice:  tensor(0.3211)\n",
      "TH:  tensor(0.2500, dtype=torch.float64)  - Dice:  tensor(0.3225)\n",
      "TH:  tensor(0.3000, dtype=torch.float64)  - Dice:  tensor(0.3239)\n",
      "TH:  tensor(0.3500, dtype=torch.float64)  - Dice:  tensor(0.3257)\n",
      "TH:  tensor(0.4000, dtype=torch.float64)  - Dice:  tensor(0.3281)\n",
      "TH:  tensor(0.4500, dtype=torch.float64)  - Dice:  tensor(0.3312)\n",
      "TH:  tensor(0.5000, dtype=torch.float64)  - Dice:  tensor(0.3359)\n",
      "TH:  tensor(0.5500, dtype=torch.float64)  - Dice:  tensor(0.3404)\n",
      "Best Threshold: 0.5499999999999999 - Best Dice Score: 0.3400000035762787\n"
     ]
    },
    {
     "data": {
      "application/vnd.jupyter.widget-view+json": {
       "model_id": "",
       "version_major": 2,
       "version_minor": 0
      },
      "text/plain": [
       "Validation: 0it [00:00, ?it/s]"
      ]
     },
     "metadata": {},
     "output_type": "display_data"
    },
    {
     "name": "stdout",
     "output_type": "stream",
     "text": [
      "TH:  tensor(0.2000, dtype=torch.float64)  - Dice:  tensor(0.3581)\n",
      "TH:  tensor(0.2500, dtype=torch.float64)  - Dice:  tensor(0.3779)\n",
      "TH:  tensor(0.3000, dtype=torch.float64)  - Dice:  tensor(0.3873)\n",
      "TH:  tensor(0.3500, dtype=torch.float64)  - Dice:  tensor(0.3946)\n",
      "TH:  tensor(0.4000, dtype=torch.float64)  - Dice:  tensor(0.3908)\n",
      "TH:  tensor(0.4500, dtype=torch.float64)  - Dice:  tensor(0.3672)\n",
      "TH:  tensor(0.5000, dtype=torch.float64)  - Dice:  tensor(0.3264)\n",
      "TH:  tensor(0.5500, dtype=torch.float64)  - Dice:  tensor(0.2857)\n",
      "Best Threshold: 0.35 - Best Dice Score: 0.39500001072883606\n"
     ]
    },
    {
     "data": {
      "application/vnd.jupyter.widget-view+json": {
       "model_id": "",
       "version_major": 2,
       "version_minor": 0
      },
      "text/plain": [
       "Validation: 0it [00:00, ?it/s]"
      ]
     },
     "metadata": {},
     "output_type": "display_data"
    },
    {
     "name": "stdout",
     "output_type": "stream",
     "text": [
      "TH:  tensor(0.2000, dtype=torch.float64)  - Dice:  tensor(0.3386)\n",
      "TH:  tensor(0.2500, dtype=torch.float64)  - Dice:  tensor(0.3441)\n",
      "TH:  tensor(0.3000, dtype=torch.float64)  - Dice:  tensor(0.3489)\n",
      "TH:  tensor(0.3500, dtype=torch.float64)  - Dice:  tensor(0.3551)\n",
      "TH:  tensor(0.4000, dtype=torch.float64)  - Dice:  tensor(0.3637)\n",
      "TH:  tensor(0.4500, dtype=torch.float64)  - Dice:  tensor(0.3733)\n",
      "TH:  tensor(0.5000, dtype=torch.float64)  - Dice:  tensor(0.3839)\n",
      "TH:  tensor(0.5500, dtype=torch.float64)  - Dice:  tensor(0.3919)\n",
      "Best Threshold: 0.5499999999999999 - Best Dice Score: 0.3919999897480011\n"
     ]
    },
    {
     "data": {
      "application/vnd.jupyter.widget-view+json": {
       "model_id": "",
       "version_major": 2,
       "version_minor": 0
      },
      "text/plain": [
       "Validation: 0it [00:00, ?it/s]"
      ]
     },
     "metadata": {},
     "output_type": "display_data"
    },
    {
     "name": "stdout",
     "output_type": "stream",
     "text": [
      "TH:  tensor(0.2000, dtype=torch.float64)  - Dice:  tensor(0.3568)\n",
      "TH:  tensor(0.2500, dtype=torch.float64)  - Dice:  tensor(0.3659)\n",
      "TH:  tensor(0.3000, dtype=torch.float64)  - Dice:  tensor(0.3737)\n",
      "TH:  tensor(0.3500, dtype=torch.float64)  - Dice:  tensor(0.3808)\n",
      "TH:  tensor(0.4000, dtype=torch.float64)  - Dice:  tensor(0.3881)\n",
      "TH:  tensor(0.4500, dtype=torch.float64)  - Dice:  tensor(0.3974)\n",
      "TH:  tensor(0.5000, dtype=torch.float64)  - Dice:  tensor(0.4081)\n",
      "TH:  tensor(0.5500, dtype=torch.float64)  - Dice:  tensor(0.4183)\n",
      "Best Threshold: 0.5499999999999999 - Best Dice Score: 0.4180000126361847\n"
     ]
    },
    {
     "data": {
      "application/vnd.jupyter.widget-view+json": {
       "model_id": "",
       "version_major": 2,
       "version_minor": 0
      },
      "text/plain": [
       "Validation: 0it [00:00, ?it/s]"
      ]
     },
     "metadata": {},
     "output_type": "display_data"
    },
    {
     "name": "stdout",
     "output_type": "stream",
     "text": [
      "TH:  tensor(0.2000, dtype=torch.float64)  - Dice:  tensor(0.4066)\n",
      "TH:  tensor(0.2500, dtype=torch.float64)  - Dice:  tensor(0.4211)\n",
      "TH:  tensor(0.3000, dtype=torch.float64)  - Dice:  tensor(0.4320)\n",
      "TH:  tensor(0.3500, dtype=torch.float64)  - Dice:  tensor(0.4416)\n",
      "TH:  tensor(0.4000, dtype=torch.float64)  - Dice:  tensor(0.4495)\n",
      "TH:  tensor(0.4500, dtype=torch.float64)  - Dice:  tensor(0.4570)\n",
      "TH:  tensor(0.5000, dtype=torch.float64)  - Dice:  tensor(0.4635)\n",
      "TH:  tensor(0.5500, dtype=torch.float64)  - Dice:  tensor(0.4682)\n",
      "Best Threshold: 0.5499999999999999 - Best Dice Score: 0.46799999475479126\n"
     ]
    },
    {
     "data": {
      "application/vnd.jupyter.widget-view+json": {
       "model_id": "",
       "version_major": 2,
       "version_minor": 0
      },
      "text/plain": [
       "Validation: 0it [00:00, ?it/s]"
      ]
     },
     "metadata": {},
     "output_type": "display_data"
    },
    {
     "name": "stdout",
     "output_type": "stream",
     "text": [
      "TH:  tensor(0.2000, dtype=torch.float64)  - Dice:  tensor(0.4220)\n",
      "TH:  tensor(0.2500, dtype=torch.float64)  - Dice:  tensor(0.4419)\n",
      "TH:  tensor(0.3000, dtype=torch.float64)  - Dice:  tensor(0.4582)\n",
      "TH:  tensor(0.3500, dtype=torch.float64)  - Dice:  tensor(0.4724)\n",
      "TH:  tensor(0.4000, dtype=torch.float64)  - Dice:  tensor(0.4837)\n",
      "TH:  tensor(0.4500, dtype=torch.float64)  - Dice:  tensor(0.4938)\n",
      "TH:  tensor(0.5000, dtype=torch.float64)  - Dice:  tensor(0.4996)\n",
      "TH:  tensor(0.5500, dtype=torch.float64)  - Dice:  tensor(0.5011)\n",
      "Best Threshold: 0.5499999999999999 - Best Dice Score: 0.5009999871253967\n"
     ]
    },
    {
     "data": {
      "application/vnd.jupyter.widget-view+json": {
       "model_id": "",
       "version_major": 2,
       "version_minor": 0
      },
      "text/plain": [
       "Validation: 0it [00:00, ?it/s]"
      ]
     },
     "metadata": {},
     "output_type": "display_data"
    },
    {
     "name": "stdout",
     "output_type": "stream",
     "text": [
      "TH:  tensor(0.2000, dtype=torch.float64)  - Dice:  tensor(0.4576)\n",
      "TH:  tensor(0.2500, dtype=torch.float64)  - Dice:  tensor(0.4734)\n",
      "TH:  tensor(0.3000, dtype=torch.float64)  - Dice:  tensor(0.4832)\n",
      "TH:  tensor(0.3500, dtype=torch.float64)  - Dice:  tensor(0.4904)\n",
      "TH:  tensor(0.4000, dtype=torch.float64)  - Dice:  tensor(0.4946)\n",
      "TH:  tensor(0.4500, dtype=torch.float64)  - Dice:  tensor(0.4944)\n",
      "TH:  tensor(0.5000, dtype=torch.float64)  - Dice:  tensor(0.4867)\n",
      "TH:  tensor(0.5500, dtype=torch.float64)  - Dice:  tensor(0.4752)\n",
      "Best Threshold: 0.39999999999999997 - Best Dice Score: 0.4950000047683716\n"
     ]
    },
    {
     "data": {
      "application/vnd.jupyter.widget-view+json": {
       "model_id": "",
       "version_major": 2,
       "version_minor": 0
      },
      "text/plain": [
       "Validation: 0it [00:00, ?it/s]"
      ]
     },
     "metadata": {},
     "output_type": "display_data"
    },
    {
     "name": "stdout",
     "output_type": "stream",
     "text": [
      "TH:  tensor(0.2000, dtype=torch.float64)  - Dice:  tensor(0.4333)\n",
      "TH:  tensor(0.2500, dtype=torch.float64)  - Dice:  tensor(0.4526)\n",
      "TH:  tensor(0.3000, dtype=torch.float64)  - Dice:  tensor(0.4693)\n",
      "TH:  tensor(0.3500, dtype=torch.float64)  - Dice:  tensor(0.4838)\n",
      "TH:  tensor(0.4000, dtype=torch.float64)  - Dice:  tensor(0.4958)\n",
      "TH:  tensor(0.4500, dtype=torch.float64)  - Dice:  tensor(0.5068)\n",
      "TH:  tensor(0.5000, dtype=torch.float64)  - Dice:  tensor(0.5123)\n",
      "TH:  tensor(0.5500, dtype=torch.float64)  - Dice:  tensor(0.5127)\n",
      "Best Threshold: 0.5499999999999999 - Best Dice Score: 0.5130000114440918\n"
     ]
    },
    {
     "data": {
      "application/vnd.jupyter.widget-view+json": {
       "model_id": "",
       "version_major": 2,
       "version_minor": 0
      },
      "text/plain": [
       "Validation: 0it [00:00, ?it/s]"
      ]
     },
     "metadata": {},
     "output_type": "display_data"
    },
    {
     "name": "stdout",
     "output_type": "stream",
     "text": [
      "TH:  tensor(0.2000, dtype=torch.float64)  - Dice:  tensor(0.4190)\n",
      "TH:  tensor(0.2500, dtype=torch.float64)  - Dice:  tensor(0.4382)\n",
      "TH:  tensor(0.3000, dtype=torch.float64)  - Dice:  tensor(0.4540)\n",
      "TH:  tensor(0.3500, dtype=torch.float64)  - Dice:  tensor(0.4692)\n",
      "TH:  tensor(0.4000, dtype=torch.float64)  - Dice:  tensor(0.4824)\n",
      "TH:  tensor(0.4500, dtype=torch.float64)  - Dice:  tensor(0.4965)\n",
      "TH:  tensor(0.5000, dtype=torch.float64)  - Dice:  tensor(0.5066)\n",
      "TH:  tensor(0.5500, dtype=torch.float64)  - Dice:  tensor(0.5111)\n",
      "Best Threshold: 0.5499999999999999 - Best Dice Score: 0.5109999775886536\n"
     ]
    },
    {
     "name": "stderr",
     "output_type": "stream",
     "text": [
      "`Trainer.fit` stopped: `max_epochs=14` reached.\n"
     ]
    },
    {
     "name": "stdout",
     "output_type": "stream",
     "text": [
      "CPU times: user 13min 45s, sys: 4min, total: 17min 46s\n",
      "Wall time: 46min 33s\n"
     ]
    }
   ],
   "source": [
    "%%time\n",
    "\n",
    "for i in range(0, 3):\n",
    "    MODEL.model.load_state_dict(torch.load(random_weights_path))\n",
    "    train_ds = Data(paths=train_data[i], transform=train_aug)\n",
    "    valid_ds = Data(paths=valid_data[i], transform=valid_aug)\n",
    "    dm = DataModule(train_ds=train_ds, valid_ds=valid_ds)\n",
    "    logger = TensorBoardLogger(folder_logs, name=name, version=f'Fold_{i+1}')\n",
    "    trainer = pl.Trainer(accelerator='gpu', devices=[0], max_epochs=epochs, precision='16-mixed', logger=logger)\n",
    "    trainer.fit(MODEL, dm)\n",
    "    path_save_weights = os.path.join(folder, 'Weights', f'Model_{i + 1}_{name}.pth')\n",
    "    torch.save(MODEL.model.state_dict(), path_save_weights)"
   ]
  },
  {
   "cell_type": "code",
   "execution_count": null,
   "id": "21b36a11",
   "metadata": {},
   "outputs": [],
   "source": []
  }
 ],
 "metadata": {
  "kernelspec": {
   "display_name": "light",
   "language": "python",
   "name": "light"
  },
  "language_info": {
   "codemirror_mode": {
    "name": "ipython",
    "version": 3
   },
   "file_extension": ".py",
   "mimetype": "text/x-python",
   "name": "python",
   "nbconvert_exporter": "python",
   "pygments_lexer": "ipython3",
   "version": "3.11.3"
  }
 },
 "nbformat": 4,
 "nbformat_minor": 5
}
