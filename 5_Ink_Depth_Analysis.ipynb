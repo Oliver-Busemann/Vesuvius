{
 "cells": [
  {
   "cell_type": "markdown",
   "id": "91fe115c",
   "metadata": {},
   "source": [
    "# Notebook to train a model only on specific layers to evaluate the amound of ink in there indirectly on the performance!"
   ]
  },
  {
   "cell_type": "code",
   "execution_count": 1,
   "id": "9d40998d",
   "metadata": {},
   "outputs": [],
   "source": [
    "%matplotlib inline\n",
    "import matplotlib.pyplot as plt\n",
    "import pandas as pd\n",
    "import numpy as np\n",
    "import cv2\n",
    "import torch\n",
    "import torch.nn as nn\n",
    "import torch.nn.functional as F\n",
    "import pytorch_lightning as pl\n",
    "import os\n",
    "from glob import glob\n",
    "import pickle\n",
    "from torch.utils.data import Dataset, DataLoader\n",
    "from torchinfo import summary\n",
    "import torchmetrics\n",
    "from pytorch_lightning.loggers import TensorBoardLogger\n",
    "from monai import losses\n",
    "import albumentations as A\n",
    "from copy import deepcopy\n",
    "from pytorch_lightning.callbacks import Callback\n",
    "from torch.optim.lr_scheduler import OneCycleLR\n",
    "from torch.utils.data import WeightedRandomSampler\n",
    "import random\n",
    "import segmentation_models_pytorch as smp\n",
    "import gc"
   ]
  },
  {
   "cell_type": "code",
   "execution_count": 2,
   "id": "3e610907",
   "metadata": {},
   "outputs": [],
   "source": [
    "torch.set_float32_matmul_precision('medium')"
   ]
  },
  {
   "cell_type": "code",
   "execution_count": 3,
   "id": "a7c197f4",
   "metadata": {},
   "outputs": [],
   "source": [
    "# paths and hyperparameters\n",
    "name = '2DCNN_Check_Ink_Depth'\n",
    "folder = '/home/olli/Projects/Kaggle/Vesuvius'\n",
    "folder_logs = os.path.join(folder, f'Logs_2D')\n",
    "depth = 13\n",
    "size = 1024\n",
    "batch_size = 8\n",
    "num_workers = 16\n",
    "epochs = 14\n",
    "learning_rate = 2e-4  # max lr to reach\n",
    "pct_increase = 0.33  # percentage of epochs to increase the lr before decreasing\n",
    "bce_loss_weight = 0.5  # how much to weight dice vs bce (0.5-0.5; 0.7-0.3; ...)\n",
    "ink_loss_weight = 2"
   ]
  },
  {
   "cell_type": "markdown",
   "id": "c87cd239",
   "metadata": {},
   "source": [
    "# Define Augmentations"
   ]
  },
  {
   "cell_type": "code",
   "execution_count": 4,
   "id": "fbe1c151",
   "metadata": {},
   "outputs": [],
   "source": [
    "train_aug = A.Compose([\n",
    "    A.HorizontalFlip(p=0.5),\n",
    "    A.VerticalFlip(p=0.5),\n",
    "    A.RandomBrightnessContrast(p=0.82),\n",
    "    A.ShiftScaleRotate(p=0.47),\n",
    "    A.OneOf([\n",
    "            A.GaussNoise(var_limit=[10, 50]),\n",
    "            A.GaussianBlur(),\n",
    "            A.MotionBlur(),\n",
    "            ], p=0.5),\n",
    "    A.GridDistortion(num_steps=5, distort_limit=0.3, p=0.32),\n",
    "    A.CoarseDropout(max_holes=1, max_width=int(size * 0.3), max_height=int(size * 0.3), \n",
    "                        mask_fill_value=0, p=0.47),\n",
    "    A.Normalize(mean=[0] * depth, std=[1] * depth)\n",
    "])"
   ]
  },
  {
   "cell_type": "code",
   "execution_count": 5,
   "id": "11a2eeee",
   "metadata": {},
   "outputs": [],
   "source": [
    "# use valid aug to normalize the scan\n",
    "valid_aug = A.Compose([\n",
    "    A.Normalize(mean=[0] * depth, std=[1] * depth)\n",
    "])"
   ]
  },
  {
   "cell_type": "markdown",
   "id": "d8e99c2a",
   "metadata": {},
   "source": [
    "# Define the PyTorch Dataset"
   ]
  },
  {
   "cell_type": "code",
   "execution_count": 6,
   "id": "1a8af64c",
   "metadata": {},
   "outputs": [],
   "source": [
    "class Data(Dataset):\n",
    "    def __init__(self, paths, transform=False):#, df=df):\n",
    "        self.paths = paths\n",
    "        self.transform = transform\n",
    "        #self.df = df\n",
    "        \n",
    "        random.Random(42).shuffle(self.paths)\n",
    "        \n",
    "    def __len__(self):\n",
    "        return len(self.paths)\n",
    "    \n",
    "    def __getitem__(self, index):\n",
    "        path = self.paths[index]\n",
    "        \n",
    "        with open(path, 'rb') as f:\n",
    "            data = pickle.load(f)\n",
    "            \n",
    "        X, mask, y = data\n",
    "        \n",
    "        if self.transform:\n",
    "            augmented_data = self.transform(image=X, masks=[mask, y])\n",
    "            \n",
    "            X = augmented_data['image']\n",
    "            mask = augmented_data['masks'][0]\n",
    "            y = augmented_data['masks'][1]\n",
    "        \n",
    "        mask = torch.tensor(mask / 255.).type(torch.float32)\n",
    "        y = torch.tensor(y / 255.).type(torch.float32)\n",
    "        \n",
    "        X = torch.tensor(X).permute(2, 0, 1).type(torch.float32)\n",
    "        \n",
    "        return X, mask, y"
   ]
  },
  {
   "cell_type": "markdown",
   "id": "8ccc47d1",
   "metadata": {},
   "source": [
    "# Create a Lightning Data Module from that"
   ]
  },
  {
   "cell_type": "code",
   "execution_count": 7,
   "id": "4ac0af45",
   "metadata": {},
   "outputs": [],
   "source": [
    "# create a lightning datamodule class\n",
    "\n",
    "class DataModule(pl.LightningDataModule):\n",
    "    \n",
    "    def __init__(self, train_ds, valid_ds, batch_size=batch_size, num_workers=num_workers):\n",
    "        \n",
    "        super().__init__()\n",
    "\n",
    "        self.batch_size=batch_size\n",
    "        self.num_workers=num_workers\n",
    "        \n",
    "        self.train_ds = train_ds\n",
    "        self.valid_ds = valid_ds\n",
    "        \n",
    "    def setup(self, stage):\n",
    "        \n",
    "        self.train_ds = self.train_ds\n",
    "        self.valid_ds = self.valid_ds\n",
    "        \n",
    "        # set up the sampler with the shuffled training paths\n",
    "        #files = [path.split('.')[-2].split('/')[-1] for path in self.train_ds.paths]\n",
    "        #scans = [path.split('.')[-2].split('/')[-3] for path in self.train_ds.paths]\n",
    "        #filenames = [scan + '_' + file for scan, file in zip(scans, files)]\n",
    "        \n",
    "        # sort the df to only have these with filenames in Index col\n",
    "        #df_filtered = self.train_ds.df[self.train_ds.df['Index'].isin(filenames)]\n",
    "        \n",
    "        # now sort the df_filtered exactly how the filesnames are sorted\n",
    "        #df_sorted = df_filtered.iloc[np.argsort([filenames.index(i) for i in df_filtered['Index']])]\n",
    "        \n",
    "        # now get the weights that are ordered correctly\n",
    "        #self.weights = df_sorted['Weight'].values\n",
    "        \n",
    "    def train_dataloader(self):\n",
    "        \n",
    "        train_dl = DataLoader(self.train_ds,\n",
    "                              batch_size=self.batch_size,\n",
    "                              num_workers=self.num_workers,\n",
    "                              shuffle=True)\n",
    "                              #pin_memory=True)\n",
    "        \n",
    "        return train_dl\n",
    "        \n",
    "    def val_dataloader(self):\n",
    "        \n",
    "        valid_dl = DataLoader(self.valid_ds,\n",
    "                              batch_size=self.batch_size,\n",
    "                              num_workers=self.num_workers,)\n",
    "                              #pin_memory=True)\n",
    "        \n",
    "        return valid_dl"
   ]
  },
  {
   "cell_type": "markdown",
   "id": "f3bf43eb",
   "metadata": {},
   "source": [
    "# Define the model"
   ]
  },
  {
   "cell_type": "code",
   "execution_count": 8,
   "id": "95249b67",
   "metadata": {},
   "outputs": [],
   "source": [
    "model = smp.Unet('se_resnext50_32x4d', encoder_weights=None, in_channels=depth, classes=1)"
   ]
  },
  {
   "cell_type": "code",
   "execution_count": 9,
   "id": "381fb27e",
   "metadata": {},
   "outputs": [],
   "source": [
    "# save the initial model weights to use them for each fold\n",
    "random_weights_path = f'{folder}/Weights/{name}_random.pth'\n",
    "if not os.path.exists(random_weights_path):\n",
    "    torch.save(model.state_dict(), random_weights_path)"
   ]
  },
  {
   "cell_type": "markdown",
   "id": "49cf1ad7",
   "metadata": {},
   "source": [
    "# Create a custom metric for the dice F 0.5 score"
   ]
  },
  {
   "cell_type": "code",
   "execution_count": 10,
   "id": "e0480e36",
   "metadata": {},
   "outputs": [],
   "source": [
    "class CustomDice(torchmetrics.Metric):\n",
    "    def __init__(self, beta=0.5, smooth=1e-5):\n",
    "        super().__init__()\n",
    "        \n",
    "        self.beta = beta\n",
    "        self.smooth = smooth\n",
    "        self.add_state(\"ctp\", default=torch.tensor(0, dtype=torch.float32), dist_reduce_fx=\"sum\")\n",
    "        self.add_state(\"cfp\", default=torch.tensor(0, dtype=torch.float32), dist_reduce_fx=\"sum\")\n",
    "        self.add_state(\"y_true_count\", default=torch.tensor(0, dtype=torch.float32), dist_reduce_fx=\"sum\")\n",
    "\n",
    "    def update(self, preds: torch.Tensor, target: torch.Tensor, apply_sigmoid=True):\n",
    "        \n",
    "        if apply_sigmoid:\n",
    "            preds = torch.sigmoid(preds)\n",
    "        preds = preds.view(-1)#.float()\n",
    "        target = target.view(-1)#.float()\n",
    "\n",
    "        self.y_true_count += target.sum()\n",
    "        self.ctp += preds[target == 1].sum()\n",
    "        self.cfp += preds[target == 0].sum()\n",
    "\n",
    "    def compute(self):\n",
    "        c_precision = self.ctp / (self.ctp + self.cfp + self.smooth)\n",
    "        c_recall = self.ctp / (self.y_true_count + self.smooth)\n",
    "        beta_squared = self.beta * self.beta\n",
    "        dice_score = (1 + beta_squared) * (c_precision * c_recall) / (beta_squared * c_precision + c_recall + self.smooth)\n",
    "\n",
    "        return dice_score"
   ]
  },
  {
   "cell_type": "markdown",
   "id": "35ea8b95",
   "metadata": {},
   "source": [
    "# Create the Lightning Module"
   ]
  },
  {
   "cell_type": "code",
   "execution_count": 11,
   "id": "ad8d4538",
   "metadata": {},
   "outputs": [],
   "source": [
    "class NN(pl.LightningModule):\n",
    "    def __init__(self, \n",
    "                 model, \n",
    "                 learning_rate,\n",
    "                 overweight_ink=ink_loss_weight,\n",
    "                 bce_loss_weight=bce_loss_weight,\n",
    "                 calculate_threshold=False):\n",
    "        super().__init__()\n",
    "        self.model = model\n",
    "        self.learning_rate = learning_rate\n",
    "        self.dice = CustomDice()\n",
    "        self.calc_th = calculate_threshold\n",
    "        self.overweight_ink = ink_loss_weight\n",
    "        self.bce_loss_weight = bce_loss_weight\n",
    "        self.epochs = epochs\n",
    "        self.pct_increase = pct_increase\n",
    "        self.BCE = nn.BCEWithLogitsLoss(pos_weight=torch.tensor(self.overweight_ink))\n",
    "        \n",
    "        self.dice_loss = losses.DiceLoss(sigmoid=True)\n",
    "        #self.masked_dice = losses.MaskedDiceLoss(sigmoid=True)\n",
    "        self.bce = nn.functional.binary_cross_entropy_with_logits\n",
    "        \n",
    "        self.predictions = []  # for holding both to calculate the optimal thresholds\n",
    "        self.targets = []\n",
    "        \n",
    "        self.best_score = torch.tensor(0)\n",
    "        \n",
    "    def forward(self, x):\n",
    "        x = self.model(x)\n",
    "        \n",
    "        return x\n",
    "    \n",
    "    def training_step(self, batch, batch_idx):\n",
    "        X, mask, y = batch\n",
    "        \n",
    "        pred = self.model(X)\n",
    "        \n",
    "        # add class dim\n",
    "        mask = mask.unsqueeze(1)\n",
    "        y = y.unsqueeze(1)\n",
    "        \n",
    "        dice_loss = self.dice_loss(pred, y)\n",
    "        \n",
    "        bce_loss = self.BCE(pred, y)\n",
    "        \n",
    "        #dice_loss = self.masked_dice(pred, target=y, mask=mask)\n",
    "                \n",
    "        #bce_loss = self.bce(pred, y, weight=mask)\n",
    "        \n",
    "        # now calculate the final loss on the defined ration (diceloss vs bceloss)\n",
    "        loss = self.bce_loss_weight * bce_loss + (1 - self.bce_loss_weight) * dice_loss\n",
    "        \n",
    "        #loss = self.BCE(pred, y)\n",
    "        \n",
    "        with torch.no_grad():\n",
    "            dice_score = self.dice(pred, y)\n",
    "            \n",
    "        self.log_dict({'train_loss': loss,\n",
    "                       'train_dice': dice_score},\n",
    "                       on_step=False,\n",
    "                       on_epoch=True,\n",
    "                       prog_bar=True,\n",
    "                       logger=True)\n",
    "        \n",
    "        return {'loss': loss, 'train_dice': dice_score}\n",
    "        \n",
    "    def validation_step(self, batch, batch_idx):\n",
    "        X, mask, y = batch\n",
    "        \n",
    "        with torch.no_grad():\n",
    "            pred = self.model(X)\n",
    "        \n",
    "        # append the pred and y for thresholding\n",
    "        self.predictions.append(pred.flatten()) # flatten them for calculation\n",
    "        self.targets.append(y.flatten())\n",
    "        \n",
    "        # add class dim\n",
    "        mask = mask.unsqueeze(1)\n",
    "        y = y.unsqueeze(1)\n",
    "        \n",
    "        dice_loss = self.dice_loss(pred, y)\n",
    "        \n",
    "        bce_loss = self.BCE(pred, y)\n",
    "        \n",
    "        #dice_loss = self.masked_dice(pred, target=y, mask=mask)\n",
    "                \n",
    "        #bce_loss = self.bce(pred, y, weight=mask)\n",
    "        \n",
    "        # now calculate the final loss on the defined ration (diceloss vs bceloss)\n",
    "        loss = self.bce_loss_weight * bce_loss + (1 - self.bce_loss_weight) * dice_loss\n",
    "        \n",
    "        #loss = self.BCE(pred, y)\n",
    "        \n",
    "        dice_score = self.dice(pred, y)\n",
    "        \n",
    "        self.log_dict({'valid_loss': loss,\n",
    "                       'valid_dice': dice_score},\n",
    "                        on_step=False,\n",
    "                        on_epoch=True,\n",
    "                        prog_bar=True,\n",
    "                        logger=True)\n",
    "        \n",
    "        return {'valid_loss': loss, 'valid_dice': dice_score}\n",
    "    \n",
    "    def on_validation_epoch_end(self):\n",
    "        #if self.calc_th:  # dont calculate the optimal threshold when tuning hp\n",
    "            thresholds = np.arange(start=0.2, stop=0.8, step=0.05)  # thresholds to try\n",
    "            scores = []  # append the scores here to log them after all done\n",
    "            # use the attributes to calculate the dice score for each threshold\n",
    "            predictions = torch.cat(self.predictions, dim=0)\n",
    "            targets = torch.cat(self.targets, dim=0)\n",
    "\n",
    "            # first apply sigmoid to apply correct threshold\n",
    "            predictions = torch.sigmoid(predictions)\n",
    "\n",
    "            # try all thresholds\n",
    "            for threshold in thresholds:\n",
    "                threshold = torch.tensor(threshold)\n",
    "\n",
    "                # make predictions binary based on threshold            \n",
    "                pred_th = torch.where(predictions > threshold, 1, 0)\n",
    "\n",
    "                dice_score = self.dice(pred_th, targets, apply_sigmoid=False).cpu()\n",
    "                print('TH: ', threshold, ' - Dice: ', dice_score)\n",
    "                scores.append(dice_score)\n",
    "\n",
    "            # get the index of the best dice score\n",
    "            index_best = torch.argmax(torch.tensor(scores))\n",
    "\n",
    "            best_dice = torch.round(scores[index_best].clone(), decimals=3)\n",
    "            best_threshold = thresholds[index_best]\n",
    "            \n",
    "            if best_dice > self.best_score:\n",
    "                self.best_score = best_dice\n",
    "\n",
    "            print(f'Best Threshold: {best_threshold} - Best Dice Score: {best_dice}')\n",
    "\n",
    "            # Log the best dice valid        \n",
    "            self.log_dict({'Best_Threshold': torch.tensor(best_threshold), 'Best_Dice': best_dice},\n",
    "                           on_step=False, on_epoch=True, prog_bar=True, logger=True)\n",
    "\n",
    "            # reset after each epoch\n",
    "            self.predictions = []\n",
    "            self.targets = []\n",
    "        \n",
    "    def configure_optimizers(self):\n",
    "        optim = torch.optim.Adam(self.model.parameters(), lr=self.learning_rate)\n",
    "        # needs params: total steps or steps per epoch and epochs\n",
    "        total_steps = len(self.trainer.datamodule.train_dataloader()) * self.epochs\n",
    "        scheduler = OneCycleLR(optimizer=optim,\n",
    "                               max_lr=self.learning_rate,\n",
    "                               epochs=self.epochs,\n",
    "                               #steps_per_epoch=10,\n",
    "                               total_steps = total_steps, #epochs*10,\n",
    "                               pct_start=self.pct_increase,)\n",
    "                               #verbose=True)\n",
    "        return [optim], [{\"scheduler\": scheduler, \"interval\": \"step\"}]"
   ]
  },
  {
   "cell_type": "markdown",
   "id": "4b3aaa7a",
   "metadata": {},
   "source": [
    "# Use Fragments 2 and 3 and evaluate the model on Fragment 1"
   ]
  },
  {
   "cell_type": "code",
   "execution_count": 12,
   "id": "1dcbe1ec",
   "metadata": {
    "scrolled": false
   },
   "outputs": [
    {
     "name": "stderr",
     "output_type": "stream",
     "text": [
      "Using 16bit Automatic Mixed Precision (AMP)\n",
      "GPU available: True (cuda), used: True\n",
      "TPU available: False, using: 0 TPU cores\n",
      "IPU available: False, using: 0 IPUs\n",
      "HPU available: False, using: 0 HPUs\n",
      "LOCAL_RANK: 0 - CUDA_VISIBLE_DEVICES: [0]\n",
      "\n",
      "  | Name      | Type              | Params\n",
      "------------------------------------------------\n",
      "0 | model     | Unet              | 34.6 M\n",
      "1 | dice      | CustomDice        | 0     \n",
      "2 | BCE       | BCEWithLogitsLoss | 0     \n",
      "3 | dice_loss | DiceLoss          | 0     \n",
      "------------------------------------------------\n",
      "34.6 M    Trainable params\n",
      "0         Non-trainable params\n",
      "34.6 M    Total params\n",
      "138.221   Total estimated model params size (MB)\n"
     ]
    },
    {
     "data": {
      "application/vnd.jupyter.widget-view+json": {
       "model_id": "",
       "version_major": 2,
       "version_minor": 0
      },
      "text/plain": [
       "Sanity Checking: 0it [00:00, ?it/s]"
      ]
     },
     "metadata": {},
     "output_type": "display_data"
    },
    {
     "name": "stdout",
     "output_type": "stream",
     "text": [
      "TH:  tensor(0.2000, dtype=torch.float64)  - Dice:  tensor(0.1853)\n",
      "TH:  tensor(0.2500, dtype=torch.float64)  - Dice:  tensor(0.1853)\n",
      "TH:  tensor(0.3000, dtype=torch.float64)  - Dice:  tensor(0.1853)\n",
      "TH:  tensor(0.3500, dtype=torch.float64)  - Dice:  tensor(0.1853)\n",
      "TH:  tensor(0.4000, dtype=torch.float64)  - Dice:  tensor(0.1853)\n",
      "TH:  tensor(0.4500, dtype=torch.float64)  - Dice:  tensor(0.1853)\n",
      "TH:  tensor(0.5000, dtype=torch.float64)  - Dice:  tensor(0.2281)\n",
      "TH:  tensor(0.5500, dtype=torch.float64)  - Dice:  tensor(0.0007)\n",
      "TH:  tensor(0.6000, dtype=torch.float64)  - Dice:  tensor(0.)\n",
      "TH:  tensor(0.6500, dtype=torch.float64)  - Dice:  tensor(0.)\n",
      "TH:  tensor(0.7000, dtype=torch.float64)  - Dice:  tensor(0.)\n",
      "TH:  tensor(0.7500, dtype=torch.float64)  - Dice:  tensor(0.)\n",
      "TH:  tensor(0.8000, dtype=torch.float64)  - Dice:  tensor(0.)\n",
      "Best Threshold: 0.49999999999999994 - Best Dice Score: 0.2280000001192093\n"
     ]
    },
    {
     "data": {
      "application/vnd.jupyter.widget-view+json": {
       "model_id": "1d687eb49c8c4e05a6a1544331ba7d7a",
       "version_major": 2,
       "version_minor": 0
      },
      "text/plain": [
       "Training: 0it [00:00, ?it/s]"
      ]
     },
     "metadata": {},
     "output_type": "display_data"
    },
    {
     "data": {
      "application/vnd.jupyter.widget-view+json": {
       "model_id": "",
       "version_major": 2,
       "version_minor": 0
      },
      "text/plain": [
       "Validation: 0it [00:00, ?it/s]"
      ]
     },
     "metadata": {},
     "output_type": "display_data"
    },
    {
     "name": "stdout",
     "output_type": "stream",
     "text": [
      "TH:  tensor(0.2000, dtype=torch.float64)  - Dice:  tensor(0.2586)\n",
      "TH:  tensor(0.2500, dtype=torch.float64)  - Dice:  tensor(0.2609)\n",
      "TH:  tensor(0.3000, dtype=torch.float64)  - Dice:  tensor(0.2621)\n",
      "TH:  tensor(0.3500, dtype=torch.float64)  - Dice:  tensor(0.2628)\n",
      "TH:  tensor(0.4000, dtype=torch.float64)  - Dice:  tensor(0.2630)\n",
      "TH:  tensor(0.4500, dtype=torch.float64)  - Dice:  tensor(0.2627)\n",
      "TH:  tensor(0.5000, dtype=torch.float64)  - Dice:  tensor(0.2610)\n",
      "TH:  tensor(0.5500, dtype=torch.float64)  - Dice:  tensor(0.2569)\n",
      "TH:  tensor(0.6000, dtype=torch.float64)  - Dice:  tensor(0.2468)\n",
      "TH:  tensor(0.6500, dtype=torch.float64)  - Dice:  tensor(0.2238)\n",
      "TH:  tensor(0.7000, dtype=torch.float64)  - Dice:  tensor(0.1762)\n",
      "TH:  tensor(0.7500, dtype=torch.float64)  - Dice:  tensor(0.1051)\n",
      "TH:  tensor(0.8000, dtype=torch.float64)  - Dice:  tensor(0.0440)\n",
      "Best Threshold: 0.39999999999999997 - Best Dice Score: 0.2630000114440918\n"
     ]
    },
    {
     "data": {
      "application/vnd.jupyter.widget-view+json": {
       "model_id": "",
       "version_major": 2,
       "version_minor": 0
      },
      "text/plain": [
       "Validation: 0it [00:00, ?it/s]"
      ]
     },
     "metadata": {},
     "output_type": "display_data"
    },
    {
     "name": "stdout",
     "output_type": "stream",
     "text": [
      "TH:  tensor(0.2000, dtype=torch.float64)  - Dice:  tensor(0.2512)\n",
      "TH:  tensor(0.2500, dtype=torch.float64)  - Dice:  tensor(0.2540)\n",
      "TH:  tensor(0.3000, dtype=torch.float64)  - Dice:  tensor(0.2577)\n",
      "TH:  tensor(0.3500, dtype=torch.float64)  - Dice:  tensor(0.2588)\n",
      "TH:  tensor(0.4000, dtype=torch.float64)  - Dice:  tensor(0.2578)\n",
      "TH:  tensor(0.4500, dtype=torch.float64)  - Dice:  tensor(0.2548)\n",
      "TH:  tensor(0.5000, dtype=torch.float64)  - Dice:  tensor(0.2473)\n",
      "TH:  tensor(0.5500, dtype=torch.float64)  - Dice:  tensor(0.2275)\n",
      "TH:  tensor(0.6000, dtype=torch.float64)  - Dice:  tensor(0.1821)\n",
      "TH:  tensor(0.6500, dtype=torch.float64)  - Dice:  tensor(0.1113)\n",
      "TH:  tensor(0.7000, dtype=torch.float64)  - Dice:  tensor(0.0504)\n",
      "TH:  tensor(0.7500, dtype=torch.float64)  - Dice:  tensor(0.0205)\n",
      "TH:  tensor(0.8000, dtype=torch.float64)  - Dice:  tensor(0.0089)\n",
      "Best Threshold: 0.35 - Best Dice Score: 0.2590000033378601\n"
     ]
    },
    {
     "data": {
      "application/vnd.jupyter.widget-view+json": {
       "model_id": "",
       "version_major": 2,
       "version_minor": 0
      },
      "text/plain": [
       "Validation: 0it [00:00, ?it/s]"
      ]
     },
     "metadata": {},
     "output_type": "display_data"
    },
    {
     "name": "stdout",
     "output_type": "stream",
     "text": [
      "TH:  tensor(0.2000, dtype=torch.float64)  - Dice:  tensor(0.2639)\n",
      "TH:  tensor(0.2500, dtype=torch.float64)  - Dice:  tensor(0.2651)\n",
      "TH:  tensor(0.3000, dtype=torch.float64)  - Dice:  tensor(0.2655)\n",
      "TH:  tensor(0.3500, dtype=torch.float64)  - Dice:  tensor(0.2647)\n",
      "TH:  tensor(0.4000, dtype=torch.float64)  - Dice:  tensor(0.2601)\n",
      "TH:  tensor(0.4500, dtype=torch.float64)  - Dice:  tensor(0.2426)\n",
      "TH:  tensor(0.5000, dtype=torch.float64)  - Dice:  tensor(0.1748)\n",
      "TH:  tensor(0.5500, dtype=torch.float64)  - Dice:  tensor(0.0539)\n",
      "TH:  tensor(0.6000, dtype=torch.float64)  - Dice:  tensor(0.0079)\n",
      "TH:  tensor(0.6500, dtype=torch.float64)  - Dice:  tensor(0.0012)\n",
      "TH:  tensor(0.7000, dtype=torch.float64)  - Dice:  tensor(0.0002)\n",
      "TH:  tensor(0.7500, dtype=torch.float64)  - Dice:  tensor(4.1834e-05)\n",
      "TH:  tensor(0.8000, dtype=torch.float64)  - Dice:  tensor(8.9478e-06)\n",
      "Best Threshold: 0.3 - Best Dice Score: 0.26600000262260437\n"
     ]
    },
    {
     "data": {
      "application/vnd.jupyter.widget-view+json": {
       "model_id": "",
       "version_major": 2,
       "version_minor": 0
      },
      "text/plain": [
       "Validation: 0it [00:00, ?it/s]"
      ]
     },
     "metadata": {},
     "output_type": "display_data"
    },
    {
     "name": "stdout",
     "output_type": "stream",
     "text": [
      "TH:  tensor(0.2000, dtype=torch.float64)  - Dice:  tensor(0.2655)\n",
      "TH:  tensor(0.2500, dtype=torch.float64)  - Dice:  tensor(0.2651)\n",
      "TH:  tensor(0.3000, dtype=torch.float64)  - Dice:  tensor(0.2631)\n",
      "TH:  tensor(0.3500, dtype=torch.float64)  - Dice:  tensor(0.2581)\n",
      "TH:  tensor(0.4000, dtype=torch.float64)  - Dice:  tensor(0.2457)\n",
      "TH:  tensor(0.4500, dtype=torch.float64)  - Dice:  tensor(0.2019)\n",
      "TH:  tensor(0.5000, dtype=torch.float64)  - Dice:  tensor(0.0852)\n",
      "TH:  tensor(0.5500, dtype=torch.float64)  - Dice:  tensor(0.0352)\n",
      "TH:  tensor(0.6000, dtype=torch.float64)  - Dice:  tensor(0.0204)\n",
      "TH:  tensor(0.6500, dtype=torch.float64)  - Dice:  tensor(0.0122)\n",
      "TH:  tensor(0.7000, dtype=torch.float64)  - Dice:  tensor(0.0071)\n",
      "TH:  tensor(0.7500, dtype=torch.float64)  - Dice:  tensor(0.0038)\n",
      "TH:  tensor(0.8000, dtype=torch.float64)  - Dice:  tensor(0.0018)\n",
      "Best Threshold: 0.2 - Best Dice Score: 0.26600000262260437\n"
     ]
    },
    {
     "data": {
      "application/vnd.jupyter.widget-view+json": {
       "model_id": "",
       "version_major": 2,
       "version_minor": 0
      },
      "text/plain": [
       "Validation: 0it [00:00, ?it/s]"
      ]
     },
     "metadata": {},
     "output_type": "display_data"
    },
    {
     "name": "stdout",
     "output_type": "stream",
     "text": [
      "TH:  tensor(0.2000, dtype=torch.float64)  - Dice:  tensor(0.2636)\n",
      "TH:  tensor(0.2500, dtype=torch.float64)  - Dice:  tensor(0.2670)\n",
      "TH:  tensor(0.3000, dtype=torch.float64)  - Dice:  tensor(0.2671)\n",
      "TH:  tensor(0.3500, dtype=torch.float64)  - Dice:  tensor(0.2643)\n",
      "TH:  tensor(0.4000, dtype=torch.float64)  - Dice:  tensor(0.2468)\n",
      "TH:  tensor(0.4500, dtype=torch.float64)  - Dice:  tensor(0.1201)\n",
      "TH:  tensor(0.5000, dtype=torch.float64)  - Dice:  tensor(0.0115)\n",
      "TH:  tensor(0.5500, dtype=torch.float64)  - Dice:  tensor(0.0008)\n",
      "TH:  tensor(0.6000, dtype=torch.float64)  - Dice:  tensor(6.1413e-05)\n",
      "TH:  tensor(0.6500, dtype=torch.float64)  - Dice:  tensor(1.2086e-06)\n",
      "TH:  tensor(0.7000, dtype=torch.float64)  - Dice:  tensor(0.)\n",
      "TH:  tensor(0.7500, dtype=torch.float64)  - Dice:  tensor(0.)\n",
      "TH:  tensor(0.8000, dtype=torch.float64)  - Dice:  tensor(0.)\n",
      "Best Threshold: 0.3 - Best Dice Score: 0.2669999897480011\n"
     ]
    },
    {
     "data": {
      "application/vnd.jupyter.widget-view+json": {
       "model_id": "",
       "version_major": 2,
       "version_minor": 0
      },
      "text/plain": [
       "Validation: 0it [00:00, ?it/s]"
      ]
     },
     "metadata": {},
     "output_type": "display_data"
    },
    {
     "name": "stdout",
     "output_type": "stream",
     "text": [
      "TH:  tensor(0.2000, dtype=torch.float64)  - Dice:  tensor(0.2535)\n",
      "TH:  tensor(0.2500, dtype=torch.float64)  - Dice:  tensor(0.2546)\n",
      "TH:  tensor(0.3000, dtype=torch.float64)  - Dice:  tensor(0.2557)\n",
      "TH:  tensor(0.3500, dtype=torch.float64)  - Dice:  tensor(0.2569)\n",
      "TH:  tensor(0.4000, dtype=torch.float64)  - Dice:  tensor(0.2489)\n",
      "TH:  tensor(0.4500, dtype=torch.float64)  - Dice:  tensor(0.1309)\n",
      "TH:  tensor(0.5000, dtype=torch.float64)  - Dice:  tensor(0.0798)\n",
      "TH:  tensor(0.5500, dtype=torch.float64)  - Dice:  tensor(0.0655)\n",
      "TH:  tensor(0.6000, dtype=torch.float64)  - Dice:  tensor(0.0549)\n",
      "TH:  tensor(0.6500, dtype=torch.float64)  - Dice:  tensor(0.0457)\n",
      "TH:  tensor(0.7000, dtype=torch.float64)  - Dice:  tensor(0.0374)\n",
      "TH:  tensor(0.7500, dtype=torch.float64)  - Dice:  tensor(0.0299)\n",
      "TH:  tensor(0.8000, dtype=torch.float64)  - Dice:  tensor(0.0231)\n",
      "Best Threshold: 0.35 - Best Dice Score: 0.25699999928474426\n"
     ]
    },
    {
     "data": {
      "application/vnd.jupyter.widget-view+json": {
       "model_id": "",
       "version_major": 2,
       "version_minor": 0
      },
      "text/plain": [
       "Validation: 0it [00:00, ?it/s]"
      ]
     },
     "metadata": {},
     "output_type": "display_data"
    },
    {
     "name": "stdout",
     "output_type": "stream",
     "text": [
      "TH:  tensor(0.2000, dtype=torch.float64)  - Dice:  tensor(0.2525)\n",
      "TH:  tensor(0.2500, dtype=torch.float64)  - Dice:  tensor(0.2588)\n",
      "TH:  tensor(0.3000, dtype=torch.float64)  - Dice:  tensor(0.2604)\n",
      "TH:  tensor(0.3500, dtype=torch.float64)  - Dice:  tensor(0.2572)\n",
      "TH:  tensor(0.4000, dtype=torch.float64)  - Dice:  tensor(0.2126)\n",
      "TH:  tensor(0.4500, dtype=torch.float64)  - Dice:  tensor(0.0923)\n",
      "TH:  tensor(0.5000, dtype=torch.float64)  - Dice:  tensor(0.0536)\n",
      "TH:  tensor(0.5500, dtype=torch.float64)  - Dice:  tensor(0.0360)\n",
      "TH:  tensor(0.6000, dtype=torch.float64)  - Dice:  tensor(0.0254)\n",
      "TH:  tensor(0.6500, dtype=torch.float64)  - Dice:  tensor(0.0182)\n",
      "TH:  tensor(0.7000, dtype=torch.float64)  - Dice:  tensor(0.0131)\n",
      "TH:  tensor(0.7500, dtype=torch.float64)  - Dice:  tensor(0.0093)\n",
      "TH:  tensor(0.8000, dtype=torch.float64)  - Dice:  tensor(0.0064)\n",
      "Best Threshold: 0.3 - Best Dice Score: 0.25999999046325684\n"
     ]
    },
    {
     "data": {
      "application/vnd.jupyter.widget-view+json": {
       "model_id": "",
       "version_major": 2,
       "version_minor": 0
      },
      "text/plain": [
       "Validation: 0it [00:00, ?it/s]"
      ]
     },
     "metadata": {},
     "output_type": "display_data"
    },
    {
     "name": "stdout",
     "output_type": "stream",
     "text": [
      "TH:  tensor(0.2000, dtype=torch.float64)  - Dice:  tensor(0.2581)\n",
      "TH:  tensor(0.2500, dtype=torch.float64)  - Dice:  tensor(0.2635)\n",
      "TH:  tensor(0.3000, dtype=torch.float64)  - Dice:  tensor(0.2657)\n",
      "TH:  tensor(0.3500, dtype=torch.float64)  - Dice:  tensor(0.2631)\n",
      "TH:  tensor(0.4000, dtype=torch.float64)  - Dice:  tensor(0.2004)\n",
      "TH:  tensor(0.4500, dtype=torch.float64)  - Dice:  tensor(0.0247)\n",
      "TH:  tensor(0.5000, dtype=torch.float64)  - Dice:  tensor(0.0041)\n",
      "TH:  tensor(0.5500, dtype=torch.float64)  - Dice:  tensor(0.0015)\n",
      "TH:  tensor(0.6000, dtype=torch.float64)  - Dice:  tensor(0.0007)\n",
      "TH:  tensor(0.6500, dtype=torch.float64)  - Dice:  tensor(0.0004)\n",
      "TH:  tensor(0.7000, dtype=torch.float64)  - Dice:  tensor(0.0003)\n",
      "TH:  tensor(0.7500, dtype=torch.float64)  - Dice:  tensor(0.0002)\n",
      "TH:  tensor(0.8000, dtype=torch.float64)  - Dice:  tensor(0.0001)\n",
      "Best Threshold: 0.3 - Best Dice Score: 0.26600000262260437\n"
     ]
    },
    {
     "data": {
      "application/vnd.jupyter.widget-view+json": {
       "model_id": "",
       "version_major": 2,
       "version_minor": 0
      },
      "text/plain": [
       "Validation: 0it [00:00, ?it/s]"
      ]
     },
     "metadata": {},
     "output_type": "display_data"
    },
    {
     "name": "stdout",
     "output_type": "stream",
     "text": [
      "TH:  tensor(0.2000, dtype=torch.float64)  - Dice:  tensor(0.2501)\n",
      "TH:  tensor(0.2500, dtype=torch.float64)  - Dice:  tensor(0.2497)\n",
      "TH:  tensor(0.3000, dtype=torch.float64)  - Dice:  tensor(0.2488)\n",
      "TH:  tensor(0.3500, dtype=torch.float64)  - Dice:  tensor(0.2446)\n",
      "TH:  tensor(0.4000, dtype=torch.float64)  - Dice:  tensor(0.2107)\n",
      "TH:  tensor(0.4500, dtype=torch.float64)  - Dice:  tensor(0.0323)\n",
      "TH:  tensor(0.5000, dtype=torch.float64)  - Dice:  tensor(0.0043)\n",
      "TH:  tensor(0.5500, dtype=torch.float64)  - Dice:  tensor(0.0011)\n",
      "TH:  tensor(0.6000, dtype=torch.float64)  - Dice:  tensor(0.0004)\n",
      "TH:  tensor(0.6500, dtype=torch.float64)  - Dice:  tensor(0.0002)\n",
      "TH:  tensor(0.7000, dtype=torch.float64)  - Dice:  tensor(7.9545e-05)\n",
      "TH:  tensor(0.7500, dtype=torch.float64)  - Dice:  tensor(3.8933e-05)\n",
      "TH:  tensor(0.8000, dtype=torch.float64)  - Dice:  tensor(1.5477e-05)\n",
      "Best Threshold: 0.2 - Best Dice Score: 0.25\n"
     ]
    },
    {
     "data": {
      "application/vnd.jupyter.widget-view+json": {
       "model_id": "",
       "version_major": 2,
       "version_minor": 0
      },
      "text/plain": [
       "Validation: 0it [00:00, ?it/s]"
      ]
     },
     "metadata": {},
     "output_type": "display_data"
    },
    {
     "name": "stdout",
     "output_type": "stream",
     "text": [
      "TH:  tensor(0.2000, dtype=torch.float64)  - Dice:  tensor(0.2688)\n",
      "TH:  tensor(0.2500, dtype=torch.float64)  - Dice:  tensor(0.2687)\n",
      "TH:  tensor(0.3000, dtype=torch.float64)  - Dice:  tensor(0.2682)\n",
      "TH:  tensor(0.3500, dtype=torch.float64)  - Dice:  tensor(0.2609)\n",
      "TH:  tensor(0.4000, dtype=torch.float64)  - Dice:  tensor(0.1765)\n",
      "TH:  tensor(0.4500, dtype=torch.float64)  - Dice:  tensor(0.0228)\n",
      "TH:  tensor(0.5000, dtype=torch.float64)  - Dice:  tensor(0.0073)\n",
      "TH:  tensor(0.5500, dtype=torch.float64)  - Dice:  tensor(0.0046)\n",
      "TH:  tensor(0.6000, dtype=torch.float64)  - Dice:  tensor(0.0034)\n",
      "TH:  tensor(0.6500, dtype=torch.float64)  - Dice:  tensor(0.0026)\n",
      "TH:  tensor(0.7000, dtype=torch.float64)  - Dice:  tensor(0.0020)\n",
      "TH:  tensor(0.7500, dtype=torch.float64)  - Dice:  tensor(0.0015)\n",
      "TH:  tensor(0.8000, dtype=torch.float64)  - Dice:  tensor(0.0011)\n",
      "Best Threshold: 0.2 - Best Dice Score: 0.26899999380111694\n"
     ]
    },
    {
     "data": {
      "application/vnd.jupyter.widget-view+json": {
       "model_id": "",
       "version_major": 2,
       "version_minor": 0
      },
      "text/plain": [
       "Validation: 0it [00:00, ?it/s]"
      ]
     },
     "metadata": {},
     "output_type": "display_data"
    },
    {
     "name": "stdout",
     "output_type": "stream",
     "text": [
      "TH:  tensor(0.2000, dtype=torch.float64)  - Dice:  tensor(0.2663)\n",
      "TH:  tensor(0.2500, dtype=torch.float64)  - Dice:  tensor(0.2665)\n",
      "TH:  tensor(0.3000, dtype=torch.float64)  - Dice:  tensor(0.2663)\n",
      "TH:  tensor(0.3500, dtype=torch.float64)  - Dice:  tensor(0.2606)\n",
      "TH:  tensor(0.4000, dtype=torch.float64)  - Dice:  tensor(0.1823)\n",
      "TH:  tensor(0.4500, dtype=torch.float64)  - Dice:  tensor(0.0136)\n",
      "TH:  tensor(0.5000, dtype=torch.float64)  - Dice:  tensor(0.0008)\n",
      "TH:  tensor(0.5500, dtype=torch.float64)  - Dice:  tensor(9.2839e-05)\n",
      "TH:  tensor(0.6000, dtype=torch.float64)  - Dice:  tensor(2.2005e-05)\n",
      "TH:  tensor(0.6500, dtype=torch.float64)  - Dice:  tensor(5.3199e-06)\n",
      "TH:  tensor(0.7000, dtype=torch.float64)  - Dice:  tensor(1.6926e-06)\n",
      "TH:  tensor(0.7500, dtype=torch.float64)  - Dice:  tensor(0.)\n",
      "TH:  tensor(0.8000, dtype=torch.float64)  - Dice:  tensor(0.)\n",
      "Best Threshold: 0.25 - Best Dice Score: 0.2669999897480011\n"
     ]
    },
    {
     "data": {
      "application/vnd.jupyter.widget-view+json": {
       "model_id": "",
       "version_major": 2,
       "version_minor": 0
      },
      "text/plain": [
       "Validation: 0it [00:00, ?it/s]"
      ]
     },
     "metadata": {},
     "output_type": "display_data"
    },
    {
     "name": "stdout",
     "output_type": "stream",
     "text": [
      "TH:  tensor(0.2000, dtype=torch.float64)  - Dice:  tensor(0.2645)\n",
      "TH:  tensor(0.2500, dtype=torch.float64)  - Dice:  tensor(0.2647)\n",
      "TH:  tensor(0.3000, dtype=torch.float64)  - Dice:  tensor(0.2639)\n",
      "TH:  tensor(0.3500, dtype=torch.float64)  - Dice:  tensor(0.2593)\n",
      "TH:  tensor(0.4000, dtype=torch.float64)  - Dice:  tensor(0.1969)\n",
      "TH:  tensor(0.4500, dtype=torch.float64)  - Dice:  tensor(0.0196)\n",
      "TH:  tensor(0.5000, dtype=torch.float64)  - Dice:  tensor(0.0012)\n",
      "TH:  tensor(0.5500, dtype=torch.float64)  - Dice:  tensor(0.0002)\n",
      "TH:  tensor(0.6000, dtype=torch.float64)  - Dice:  tensor(3.2395e-05)\n",
      "TH:  tensor(0.6500, dtype=torch.float64)  - Dice:  tensor(4.3496e-06)\n",
      "TH:  tensor(0.7000, dtype=torch.float64)  - Dice:  tensor(0.)\n",
      "TH:  tensor(0.7500, dtype=torch.float64)  - Dice:  tensor(0.)\n",
      "TH:  tensor(0.8000, dtype=torch.float64)  - Dice:  tensor(0.)\n",
      "Best Threshold: 0.25 - Best Dice Score: 0.26499998569488525\n"
     ]
    },
    {
     "data": {
      "application/vnd.jupyter.widget-view+json": {
       "model_id": "",
       "version_major": 2,
       "version_minor": 0
      },
      "text/plain": [
       "Validation: 0it [00:00, ?it/s]"
      ]
     },
     "metadata": {},
     "output_type": "display_data"
    },
    {
     "name": "stdout",
     "output_type": "stream",
     "text": [
      "TH:  tensor(0.2000, dtype=torch.float64)  - Dice:  tensor(0.2661)\n",
      "TH:  tensor(0.2500, dtype=torch.float64)  - Dice:  tensor(0.2658)\n",
      "TH:  tensor(0.3000, dtype=torch.float64)  - Dice:  tensor(0.2647)\n",
      "TH:  tensor(0.3500, dtype=torch.float64)  - Dice:  tensor(0.2590)\n",
      "TH:  tensor(0.4000, dtype=torch.float64)  - Dice:  tensor(0.1863)\n",
      "TH:  tensor(0.4500, dtype=torch.float64)  - Dice:  tensor(0.0187)\n",
      "TH:  tensor(0.5000, dtype=torch.float64)  - Dice:  tensor(0.0016)\n",
      "TH:  tensor(0.5500, dtype=torch.float64)  - Dice:  tensor(0.0003)\n",
      "TH:  tensor(0.6000, dtype=torch.float64)  - Dice:  tensor(5.9230e-05)\n",
      "TH:  tensor(0.6500, dtype=torch.float64)  - Dice:  tensor(1.9343e-05)\n",
      "TH:  tensor(0.7000, dtype=torch.float64)  - Dice:  tensor(9.4305e-06)\n",
      "TH:  tensor(0.7500, dtype=torch.float64)  - Dice:  tensor(2.9014e-06)\n",
      "TH:  tensor(0.8000, dtype=torch.float64)  - Dice:  tensor(9.6702e-07)\n",
      "Best Threshold: 0.2 - Best Dice Score: 0.26600000262260437\n"
     ]
    },
    {
     "data": {
      "application/vnd.jupyter.widget-view+json": {
       "model_id": "",
       "version_major": 2,
       "version_minor": 0
      },
      "text/plain": [
       "Validation: 0it [00:00, ?it/s]"
      ]
     },
     "metadata": {},
     "output_type": "display_data"
    },
    {
     "name": "stdout",
     "output_type": "stream",
     "text": [
      "TH:  tensor(0.2000, dtype=torch.float64)  - Dice:  tensor(0.2672)\n",
      "TH:  tensor(0.2500, dtype=torch.float64)  - Dice:  tensor(0.2676)\n",
      "TH:  tensor(0.3000, dtype=torch.float64)  - Dice:  tensor(0.2666)\n",
      "TH:  tensor(0.3500, dtype=torch.float64)  - Dice:  tensor(0.2616)\n",
      "TH:  tensor(0.4000, dtype=torch.float64)  - Dice:  tensor(0.1964)\n",
      "TH:  tensor(0.4500, dtype=torch.float64)  - Dice:  tensor(0.0192)\n",
      "TH:  tensor(0.5000, dtype=torch.float64)  - Dice:  tensor(0.0014)\n",
      "TH:  tensor(0.5500, dtype=torch.float64)  - Dice:  tensor(0.0002)\n",
      "TH:  tensor(0.6000, dtype=torch.float64)  - Dice:  tensor(6.7214e-05)\n",
      "TH:  tensor(0.6500, dtype=torch.float64)  - Dice:  tensor(3.0711e-05)\n",
      "TH:  tensor(0.7000, dtype=torch.float64)  - Dice:  tensor(1.4026e-05)\n",
      "TH:  tensor(0.7500, dtype=torch.float64)  - Dice:  tensor(7.7388e-06)\n",
      "TH:  tensor(0.8000, dtype=torch.float64)  - Dice:  tensor(2.4183e-06)\n",
      "Best Threshold: 0.25 - Best Dice Score: 0.2680000066757202\n"
     ]
    },
    {
     "name": "stderr",
     "output_type": "stream",
     "text": [
      "`Trainer.fit` stopped: `max_epochs=14` reached.\n",
      "Using 16bit Automatic Mixed Precision (AMP)\n",
      "GPU available: True (cuda), used: True\n",
      "TPU available: False, using: 0 TPU cores\n",
      "IPU available: False, using: 0 IPUs\n",
      "HPU available: False, using: 0 HPUs\n",
      "LOCAL_RANK: 0 - CUDA_VISIBLE_DEVICES: [0]\n",
      "\n",
      "  | Name      | Type              | Params\n",
      "------------------------------------------------\n",
      "0 | model     | Unet              | 34.6 M\n",
      "1 | dice      | CustomDice        | 0     \n",
      "2 | BCE       | BCEWithLogitsLoss | 0     \n",
      "3 | dice_loss | DiceLoss          | 0     \n",
      "------------------------------------------------\n",
      "34.6 M    Trainable params\n",
      "0         Non-trainable params\n",
      "34.6 M    Total params\n",
      "138.221   Total estimated model params size (MB)\n"
     ]
    },
    {
     "name": "stdout",
     "output_type": "stream",
     "text": [
      "Depth from 0 - 12 performance: 0.26899999380111694 [F0.5-Score]\n"
     ]
    },
    {
     "data": {
      "application/vnd.jupyter.widget-view+json": {
       "model_id": "",
       "version_major": 2,
       "version_minor": 0
      },
      "text/plain": [
       "Sanity Checking: 0it [00:00, ?it/s]"
      ]
     },
     "metadata": {},
     "output_type": "display_data"
    },
    {
     "name": "stdout",
     "output_type": "stream",
     "text": [
      "TH:  tensor(0.2000, dtype=torch.float64)  - Dice:  tensor(0.1853)\n",
      "TH:  tensor(0.2500, dtype=torch.float64)  - Dice:  tensor(0.1853)\n",
      "TH:  tensor(0.3000, dtype=torch.float64)  - Dice:  tensor(0.1853)\n",
      "TH:  tensor(0.3500, dtype=torch.float64)  - Dice:  tensor(0.1853)\n",
      "TH:  tensor(0.4000, dtype=torch.float64)  - Dice:  tensor(0.1853)\n",
      "TH:  tensor(0.4500, dtype=torch.float64)  - Dice:  tensor(0.1853)\n",
      "TH:  tensor(0.5000, dtype=torch.float64)  - Dice:  tensor(0.2269)\n",
      "TH:  tensor(0.5500, dtype=torch.float64)  - Dice:  tensor(0.0004)\n",
      "TH:  tensor(0.6000, dtype=torch.float64)  - Dice:  tensor(0.)\n",
      "TH:  tensor(0.6500, dtype=torch.float64)  - Dice:  tensor(0.)\n",
      "TH:  tensor(0.7000, dtype=torch.float64)  - Dice:  tensor(0.)\n",
      "TH:  tensor(0.7500, dtype=torch.float64)  - Dice:  tensor(0.)\n",
      "TH:  tensor(0.8000, dtype=torch.float64)  - Dice:  tensor(0.)\n",
      "Best Threshold: 0.49999999999999994 - Best Dice Score: 0.22699999809265137\n"
     ]
    },
    {
     "data": {
      "application/vnd.jupyter.widget-view+json": {
       "model_id": "a6e8b6ac19c144efa87964bcd826b2dc",
       "version_major": 2,
       "version_minor": 0
      },
      "text/plain": [
       "Training: 0it [00:00, ?it/s]"
      ]
     },
     "metadata": {},
     "output_type": "display_data"
    },
    {
     "data": {
      "application/vnd.jupyter.widget-view+json": {
       "model_id": "",
       "version_major": 2,
       "version_minor": 0
      },
      "text/plain": [
       "Validation: 0it [00:00, ?it/s]"
      ]
     },
     "metadata": {},
     "output_type": "display_data"
    },
    {
     "name": "stdout",
     "output_type": "stream",
     "text": [
      "TH:  tensor(0.2000, dtype=torch.float64)  - Dice:  tensor(0.2591)\n",
      "TH:  tensor(0.2500, dtype=torch.float64)  - Dice:  tensor(0.2616)\n",
      "TH:  tensor(0.3000, dtype=torch.float64)  - Dice:  tensor(0.2629)\n",
      "TH:  tensor(0.3500, dtype=torch.float64)  - Dice:  tensor(0.2635)\n",
      "TH:  tensor(0.4000, dtype=torch.float64)  - Dice:  tensor(0.2636)\n",
      "TH:  tensor(0.4500, dtype=torch.float64)  - Dice:  tensor(0.2628)\n",
      "TH:  tensor(0.5000, dtype=torch.float64)  - Dice:  tensor(0.2606)\n",
      "TH:  tensor(0.5500, dtype=torch.float64)  - Dice:  tensor(0.2555)\n",
      "TH:  tensor(0.6000, dtype=torch.float64)  - Dice:  tensor(0.2440)\n",
      "TH:  tensor(0.6500, dtype=torch.float64)  - Dice:  tensor(0.2211)\n",
      "TH:  tensor(0.7000, dtype=torch.float64)  - Dice:  tensor(0.1776)\n",
      "TH:  tensor(0.7500, dtype=torch.float64)  - Dice:  tensor(0.1135)\n",
      "TH:  tensor(0.8000, dtype=torch.float64)  - Dice:  tensor(0.0533)\n",
      "Best Threshold: 0.39999999999999997 - Best Dice Score: 0.2639999985694885\n"
     ]
    },
    {
     "data": {
      "application/vnd.jupyter.widget-view+json": {
       "model_id": "",
       "version_major": 2,
       "version_minor": 0
      },
      "text/plain": [
       "Validation: 0it [00:00, ?it/s]"
      ]
     },
     "metadata": {},
     "output_type": "display_data"
    },
    {
     "name": "stdout",
     "output_type": "stream",
     "text": [
      "TH:  tensor(0.2000, dtype=torch.float64)  - Dice:  tensor(0.2611)\n",
      "TH:  tensor(0.2500, dtype=torch.float64)  - Dice:  tensor(0.2630)\n",
      "TH:  tensor(0.3000, dtype=torch.float64)  - Dice:  tensor(0.2643)\n",
      "TH:  tensor(0.3500, dtype=torch.float64)  - Dice:  tensor(0.2647)\n",
      "TH:  tensor(0.4000, dtype=torch.float64)  - Dice:  tensor(0.2641)\n",
      "TH:  tensor(0.4500, dtype=torch.float64)  - Dice:  tensor(0.2617)\n",
      "TH:  tensor(0.5000, dtype=torch.float64)  - Dice:  tensor(0.2544)\n",
      "TH:  tensor(0.5500, dtype=torch.float64)  - Dice:  tensor(0.2337)\n",
      "TH:  tensor(0.6000, dtype=torch.float64)  - Dice:  tensor(0.1849)\n",
      "TH:  tensor(0.6500, dtype=torch.float64)  - Dice:  tensor(0.1073)\n",
      "TH:  tensor(0.7000, dtype=torch.float64)  - Dice:  tensor(0.0426)\n",
      "TH:  tensor(0.7500, dtype=torch.float64)  - Dice:  tensor(0.0136)\n",
      "TH:  tensor(0.8000, dtype=torch.float64)  - Dice:  tensor(0.0041)\n",
      "Best Threshold: 0.35 - Best Dice Score: 0.26499998569488525\n"
     ]
    },
    {
     "data": {
      "application/vnd.jupyter.widget-view+json": {
       "model_id": "",
       "version_major": 2,
       "version_minor": 0
      },
      "text/plain": [
       "Validation: 0it [00:00, ?it/s]"
      ]
     },
     "metadata": {},
     "output_type": "display_data"
    },
    {
     "name": "stdout",
     "output_type": "stream",
     "text": [
      "TH:  tensor(0.2000, dtype=torch.float64)  - Dice:  tensor(0.2412)\n",
      "TH:  tensor(0.2500, dtype=torch.float64)  - Dice:  tensor(0.2419)\n",
      "TH:  tensor(0.3000, dtype=torch.float64)  - Dice:  tensor(0.2408)\n",
      "TH:  tensor(0.3500, dtype=torch.float64)  - Dice:  tensor(0.2372)\n",
      "TH:  tensor(0.4000, dtype=torch.float64)  - Dice:  tensor(0.2290)\n",
      "TH:  tensor(0.4500, dtype=torch.float64)  - Dice:  tensor(0.2110)\n",
      "TH:  tensor(0.5000, dtype=torch.float64)  - Dice:  tensor(0.1734)\n",
      "TH:  tensor(0.5500, dtype=torch.float64)  - Dice:  tensor(0.1146)\n",
      "TH:  tensor(0.6000, dtype=torch.float64)  - Dice:  tensor(0.0607)\n",
      "TH:  tensor(0.6500, dtype=torch.float64)  - Dice:  tensor(0.0321)\n",
      "TH:  tensor(0.7000, dtype=torch.float64)  - Dice:  tensor(0.0197)\n",
      "TH:  tensor(0.7500, dtype=torch.float64)  - Dice:  tensor(0.0141)\n",
      "TH:  tensor(0.8000, dtype=torch.float64)  - Dice:  tensor(0.0109)\n",
      "Best Threshold: 0.25 - Best Dice Score: 0.24199999868869781\n"
     ]
    },
    {
     "data": {
      "application/vnd.jupyter.widget-view+json": {
       "model_id": "",
       "version_major": 2,
       "version_minor": 0
      },
      "text/plain": [
       "Validation: 0it [00:00, ?it/s]"
      ]
     },
     "metadata": {},
     "output_type": "display_data"
    },
    {
     "name": "stdout",
     "output_type": "stream",
     "text": [
      "TH:  tensor(0.2000, dtype=torch.float64)  - Dice:  tensor(0.2636)\n",
      "TH:  tensor(0.2500, dtype=torch.float64)  - Dice:  tensor(0.2650)\n",
      "TH:  tensor(0.3000, dtype=torch.float64)  - Dice:  tensor(0.2661)\n",
      "TH:  tensor(0.3500, dtype=torch.float64)  - Dice:  tensor(0.2674)\n",
      "TH:  tensor(0.4000, dtype=torch.float64)  - Dice:  tensor(0.2691)\n",
      "TH:  tensor(0.4500, dtype=torch.float64)  - Dice:  tensor(0.2703)\n",
      "TH:  tensor(0.5000, dtype=torch.float64)  - Dice:  tensor(0.2692)\n",
      "TH:  tensor(0.5500, dtype=torch.float64)  - Dice:  tensor(0.2562)\n",
      "TH:  tensor(0.6000, dtype=torch.float64)  - Dice:  tensor(0.1768)\n",
      "TH:  tensor(0.6500, dtype=torch.float64)  - Dice:  tensor(0.0353)\n",
      "TH:  tensor(0.7000, dtype=torch.float64)  - Dice:  tensor(0.0039)\n",
      "TH:  tensor(0.7500, dtype=torch.float64)  - Dice:  tensor(0.0020)\n",
      "TH:  tensor(0.8000, dtype=torch.float64)  - Dice:  tensor(0.0011)\n",
      "Best Threshold: 0.44999999999999996 - Best Dice Score: 0.27000001072883606\n"
     ]
    },
    {
     "data": {
      "application/vnd.jupyter.widget-view+json": {
       "model_id": "",
       "version_major": 2,
       "version_minor": 0
      },
      "text/plain": [
       "Validation: 0it [00:00, ?it/s]"
      ]
     },
     "metadata": {},
     "output_type": "display_data"
    },
    {
     "name": "stdout",
     "output_type": "stream",
     "text": [
      "TH:  tensor(0.2000, dtype=torch.float64)  - Dice:  tensor(0.2670)\n",
      "TH:  tensor(0.2500, dtype=torch.float64)  - Dice:  tensor(0.2681)\n",
      "TH:  tensor(0.3000, dtype=torch.float64)  - Dice:  tensor(0.2694)\n",
      "TH:  tensor(0.3500, dtype=torch.float64)  - Dice:  tensor(0.2727)\n",
      "TH:  tensor(0.4000, dtype=torch.float64)  - Dice:  tensor(0.2800)\n",
      "TH:  tensor(0.4500, dtype=torch.float64)  - Dice:  tensor(0.2819)\n",
      "TH:  tensor(0.5000, dtype=torch.float64)  - Dice:  tensor(0.2486)\n",
      "TH:  tensor(0.5500, dtype=torch.float64)  - Dice:  tensor(0.1358)\n",
      "TH:  tensor(0.6000, dtype=torch.float64)  - Dice:  tensor(0.0145)\n",
      "TH:  tensor(0.6500, dtype=torch.float64)  - Dice:  tensor(6.2384e-05)\n",
      "TH:  tensor(0.7000, dtype=torch.float64)  - Dice:  tensor(0.)\n",
      "TH:  tensor(0.7500, dtype=torch.float64)  - Dice:  tensor(0.)\n",
      "TH:  tensor(0.8000, dtype=torch.float64)  - Dice:  tensor(0.)\n",
      "Best Threshold: 0.44999999999999996 - Best Dice Score: 0.28200000524520874\n"
     ]
    },
    {
     "data": {
      "application/vnd.jupyter.widget-view+json": {
       "model_id": "",
       "version_major": 2,
       "version_minor": 0
      },
      "text/plain": [
       "Validation: 0it [00:00, ?it/s]"
      ]
     },
     "metadata": {},
     "output_type": "display_data"
    },
    {
     "name": "stdout",
     "output_type": "stream",
     "text": [
      "TH:  tensor(0.2000, dtype=torch.float64)  - Dice:  tensor(0.2654)\n",
      "TH:  tensor(0.2500, dtype=torch.float64)  - Dice:  tensor(0.2667)\n",
      "TH:  tensor(0.3000, dtype=torch.float64)  - Dice:  tensor(0.2680)\n",
      "TH:  tensor(0.3500, dtype=torch.float64)  - Dice:  tensor(0.2696)\n",
      "TH:  tensor(0.4000, dtype=torch.float64)  - Dice:  tensor(0.2713)\n",
      "TH:  tensor(0.4500, dtype=torch.float64)  - Dice:  tensor(0.2498)\n",
      "TH:  tensor(0.5000, dtype=torch.float64)  - Dice:  tensor(0.1024)\n",
      "TH:  tensor(0.5500, dtype=torch.float64)  - Dice:  tensor(0.0066)\n",
      "TH:  tensor(0.6000, dtype=torch.float64)  - Dice:  tensor(4.7385e-05)\n",
      "TH:  tensor(0.6500, dtype=torch.float64)  - Dice:  tensor(4.8234e-07)\n",
      "TH:  tensor(0.7000, dtype=torch.float64)  - Dice:  tensor(0.)\n",
      "TH:  tensor(0.7500, dtype=torch.float64)  - Dice:  tensor(0.)\n",
      "TH:  tensor(0.8000, dtype=torch.float64)  - Dice:  tensor(0.)\n",
      "Best Threshold: 0.39999999999999997 - Best Dice Score: 0.2709999978542328\n"
     ]
    },
    {
     "data": {
      "application/vnd.jupyter.widget-view+json": {
       "model_id": "",
       "version_major": 2,
       "version_minor": 0
      },
      "text/plain": [
       "Validation: 0it [00:00, ?it/s]"
      ]
     },
     "metadata": {},
     "output_type": "display_data"
    },
    {
     "name": "stdout",
     "output_type": "stream",
     "text": [
      "TH:  tensor(0.2000, dtype=torch.float64)  - Dice:  tensor(0.2546)\n",
      "TH:  tensor(0.2500, dtype=torch.float64)  - Dice:  tensor(0.2550)\n",
      "TH:  tensor(0.3000, dtype=torch.float64)  - Dice:  tensor(0.2561)\n",
      "TH:  tensor(0.3500, dtype=torch.float64)  - Dice:  tensor(0.2579)\n",
      "TH:  tensor(0.4000, dtype=torch.float64)  - Dice:  tensor(0.2629)\n",
      "TH:  tensor(0.4500, dtype=torch.float64)  - Dice:  tensor(0.2636)\n",
      "TH:  tensor(0.5000, dtype=torch.float64)  - Dice:  tensor(0.2634)\n",
      "TH:  tensor(0.5500, dtype=torch.float64)  - Dice:  tensor(0.2622)\n",
      "TH:  tensor(0.6000, dtype=torch.float64)  - Dice:  tensor(0.2572)\n",
      "TH:  tensor(0.6500, dtype=torch.float64)  - Dice:  tensor(0.2317)\n",
      "TH:  tensor(0.7000, dtype=torch.float64)  - Dice:  tensor(0.1673)\n",
      "TH:  tensor(0.7500, dtype=torch.float64)  - Dice:  tensor(0.0746)\n",
      "TH:  tensor(0.8000, dtype=torch.float64)  - Dice:  tensor(0.0186)\n",
      "Best Threshold: 0.44999999999999996 - Best Dice Score: 0.2639999985694885\n"
     ]
    },
    {
     "data": {
      "application/vnd.jupyter.widget-view+json": {
       "model_id": "",
       "version_major": 2,
       "version_minor": 0
      },
      "text/plain": [
       "Validation: 0it [00:00, ?it/s]"
      ]
     },
     "metadata": {},
     "output_type": "display_data"
    },
    {
     "name": "stdout",
     "output_type": "stream",
     "text": [
      "TH:  tensor(0.2000, dtype=torch.float64)  - Dice:  tensor(0.2645)\n",
      "TH:  tensor(0.2500, dtype=torch.float64)  - Dice:  tensor(0.2654)\n",
      "TH:  tensor(0.3000, dtype=torch.float64)  - Dice:  tensor(0.2660)\n",
      "TH:  tensor(0.3500, dtype=torch.float64)  - Dice:  tensor(0.2669)\n",
      "TH:  tensor(0.4000, dtype=torch.float64)  - Dice:  tensor(0.2674)\n",
      "TH:  tensor(0.4500, dtype=torch.float64)  - Dice:  tensor(0.2675)\n",
      "TH:  tensor(0.5000, dtype=torch.float64)  - Dice:  tensor(0.2671)\n",
      "TH:  tensor(0.5500, dtype=torch.float64)  - Dice:  tensor(0.2661)\n",
      "TH:  tensor(0.6000, dtype=torch.float64)  - Dice:  tensor(0.2659)\n",
      "TH:  tensor(0.6500, dtype=torch.float64)  - Dice:  tensor(0.2695)\n",
      "TH:  tensor(0.7000, dtype=torch.float64)  - Dice:  tensor(0.2699)\n",
      "TH:  tensor(0.7500, dtype=torch.float64)  - Dice:  tensor(0.2307)\n",
      "TH:  tensor(0.8000, dtype=torch.float64)  - Dice:  tensor(0.1405)\n",
      "Best Threshold: 0.7 - Best Dice Score: 0.27000001072883606\n"
     ]
    },
    {
     "data": {
      "application/vnd.jupyter.widget-view+json": {
       "model_id": "",
       "version_major": 2,
       "version_minor": 0
      },
      "text/plain": [
       "Validation: 0it [00:00, ?it/s]"
      ]
     },
     "metadata": {},
     "output_type": "display_data"
    },
    {
     "name": "stdout",
     "output_type": "stream",
     "text": [
      "TH:  tensor(0.2000, dtype=torch.float64)  - Dice:  tensor(0.2724)\n",
      "TH:  tensor(0.2500, dtype=torch.float64)  - Dice:  tensor(0.2773)\n",
      "TH:  tensor(0.3000, dtype=torch.float64)  - Dice:  tensor(0.2826)\n",
      "TH:  tensor(0.3500, dtype=torch.float64)  - Dice:  tensor(0.2859)\n",
      "TH:  tensor(0.4000, dtype=torch.float64)  - Dice:  tensor(0.2864)\n",
      "TH:  tensor(0.4500, dtype=torch.float64)  - Dice:  tensor(0.2856)\n",
      "TH:  tensor(0.5000, dtype=torch.float64)  - Dice:  tensor(0.2836)\n",
      "TH:  tensor(0.5500, dtype=torch.float64)  - Dice:  tensor(0.2807)\n",
      "TH:  tensor(0.6000, dtype=torch.float64)  - Dice:  tensor(0.2691)\n",
      "TH:  tensor(0.6500, dtype=torch.float64)  - Dice:  tensor(0.2454)\n",
      "TH:  tensor(0.7000, dtype=torch.float64)  - Dice:  tensor(0.2109)\n",
      "TH:  tensor(0.7500, dtype=torch.float64)  - Dice:  tensor(0.1592)\n",
      "TH:  tensor(0.8000, dtype=torch.float64)  - Dice:  tensor(0.0910)\n",
      "Best Threshold: 0.39999999999999997 - Best Dice Score: 0.28600001335144043\n"
     ]
    },
    {
     "data": {
      "application/vnd.jupyter.widget-view+json": {
       "model_id": "",
       "version_major": 2,
       "version_minor": 0
      },
      "text/plain": [
       "Validation: 0it [00:00, ?it/s]"
      ]
     },
     "metadata": {},
     "output_type": "display_data"
    },
    {
     "name": "stdout",
     "output_type": "stream",
     "text": [
      "TH:  tensor(0.2000, dtype=torch.float64)  - Dice:  tensor(0.2674)\n",
      "TH:  tensor(0.2500, dtype=torch.float64)  - Dice:  tensor(0.2695)\n",
      "TH:  tensor(0.3000, dtype=torch.float64)  - Dice:  tensor(0.2715)\n",
      "TH:  tensor(0.3500, dtype=torch.float64)  - Dice:  tensor(0.2449)\n",
      "TH:  tensor(0.4000, dtype=torch.float64)  - Dice:  tensor(0.1771)\n",
      "TH:  tensor(0.4500, dtype=torch.float64)  - Dice:  tensor(0.1296)\n",
      "TH:  tensor(0.5000, dtype=torch.float64)  - Dice:  tensor(0.1006)\n",
      "TH:  tensor(0.5500, dtype=torch.float64)  - Dice:  tensor(0.0802)\n",
      "TH:  tensor(0.6000, dtype=torch.float64)  - Dice:  tensor(0.0588)\n",
      "TH:  tensor(0.6500, dtype=torch.float64)  - Dice:  tensor(0.0391)\n",
      "TH:  tensor(0.7000, dtype=torch.float64)  - Dice:  tensor(0.0268)\n",
      "TH:  tensor(0.7500, dtype=torch.float64)  - Dice:  tensor(0.0183)\n",
      "TH:  tensor(0.8000, dtype=torch.float64)  - Dice:  tensor(0.0116)\n",
      "Best Threshold: 0.3 - Best Dice Score: 0.2720000147819519\n"
     ]
    },
    {
     "data": {
      "application/vnd.jupyter.widget-view+json": {
       "model_id": "",
       "version_major": 2,
       "version_minor": 0
      },
      "text/plain": [
       "Validation: 0it [00:00, ?it/s]"
      ]
     },
     "metadata": {},
     "output_type": "display_data"
    },
    {
     "name": "stdout",
     "output_type": "stream",
     "text": [
      "TH:  tensor(0.2000, dtype=torch.float64)  - Dice:  tensor(0.2750)\n",
      "TH:  tensor(0.2500, dtype=torch.float64)  - Dice:  tensor(0.2773)\n",
      "TH:  tensor(0.3000, dtype=torch.float64)  - Dice:  tensor(0.2788)\n",
      "TH:  tensor(0.3500, dtype=torch.float64)  - Dice:  tensor(0.2798)\n",
      "TH:  tensor(0.4000, dtype=torch.float64)  - Dice:  tensor(0.2809)\n",
      "TH:  tensor(0.4500, dtype=torch.float64)  - Dice:  tensor(0.2818)\n",
      "TH:  tensor(0.5000, dtype=torch.float64)  - Dice:  tensor(0.2830)\n",
      "TH:  tensor(0.5500, dtype=torch.float64)  - Dice:  tensor(0.2840)\n",
      "TH:  tensor(0.6000, dtype=torch.float64)  - Dice:  tensor(0.2845)\n",
      "TH:  tensor(0.6500, dtype=torch.float64)  - Dice:  tensor(0.2841)\n",
      "TH:  tensor(0.7000, dtype=torch.float64)  - Dice:  tensor(0.2794)\n",
      "TH:  tensor(0.7500, dtype=torch.float64)  - Dice:  tensor(0.2650)\n",
      "TH:  tensor(0.8000, dtype=torch.float64)  - Dice:  tensor(0.2367)\n",
      "Best Threshold: 0.5999999999999999 - Best Dice Score: 0.2840000092983246\n"
     ]
    },
    {
     "data": {
      "application/vnd.jupyter.widget-view+json": {
       "model_id": "",
       "version_major": 2,
       "version_minor": 0
      },
      "text/plain": [
       "Validation: 0it [00:00, ?it/s]"
      ]
     },
     "metadata": {},
     "output_type": "display_data"
    },
    {
     "name": "stdout",
     "output_type": "stream",
     "text": [
      "TH:  tensor(0.2000, dtype=torch.float64)  - Dice:  tensor(0.2731)\n",
      "TH:  tensor(0.2500, dtype=torch.float64)  - Dice:  tensor(0.2766)\n",
      "TH:  tensor(0.3000, dtype=torch.float64)  - Dice:  tensor(0.2789)\n",
      "TH:  tensor(0.3500, dtype=torch.float64)  - Dice:  tensor(0.2817)\n",
      "TH:  tensor(0.4000, dtype=torch.float64)  - Dice:  tensor(0.2844)\n",
      "TH:  tensor(0.4500, dtype=torch.float64)  - Dice:  tensor(0.2885)\n",
      "TH:  tensor(0.5000, dtype=torch.float64)  - Dice:  tensor(0.2948)\n",
      "TH:  tensor(0.5500, dtype=torch.float64)  - Dice:  tensor(0.2962)\n",
      "TH:  tensor(0.6000, dtype=torch.float64)  - Dice:  tensor(0.2879)\n",
      "TH:  tensor(0.6500, dtype=torch.float64)  - Dice:  tensor(0.2665)\n",
      "TH:  tensor(0.7000, dtype=torch.float64)  - Dice:  tensor(0.2278)\n",
      "TH:  tensor(0.7500, dtype=torch.float64)  - Dice:  tensor(0.1754)\n",
      "TH:  tensor(0.8000, dtype=torch.float64)  - Dice:  tensor(0.1177)\n",
      "Best Threshold: 0.5499999999999999 - Best Dice Score: 0.29600000381469727\n"
     ]
    },
    {
     "data": {
      "application/vnd.jupyter.widget-view+json": {
       "model_id": "",
       "version_major": 2,
       "version_minor": 0
      },
      "text/plain": [
       "Validation: 0it [00:00, ?it/s]"
      ]
     },
     "metadata": {},
     "output_type": "display_data"
    },
    {
     "name": "stdout",
     "output_type": "stream",
     "text": [
      "TH:  tensor(0.2000, dtype=torch.float64)  - Dice:  tensor(0.2736)\n",
      "TH:  tensor(0.2500, dtype=torch.float64)  - Dice:  tensor(0.2784)\n",
      "TH:  tensor(0.3000, dtype=torch.float64)  - Dice:  tensor(0.2846)\n",
      "TH:  tensor(0.3500, dtype=torch.float64)  - Dice:  tensor(0.2921)\n",
      "TH:  tensor(0.4000, dtype=torch.float64)  - Dice:  tensor(0.3001)\n",
      "TH:  tensor(0.4500, dtype=torch.float64)  - Dice:  tensor(0.3085)\n",
      "TH:  tensor(0.5000, dtype=torch.float64)  - Dice:  tensor(0.3158)\n",
      "TH:  tensor(0.5500, dtype=torch.float64)  - Dice:  tensor(0.3133)\n",
      "TH:  tensor(0.6000, dtype=torch.float64)  - Dice:  tensor(0.2994)\n",
      "TH:  tensor(0.6500, dtype=torch.float64)  - Dice:  tensor(0.2740)\n",
      "TH:  tensor(0.7000, dtype=torch.float64)  - Dice:  tensor(0.2347)\n",
      "TH:  tensor(0.7500, dtype=torch.float64)  - Dice:  tensor(0.1904)\n",
      "TH:  tensor(0.8000, dtype=torch.float64)  - Dice:  tensor(0.1402)\n",
      "Best Threshold: 0.49999999999999994 - Best Dice Score: 0.3160000145435333\n"
     ]
    },
    {
     "data": {
      "application/vnd.jupyter.widget-view+json": {
       "model_id": "",
       "version_major": 2,
       "version_minor": 0
      },
      "text/plain": [
       "Validation: 0it [00:00, ?it/s]"
      ]
     },
     "metadata": {},
     "output_type": "display_data"
    },
    {
     "name": "stdout",
     "output_type": "stream",
     "text": [
      "TH:  tensor(0.2000, dtype=torch.float64)  - Dice:  tensor(0.2744)\n",
      "TH:  tensor(0.2500, dtype=torch.float64)  - Dice:  tensor(0.2786)\n",
      "TH:  tensor(0.3000, dtype=torch.float64)  - Dice:  tensor(0.2837)\n",
      "TH:  tensor(0.3500, dtype=torch.float64)  - Dice:  tensor(0.2901)\n",
      "TH:  tensor(0.4000, dtype=torch.float64)  - Dice:  tensor(0.2972)\n",
      "TH:  tensor(0.4500, dtype=torch.float64)  - Dice:  tensor(0.3053)\n",
      "TH:  tensor(0.5000, dtype=torch.float64)  - Dice:  tensor(0.3142)\n",
      "TH:  tensor(0.5500, dtype=torch.float64)  - Dice:  tensor(0.3153)\n",
      "TH:  tensor(0.6000, dtype=torch.float64)  - Dice:  tensor(0.3027)\n",
      "TH:  tensor(0.6500, dtype=torch.float64)  - Dice:  tensor(0.2788)\n",
      "TH:  tensor(0.7000, dtype=torch.float64)  - Dice:  tensor(0.2373)\n",
      "TH:  tensor(0.7500, dtype=torch.float64)  - Dice:  tensor(0.1898)\n",
      "TH:  tensor(0.8000, dtype=torch.float64)  - Dice:  tensor(0.1384)\n",
      "Best Threshold: 0.5499999999999999 - Best Dice Score: 0.3149999976158142\n"
     ]
    },
    {
     "name": "stderr",
     "output_type": "stream",
     "text": [
      "`Trainer.fit` stopped: `max_epochs=14` reached.\n",
      "Using 16bit Automatic Mixed Precision (AMP)\n",
      "GPU available: True (cuda), used: True\n",
      "TPU available: False, using: 0 TPU cores\n",
      "IPU available: False, using: 0 IPUs\n",
      "HPU available: False, using: 0 HPUs\n",
      "LOCAL_RANK: 0 - CUDA_VISIBLE_DEVICES: [0]\n",
      "\n",
      "  | Name      | Type              | Params\n",
      "------------------------------------------------\n",
      "0 | model     | Unet              | 34.6 M\n",
      "1 | dice      | CustomDice        | 0     \n",
      "2 | BCE       | BCEWithLogitsLoss | 0     \n",
      "3 | dice_loss | DiceLoss          | 0     \n",
      "------------------------------------------------\n",
      "34.6 M    Trainable params\n",
      "0         Non-trainable params\n",
      "34.6 M    Total params\n",
      "138.221   Total estimated model params size (MB)\n"
     ]
    },
    {
     "name": "stdout",
     "output_type": "stream",
     "text": [
      "Depth from 13 - 25 performance: 0.3160000145435333 [F0.5-Score]\n"
     ]
    },
    {
     "data": {
      "application/vnd.jupyter.widget-view+json": {
       "model_id": "",
       "version_major": 2,
       "version_minor": 0
      },
      "text/plain": [
       "Sanity Checking: 0it [00:00, ?it/s]"
      ]
     },
     "metadata": {},
     "output_type": "display_data"
    },
    {
     "name": "stdout",
     "output_type": "stream",
     "text": [
      "TH:  tensor(0.2000, dtype=torch.float64)  - Dice:  tensor(0.1853)\n",
      "TH:  tensor(0.2500, dtype=torch.float64)  - Dice:  tensor(0.1853)\n",
      "TH:  tensor(0.3000, dtype=torch.float64)  - Dice:  tensor(0.1853)\n",
      "TH:  tensor(0.3500, dtype=torch.float64)  - Dice:  tensor(0.1853)\n",
      "TH:  tensor(0.4000, dtype=torch.float64)  - Dice:  tensor(0.1853)\n",
      "TH:  tensor(0.4500, dtype=torch.float64)  - Dice:  tensor(0.1853)\n",
      "TH:  tensor(0.5000, dtype=torch.float64)  - Dice:  tensor(0.2286)\n",
      "TH:  tensor(0.5500, dtype=torch.float64)  - Dice:  tensor(0.0002)\n",
      "TH:  tensor(0.6000, dtype=torch.float64)  - Dice:  tensor(0.)\n",
      "TH:  tensor(0.6500, dtype=torch.float64)  - Dice:  tensor(0.)\n",
      "TH:  tensor(0.7000, dtype=torch.float64)  - Dice:  tensor(0.)\n",
      "TH:  tensor(0.7500, dtype=torch.float64)  - Dice:  tensor(0.)\n",
      "TH:  tensor(0.8000, dtype=torch.float64)  - Dice:  tensor(0.)\n",
      "Best Threshold: 0.49999999999999994 - Best Dice Score: 0.2290000021457672\n"
     ]
    },
    {
     "data": {
      "application/vnd.jupyter.widget-view+json": {
       "model_id": "c39256a7086948df8f15ee12d3a21352",
       "version_major": 2,
       "version_minor": 0
      },
      "text/plain": [
       "Training: 0it [00:00, ?it/s]"
      ]
     },
     "metadata": {},
     "output_type": "display_data"
    },
    {
     "data": {
      "application/vnd.jupyter.widget-view+json": {
       "model_id": "",
       "version_major": 2,
       "version_minor": 0
      },
      "text/plain": [
       "Validation: 0it [00:00, ?it/s]"
      ]
     },
     "metadata": {},
     "output_type": "display_data"
    },
    {
     "name": "stdout",
     "output_type": "stream",
     "text": [
      "TH:  tensor(0.2000, dtype=torch.float64)  - Dice:  tensor(0.2527)\n",
      "TH:  tensor(0.2500, dtype=torch.float64)  - Dice:  tensor(0.2541)\n",
      "TH:  tensor(0.3000, dtype=torch.float64)  - Dice:  tensor(0.2566)\n",
      "TH:  tensor(0.3500, dtype=torch.float64)  - Dice:  tensor(0.2606)\n",
      "TH:  tensor(0.4000, dtype=torch.float64)  - Dice:  tensor(0.2644)\n",
      "TH:  tensor(0.4500, dtype=torch.float64)  - Dice:  tensor(0.2668)\n",
      "TH:  tensor(0.5000, dtype=torch.float64)  - Dice:  tensor(0.2666)\n",
      "TH:  tensor(0.5500, dtype=torch.float64)  - Dice:  tensor(0.2612)\n",
      "TH:  tensor(0.6000, dtype=torch.float64)  - Dice:  tensor(0.2410)\n",
      "TH:  tensor(0.6500, dtype=torch.float64)  - Dice:  tensor(0.1919)\n",
      "TH:  tensor(0.7000, dtype=torch.float64)  - Dice:  tensor(0.1142)\n",
      "TH:  tensor(0.7500, dtype=torch.float64)  - Dice:  tensor(0.0494)\n",
      "TH:  tensor(0.8000, dtype=torch.float64)  - Dice:  tensor(0.0184)\n",
      "Best Threshold: 0.44999999999999996 - Best Dice Score: 0.2669999897480011\n"
     ]
    },
    {
     "data": {
      "application/vnd.jupyter.widget-view+json": {
       "model_id": "",
       "version_major": 2,
       "version_minor": 0
      },
      "text/plain": [
       "Validation: 0it [00:00, ?it/s]"
      ]
     },
     "metadata": {},
     "output_type": "display_data"
    },
    {
     "name": "stdout",
     "output_type": "stream",
     "text": [
      "TH:  tensor(0.2000, dtype=torch.float64)  - Dice:  tensor(0.2535)\n",
      "TH:  tensor(0.2500, dtype=torch.float64)  - Dice:  tensor(0.2555)\n",
      "TH:  tensor(0.3000, dtype=torch.float64)  - Dice:  tensor(0.2587)\n",
      "TH:  tensor(0.3500, dtype=torch.float64)  - Dice:  tensor(0.2623)\n",
      "TH:  tensor(0.4000, dtype=torch.float64)  - Dice:  tensor(0.2668)\n",
      "TH:  tensor(0.4500, dtype=torch.float64)  - Dice:  tensor(0.2726)\n",
      "TH:  tensor(0.5000, dtype=torch.float64)  - Dice:  tensor(0.2790)\n",
      "TH:  tensor(0.5500, dtype=torch.float64)  - Dice:  tensor(0.2823)\n",
      "TH:  tensor(0.6000, dtype=torch.float64)  - Dice:  tensor(0.2723)\n",
      "TH:  tensor(0.6500, dtype=torch.float64)  - Dice:  tensor(0.2321)\n",
      "TH:  tensor(0.7000, dtype=torch.float64)  - Dice:  tensor(0.1568)\n",
      "TH:  tensor(0.7500, dtype=torch.float64)  - Dice:  tensor(0.0809)\n",
      "TH:  tensor(0.8000, dtype=torch.float64)  - Dice:  tensor(0.0350)\n",
      "Best Threshold: 0.5499999999999999 - Best Dice Score: 0.28200000524520874\n"
     ]
    },
    {
     "data": {
      "application/vnd.jupyter.widget-view+json": {
       "model_id": "",
       "version_major": 2,
       "version_minor": 0
      },
      "text/plain": [
       "Validation: 0it [00:00, ?it/s]"
      ]
     },
     "metadata": {},
     "output_type": "display_data"
    },
    {
     "name": "stdout",
     "output_type": "stream",
     "text": [
      "TH:  tensor(0.2000, dtype=torch.float64)  - Dice:  tensor(0.2517)\n",
      "TH:  tensor(0.2500, dtype=torch.float64)  - Dice:  tensor(0.2536)\n",
      "TH:  tensor(0.3000, dtype=torch.float64)  - Dice:  tensor(0.2562)\n",
      "TH:  tensor(0.3500, dtype=torch.float64)  - Dice:  tensor(0.2574)\n",
      "TH:  tensor(0.4000, dtype=torch.float64)  - Dice:  tensor(0.2584)\n",
      "TH:  tensor(0.4500, dtype=torch.float64)  - Dice:  tensor(0.2622)\n",
      "TH:  tensor(0.5000, dtype=torch.float64)  - Dice:  tensor(0.2698)\n",
      "TH:  tensor(0.5500, dtype=torch.float64)  - Dice:  tensor(0.2632)\n",
      "TH:  tensor(0.6000, dtype=torch.float64)  - Dice:  tensor(0.1908)\n",
      "TH:  tensor(0.6500, dtype=torch.float64)  - Dice:  tensor(0.0696)\n",
      "TH:  tensor(0.7000, dtype=torch.float64)  - Dice:  tensor(0.0163)\n",
      "TH:  tensor(0.7500, dtype=torch.float64)  - Dice:  tensor(0.0046)\n",
      "TH:  tensor(0.8000, dtype=torch.float64)  - Dice:  tensor(0.0012)\n",
      "Best Threshold: 0.49999999999999994 - Best Dice Score: 0.27000001072883606\n"
     ]
    },
    {
     "data": {
      "application/vnd.jupyter.widget-view+json": {
       "model_id": "",
       "version_major": 2,
       "version_minor": 0
      },
      "text/plain": [
       "Validation: 0it [00:00, ?it/s]"
      ]
     },
     "metadata": {},
     "output_type": "display_data"
    },
    {
     "name": "stdout",
     "output_type": "stream",
     "text": [
      "TH:  tensor(0.2000, dtype=torch.float64)  - Dice:  tensor(0.2537)\n",
      "TH:  tensor(0.2500, dtype=torch.float64)  - Dice:  tensor(0.2543)\n",
      "TH:  tensor(0.3000, dtype=torch.float64)  - Dice:  tensor(0.2555)\n",
      "TH:  tensor(0.3500, dtype=torch.float64)  - Dice:  tensor(0.2571)\n",
      "TH:  tensor(0.4000, dtype=torch.float64)  - Dice:  tensor(0.2583)\n",
      "TH:  tensor(0.4500, dtype=torch.float64)  - Dice:  tensor(0.2594)\n",
      "TH:  tensor(0.5000, dtype=torch.float64)  - Dice:  tensor(0.2602)\n",
      "TH:  tensor(0.5500, dtype=torch.float64)  - Dice:  tensor(0.2609)\n",
      "TH:  tensor(0.6000, dtype=torch.float64)  - Dice:  tensor(0.2616)\n",
      "TH:  tensor(0.6500, dtype=torch.float64)  - Dice:  tensor(0.2627)\n",
      "TH:  tensor(0.7000, dtype=torch.float64)  - Dice:  tensor(0.2643)\n",
      "TH:  tensor(0.7500, dtype=torch.float64)  - Dice:  tensor(0.2662)\n",
      "TH:  tensor(0.8000, dtype=torch.float64)  - Dice:  tensor(0.2685)\n",
      "Best Threshold: 0.7999999999999998 - Best Dice Score: 0.26899999380111694\n"
     ]
    },
    {
     "data": {
      "application/vnd.jupyter.widget-view+json": {
       "model_id": "",
       "version_major": 2,
       "version_minor": 0
      },
      "text/plain": [
       "Validation: 0it [00:00, ?it/s]"
      ]
     },
     "metadata": {},
     "output_type": "display_data"
    },
    {
     "name": "stdout",
     "output_type": "stream",
     "text": [
      "TH:  tensor(0.2000, dtype=torch.float64)  - Dice:  tensor(0.2955)\n",
      "TH:  tensor(0.2500, dtype=torch.float64)  - Dice:  tensor(0.3113)\n",
      "TH:  tensor(0.3000, dtype=torch.float64)  - Dice:  tensor(0.3233)\n",
      "TH:  tensor(0.3500, dtype=torch.float64)  - Dice:  tensor(0.3327)\n",
      "TH:  tensor(0.4000, dtype=torch.float64)  - Dice:  tensor(0.3408)\n",
      "TH:  tensor(0.4500, dtype=torch.float64)  - Dice:  tensor(0.3492)\n",
      "TH:  tensor(0.5000, dtype=torch.float64)  - Dice:  tensor(0.3626)\n",
      "TH:  tensor(0.5500, dtype=torch.float64)  - Dice:  tensor(0.3795)\n",
      "TH:  tensor(0.6000, dtype=torch.float64)  - Dice:  tensor(0.4023)\n",
      "TH:  tensor(0.6500, dtype=torch.float64)  - Dice:  tensor(0.4262)\n",
      "TH:  tensor(0.7000, dtype=torch.float64)  - Dice:  tensor(0.4381)\n",
      "TH:  tensor(0.7500, dtype=torch.float64)  - Dice:  tensor(0.4300)\n",
      "TH:  tensor(0.8000, dtype=torch.float64)  - Dice:  tensor(0.4034)\n",
      "Best Threshold: 0.7 - Best Dice Score: 0.43799999356269836\n"
     ]
    },
    {
     "data": {
      "application/vnd.jupyter.widget-view+json": {
       "model_id": "",
       "version_major": 2,
       "version_minor": 0
      },
      "text/plain": [
       "Validation: 0it [00:00, ?it/s]"
      ]
     },
     "metadata": {},
     "output_type": "display_data"
    },
    {
     "name": "stdout",
     "output_type": "stream",
     "text": [
      "TH:  tensor(0.2000, dtype=torch.float64)  - Dice:  tensor(0.3148)\n",
      "TH:  tensor(0.2500, dtype=torch.float64)  - Dice:  tensor(0.3327)\n",
      "TH:  tensor(0.3000, dtype=torch.float64)  - Dice:  tensor(0.3491)\n",
      "TH:  tensor(0.3500, dtype=torch.float64)  - Dice:  tensor(0.3642)\n",
      "TH:  tensor(0.4000, dtype=torch.float64)  - Dice:  tensor(0.3758)\n",
      "TH:  tensor(0.4500, dtype=torch.float64)  - Dice:  tensor(0.3853)\n",
      "TH:  tensor(0.5000, dtype=torch.float64)  - Dice:  tensor(0.3962)\n",
      "TH:  tensor(0.5500, dtype=torch.float64)  - Dice:  tensor(0.4066)\n",
      "TH:  tensor(0.6000, dtype=torch.float64)  - Dice:  tensor(0.4129)\n",
      "TH:  tensor(0.6500, dtype=torch.float64)  - Dice:  tensor(0.4100)\n",
      "TH:  tensor(0.7000, dtype=torch.float64)  - Dice:  tensor(0.3942)\n",
      "TH:  tensor(0.7500, dtype=torch.float64)  - Dice:  tensor(0.3604)\n",
      "TH:  tensor(0.8000, dtype=torch.float64)  - Dice:  tensor(0.3073)\n",
      "Best Threshold: 0.5999999999999999 - Best Dice Score: 0.4129999876022339\n"
     ]
    },
    {
     "data": {
      "application/vnd.jupyter.widget-view+json": {
       "model_id": "",
       "version_major": 2,
       "version_minor": 0
      },
      "text/plain": [
       "Validation: 0it [00:00, ?it/s]"
      ]
     },
     "metadata": {},
     "output_type": "display_data"
    },
    {
     "name": "stdout",
     "output_type": "stream",
     "text": [
      "TH:  tensor(0.2000, dtype=torch.float64)  - Dice:  tensor(0.3594)\n",
      "TH:  tensor(0.2500, dtype=torch.float64)  - Dice:  tensor(0.3741)\n",
      "TH:  tensor(0.3000, dtype=torch.float64)  - Dice:  tensor(0.3837)\n",
      "TH:  tensor(0.3500, dtype=torch.float64)  - Dice:  tensor(0.3914)\n",
      "TH:  tensor(0.4000, dtype=torch.float64)  - Dice:  tensor(0.3969)\n",
      "TH:  tensor(0.4500, dtype=torch.float64)  - Dice:  tensor(0.4023)\n",
      "TH:  tensor(0.5000, dtype=torch.float64)  - Dice:  tensor(0.4072)\n",
      "TH:  tensor(0.5500, dtype=torch.float64)  - Dice:  tensor(0.4091)\n",
      "TH:  tensor(0.6000, dtype=torch.float64)  - Dice:  tensor(0.4069)\n",
      "TH:  tensor(0.6500, dtype=torch.float64)  - Dice:  tensor(0.4026)\n",
      "TH:  tensor(0.7000, dtype=torch.float64)  - Dice:  tensor(0.3932)\n",
      "TH:  tensor(0.7500, dtype=torch.float64)  - Dice:  tensor(0.3766)\n",
      "TH:  tensor(0.8000, dtype=torch.float64)  - Dice:  tensor(0.3532)\n",
      "Best Threshold: 0.5499999999999999 - Best Dice Score: 0.4090000092983246\n"
     ]
    },
    {
     "data": {
      "application/vnd.jupyter.widget-view+json": {
       "model_id": "",
       "version_major": 2,
       "version_minor": 0
      },
      "text/plain": [
       "Validation: 0it [00:00, ?it/s]"
      ]
     },
     "metadata": {},
     "output_type": "display_data"
    },
    {
     "name": "stdout",
     "output_type": "stream",
     "text": [
      "TH:  tensor(0.2000, dtype=torch.float64)  - Dice:  tensor(0.3215)\n",
      "TH:  tensor(0.2500, dtype=torch.float64)  - Dice:  tensor(0.3432)\n",
      "TH:  tensor(0.3000, dtype=torch.float64)  - Dice:  tensor(0.3463)\n",
      "TH:  tensor(0.3500, dtype=torch.float64)  - Dice:  tensor(0.3373)\n",
      "TH:  tensor(0.4000, dtype=torch.float64)  - Dice:  tensor(0.3245)\n",
      "TH:  tensor(0.4500, dtype=torch.float64)  - Dice:  tensor(0.3021)\n",
      "TH:  tensor(0.5000, dtype=torch.float64)  - Dice:  tensor(0.2760)\n",
      "TH:  tensor(0.5500, dtype=torch.float64)  - Dice:  tensor(0.2437)\n",
      "TH:  tensor(0.6000, dtype=torch.float64)  - Dice:  tensor(0.2112)\n",
      "TH:  tensor(0.6500, dtype=torch.float64)  - Dice:  tensor(0.1832)\n",
      "TH:  tensor(0.7000, dtype=torch.float64)  - Dice:  tensor(0.1570)\n",
      "TH:  tensor(0.7500, dtype=torch.float64)  - Dice:  tensor(0.1309)\n",
      "TH:  tensor(0.8000, dtype=torch.float64)  - Dice:  tensor(0.1013)\n",
      "Best Threshold: 0.3 - Best Dice Score: 0.34599998593330383\n"
     ]
    },
    {
     "data": {
      "application/vnd.jupyter.widget-view+json": {
       "model_id": "",
       "version_major": 2,
       "version_minor": 0
      },
      "text/plain": [
       "Validation: 0it [00:00, ?it/s]"
      ]
     },
     "metadata": {},
     "output_type": "display_data"
    },
    {
     "name": "stdout",
     "output_type": "stream",
     "text": [
      "TH:  tensor(0.2000, dtype=torch.float64)  - Dice:  tensor(0.3940)\n",
      "TH:  tensor(0.2500, dtype=torch.float64)  - Dice:  tensor(0.4069)\n",
      "TH:  tensor(0.3000, dtype=torch.float64)  - Dice:  tensor(0.4161)\n",
      "TH:  tensor(0.3500, dtype=torch.float64)  - Dice:  tensor(0.4227)\n",
      "TH:  tensor(0.4000, dtype=torch.float64)  - Dice:  tensor(0.4270)\n",
      "TH:  tensor(0.4500, dtype=torch.float64)  - Dice:  tensor(0.4302)\n",
      "TH:  tensor(0.5000, dtype=torch.float64)  - Dice:  tensor(0.4323)\n",
      "TH:  tensor(0.5500, dtype=torch.float64)  - Dice:  tensor(0.4328)\n",
      "TH:  tensor(0.6000, dtype=torch.float64)  - Dice:  tensor(0.4309)\n",
      "TH:  tensor(0.6500, dtype=torch.float64)  - Dice:  tensor(0.4275)\n",
      "TH:  tensor(0.7000, dtype=torch.float64)  - Dice:  tensor(0.4212)\n",
      "TH:  tensor(0.7500, dtype=torch.float64)  - Dice:  tensor(0.4089)\n",
      "TH:  tensor(0.8000, dtype=torch.float64)  - Dice:  tensor(0.3862)\n",
      "Best Threshold: 0.5499999999999999 - Best Dice Score: 0.43299999833106995\n"
     ]
    },
    {
     "data": {
      "application/vnd.jupyter.widget-view+json": {
       "model_id": "",
       "version_major": 2,
       "version_minor": 0
      },
      "text/plain": [
       "Validation: 0it [00:00, ?it/s]"
      ]
     },
     "metadata": {},
     "output_type": "display_data"
    },
    {
     "name": "stdout",
     "output_type": "stream",
     "text": [
      "TH:  tensor(0.2000, dtype=torch.float64)  - Dice:  tensor(0.3867)\n",
      "TH:  tensor(0.2500, dtype=torch.float64)  - Dice:  tensor(0.4081)\n",
      "TH:  tensor(0.3000, dtype=torch.float64)  - Dice:  tensor(0.4257)\n",
      "TH:  tensor(0.3500, dtype=torch.float64)  - Dice:  tensor(0.4389)\n",
      "TH:  tensor(0.4000, dtype=torch.float64)  - Dice:  tensor(0.4482)\n",
      "TH:  tensor(0.4500, dtype=torch.float64)  - Dice:  tensor(0.4600)\n",
      "TH:  tensor(0.5000, dtype=torch.float64)  - Dice:  tensor(0.4687)\n",
      "TH:  tensor(0.5500, dtype=torch.float64)  - Dice:  tensor(0.4752)\n",
      "TH:  tensor(0.6000, dtype=torch.float64)  - Dice:  tensor(0.4783)\n",
      "TH:  tensor(0.6500, dtype=torch.float64)  - Dice:  tensor(0.4758)\n",
      "TH:  tensor(0.7000, dtype=torch.float64)  - Dice:  tensor(0.4663)\n",
      "TH:  tensor(0.7500, dtype=torch.float64)  - Dice:  tensor(0.4444)\n",
      "TH:  tensor(0.8000, dtype=torch.float64)  - Dice:  tensor(0.4020)\n",
      "Best Threshold: 0.5999999999999999 - Best Dice Score: 0.4779999852180481\n"
     ]
    },
    {
     "data": {
      "application/vnd.jupyter.widget-view+json": {
       "model_id": "",
       "version_major": 2,
       "version_minor": 0
      },
      "text/plain": [
       "Validation: 0it [00:00, ?it/s]"
      ]
     },
     "metadata": {},
     "output_type": "display_data"
    },
    {
     "name": "stdout",
     "output_type": "stream",
     "text": [
      "TH:  tensor(0.2000, dtype=torch.float64)  - Dice:  tensor(0.3937)\n",
      "TH:  tensor(0.2500, dtype=torch.float64)  - Dice:  tensor(0.4111)\n",
      "TH:  tensor(0.3000, dtype=torch.float64)  - Dice:  tensor(0.4274)\n",
      "TH:  tensor(0.3500, dtype=torch.float64)  - Dice:  tensor(0.4406)\n",
      "TH:  tensor(0.4000, dtype=torch.float64)  - Dice:  tensor(0.4504)\n",
      "TH:  tensor(0.4500, dtype=torch.float64)  - Dice:  tensor(0.4622)\n",
      "TH:  tensor(0.5000, dtype=torch.float64)  - Dice:  tensor(0.4713)\n",
      "TH:  tensor(0.5500, dtype=torch.float64)  - Dice:  tensor(0.4789)\n",
      "TH:  tensor(0.6000, dtype=torch.float64)  - Dice:  tensor(0.4825)\n",
      "TH:  tensor(0.6500, dtype=torch.float64)  - Dice:  tensor(0.4816)\n",
      "TH:  tensor(0.7000, dtype=torch.float64)  - Dice:  tensor(0.4746)\n",
      "TH:  tensor(0.7500, dtype=torch.float64)  - Dice:  tensor(0.4590)\n",
      "TH:  tensor(0.8000, dtype=torch.float64)  - Dice:  tensor(0.4264)\n",
      "Best Threshold: 0.5999999999999999 - Best Dice Score: 0.4819999933242798\n"
     ]
    },
    {
     "data": {
      "application/vnd.jupyter.widget-view+json": {
       "model_id": "",
       "version_major": 2,
       "version_minor": 0
      },
      "text/plain": [
       "Validation: 0it [00:00, ?it/s]"
      ]
     },
     "metadata": {},
     "output_type": "display_data"
    },
    {
     "name": "stdout",
     "output_type": "stream",
     "text": [
      "TH:  tensor(0.2000, dtype=torch.float64)  - Dice:  tensor(0.4173)\n",
      "TH:  tensor(0.2500, dtype=torch.float64)  - Dice:  tensor(0.4351)\n",
      "TH:  tensor(0.3000, dtype=torch.float64)  - Dice:  tensor(0.4480)\n",
      "TH:  tensor(0.3500, dtype=torch.float64)  - Dice:  tensor(0.4567)\n",
      "TH:  tensor(0.4000, dtype=torch.float64)  - Dice:  tensor(0.4629)\n",
      "TH:  tensor(0.4500, dtype=torch.float64)  - Dice:  tensor(0.4693)\n",
      "TH:  tensor(0.5000, dtype=torch.float64)  - Dice:  tensor(0.4728)\n",
      "TH:  tensor(0.5500, dtype=torch.float64)  - Dice:  tensor(0.4739)\n",
      "TH:  tensor(0.6000, dtype=torch.float64)  - Dice:  tensor(0.4729)\n",
      "TH:  tensor(0.6500, dtype=torch.float64)  - Dice:  tensor(0.4694)\n",
      "TH:  tensor(0.7000, dtype=torch.float64)  - Dice:  tensor(0.4611)\n",
      "TH:  tensor(0.7500, dtype=torch.float64)  - Dice:  tensor(0.4437)\n",
      "TH:  tensor(0.8000, dtype=torch.float64)  - Dice:  tensor(0.4110)\n",
      "Best Threshold: 0.5499999999999999 - Best Dice Score: 0.4740000069141388\n"
     ]
    },
    {
     "data": {
      "application/vnd.jupyter.widget-view+json": {
       "model_id": "",
       "version_major": 2,
       "version_minor": 0
      },
      "text/plain": [
       "Validation: 0it [00:00, ?it/s]"
      ]
     },
     "metadata": {},
     "output_type": "display_data"
    },
    {
     "name": "stdout",
     "output_type": "stream",
     "text": [
      "TH:  tensor(0.2000, dtype=torch.float64)  - Dice:  tensor(0.4340)\n",
      "TH:  tensor(0.2500, dtype=torch.float64)  - Dice:  tensor(0.4505)\n",
      "TH:  tensor(0.3000, dtype=torch.float64)  - Dice:  tensor(0.4632)\n",
      "TH:  tensor(0.3500, dtype=torch.float64)  - Dice:  tensor(0.4717)\n",
      "TH:  tensor(0.4000, dtype=torch.float64)  - Dice:  tensor(0.4774)\n",
      "TH:  tensor(0.4500, dtype=torch.float64)  - Dice:  tensor(0.4826)\n",
      "TH:  tensor(0.5000, dtype=torch.float64)  - Dice:  tensor(0.4852)\n",
      "TH:  tensor(0.5500, dtype=torch.float64)  - Dice:  tensor(0.4855)\n",
      "TH:  tensor(0.6000, dtype=torch.float64)  - Dice:  tensor(0.4826)\n",
      "TH:  tensor(0.6500, dtype=torch.float64)  - Dice:  tensor(0.4767)\n",
      "TH:  tensor(0.7000, dtype=torch.float64)  - Dice:  tensor(0.4675)\n",
      "TH:  tensor(0.7500, dtype=torch.float64)  - Dice:  tensor(0.4529)\n",
      "TH:  tensor(0.8000, dtype=torch.float64)  - Dice:  tensor(0.4277)\n",
      "Best Threshold: 0.5499999999999999 - Best Dice Score: 0.48500001430511475\n"
     ]
    },
    {
     "data": {
      "application/vnd.jupyter.widget-view+json": {
       "model_id": "",
       "version_major": 2,
       "version_minor": 0
      },
      "text/plain": [
       "Validation: 0it [00:00, ?it/s]"
      ]
     },
     "metadata": {},
     "output_type": "display_data"
    },
    {
     "name": "stdout",
     "output_type": "stream",
     "text": [
      "TH:  tensor(0.2000, dtype=torch.float64)  - Dice:  tensor(0.4221)\n",
      "TH:  tensor(0.2500, dtype=torch.float64)  - Dice:  tensor(0.4398)\n",
      "TH:  tensor(0.3000, dtype=torch.float64)  - Dice:  tensor(0.4538)\n",
      "TH:  tensor(0.3500, dtype=torch.float64)  - Dice:  tensor(0.4633)\n",
      "TH:  tensor(0.4000, dtype=torch.float64)  - Dice:  tensor(0.4706)\n",
      "TH:  tensor(0.4500, dtype=torch.float64)  - Dice:  tensor(0.4777)\n",
      "TH:  tensor(0.5000, dtype=torch.float64)  - Dice:  tensor(0.4824)\n",
      "TH:  tensor(0.5500, dtype=torch.float64)  - Dice:  tensor(0.4846)\n",
      "TH:  tensor(0.6000, dtype=torch.float64)  - Dice:  tensor(0.4840)\n",
      "TH:  tensor(0.6500, dtype=torch.float64)  - Dice:  tensor(0.4816)\n",
      "TH:  tensor(0.7000, dtype=torch.float64)  - Dice:  tensor(0.4751)\n",
      "TH:  tensor(0.7500, dtype=torch.float64)  - Dice:  tensor(0.4625)\n",
      "TH:  tensor(0.8000, dtype=torch.float64)  - Dice:  tensor(0.4397)\n",
      "Best Threshold: 0.5499999999999999 - Best Dice Score: 0.48500001430511475\n"
     ]
    },
    {
     "name": "stderr",
     "output_type": "stream",
     "text": [
      "`Trainer.fit` stopped: `max_epochs=14` reached.\n",
      "Using 16bit Automatic Mixed Precision (AMP)\n",
      "GPU available: True (cuda), used: True\n",
      "TPU available: False, using: 0 TPU cores\n",
      "IPU available: False, using: 0 IPUs\n",
      "HPU available: False, using: 0 HPUs\n",
      "LOCAL_RANK: 0 - CUDA_VISIBLE_DEVICES: [0]\n",
      "\n",
      "  | Name      | Type              | Params\n",
      "------------------------------------------------\n",
      "0 | model     | Unet              | 34.6 M\n",
      "1 | dice      | CustomDice        | 0     \n",
      "2 | BCE       | BCEWithLogitsLoss | 0     \n",
      "3 | dice_loss | DiceLoss          | 0     \n",
      "------------------------------------------------\n",
      "34.6 M    Trainable params\n",
      "0         Non-trainable params\n",
      "34.6 M    Total params\n",
      "138.221   Total estimated model params size (MB)\n"
     ]
    },
    {
     "name": "stdout",
     "output_type": "stream",
     "text": [
      "Depth from 26 - 38 performance: 0.48500001430511475 [F0.5-Score]\n"
     ]
    },
    {
     "data": {
      "application/vnd.jupyter.widget-view+json": {
       "model_id": "",
       "version_major": 2,
       "version_minor": 0
      },
      "text/plain": [
       "Sanity Checking: 0it [00:00, ?it/s]"
      ]
     },
     "metadata": {},
     "output_type": "display_data"
    },
    {
     "name": "stdout",
     "output_type": "stream",
     "text": [
      "TH:  tensor(0.2000, dtype=torch.float64)  - Dice:  tensor(0.1853)\n",
      "TH:  tensor(0.2500, dtype=torch.float64)  - Dice:  tensor(0.1853)\n",
      "TH:  tensor(0.3000, dtype=torch.float64)  - Dice:  tensor(0.1853)\n",
      "TH:  tensor(0.3500, dtype=torch.float64)  - Dice:  tensor(0.1853)\n",
      "TH:  tensor(0.4000, dtype=torch.float64)  - Dice:  tensor(0.1853)\n",
      "TH:  tensor(0.4500, dtype=torch.float64)  - Dice:  tensor(0.1853)\n",
      "TH:  tensor(0.5000, dtype=torch.float64)  - Dice:  tensor(0.2310)\n",
      "TH:  tensor(0.5500, dtype=torch.float64)  - Dice:  tensor(1.9359e-06)\n",
      "TH:  tensor(0.6000, dtype=torch.float64)  - Dice:  tensor(0.)\n",
      "TH:  tensor(0.6500, dtype=torch.float64)  - Dice:  tensor(0.)\n",
      "TH:  tensor(0.7000, dtype=torch.float64)  - Dice:  tensor(0.)\n",
      "TH:  tensor(0.7500, dtype=torch.float64)  - Dice:  tensor(0.)\n",
      "TH:  tensor(0.8000, dtype=torch.float64)  - Dice:  tensor(0.)\n",
      "Best Threshold: 0.49999999999999994 - Best Dice Score: 0.23100000619888306\n"
     ]
    },
    {
     "data": {
      "application/vnd.jupyter.widget-view+json": {
       "model_id": "0258a69f8c994af5a448a744dffad179",
       "version_major": 2,
       "version_minor": 0
      },
      "text/plain": [
       "Training: 0it [00:00, ?it/s]"
      ]
     },
     "metadata": {},
     "output_type": "display_data"
    },
    {
     "data": {
      "application/vnd.jupyter.widget-view+json": {
       "model_id": "",
       "version_major": 2,
       "version_minor": 0
      },
      "text/plain": [
       "Validation: 0it [00:00, ?it/s]"
      ]
     },
     "metadata": {},
     "output_type": "display_data"
    },
    {
     "name": "stdout",
     "output_type": "stream",
     "text": [
      "TH:  tensor(0.2000, dtype=torch.float64)  - Dice:  tensor(0.2531)\n",
      "TH:  tensor(0.2500, dtype=torch.float64)  - Dice:  tensor(0.2535)\n",
      "TH:  tensor(0.3000, dtype=torch.float64)  - Dice:  tensor(0.2537)\n",
      "TH:  tensor(0.3500, dtype=torch.float64)  - Dice:  tensor(0.2538)\n",
      "TH:  tensor(0.4000, dtype=torch.float64)  - Dice:  tensor(0.2531)\n",
      "TH:  tensor(0.4500, dtype=torch.float64)  - Dice:  tensor(0.2499)\n",
      "TH:  tensor(0.5000, dtype=torch.float64)  - Dice:  tensor(0.2408)\n",
      "TH:  tensor(0.5500, dtype=torch.float64)  - Dice:  tensor(0.2074)\n",
      "TH:  tensor(0.6000, dtype=torch.float64)  - Dice:  tensor(0.0984)\n",
      "TH:  tensor(0.6500, dtype=torch.float64)  - Dice:  tensor(0.0163)\n",
      "TH:  tensor(0.7000, dtype=torch.float64)  - Dice:  tensor(0.0033)\n",
      "TH:  tensor(0.7500, dtype=torch.float64)  - Dice:  tensor(0.0013)\n",
      "TH:  tensor(0.8000, dtype=torch.float64)  - Dice:  tensor(0.0007)\n",
      "Best Threshold: 0.35 - Best Dice Score: 0.2540000081062317\n"
     ]
    },
    {
     "data": {
      "application/vnd.jupyter.widget-view+json": {
       "model_id": "",
       "version_major": 2,
       "version_minor": 0
      },
      "text/plain": [
       "Validation: 0it [00:00, ?it/s]"
      ]
     },
     "metadata": {},
     "output_type": "display_data"
    },
    {
     "name": "stdout",
     "output_type": "stream",
     "text": [
      "TH:  tensor(0.2000, dtype=torch.float64)  - Dice:  tensor(0.2534)\n",
      "TH:  tensor(0.2500, dtype=torch.float64)  - Dice:  tensor(0.2537)\n",
      "TH:  tensor(0.3000, dtype=torch.float64)  - Dice:  tensor(0.2540)\n",
      "TH:  tensor(0.3500, dtype=torch.float64)  - Dice:  tensor(0.2542)\n",
      "TH:  tensor(0.4000, dtype=torch.float64)  - Dice:  tensor(0.2536)\n",
      "TH:  tensor(0.4500, dtype=torch.float64)  - Dice:  tensor(0.2500)\n",
      "TH:  tensor(0.5000, dtype=torch.float64)  - Dice:  tensor(0.2356)\n",
      "TH:  tensor(0.5500, dtype=torch.float64)  - Dice:  tensor(0.1766)\n",
      "TH:  tensor(0.6000, dtype=torch.float64)  - Dice:  tensor(0.0611)\n",
      "TH:  tensor(0.6500, dtype=torch.float64)  - Dice:  tensor(0.0125)\n",
      "TH:  tensor(0.7000, dtype=torch.float64)  - Dice:  tensor(0.0057)\n",
      "TH:  tensor(0.7500, dtype=torch.float64)  - Dice:  tensor(0.0041)\n",
      "TH:  tensor(0.8000, dtype=torch.float64)  - Dice:  tensor(0.0034)\n",
      "Best Threshold: 0.35 - Best Dice Score: 0.2540000081062317\n"
     ]
    },
    {
     "data": {
      "application/vnd.jupyter.widget-view+json": {
       "model_id": "",
       "version_major": 2,
       "version_minor": 0
      },
      "text/plain": [
       "Validation: 0it [00:00, ?it/s]"
      ]
     },
     "metadata": {},
     "output_type": "display_data"
    },
    {
     "name": "stdout",
     "output_type": "stream",
     "text": [
      "TH:  tensor(0.2000, dtype=torch.float64)  - Dice:  tensor(0.2542)\n",
      "TH:  tensor(0.2500, dtype=torch.float64)  - Dice:  tensor(0.2544)\n",
      "TH:  tensor(0.3000, dtype=torch.float64)  - Dice:  tensor(0.2547)\n",
      "TH:  tensor(0.3500, dtype=torch.float64)  - Dice:  tensor(0.2516)\n",
      "TH:  tensor(0.4000, dtype=torch.float64)  - Dice:  tensor(0.2218)\n",
      "TH:  tensor(0.4500, dtype=torch.float64)  - Dice:  tensor(0.1057)\n",
      "TH:  tensor(0.5000, dtype=torch.float64)  - Dice:  tensor(0.0269)\n",
      "TH:  tensor(0.5500, dtype=torch.float64)  - Dice:  tensor(0.0129)\n",
      "TH:  tensor(0.6000, dtype=torch.float64)  - Dice:  tensor(0.0101)\n",
      "TH:  tensor(0.6500, dtype=torch.float64)  - Dice:  tensor(0.0090)\n",
      "TH:  tensor(0.7000, dtype=torch.float64)  - Dice:  tensor(0.0082)\n",
      "TH:  tensor(0.7500, dtype=torch.float64)  - Dice:  tensor(0.0075)\n",
      "TH:  tensor(0.8000, dtype=torch.float64)  - Dice:  tensor(0.0068)\n",
      "Best Threshold: 0.3 - Best Dice Score: 0.2549999952316284\n"
     ]
    },
    {
     "data": {
      "application/vnd.jupyter.widget-view+json": {
       "model_id": "",
       "version_major": 2,
       "version_minor": 0
      },
      "text/plain": [
       "Validation: 0it [00:00, ?it/s]"
      ]
     },
     "metadata": {},
     "output_type": "display_data"
    },
    {
     "name": "stdout",
     "output_type": "stream",
     "text": [
      "TH:  tensor(0.2000, dtype=torch.float64)  - Dice:  tensor(0.2546)\n",
      "TH:  tensor(0.2500, dtype=torch.float64)  - Dice:  tensor(0.2548)\n",
      "TH:  tensor(0.3000, dtype=torch.float64)  - Dice:  tensor(0.2550)\n",
      "TH:  tensor(0.3500, dtype=torch.float64)  - Dice:  tensor(0.2402)\n",
      "TH:  tensor(0.4000, dtype=torch.float64)  - Dice:  tensor(0.1493)\n",
      "TH:  tensor(0.4500, dtype=torch.float64)  - Dice:  tensor(0.0417)\n",
      "TH:  tensor(0.5000, dtype=torch.float64)  - Dice:  tensor(0.0088)\n",
      "TH:  tensor(0.5500, dtype=torch.float64)  - Dice:  tensor(0.0030)\n",
      "TH:  tensor(0.6000, dtype=torch.float64)  - Dice:  tensor(0.0016)\n",
      "TH:  tensor(0.6500, dtype=torch.float64)  - Dice:  tensor(0.0009)\n",
      "TH:  tensor(0.7000, dtype=torch.float64)  - Dice:  tensor(0.0003)\n",
      "TH:  tensor(0.7500, dtype=torch.float64)  - Dice:  tensor(5.8758e-05)\n",
      "TH:  tensor(0.8000, dtype=torch.float64)  - Dice:  tensor(9.4313e-06)\n",
      "Best Threshold: 0.3 - Best Dice Score: 0.2549999952316284\n"
     ]
    },
    {
     "data": {
      "application/vnd.jupyter.widget-view+json": {
       "model_id": "",
       "version_major": 2,
       "version_minor": 0
      },
      "text/plain": [
       "Validation: 0it [00:00, ?it/s]"
      ]
     },
     "metadata": {},
     "output_type": "display_data"
    },
    {
     "name": "stdout",
     "output_type": "stream",
     "text": [
      "TH:  tensor(0.2000, dtype=torch.float64)  - Dice:  tensor(0.2548)\n",
      "TH:  tensor(0.2500, dtype=torch.float64)  - Dice:  tensor(0.2550)\n",
      "TH:  tensor(0.3000, dtype=torch.float64)  - Dice:  tensor(0.2553)\n",
      "TH:  tensor(0.3500, dtype=torch.float64)  - Dice:  tensor(0.2409)\n",
      "TH:  tensor(0.4000, dtype=torch.float64)  - Dice:  tensor(0.1019)\n",
      "TH:  tensor(0.4500, dtype=torch.float64)  - Dice:  tensor(0.0111)\n",
      "TH:  tensor(0.5000, dtype=torch.float64)  - Dice:  tensor(0.0014)\n",
      "TH:  tensor(0.5500, dtype=torch.float64)  - Dice:  tensor(0.0002)\n",
      "TH:  tensor(0.6000, dtype=torch.float64)  - Dice:  tensor(1.9590e-05)\n",
      "TH:  tensor(0.6500, dtype=torch.float64)  - Dice:  tensor(1.9349e-06)\n",
      "TH:  tensor(0.7000, dtype=torch.float64)  - Dice:  tensor(0.)\n",
      "TH:  tensor(0.7500, dtype=torch.float64)  - Dice:  tensor(0.)\n",
      "TH:  tensor(0.8000, dtype=torch.float64)  - Dice:  tensor(0.)\n",
      "Best Threshold: 0.3 - Best Dice Score: 0.2549999952316284\n"
     ]
    },
    {
     "data": {
      "application/vnd.jupyter.widget-view+json": {
       "model_id": "",
       "version_major": 2,
       "version_minor": 0
      },
      "text/plain": [
       "Validation: 0it [00:00, ?it/s]"
      ]
     },
     "metadata": {},
     "output_type": "display_data"
    },
    {
     "name": "stdout",
     "output_type": "stream",
     "text": [
      "TH:  tensor(0.2000, dtype=torch.float64)  - Dice:  tensor(0.2547)\n",
      "TH:  tensor(0.2500, dtype=torch.float64)  - Dice:  tensor(0.2549)\n",
      "TH:  tensor(0.3000, dtype=torch.float64)  - Dice:  tensor(0.2551)\n",
      "TH:  tensor(0.3500, dtype=torch.float64)  - Dice:  tensor(0.2565)\n",
      "TH:  tensor(0.4000, dtype=torch.float64)  - Dice:  tensor(0.2481)\n",
      "TH:  tensor(0.4500, dtype=torch.float64)  - Dice:  tensor(0.1520)\n",
      "TH:  tensor(0.5000, dtype=torch.float64)  - Dice:  tensor(0.0189)\n",
      "TH:  tensor(0.5500, dtype=torch.float64)  - Dice:  tensor(0.0027)\n",
      "TH:  tensor(0.6000, dtype=torch.float64)  - Dice:  tensor(0.0005)\n",
      "TH:  tensor(0.6500, dtype=torch.float64)  - Dice:  tensor(3.3589e-05)\n",
      "TH:  tensor(0.7000, dtype=torch.float64)  - Dice:  tensor(1.9315e-06)\n",
      "TH:  tensor(0.7500, dtype=torch.float64)  - Dice:  tensor(0.)\n",
      "TH:  tensor(0.8000, dtype=torch.float64)  - Dice:  tensor(0.)\n",
      "Best Threshold: 0.35 - Best Dice Score: 0.25699999928474426\n"
     ]
    },
    {
     "data": {
      "application/vnd.jupyter.widget-view+json": {
       "model_id": "",
       "version_major": 2,
       "version_minor": 0
      },
      "text/plain": [
       "Validation: 0it [00:00, ?it/s]"
      ]
     },
     "metadata": {},
     "output_type": "display_data"
    },
    {
     "name": "stdout",
     "output_type": "stream",
     "text": [
      "TH:  tensor(0.2000, dtype=torch.float64)  - Dice:  tensor(0.2552)\n",
      "TH:  tensor(0.2500, dtype=torch.float64)  - Dice:  tensor(0.2555)\n",
      "TH:  tensor(0.3000, dtype=torch.float64)  - Dice:  tensor(0.2560)\n",
      "TH:  tensor(0.3500, dtype=torch.float64)  - Dice:  tensor(0.2078)\n",
      "TH:  tensor(0.4000, dtype=torch.float64)  - Dice:  tensor(0.0843)\n",
      "TH:  tensor(0.4500, dtype=torch.float64)  - Dice:  tensor(0.0608)\n",
      "TH:  tensor(0.5000, dtype=torch.float64)  - Dice:  tensor(0.0406)\n",
      "TH:  tensor(0.5500, dtype=torch.float64)  - Dice:  tensor(0.0262)\n",
      "TH:  tensor(0.6000, dtype=torch.float64)  - Dice:  tensor(0.0143)\n",
      "TH:  tensor(0.6500, dtype=torch.float64)  - Dice:  tensor(0.0049)\n",
      "TH:  tensor(0.7000, dtype=torch.float64)  - Dice:  tensor(0.0012)\n",
      "TH:  tensor(0.7500, dtype=torch.float64)  - Dice:  tensor(0.0001)\n",
      "TH:  tensor(0.8000, dtype=torch.float64)  - Dice:  tensor(6.0442e-06)\n",
      "Best Threshold: 0.3 - Best Dice Score: 0.25600001215934753\n"
     ]
    },
    {
     "data": {
      "application/vnd.jupyter.widget-view+json": {
       "model_id": "",
       "version_major": 2,
       "version_minor": 0
      },
      "text/plain": [
       "Validation: 0it [00:00, ?it/s]"
      ]
     },
     "metadata": {},
     "output_type": "display_data"
    },
    {
     "name": "stdout",
     "output_type": "stream",
     "text": [
      "TH:  tensor(0.2000, dtype=torch.float64)  - Dice:  tensor(0.2552)\n",
      "TH:  tensor(0.2500, dtype=torch.float64)  - Dice:  tensor(0.2567)\n",
      "TH:  tensor(0.3000, dtype=torch.float64)  - Dice:  tensor(0.2609)\n",
      "TH:  tensor(0.3500, dtype=torch.float64)  - Dice:  tensor(0.1755)\n",
      "TH:  tensor(0.4000, dtype=torch.float64)  - Dice:  tensor(0.0452)\n",
      "TH:  tensor(0.4500, dtype=torch.float64)  - Dice:  tensor(0.0236)\n",
      "TH:  tensor(0.5000, dtype=torch.float64)  - Dice:  tensor(0.0107)\n",
      "TH:  tensor(0.5500, dtype=torch.float64)  - Dice:  tensor(0.0039)\n",
      "TH:  tensor(0.6000, dtype=torch.float64)  - Dice:  tensor(0.0014)\n",
      "TH:  tensor(0.6500, dtype=torch.float64)  - Dice:  tensor(0.0002)\n",
      "TH:  tensor(0.7000, dtype=torch.float64)  - Dice:  tensor(1.2109e-05)\n",
      "TH:  tensor(0.7500, dtype=torch.float64)  - Dice:  tensor(0.)\n",
      "TH:  tensor(0.8000, dtype=torch.float64)  - Dice:  tensor(0.)\n",
      "Best Threshold: 0.3 - Best Dice Score: 0.26100000739097595\n"
     ]
    },
    {
     "data": {
      "application/vnd.jupyter.widget-view+json": {
       "model_id": "",
       "version_major": 2,
       "version_minor": 0
      },
      "text/plain": [
       "Validation: 0it [00:00, ?it/s]"
      ]
     },
     "metadata": {},
     "output_type": "display_data"
    },
    {
     "name": "stdout",
     "output_type": "stream",
     "text": [
      "TH:  tensor(0.2000, dtype=torch.float64)  - Dice:  tensor(0.2650)\n",
      "TH:  tensor(0.2500, dtype=torch.float64)  - Dice:  tensor(0.2672)\n",
      "TH:  tensor(0.3000, dtype=torch.float64)  - Dice:  tensor(0.2647)\n",
      "TH:  tensor(0.3500, dtype=torch.float64)  - Dice:  tensor(0.2204)\n",
      "TH:  tensor(0.4000, dtype=torch.float64)  - Dice:  tensor(0.0286)\n",
      "TH:  tensor(0.4500, dtype=torch.float64)  - Dice:  tensor(0.0066)\n",
      "TH:  tensor(0.5000, dtype=torch.float64)  - Dice:  tensor(0.0009)\n",
      "TH:  tensor(0.5500, dtype=torch.float64)  - Dice:  tensor(1.1941e-05)\n",
      "TH:  tensor(0.6000, dtype=torch.float64)  - Dice:  tensor(4.3846e-07)\n",
      "TH:  tensor(0.6500, dtype=torch.float64)  - Dice:  tensor(0.)\n",
      "TH:  tensor(0.7000, dtype=torch.float64)  - Dice:  tensor(0.)\n",
      "TH:  tensor(0.7500, dtype=torch.float64)  - Dice:  tensor(0.)\n",
      "TH:  tensor(0.8000, dtype=torch.float64)  - Dice:  tensor(0.)\n",
      "Best Threshold: 0.25 - Best Dice Score: 0.2669999897480011\n"
     ]
    },
    {
     "data": {
      "application/vnd.jupyter.widget-view+json": {
       "model_id": "",
       "version_major": 2,
       "version_minor": 0
      },
      "text/plain": [
       "Validation: 0it [00:00, ?it/s]"
      ]
     },
     "metadata": {},
     "output_type": "display_data"
    },
    {
     "name": "stdout",
     "output_type": "stream",
     "text": [
      "TH:  tensor(0.2000, dtype=torch.float64)  - Dice:  tensor(0.2607)\n",
      "TH:  tensor(0.2500, dtype=torch.float64)  - Dice:  tensor(0.2631)\n",
      "TH:  tensor(0.3000, dtype=torch.float64)  - Dice:  tensor(0.2648)\n",
      "TH:  tensor(0.3500, dtype=torch.float64)  - Dice:  tensor(0.2671)\n",
      "TH:  tensor(0.4000, dtype=torch.float64)  - Dice:  tensor(0.1518)\n",
      "TH:  tensor(0.4500, dtype=torch.float64)  - Dice:  tensor(0.0883)\n",
      "TH:  tensor(0.5000, dtype=torch.float64)  - Dice:  tensor(0.0218)\n",
      "TH:  tensor(0.5500, dtype=torch.float64)  - Dice:  tensor(0.0091)\n",
      "TH:  tensor(0.6000, dtype=torch.float64)  - Dice:  tensor(0.0042)\n",
      "TH:  tensor(0.6500, dtype=torch.float64)  - Dice:  tensor(0.0013)\n",
      "TH:  tensor(0.7000, dtype=torch.float64)  - Dice:  tensor(4.6639e-05)\n",
      "TH:  tensor(0.7500, dtype=torch.float64)  - Dice:  tensor(2.1758e-06)\n",
      "TH:  tensor(0.8000, dtype=torch.float64)  - Dice:  tensor(0.)\n",
      "Best Threshold: 0.35 - Best Dice Score: 0.2669999897480011\n"
     ]
    },
    {
     "data": {
      "application/vnd.jupyter.widget-view+json": {
       "model_id": "",
       "version_major": 2,
       "version_minor": 0
      },
      "text/plain": [
       "Validation: 0it [00:00, ?it/s]"
      ]
     },
     "metadata": {},
     "output_type": "display_data"
    },
    {
     "name": "stdout",
     "output_type": "stream",
     "text": [
      "TH:  tensor(0.2000, dtype=torch.float64)  - Dice:  tensor(0.2639)\n",
      "TH:  tensor(0.2500, dtype=torch.float64)  - Dice:  tensor(0.2649)\n",
      "TH:  tensor(0.3000, dtype=torch.float64)  - Dice:  tensor(0.2661)\n",
      "TH:  tensor(0.3500, dtype=torch.float64)  - Dice:  tensor(0.2605)\n",
      "TH:  tensor(0.4000, dtype=torch.float64)  - Dice:  tensor(0.1800)\n",
      "TH:  tensor(0.4500, dtype=torch.float64)  - Dice:  tensor(0.1210)\n",
      "TH:  tensor(0.5000, dtype=torch.float64)  - Dice:  tensor(0.0620)\n",
      "TH:  tensor(0.5500, dtype=torch.float64)  - Dice:  tensor(0.0417)\n",
      "TH:  tensor(0.6000, dtype=torch.float64)  - Dice:  tensor(0.0210)\n",
      "TH:  tensor(0.6500, dtype=torch.float64)  - Dice:  tensor(0.0122)\n",
      "TH:  tensor(0.7000, dtype=torch.float64)  - Dice:  tensor(0.0070)\n",
      "TH:  tensor(0.7500, dtype=torch.float64)  - Dice:  tensor(0.0027)\n",
      "TH:  tensor(0.8000, dtype=torch.float64)  - Dice:  tensor(0.0008)\n",
      "Best Threshold: 0.3 - Best Dice Score: 0.26600000262260437\n"
     ]
    },
    {
     "data": {
      "application/vnd.jupyter.widget-view+json": {
       "model_id": "",
       "version_major": 2,
       "version_minor": 0
      },
      "text/plain": [
       "Validation: 0it [00:00, ?it/s]"
      ]
     },
     "metadata": {},
     "output_type": "display_data"
    },
    {
     "name": "stdout",
     "output_type": "stream",
     "text": [
      "TH:  tensor(0.2000, dtype=torch.float64)  - Dice:  tensor(0.2660)\n",
      "TH:  tensor(0.2500, dtype=torch.float64)  - Dice:  tensor(0.2676)\n",
      "TH:  tensor(0.3000, dtype=torch.float64)  - Dice:  tensor(0.2692)\n",
      "TH:  tensor(0.3500, dtype=torch.float64)  - Dice:  tensor(0.2644)\n",
      "TH:  tensor(0.4000, dtype=torch.float64)  - Dice:  tensor(0.1441)\n",
      "TH:  tensor(0.4500, dtype=torch.float64)  - Dice:  tensor(0.0417)\n",
      "TH:  tensor(0.5000, dtype=torch.float64)  - Dice:  tensor(0.0148)\n",
      "TH:  tensor(0.5500, dtype=torch.float64)  - Dice:  tensor(0.0090)\n",
      "TH:  tensor(0.6000, dtype=torch.float64)  - Dice:  tensor(0.0062)\n",
      "TH:  tensor(0.6500, dtype=torch.float64)  - Dice:  tensor(0.0026)\n",
      "TH:  tensor(0.7000, dtype=torch.float64)  - Dice:  tensor(0.0012)\n",
      "TH:  tensor(0.7500, dtype=torch.float64)  - Dice:  tensor(0.0002)\n",
      "TH:  tensor(0.8000, dtype=torch.float64)  - Dice:  tensor(5.2654e-06)\n",
      "Best Threshold: 0.3 - Best Dice Score: 0.26899999380111694\n"
     ]
    },
    {
     "data": {
      "application/vnd.jupyter.widget-view+json": {
       "model_id": "",
       "version_major": 2,
       "version_minor": 0
      },
      "text/plain": [
       "Validation: 0it [00:00, ?it/s]"
      ]
     },
     "metadata": {},
     "output_type": "display_data"
    },
    {
     "name": "stdout",
     "output_type": "stream",
     "text": [
      "TH:  tensor(0.2000, dtype=torch.float64)  - Dice:  tensor(0.2674)\n",
      "TH:  tensor(0.2500, dtype=torch.float64)  - Dice:  tensor(0.2687)\n",
      "TH:  tensor(0.3000, dtype=torch.float64)  - Dice:  tensor(0.2704)\n",
      "TH:  tensor(0.3500, dtype=torch.float64)  - Dice:  tensor(0.2750)\n",
      "TH:  tensor(0.4000, dtype=torch.float64)  - Dice:  tensor(0.1179)\n",
      "TH:  tensor(0.4500, dtype=torch.float64)  - Dice:  tensor(0.0715)\n",
      "TH:  tensor(0.5000, dtype=torch.float64)  - Dice:  tensor(0.0440)\n",
      "TH:  tensor(0.5500, dtype=torch.float64)  - Dice:  tensor(0.0313)\n",
      "TH:  tensor(0.6000, dtype=torch.float64)  - Dice:  tensor(0.0213)\n",
      "TH:  tensor(0.6500, dtype=torch.float64)  - Dice:  tensor(0.0122)\n",
      "TH:  tensor(0.7000, dtype=torch.float64)  - Dice:  tensor(0.0079)\n",
      "TH:  tensor(0.7500, dtype=torch.float64)  - Dice:  tensor(0.0046)\n",
      "TH:  tensor(0.8000, dtype=torch.float64)  - Dice:  tensor(0.0027)\n",
      "Best Threshold: 0.35 - Best Dice Score: 0.2750000059604645\n"
     ]
    },
    {
     "data": {
      "application/vnd.jupyter.widget-view+json": {
       "model_id": "",
       "version_major": 2,
       "version_minor": 0
      },
      "text/plain": [
       "Validation: 0it [00:00, ?it/s]"
      ]
     },
     "metadata": {},
     "output_type": "display_data"
    },
    {
     "name": "stdout",
     "output_type": "stream",
     "text": [
      "TH:  tensor(0.2000, dtype=torch.float64)  - Dice:  tensor(0.2670)\n",
      "TH:  tensor(0.2500, dtype=torch.float64)  - Dice:  tensor(0.2683)\n",
      "TH:  tensor(0.3000, dtype=torch.float64)  - Dice:  tensor(0.2697)\n",
      "TH:  tensor(0.3500, dtype=torch.float64)  - Dice:  tensor(0.2711)\n",
      "TH:  tensor(0.4000, dtype=torch.float64)  - Dice:  tensor(0.1539)\n",
      "TH:  tensor(0.4500, dtype=torch.float64)  - Dice:  tensor(0.0790)\n",
      "TH:  tensor(0.5000, dtype=torch.float64)  - Dice:  tensor(0.0482)\n",
      "TH:  tensor(0.5500, dtype=torch.float64)  - Dice:  tensor(0.0326)\n",
      "TH:  tensor(0.6000, dtype=torch.float64)  - Dice:  tensor(0.0227)\n",
      "TH:  tensor(0.6500, dtype=torch.float64)  - Dice:  tensor(0.0124)\n",
      "TH:  tensor(0.7000, dtype=torch.float64)  - Dice:  tensor(0.0078)\n",
      "TH:  tensor(0.7500, dtype=torch.float64)  - Dice:  tensor(0.0044)\n",
      "TH:  tensor(0.8000, dtype=torch.float64)  - Dice:  tensor(0.0027)\n",
      "Best Threshold: 0.35 - Best Dice Score: 0.2709999978542328\n"
     ]
    },
    {
     "name": "stderr",
     "output_type": "stream",
     "text": [
      "`Trainer.fit` stopped: `max_epochs=14` reached.\n",
      "Using 16bit Automatic Mixed Precision (AMP)\n",
      "GPU available: True (cuda), used: True\n",
      "TPU available: False, using: 0 TPU cores\n",
      "IPU available: False, using: 0 IPUs\n",
      "HPU available: False, using: 0 HPUs\n",
      "LOCAL_RANK: 0 - CUDA_VISIBLE_DEVICES: [0]\n",
      "\n",
      "  | Name      | Type              | Params\n",
      "------------------------------------------------\n",
      "0 | model     | Unet              | 34.6 M\n",
      "1 | dice      | CustomDice        | 0     \n",
      "2 | BCE       | BCEWithLogitsLoss | 0     \n",
      "3 | dice_loss | DiceLoss          | 0     \n",
      "------------------------------------------------\n",
      "34.6 M    Trainable params\n",
      "0         Non-trainable params\n",
      "34.6 M    Total params\n",
      "138.221   Total estimated model params size (MB)\n"
     ]
    },
    {
     "name": "stdout",
     "output_type": "stream",
     "text": [
      "Depth from 39 - 51 performance: 0.2750000059604645 [F0.5-Score]\n"
     ]
    },
    {
     "data": {
      "application/vnd.jupyter.widget-view+json": {
       "model_id": "",
       "version_major": 2,
       "version_minor": 0
      },
      "text/plain": [
       "Sanity Checking: 0it [00:00, ?it/s]"
      ]
     },
     "metadata": {},
     "output_type": "display_data"
    },
    {
     "name": "stdout",
     "output_type": "stream",
     "text": [
      "TH:  tensor(0.2000, dtype=torch.float64)  - Dice:  tensor(0.1853)\n",
      "TH:  tensor(0.2500, dtype=torch.float64)  - Dice:  tensor(0.1853)\n",
      "TH:  tensor(0.3000, dtype=torch.float64)  - Dice:  tensor(0.1853)\n",
      "TH:  tensor(0.3500, dtype=torch.float64)  - Dice:  tensor(0.1853)\n",
      "TH:  tensor(0.4000, dtype=torch.float64)  - Dice:  tensor(0.1853)\n",
      "TH:  tensor(0.4500, dtype=torch.float64)  - Dice:  tensor(0.1853)\n",
      "TH:  tensor(0.5000, dtype=torch.float64)  - Dice:  tensor(0.2311)\n",
      "TH:  tensor(0.5500, dtype=torch.float64)  - Dice:  tensor(0.)\n",
      "TH:  tensor(0.6000, dtype=torch.float64)  - Dice:  tensor(0.)\n",
      "TH:  tensor(0.6500, dtype=torch.float64)  - Dice:  tensor(0.)\n",
      "TH:  tensor(0.7000, dtype=torch.float64)  - Dice:  tensor(0.)\n",
      "TH:  tensor(0.7500, dtype=torch.float64)  - Dice:  tensor(0.)\n",
      "TH:  tensor(0.8000, dtype=torch.float64)  - Dice:  tensor(0.)\n",
      "Best Threshold: 0.49999999999999994 - Best Dice Score: 0.23100000619888306\n"
     ]
    },
    {
     "data": {
      "application/vnd.jupyter.widget-view+json": {
       "model_id": "96d74e3512d54fdfb313d18f3d0b42df",
       "version_major": 2,
       "version_minor": 0
      },
      "text/plain": [
       "Training: 0it [00:00, ?it/s]"
      ]
     },
     "metadata": {},
     "output_type": "display_data"
    },
    {
     "data": {
      "application/vnd.jupyter.widget-view+json": {
       "model_id": "",
       "version_major": 2,
       "version_minor": 0
      },
      "text/plain": [
       "Validation: 0it [00:00, ?it/s]"
      ]
     },
     "metadata": {},
     "output_type": "display_data"
    },
    {
     "name": "stdout",
     "output_type": "stream",
     "text": [
      "TH:  tensor(0.2000, dtype=torch.float64)  - Dice:  tensor(0.2318)\n",
      "TH:  tensor(0.2500, dtype=torch.float64)  - Dice:  tensor(0.2521)\n",
      "TH:  tensor(0.3000, dtype=torch.float64)  - Dice:  tensor(0.2533)\n",
      "TH:  tensor(0.3500, dtype=torch.float64)  - Dice:  tensor(0.2538)\n",
      "TH:  tensor(0.4000, dtype=torch.float64)  - Dice:  tensor(0.2541)\n",
      "TH:  tensor(0.4500, dtype=torch.float64)  - Dice:  tensor(0.2538)\n",
      "TH:  tensor(0.5000, dtype=torch.float64)  - Dice:  tensor(0.2493)\n",
      "TH:  tensor(0.5500, dtype=torch.float64)  - Dice:  tensor(0.2110)\n",
      "TH:  tensor(0.6000, dtype=torch.float64)  - Dice:  tensor(0.0564)\n",
      "TH:  tensor(0.6500, dtype=torch.float64)  - Dice:  tensor(0.0024)\n",
      "TH:  tensor(0.7000, dtype=torch.float64)  - Dice:  tensor(0.0002)\n",
      "TH:  tensor(0.7500, dtype=torch.float64)  - Dice:  tensor(0.0001)\n",
      "TH:  tensor(0.8000, dtype=torch.float64)  - Dice:  tensor(9.2224e-05)\n",
      "Best Threshold: 0.39999999999999997 - Best Dice Score: 0.2540000081062317\n"
     ]
    },
    {
     "data": {
      "application/vnd.jupyter.widget-view+json": {
       "model_id": "",
       "version_major": 2,
       "version_minor": 0
      },
      "text/plain": [
       "Validation: 0it [00:00, ?it/s]"
      ]
     },
     "metadata": {},
     "output_type": "display_data"
    },
    {
     "name": "stdout",
     "output_type": "stream",
     "text": [
      "TH:  tensor(0.2000, dtype=torch.float64)  - Dice:  tensor(0.2547)\n",
      "TH:  tensor(0.2500, dtype=torch.float64)  - Dice:  tensor(0.2552)\n",
      "TH:  tensor(0.3000, dtype=torch.float64)  - Dice:  tensor(0.2556)\n",
      "TH:  tensor(0.3500, dtype=torch.float64)  - Dice:  tensor(0.2560)\n",
      "TH:  tensor(0.4000, dtype=torch.float64)  - Dice:  tensor(0.2565)\n",
      "TH:  tensor(0.4500, dtype=torch.float64)  - Dice:  tensor(0.2560)\n",
      "TH:  tensor(0.5000, dtype=torch.float64)  - Dice:  tensor(0.2475)\n",
      "TH:  tensor(0.5500, dtype=torch.float64)  - Dice:  tensor(0.1824)\n",
      "TH:  tensor(0.6000, dtype=torch.float64)  - Dice:  tensor(0.0854)\n",
      "TH:  tensor(0.6500, dtype=torch.float64)  - Dice:  tensor(0.0328)\n",
      "TH:  tensor(0.7000, dtype=torch.float64)  - Dice:  tensor(0.0052)\n",
      "TH:  tensor(0.7500, dtype=torch.float64)  - Dice:  tensor(0.0005)\n",
      "TH:  tensor(0.8000, dtype=torch.float64)  - Dice:  tensor(0.0001)\n",
      "Best Threshold: 0.39999999999999997 - Best Dice Score: 0.25600001215934753\n"
     ]
    },
    {
     "data": {
      "application/vnd.jupyter.widget-view+json": {
       "model_id": "",
       "version_major": 2,
       "version_minor": 0
      },
      "text/plain": [
       "Validation: 0it [00:00, ?it/s]"
      ]
     },
     "metadata": {},
     "output_type": "display_data"
    },
    {
     "name": "stdout",
     "output_type": "stream",
     "text": [
      "TH:  tensor(0.2000, dtype=torch.float64)  - Dice:  tensor(0.2544)\n",
      "TH:  tensor(0.2500, dtype=torch.float64)  - Dice:  tensor(0.2547)\n",
      "TH:  tensor(0.3000, dtype=torch.float64)  - Dice:  tensor(0.2552)\n",
      "TH:  tensor(0.3500, dtype=torch.float64)  - Dice:  tensor(0.2556)\n",
      "TH:  tensor(0.4000, dtype=torch.float64)  - Dice:  tensor(0.2551)\n",
      "TH:  tensor(0.4500, dtype=torch.float64)  - Dice:  tensor(0.2442)\n",
      "TH:  tensor(0.5000, dtype=torch.float64)  - Dice:  tensor(0.1678)\n",
      "TH:  tensor(0.5500, dtype=torch.float64)  - Dice:  tensor(0.0105)\n",
      "TH:  tensor(0.6000, dtype=torch.float64)  - Dice:  tensor(0.0010)\n",
      "TH:  tensor(0.6500, dtype=torch.float64)  - Dice:  tensor(0.0005)\n",
      "TH:  tensor(0.7000, dtype=torch.float64)  - Dice:  tensor(0.0003)\n",
      "TH:  tensor(0.7500, dtype=torch.float64)  - Dice:  tensor(0.0002)\n",
      "TH:  tensor(0.8000, dtype=torch.float64)  - Dice:  tensor(9.6291e-05)\n",
      "Best Threshold: 0.35 - Best Dice Score: 0.25600001215934753\n"
     ]
    },
    {
     "data": {
      "application/vnd.jupyter.widget-view+json": {
       "model_id": "",
       "version_major": 2,
       "version_minor": 0
      },
      "text/plain": [
       "Validation: 0it [00:00, ?it/s]"
      ]
     },
     "metadata": {},
     "output_type": "display_data"
    },
    {
     "name": "stdout",
     "output_type": "stream",
     "text": [
      "TH:  tensor(0.2000, dtype=torch.float64)  - Dice:  tensor(0.2554)\n",
      "TH:  tensor(0.2500, dtype=torch.float64)  - Dice:  tensor(0.2565)\n",
      "TH:  tensor(0.3000, dtype=torch.float64)  - Dice:  tensor(0.2574)\n",
      "TH:  tensor(0.3500, dtype=torch.float64)  - Dice:  tensor(0.2570)\n",
      "TH:  tensor(0.4000, dtype=torch.float64)  - Dice:  tensor(0.2411)\n",
      "TH:  tensor(0.4500, dtype=torch.float64)  - Dice:  tensor(0.1143)\n",
      "TH:  tensor(0.5000, dtype=torch.float64)  - Dice:  tensor(0.0085)\n",
      "TH:  tensor(0.5500, dtype=torch.float64)  - Dice:  tensor(0.0006)\n",
      "TH:  tensor(0.6000, dtype=torch.float64)  - Dice:  tensor(0.0001)\n",
      "TH:  tensor(0.6500, dtype=torch.float64)  - Dice:  tensor(4.8283e-05)\n",
      "TH:  tensor(0.7000, dtype=torch.float64)  - Dice:  tensor(1.2310e-05)\n",
      "TH:  tensor(0.7500, dtype=torch.float64)  - Dice:  tensor(9.6001e-07)\n",
      "TH:  tensor(0.8000, dtype=torch.float64)  - Dice:  tensor(0.)\n",
      "Best Threshold: 0.3 - Best Dice Score: 0.25699999928474426\n"
     ]
    },
    {
     "data": {
      "application/vnd.jupyter.widget-view+json": {
       "model_id": "",
       "version_major": 2,
       "version_minor": 0
      },
      "text/plain": [
       "Validation: 0it [00:00, ?it/s]"
      ]
     },
     "metadata": {},
     "output_type": "display_data"
    },
    {
     "name": "stdout",
     "output_type": "stream",
     "text": [
      "TH:  tensor(0.2000, dtype=torch.float64)  - Dice:  tensor(0.2554)\n",
      "TH:  tensor(0.2500, dtype=torch.float64)  - Dice:  tensor(0.2560)\n",
      "TH:  tensor(0.3000, dtype=torch.float64)  - Dice:  tensor(0.2567)\n",
      "TH:  tensor(0.3500, dtype=torch.float64)  - Dice:  tensor(0.2552)\n",
      "TH:  tensor(0.4000, dtype=torch.float64)  - Dice:  tensor(0.0905)\n",
      "TH:  tensor(0.4500, dtype=torch.float64)  - Dice:  tensor(0.0231)\n",
      "TH:  tensor(0.5000, dtype=torch.float64)  - Dice:  tensor(0.0010)\n",
      "TH:  tensor(0.5500, dtype=torch.float64)  - Dice:  tensor(8.3234e-05)\n",
      "TH:  tensor(0.6000, dtype=torch.float64)  - Dice:  tensor(1.1818e-05)\n",
      "TH:  tensor(0.6500, dtype=torch.float64)  - Dice:  tensor(2.1656e-06)\n",
      "TH:  tensor(0.7000, dtype=torch.float64)  - Dice:  tensor(2.3857e-07)\n",
      "TH:  tensor(0.7500, dtype=torch.float64)  - Dice:  tensor(0.)\n",
      "TH:  tensor(0.8000, dtype=torch.float64)  - Dice:  tensor(0.)\n",
      "Best Threshold: 0.3 - Best Dice Score: 0.25699999928474426\n"
     ]
    },
    {
     "data": {
      "application/vnd.jupyter.widget-view+json": {
       "model_id": "",
       "version_major": 2,
       "version_minor": 0
      },
      "text/plain": [
       "Validation: 0it [00:00, ?it/s]"
      ]
     },
     "metadata": {},
     "output_type": "display_data"
    },
    {
     "name": "stdout",
     "output_type": "stream",
     "text": [
      "TH:  tensor(0.2000, dtype=torch.float64)  - Dice:  tensor(0.2561)\n",
      "TH:  tensor(0.2500, dtype=torch.float64)  - Dice:  tensor(0.2571)\n",
      "TH:  tensor(0.3000, dtype=torch.float64)  - Dice:  tensor(0.2583)\n",
      "TH:  tensor(0.3500, dtype=torch.float64)  - Dice:  tensor(0.2563)\n",
      "TH:  tensor(0.4000, dtype=torch.float64)  - Dice:  tensor(0.0817)\n",
      "TH:  tensor(0.4500, dtype=torch.float64)  - Dice:  tensor(0.0058)\n",
      "TH:  tensor(0.5000, dtype=torch.float64)  - Dice:  tensor(0.0011)\n",
      "TH:  tensor(0.5500, dtype=torch.float64)  - Dice:  tensor(0.0007)\n",
      "TH:  tensor(0.6000, dtype=torch.float64)  - Dice:  tensor(0.0004)\n",
      "TH:  tensor(0.6500, dtype=torch.float64)  - Dice:  tensor(0.0002)\n",
      "TH:  tensor(0.7000, dtype=torch.float64)  - Dice:  tensor(7.9558e-05)\n",
      "TH:  tensor(0.7500, dtype=torch.float64)  - Dice:  tensor(2.8205e-05)\n",
      "TH:  tensor(0.8000, dtype=torch.float64)  - Dice:  tensor(1.0845e-05)\n",
      "Best Threshold: 0.3 - Best Dice Score: 0.257999986410141\n"
     ]
    },
    {
     "data": {
      "application/vnd.jupyter.widget-view+json": {
       "model_id": "",
       "version_major": 2,
       "version_minor": 0
      },
      "text/plain": [
       "Validation: 0it [00:00, ?it/s]"
      ]
     },
     "metadata": {},
     "output_type": "display_data"
    },
    {
     "name": "stdout",
     "output_type": "stream",
     "text": [
      "TH:  tensor(0.2000, dtype=torch.float64)  - Dice:  tensor(0.2581)\n",
      "TH:  tensor(0.2500, dtype=torch.float64)  - Dice:  tensor(0.2620)\n",
      "TH:  tensor(0.3000, dtype=torch.float64)  - Dice:  tensor(0.2654)\n",
      "TH:  tensor(0.3500, dtype=torch.float64)  - Dice:  tensor(0.2498)\n",
      "TH:  tensor(0.4000, dtype=torch.float64)  - Dice:  tensor(0.0149)\n",
      "TH:  tensor(0.4500, dtype=torch.float64)  - Dice:  tensor(0.0031)\n",
      "TH:  tensor(0.5000, dtype=torch.float64)  - Dice:  tensor(0.0005)\n",
      "TH:  tensor(0.5500, dtype=torch.float64)  - Dice:  tensor(0.0003)\n",
      "TH:  tensor(0.6000, dtype=torch.float64)  - Dice:  tensor(0.0002)\n",
      "TH:  tensor(0.6500, dtype=torch.float64)  - Dice:  tensor(7.5884e-05)\n",
      "TH:  tensor(0.7000, dtype=torch.float64)  - Dice:  tensor(2.6000e-05)\n",
      "TH:  tensor(0.7500, dtype=torch.float64)  - Dice:  tensor(5.2710e-06)\n",
      "TH:  tensor(0.8000, dtype=torch.float64)  - Dice:  tensor(2.3959e-06)\n",
      "Best Threshold: 0.3 - Best Dice Score: 0.26499998569488525\n"
     ]
    },
    {
     "data": {
      "application/vnd.jupyter.widget-view+json": {
       "model_id": "",
       "version_major": 2,
       "version_minor": 0
      },
      "text/plain": [
       "Validation: 0it [00:00, ?it/s]"
      ]
     },
     "metadata": {},
     "output_type": "display_data"
    },
    {
     "name": "stdout",
     "output_type": "stream",
     "text": [
      "TH:  tensor(0.2000, dtype=torch.float64)  - Dice:  tensor(0.2624)\n",
      "TH:  tensor(0.2500, dtype=torch.float64)  - Dice:  tensor(0.2658)\n",
      "TH:  tensor(0.3000, dtype=torch.float64)  - Dice:  tensor(0.2676)\n",
      "TH:  tensor(0.3500, dtype=torch.float64)  - Dice:  tensor(0.2681)\n",
      "TH:  tensor(0.4000, dtype=torch.float64)  - Dice:  tensor(0.0257)\n",
      "TH:  tensor(0.4500, dtype=torch.float64)  - Dice:  tensor(0.0079)\n",
      "TH:  tensor(0.5000, dtype=torch.float64)  - Dice:  tensor(2.2938e-05)\n",
      "TH:  tensor(0.5500, dtype=torch.float64)  - Dice:  tensor(4.8282e-06)\n",
      "TH:  tensor(0.6000, dtype=torch.float64)  - Dice:  tensor(2.6582e-06)\n",
      "TH:  tensor(0.6500, dtype=torch.float64)  - Dice:  tensor(0.)\n",
      "TH:  tensor(0.7000, dtype=torch.float64)  - Dice:  tensor(0.)\n",
      "TH:  tensor(0.7500, dtype=torch.float64)  - Dice:  tensor(0.)\n",
      "TH:  tensor(0.8000, dtype=torch.float64)  - Dice:  tensor(0.)\n",
      "Best Threshold: 0.35 - Best Dice Score: 0.2680000066757202\n"
     ]
    },
    {
     "data": {
      "application/vnd.jupyter.widget-view+json": {
       "model_id": "",
       "version_major": 2,
       "version_minor": 0
      },
      "text/plain": [
       "Validation: 0it [00:00, ?it/s]"
      ]
     },
     "metadata": {},
     "output_type": "display_data"
    },
    {
     "name": "stdout",
     "output_type": "stream",
     "text": [
      "TH:  tensor(0.2000, dtype=torch.float64)  - Dice:  tensor(0.2663)\n",
      "TH:  tensor(0.2500, dtype=torch.float64)  - Dice:  tensor(0.2675)\n",
      "TH:  tensor(0.3000, dtype=torch.float64)  - Dice:  tensor(0.2685)\n",
      "TH:  tensor(0.3500, dtype=torch.float64)  - Dice:  tensor(0.2701)\n",
      "TH:  tensor(0.4000, dtype=torch.float64)  - Dice:  tensor(0.0604)\n",
      "TH:  tensor(0.4500, dtype=torch.float64)  - Dice:  tensor(0.0020)\n",
      "TH:  tensor(0.5000, dtype=torch.float64)  - Dice:  tensor(1.3057e-05)\n",
      "TH:  tensor(0.5500, dtype=torch.float64)  - Dice:  tensor(3.1439e-06)\n",
      "TH:  tensor(0.6000, dtype=torch.float64)  - Dice:  tensor(2.9023e-06)\n",
      "TH:  tensor(0.6500, dtype=torch.float64)  - Dice:  tensor(1.9349e-06)\n",
      "TH:  tensor(0.7000, dtype=torch.float64)  - Dice:  tensor(4.8372e-07)\n",
      "TH:  tensor(0.7500, dtype=torch.float64)  - Dice:  tensor(0.)\n",
      "TH:  tensor(0.8000, dtype=torch.float64)  - Dice:  tensor(0.)\n",
      "Best Threshold: 0.35 - Best Dice Score: 0.27000001072883606\n"
     ]
    },
    {
     "data": {
      "application/vnd.jupyter.widget-view+json": {
       "model_id": "",
       "version_major": 2,
       "version_minor": 0
      },
      "text/plain": [
       "Validation: 0it [00:00, ?it/s]"
      ]
     },
     "metadata": {},
     "output_type": "display_data"
    },
    {
     "name": "stdout",
     "output_type": "stream",
     "text": [
      "TH:  tensor(0.2000, dtype=torch.float64)  - Dice:  tensor(0.2626)\n",
      "TH:  tensor(0.2500, dtype=torch.float64)  - Dice:  tensor(0.2656)\n",
      "TH:  tensor(0.3000, dtype=torch.float64)  - Dice:  tensor(0.2680)\n",
      "TH:  tensor(0.3500, dtype=torch.float64)  - Dice:  tensor(0.2686)\n",
      "TH:  tensor(0.4000, dtype=torch.float64)  - Dice:  tensor(0.1261)\n",
      "TH:  tensor(0.4500, dtype=torch.float64)  - Dice:  tensor(0.0004)\n",
      "TH:  tensor(0.5000, dtype=torch.float64)  - Dice:  tensor(1.3781e-05)\n",
      "TH:  tensor(0.5500, dtype=torch.float64)  - Dice:  tensor(0.)\n",
      "TH:  tensor(0.6000, dtype=torch.float64)  - Dice:  tensor(0.)\n",
      "TH:  tensor(0.6500, dtype=torch.float64)  - Dice:  tensor(0.)\n",
      "TH:  tensor(0.7000, dtype=torch.float64)  - Dice:  tensor(0.)\n",
      "TH:  tensor(0.7500, dtype=torch.float64)  - Dice:  tensor(0.)\n",
      "TH:  tensor(0.8000, dtype=torch.float64)  - Dice:  tensor(0.)\n",
      "Best Threshold: 0.35 - Best Dice Score: 0.26899999380111694\n"
     ]
    },
    {
     "data": {
      "application/vnd.jupyter.widget-view+json": {
       "model_id": "",
       "version_major": 2,
       "version_minor": 0
      },
      "text/plain": [
       "Validation: 0it [00:00, ?it/s]"
      ]
     },
     "metadata": {},
     "output_type": "display_data"
    },
    {
     "name": "stdout",
     "output_type": "stream",
     "text": [
      "TH:  tensor(0.2000, dtype=torch.float64)  - Dice:  tensor(0.2691)\n",
      "TH:  tensor(0.2500, dtype=torch.float64)  - Dice:  tensor(0.2701)\n",
      "TH:  tensor(0.3000, dtype=torch.float64)  - Dice:  tensor(0.2706)\n",
      "TH:  tensor(0.3500, dtype=torch.float64)  - Dice:  tensor(0.2699)\n",
      "TH:  tensor(0.4000, dtype=torch.float64)  - Dice:  tensor(0.0246)\n",
      "TH:  tensor(0.4500, dtype=torch.float64)  - Dice:  tensor(0.0002)\n",
      "TH:  tensor(0.5000, dtype=torch.float64)  - Dice:  tensor(5.6680e-05)\n",
      "TH:  tensor(0.5500, dtype=torch.float64)  - Dice:  tensor(1.6300e-05)\n",
      "TH:  tensor(0.6000, dtype=torch.float64)  - Dice:  tensor(4.5265e-06)\n",
      "TH:  tensor(0.6500, dtype=torch.float64)  - Dice:  tensor(3.5896e-06)\n",
      "TH:  tensor(0.7000, dtype=torch.float64)  - Dice:  tensor(2.1568e-06)\n",
      "TH:  tensor(0.7500, dtype=torch.float64)  - Dice:  tensor(0.)\n",
      "TH:  tensor(0.8000, dtype=torch.float64)  - Dice:  tensor(0.)\n",
      "Best Threshold: 0.3 - Best Dice Score: 0.2709999978542328\n"
     ]
    },
    {
     "data": {
      "application/vnd.jupyter.widget-view+json": {
       "model_id": "",
       "version_major": 2,
       "version_minor": 0
      },
      "text/plain": [
       "Validation: 0it [00:00, ?it/s]"
      ]
     },
     "metadata": {},
     "output_type": "display_data"
    },
    {
     "name": "stdout",
     "output_type": "stream",
     "text": [
      "TH:  tensor(0.2000, dtype=torch.float64)  - Dice:  tensor(0.2689)\n",
      "TH:  tensor(0.2500, dtype=torch.float64)  - Dice:  tensor(0.2700)\n",
      "TH:  tensor(0.3000, dtype=torch.float64)  - Dice:  tensor(0.2707)\n",
      "TH:  tensor(0.3500, dtype=torch.float64)  - Dice:  tensor(0.2595)\n",
      "TH:  tensor(0.4000, dtype=torch.float64)  - Dice:  tensor(0.0197)\n",
      "TH:  tensor(0.4500, dtype=torch.float64)  - Dice:  tensor(0.0003)\n",
      "TH:  tensor(0.5000, dtype=torch.float64)  - Dice:  tensor(4.8744e-05)\n",
      "TH:  tensor(0.5500, dtype=torch.float64)  - Dice:  tensor(1.6652e-05)\n",
      "TH:  tensor(0.6000, dtype=torch.float64)  - Dice:  tensor(9.4168e-06)\n",
      "TH:  tensor(0.6500, dtype=torch.float64)  - Dice:  tensor(4.5882e-06)\n",
      "TH:  tensor(0.7000, dtype=torch.float64)  - Dice:  tensor(1.4480e-06)\n",
      "TH:  tensor(0.7500, dtype=torch.float64)  - Dice:  tensor(7.2411e-07)\n",
      "TH:  tensor(0.8000, dtype=torch.float64)  - Dice:  tensor(2.4151e-07)\n",
      "Best Threshold: 0.3 - Best Dice Score: 0.2709999978542328\n"
     ]
    },
    {
     "data": {
      "application/vnd.jupyter.widget-view+json": {
       "model_id": "",
       "version_major": 2,
       "version_minor": 0
      },
      "text/plain": [
       "Validation: 0it [00:00, ?it/s]"
      ]
     },
     "metadata": {},
     "output_type": "display_data"
    },
    {
     "name": "stdout",
     "output_type": "stream",
     "text": [
      "TH:  tensor(0.2000, dtype=torch.float64)  - Dice:  tensor(0.2713)\n",
      "TH:  tensor(0.2500, dtype=torch.float64)  - Dice:  tensor(0.2718)\n",
      "TH:  tensor(0.3000, dtype=torch.float64)  - Dice:  tensor(0.2720)\n",
      "TH:  tensor(0.3500, dtype=torch.float64)  - Dice:  tensor(0.2632)\n",
      "TH:  tensor(0.4000, dtype=torch.float64)  - Dice:  tensor(0.0216)\n",
      "TH:  tensor(0.4500, dtype=torch.float64)  - Dice:  tensor(0.0002)\n",
      "TH:  tensor(0.5000, dtype=torch.float64)  - Dice:  tensor(4.2502e-05)\n",
      "TH:  tensor(0.5500, dtype=torch.float64)  - Dice:  tensor(1.9327e-05)\n",
      "TH:  tensor(0.6000, dtype=torch.float64)  - Dice:  tensor(9.9069e-06)\n",
      "TH:  tensor(0.6500, dtype=torch.float64)  - Dice:  tensor(4.5911e-06)\n",
      "TH:  tensor(0.7000, dtype=torch.float64)  - Dice:  tensor(2.1750e-06)\n",
      "TH:  tensor(0.7500, dtype=torch.float64)  - Dice:  tensor(1.4506e-06)\n",
      "TH:  tensor(0.8000, dtype=torch.float64)  - Dice:  tensor(7.2543e-07)\n",
      "Best Threshold: 0.3 - Best Dice Score: 0.2720000147819519\n"
     ]
    },
    {
     "data": {
      "application/vnd.jupyter.widget-view+json": {
       "model_id": "",
       "version_major": 2,
       "version_minor": 0
      },
      "text/plain": [
       "Validation: 0it [00:00, ?it/s]"
      ]
     },
     "metadata": {},
     "output_type": "display_data"
    },
    {
     "name": "stdout",
     "output_type": "stream",
     "text": [
      "TH:  tensor(0.2000, dtype=torch.float64)  - Dice:  tensor(0.2715)\n",
      "TH:  tensor(0.2500, dtype=torch.float64)  - Dice:  tensor(0.2719)\n",
      "TH:  tensor(0.3000, dtype=torch.float64)  - Dice:  tensor(0.2722)\n",
      "TH:  tensor(0.3500, dtype=torch.float64)  - Dice:  tensor(0.2653)\n",
      "TH:  tensor(0.4000, dtype=torch.float64)  - Dice:  tensor(0.0189)\n",
      "TH:  tensor(0.4500, dtype=torch.float64)  - Dice:  tensor(0.0002)\n",
      "TH:  tensor(0.5000, dtype=torch.float64)  - Dice:  tensor(3.6237e-05)\n",
      "TH:  tensor(0.5500, dtype=torch.float64)  - Dice:  tensor(1.5949e-05)\n",
      "TH:  tensor(0.6000, dtype=torch.float64)  - Dice:  tensor(7.9757e-06)\n",
      "TH:  tensor(0.6500, dtype=torch.float64)  - Dice:  tensor(3.3837e-06)\n",
      "TH:  tensor(0.7000, dtype=torch.float64)  - Dice:  tensor(1.9342e-06)\n",
      "TH:  tensor(0.7500, dtype=torch.float64)  - Dice:  tensor(7.2536e-07)\n",
      "TH:  tensor(0.8000, dtype=torch.float64)  - Dice:  tensor(2.4182e-07)\n",
      "Best Threshold: 0.3 - Best Dice Score: 0.2720000147819519\n"
     ]
    },
    {
     "name": "stderr",
     "output_type": "stream",
     "text": [
      "`Trainer.fit` stopped: `max_epochs=14` reached.\n"
     ]
    },
    {
     "name": "stdout",
     "output_type": "stream",
     "text": [
      "Depth from 52 - 64 performance: 0.2720000147819519 [F0.5-Score]\n",
      "CPU times: user 35min 1s, sys: 6min 15s, total: 41min 17s\n",
      "Wall time: 1h 38min 10s\n"
     ]
    }
   ],
   "source": [
    "%%time\n",
    "\n",
    "df = pd.DataFrame({'Depths': [], 'F0.5-Score': []})\n",
    "\n",
    "folder_data = os.path.join(folder, 'Data_New')\n",
    "start_depths = [0, 13, 26, 39, 52]\n",
    "end_depths = [12, 25, 38, 51, 64]\n",
    "for start, end in zip(start_depths, end_depths):\n",
    "    path_files = os.path.join(folder_data, f'Preprocessed_{size}_{start}_{end}')\n",
    "    scan_1_folder = os.path.join(path_files, '1', '1024')\n",
    "    scan_2_folder = os.path.join(path_files, '2', '1024')\n",
    "    scan_3_folder = os.path.join(path_files, '3', '1024')\n",
    "    files_scan_1 = glob(scan_1_folder + '/*pickle')\n",
    "    files_scan_2 = glob(scan_2_folder + '/*pickle')\n",
    "    files_scan_3 = glob(scan_3_folder + '/*pickle')\n",
    "    train_files = files_scan_2 + files_scan_3\n",
    "    valid_files = files_scan_1\n",
    "    MODEL = NN(model=model, learning_rate=learning_rate, calculate_threshold=True)\n",
    "    MODEL.model.load_state_dict(torch.load(random_weights_path))\n",
    "    train_ds = Data(paths=train_files, transform=train_aug)\n",
    "    valid_ds = Data(paths=valid_files, transform=valid_aug)\n",
    "    dm = DataModule(train_ds=train_ds, valid_ds=valid_ds)\n",
    "    trainer = pl.Trainer(accelerator='gpu', devices=[0], max_epochs=epochs, precision='16-mixed')\n",
    "    trainer.fit(MODEL, dm)\n",
    "    score = MODEL.best_score.detach().cpu().numpy()\n",
    "    new_df = pd.DataFrame({'Depths': [f'{start}:{end}'], 'F0.5-Score': [score]})\n",
    "    df = pd.concat([df, new_df])\n",
    "    print(f'Depth from {start} - {end} performance: {score} [F0.5-Score]')\n",
    "    gc.collect()\n",
    "    torch.cuda.empty_cache()"
   ]
  },
  {
   "cell_type": "code",
   "execution_count": 13,
   "id": "57d2c597",
   "metadata": {},
   "outputs": [],
   "source": [
    "df.to_csv('Depth_Analysis.csv', index=False)"
   ]
  },
  {
   "cell_type": "code",
   "execution_count": 14,
   "id": "e30c48de",
   "metadata": {},
   "outputs": [
    {
     "data": {
      "text/html": [
       "<div>\n",
       "<style scoped>\n",
       "    .dataframe tbody tr th:only-of-type {\n",
       "        vertical-align: middle;\n",
       "    }\n",
       "\n",
       "    .dataframe tbody tr th {\n",
       "        vertical-align: top;\n",
       "    }\n",
       "\n",
       "    .dataframe thead th {\n",
       "        text-align: right;\n",
       "    }\n",
       "</style>\n",
       "<table border=\"1\" class=\"dataframe\">\n",
       "  <thead>\n",
       "    <tr style=\"text-align: right;\">\n",
       "      <th></th>\n",
       "      <th>Depths</th>\n",
       "      <th>F0.5-Score</th>\n",
       "    </tr>\n",
       "  </thead>\n",
       "  <tbody>\n",
       "    <tr>\n",
       "      <th>0</th>\n",
       "      <td>0:12</td>\n",
       "      <td>0.269</td>\n",
       "    </tr>\n",
       "    <tr>\n",
       "      <th>0</th>\n",
       "      <td>13:25</td>\n",
       "      <td>0.316</td>\n",
       "    </tr>\n",
       "    <tr>\n",
       "      <th>0</th>\n",
       "      <td>26:38</td>\n",
       "      <td>0.485</td>\n",
       "    </tr>\n",
       "    <tr>\n",
       "      <th>0</th>\n",
       "      <td>39:51</td>\n",
       "      <td>0.275</td>\n",
       "    </tr>\n",
       "    <tr>\n",
       "      <th>0</th>\n",
       "      <td>52:64</td>\n",
       "      <td>0.272</td>\n",
       "    </tr>\n",
       "  </tbody>\n",
       "</table>\n",
       "</div>"
      ],
      "text/plain": [
       "  Depths F0.5-Score\n",
       "0   0:12      0.269\n",
       "0  13:25      0.316\n",
       "0  26:38      0.485\n",
       "0  39:51      0.275\n",
       "0  52:64      0.272"
      ]
     },
     "execution_count": 14,
     "metadata": {},
     "output_type": "execute_result"
    }
   ],
   "source": [
    "df.head()"
   ]
  },
  {
   "cell_type": "code",
   "execution_count": 27,
   "id": "71d60e2e",
   "metadata": {
    "scrolled": false
   },
   "outputs": [
    {
     "data": {
      "image/png": "[encoded data removed]",
      "text/plain": [
       "<Figure size 720x504 with 1 Axes>"
      ]
     },
     "metadata": {},
     "output_type": "display_data"
    }
   ],
   "source": [
    "figure = plt.figure(figsize=(10, 7))\n",
    "plt.bar(x=df.Depths.values, height=df['F0.5-Score'].values, color=['r', 'r', 'g', 'r', 'r'])\n",
    "plt.ylabel('F0.5-Score', fontsize=12, fontweight='bold')\n",
    "plt.xlabel('Depth [Layers trained on]', fontsize=12, fontweight='bold')\n",
    "plt.title('F0.5-Score of a trained model on the defined depth layers', fontsize=17, fontweight='bold')\n",
    "path_fig = f'{folder}/Figures/Ink_Depth_Analysis.png'\n",
    "plt.tight_layout()\n",
    "figure.patch.set_facecolor('white')\n",
    "plt.savefig(path_fig)\n",
    "plt.show()"
   ]
  },
  {
   "cell_type": "code",
   "execution_count": null,
   "id": "8933a40f",
   "metadata": {},
   "outputs": [],
   "source": []
  }
 ],
 "metadata": {
  "kernelspec": {
   "display_name": "light",
   "language": "python",
   "name": "light"
  },
  "language_info": {
   "codemirror_mode": {
    "name": "ipython",
    "version": 3
   },
   "file_extension": ".py",
   "mimetype": "text/x-python",
   "name": "python",
   "nbconvert_exporter": "python",
   "pygments_lexer": "ipython3",
   "version": "3.11.3"
  }
 },
 "nbformat": 4,
 "nbformat_minor": 5
}
